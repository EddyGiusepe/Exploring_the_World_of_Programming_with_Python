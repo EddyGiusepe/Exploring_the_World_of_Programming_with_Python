{
  "cells": [
    {
      "cell_type": "markdown",
      "id": "298501c0",
      "metadata": {
        "id": "298501c0"
      },
      "source": [
        "<!-- docusaurus_head_meta::start\n",
        "---\n",
        "title: Introduction Notebook\n",
        "---\n",
        "docusaurus_head_meta::end -->\n",
        "\n",
        "<div style=\"text-align: center;\">\n",
        "    <img src=\"http://wandb.me/logo-im-png\" width=\"600\" alt=\"Weights & Biases\" />\n",
        "</div>\n",
        "<!--- @wandbcode{intro-colab} -->"
      ]
    },
    {
      "cell_type": "markdown",
      "id": "3b078fb8",
      "metadata": {},
      "source": [
        "<font color=\"pink\">Senior Data Scientist.: Dr. Eddy Giusepe Chirinos Isidro</font>"
      ]
    },
    {
      "cell_type": "markdown",
      "id": "9b41a14c",
      "metadata": {},
      "source": [
        "Links de estudo:\n",
        "\n",
        "\n",
        "\n",
        "* [docs: Weave](https://weave-docs.wandb.ai/)\n",
        "\n",
        "\n",
        "* [Introduction Weave](https://colab.research.google.com/github/wandb/weave/blob/master/docs/intro_notebook.ipynb?_gl=1%2A1lgxu63%2A_gcl_au%2AMTEwMzA2ODYwNi4xNzI4MTkwMjUy%2A_ga%2AMTQ0OTQ4MDk0MC4xNzI4MTg4NjEz%2A_ga_JH1SJHJQXJ%2AMTcyODYxODQzNS4zLjEuMTcyODYxODQ4MS4xNC4wLjA.%2A_ga_GMYDGNGKDT%2AMTcyODYxODQzNS4zLjEuMTcyODYxODQ4MS4wLjAuMA..#scrollTo=5ef6f27b)\n",
        "\n",
        "\n",
        "\n"
      ]
    },
    {
      "cell_type": "markdown",
      "id": "47053e18",
      "metadata": {},
      "source": [
        "`Weave`\n",
        "\n",
        "Weave é um kit de ferramentas leve para rastrear e avaliar aplicações de LLM, criado pela Weights & Biases."
      ]
    },
    {
      "cell_type": "markdown",
      "id": "974b2c96",
      "metadata": {
        "id": "974b2c96"
      },
      "source": [
        "# 🏃‍♀️ Quickstart\n",
        "\n",
        "Comece a usar o `Weave` para:\n",
        "- Registrar (log) e depurar entradas, saídas e rastros do modelo de linguagem\n",
        "- Crie avaliações rigorosas e comparativas para casos de uso de modelos de linguagem\n",
        "- Organizar todas as informações geradas no fluxo de trabalho do LLM, desde a experimentação até as avaliações e a produção\n",
        "\n",
        "Veja a documentação completa do Weave [aqui](https://wandb.me/weave).\n"
      ]
    },
    {
      "cell_type": "markdown",
      "id": "56dc5c9d",
      "metadata": {
        "id": "56dc5c9d"
      },
      "source": [
        "## 🪄 Install `weave` library and login\n",
        "\n",
        "\n",
        "Comece instalando a biblioteca e fazendo login na sua conta.\n",
        "\n",
        "Neste exemplo, estamos usando o Openai, então você deve [adicionar uma chave de API da OpenAI](https://platform.openai.com/docs/quickstart/step-2-setup-your-api-key).\n"
      ]
    },
    {
      "cell_type": "code",
      "execution_count": 1,
      "id": "61a6d209",
      "metadata": {
        "id": "61a6d209"
      },
      "outputs": [],
      "source": [
        "%%capture\n",
        "#%pip install weave openai set-env-colab-kaggle-dotenv\n",
        "%pip install weave openai\n"
      ]
    },
    {
      "cell_type": "code",
      "execution_count": 1,
      "id": "0921bbef-d089-4960-b624-505172f90d76",
      "metadata": {
        "id": "0921bbef-d089-4960-b624-505172f90d76"
      },
      "outputs": [],
      "source": [
        "import openai\n",
        "import os\n",
        "from dotenv import load_dotenv, find_dotenv\n",
        "_ = load_dotenv(find_dotenv()) # read local .env file\n",
        "#openai.api_key  = os.environ['OPENAI_API_KEY']\n",
        "#Eddy_key_openai  = os.environ['OPENAI_API_KEY']\n",
        "\n",
        "#from openai import OpenAI\n",
        "#client = OpenAI(api_key=Eddy_key_openai)\n",
        "\n",
        "PROJECT = \"weave-intro-notebook\""
      ]
    },
    {
      "cell_type": "markdown",
      "id": "09467a33",
      "metadata": {
        "id": "09467a33"
      },
      "source": [
        "# Track inputs & outputs of functions\n",
        "\n",
        "Weave allows users to track function calls: the code, inputs, outputs, and even LLM tokens & costs! In the following sections we will cover:\n",
        "\n",
        "* Custom Functions\n",
        "* Vendor Integrations\n",
        "* Nested Function Calling\n",
        "* Error Tracking\n",
        "\n",
        "Note: in all cases, we will:\n",
        "\n",
        "```python\n",
        "import weave                    # import the weave library\n",
        "weave.init('project-name')      # initialize tracking for a specific W&B project\n",
        "```"
      ]
    },
    {
      "cell_type": "markdown",
      "id": "99453d48",
      "metadata": {
        "id": "99453d48"
      },
      "source": [
        "## Track custom functions\n",
        "\n",
        "Add the `@weave.op` decorator to the functions you want to track"
      ]
    },
    {
      "cell_type": "markdown",
      "id": "32c013bc",
      "metadata": {
        "id": "32c013bc"
      },
      "source": [
        "![](https://github.com/wandb/weave/blob/media/intro/1.png?raw=1)"
      ]
    },
    {
      "cell_type": "code",
      "execution_count": 2,
      "id": "cdcd1bb7",
      "metadata": {
        "id": "cdcd1bb7"
      },
      "outputs": [
        {
          "name": "stdout",
          "output_type": "stream",
          "text": [
            "weave version 0.51.14 has been recalled!  (Evaluation framework is mis-reporting the inputs for prediction records)  Please upgrade.\n",
            "Logged in as Weights & Biases user: eddygiusepe.\n",
            "View Weave data at https://wandb.ai/eddygiusepe/weave-intro-notebook/weave\n",
            "🍩 https://wandb.ai/eddygiusepe/weave-intro-notebook/r/call/0192cf2b-e7af-7f52-b2aa-ab42e95d5bfe\n",
            "Eu estou indo para o cinema assistir a um filme!\n"
          ]
        }
      ],
      "source": [
        "from openai import OpenAI\n",
        "\n",
        "import weave\n",
        "\n",
        "weave.init(PROJECT)\n",
        "\n",
        "client = OpenAI()\n",
        "\n",
        "response = client.chat.completions.create(\n",
        "    model=\"gpt-4o-mini\",\n",
        "    messages=[\n",
        "        {\n",
        "            \"role\": \"system\",\n",
        "            \"content\": \"Você é um corretor gramatical, corrija a seguinte entrada do usuário.\",\n",
        "        },\n",
        "        {\"role\": \"user\", \"content\": \"Eui estouu indo para o cinema a assistir um filme!\"},\n",
        "    ],\n",
        "    temperature=0,\n",
        ")\n",
        "generation = response.choices[0].message.content\n",
        "print(generation)"
      ]
    },
    {
      "cell_type": "markdown",
      "id": "174cabef",
      "metadata": {
        "id": "174cabef"
      },
      "source": [
        "You can find your interactive dashboard by clicking any of the  👆 wandb links above."
      ]
    },
    {
      "cell_type": "markdown",
      "id": "5ef6f27b",
      "metadata": {
        "id": "5ef6f27b"
      },
      "source": [
        "## Vendor Integrations (OpenAI, Anthropic, Mistral, etc...)\n",
        "\n",
        "Aqui, estamos rastreando automaticamente todas as chamadas para `openai`. Rastreamos automaticamente muitas bibliotecas LLM, mas é muito fácil adicionar suporte para qualquer LLM que você esteja usando, como você verá abaixo."
      ]
    },
    {
      "cell_type": "code",
      "execution_count": 3,
      "id": "ac8a2b59",
      "metadata": {
        "id": "ac8a2b59"
      },
      "outputs": [
        {
          "name": "stdout",
          "output_type": "stream",
          "text": [
            "🍩 https://wandb.ai/eddygiusepe/weave-intro-notebook/r/call/0192cf2c-0660-7890-9ba5-057edd80f598\n",
            "Olá, Eddy\n"
          ]
        }
      ],
      "source": [
        "import weave\n",
        "\n",
        "weave.init(PROJECT)\n",
        "\n",
        "\n",
        "@weave.op()\n",
        "def strip_user_input(user_input):\n",
        "    return ' '.join(user_input.split()) # Isto tira todos os espaços\n",
        "    #return user_input.strip()  < -- Essa função só tira os espaços de início e fim    \n",
        "\n",
        "result = strip_user_input(\"   Olá,      Eddy    \")\n",
        "print(result)"
      ]
    },
    {
      "cell_type": "markdown",
      "id": "1ed90e37",
      "metadata": {
        "id": "1ed90e37"
      },
      "source": [
        "After adding `weave.op` and calling the function, visit the link and see it tracked within your project.\n",
        "\n",
        "💡 We automatically track your code, have a look at the code tab!"
      ]
    },
    {
      "cell_type": "markdown",
      "id": "35fe43dc",
      "metadata": {
        "id": "35fe43dc"
      },
      "source": [
        "## Track nested functions\n",
        "\n",
        "\n",
        "Agora que você viu o básico, vamos combinar tudo acima e rastrear algumas funções profundamente aninhadas junto com chamadas LLM."
      ]
    },
    {
      "cell_type": "code",
      "execution_count": 4,
      "id": "422050d0",
      "metadata": {
        "id": "422050d0"
      },
      "outputs": [
        {
          "name": "stdout",
          "output_type": "stream",
          "text": [
            "🍩 https://wandb.ai/eddygiusepe/weave-intro-notebook/r/call/0192cf34-466c-70a2-9403-e6e8bab20f51\n",
            "Eu estou indo para o cinema assistir a um filme!\n"
          ]
        }
      ],
      "source": [
        "from openai import OpenAI\n",
        "import weave\n",
        "\n",
        "weave.init(PROJECT)\n",
        "\n",
        "\n",
        "@weave.op()\n",
        "def strip_user_input(user_input):\n",
        "    return ' '.join(user_input.split())\n",
        "\n",
        "\n",
        "@weave.op()\n",
        "def correct_grammar(user_input):\n",
        "    client = OpenAI()\n",
        "\n",
        "    stripped = strip_user_input(user_input)\n",
        "    response = client.chat.completions.create(\n",
        "        model=\"gpt-4o-mini\",\n",
        "        messages=[\n",
        "            {\n",
        "                \"role\": \"system\",\n",
        "                \"content\": \"Você é um corretor gramatical, corrija a seguinte entrada do usuário.\",\n",
        "            },\n",
        "            {\"role\": \"user\", \"content\": stripped},\n",
        "        ],\n",
        "        temperature=0,\n",
        "    )\n",
        "    return response.choices[0].message.content\n",
        "\n",
        "\n",
        "\n",
        "result = correct_grammar(\"   Eui           estouu indo para o cinema a               assistir um fi   lme!    \")\n",
        "print(result)"
      ]
    },
    {
      "cell_type": "markdown",
      "id": "6f483413",
      "metadata": {
        "id": "6f483413"
      },
      "source": [
        "## Track Errors\n",
        "\n",
        "Sempre que seu código travar, o weave destacará o que causou o problema. Isso é especialmente útil para encontrar coisas como problemas de análise de JSON que podem acontecer ocasionalmente ao analisar dados de respostas LLM."
      ]
    },
    {
      "cell_type": "code",
      "execution_count": 5,
      "id": "14e7e103",
      "metadata": {
        "id": "14e7e103"
      },
      "outputs": [
        {
          "name": "stdout",
          "output_type": "stream",
          "text": [
            "🍩 https://wandb.ai/eddygiusepe/weave-intro-notebook/r/call/0192cf39-e9e3-79e3-bed5-3169f0cb162e\n"
          ]
        },
        {
          "ename": "BadRequestError",
          "evalue": "Error code: 400 - {'error': {'message': \"'messages' must contain the word 'json' in some form, to use 'response_format' of type 'json_object'.\", 'type': 'invalid_request_error', 'param': 'messages', 'code': None}}",
          "output_type": "error",
          "traceback": [
            "\u001b[0;31m---------------------------------------------------------------------------\u001b[0m",
            "\u001b[0;31mBadRequestError\u001b[0m                           Traceback (most recent call last)",
            "Cell \u001b[0;32mIn[5], line 35\u001b[0m\n\u001b[1;32m     20\u001b[0m     response \u001b[38;5;241m=\u001b[39m client\u001b[38;5;241m.\u001b[39mchat\u001b[38;5;241m.\u001b[39mcompletions\u001b[38;5;241m.\u001b[39mcreate(\n\u001b[1;32m     21\u001b[0m         model\u001b[38;5;241m=\u001b[39m\u001b[38;5;124m\"\u001b[39m\u001b[38;5;124mgpt-4o-mini\u001b[39m\u001b[38;5;124m\"\u001b[39m,\n\u001b[1;32m     22\u001b[0m         messages\u001b[38;5;241m=\u001b[39m[\n\u001b[0;32m   (...)\u001b[0m\n\u001b[1;32m     30\u001b[0m         response_format\u001b[38;5;241m=\u001b[39m{\u001b[38;5;124m\"\u001b[39m\u001b[38;5;124mtype\u001b[39m\u001b[38;5;124m\"\u001b[39m: \u001b[38;5;124m\"\u001b[39m\u001b[38;5;124mjson_object\u001b[39m\u001b[38;5;124m\"\u001b[39m},\n\u001b[1;32m     31\u001b[0m     )\n\u001b[1;32m     32\u001b[0m     \u001b[38;5;28;01mreturn\u001b[39;00m json\u001b[38;5;241m.\u001b[39mloads(response\u001b[38;5;241m.\u001b[39mchoices[\u001b[38;5;241m0\u001b[39m]\u001b[38;5;241m.\u001b[39mmessage\u001b[38;5;241m.\u001b[39mcontent)\n\u001b[0;32m---> 35\u001b[0m result \u001b[38;5;241m=\u001b[39m \u001b[43mcorrect_grammar\u001b[49m\u001b[43m(\u001b[49m\u001b[38;5;124;43m\"\u001b[39;49m\u001b[38;5;124;43m   Eui           estouu indo para o cinema a               assistir um fi   lme!    \u001b[39;49m\u001b[38;5;124;43m\"\u001b[39;49m\u001b[43m)\u001b[49m\n\u001b[1;32m     36\u001b[0m \u001b[38;5;28mprint\u001b[39m(result)\n",
            "File \u001b[0;32m~/2_EddyGiusepe_Estudo/Exploring_the_World_of_Programming_with_Python/venv_All/lib/python3.10/site-packages/weave/trace/op.py:482\u001b[0m, in \u001b[0;36mop.<locals>.op_deco.<locals>.create_wrapper.<locals>.wrapper\u001b[0;34m(*args, **kwargs)\u001b[0m\n\u001b[1;32m    478\u001b[0m     log_once(\n\u001b[1;32m    479\u001b[0m         logger\u001b[38;5;241m.\u001b[39merror, CALL_CREATE_MSG\u001b[38;5;241m.\u001b[39mformat(traceback\u001b[38;5;241m.\u001b[39mformat_exc())\n\u001b[1;32m    480\u001b[0m     )\n\u001b[1;32m    481\u001b[0m     \u001b[38;5;28;01mreturn\u001b[39;00m func(\u001b[38;5;241m*\u001b[39margs, \u001b[38;5;241m*\u001b[39m\u001b[38;5;241m*\u001b[39mkwargs)\n\u001b[0;32m--> 482\u001b[0m res, _ \u001b[38;5;241m=\u001b[39m \u001b[43m_execute_call\u001b[49m\u001b[43m(\u001b[49m\u001b[43mwrapper\u001b[49m\u001b[43m,\u001b[49m\u001b[43m \u001b[49m\u001b[43mcall\u001b[49m\u001b[43m,\u001b[49m\u001b[43m \u001b[49m\u001b[38;5;241;43m*\u001b[39;49m\u001b[43margs\u001b[49m\u001b[43m,\u001b[49m\u001b[43m \u001b[49m\u001b[38;5;241;43m*\u001b[39;49m\u001b[38;5;241;43m*\u001b[39;49m\u001b[43mkwargs\u001b[49m\u001b[43m)\u001b[49m  \u001b[38;5;66;03m# type: ignore\u001b[39;00m\n\u001b[1;32m    483\u001b[0m \u001b[38;5;28;01mreturn\u001b[39;00m res\n",
            "File \u001b[0;32m~/2_EddyGiusepe_Estudo/Exploring_the_World_of_Programming_with_Python/venv_All/lib/python3.10/site-packages/weave/trace/op.py:296\u001b[0m, in \u001b[0;36m_execute_call\u001b[0;34m(__op, call, __should_raise, *args, **kwargs)\u001b[0m\n\u001b[1;32m    294\u001b[0m     res \u001b[38;5;241m=\u001b[39m func(\u001b[38;5;241m*\u001b[39margs, \u001b[38;5;241m*\u001b[39m\u001b[38;5;241m*\u001b[39mkwargs)\n\u001b[1;32m    295\u001b[0m \u001b[38;5;28;01mexcept\u001b[39;00m \u001b[38;5;167;01mException\u001b[39;00m \u001b[38;5;28;01mas\u001b[39;00m e:\n\u001b[0;32m--> 296\u001b[0m     \u001b[43mhandle_exception\u001b[49m\u001b[43m(\u001b[49m\u001b[43me\u001b[49m\u001b[43m)\u001b[49m\n\u001b[1;32m    297\u001b[0m \u001b[38;5;28;01melse\u001b[39;00m:\n\u001b[1;32m    298\u001b[0m     \u001b[38;5;28;01mreturn\u001b[39;00m process(res)\n",
            "File \u001b[0;32m~/2_EddyGiusepe_Estudo/Exploring_the_World_of_Programming_with_Python/venv_All/lib/python3.10/site-packages/weave/trace/op.py:294\u001b[0m, in \u001b[0;36m_execute_call\u001b[0;34m(__op, call, __should_raise, *args, **kwargs)\u001b[0m\n\u001b[1;32m    291\u001b[0m     \u001b[38;5;28;01mreturn\u001b[39;00m _call_async()\n\u001b[1;32m    293\u001b[0m \u001b[38;5;28;01mtry\u001b[39;00m:\n\u001b[0;32m--> 294\u001b[0m     res \u001b[38;5;241m=\u001b[39m \u001b[43mfunc\u001b[49m\u001b[43m(\u001b[49m\u001b[38;5;241;43m*\u001b[39;49m\u001b[43margs\u001b[49m\u001b[43m,\u001b[49m\u001b[43m \u001b[49m\u001b[38;5;241;43m*\u001b[39;49m\u001b[38;5;241;43m*\u001b[39;49m\u001b[43mkwargs\u001b[49m\u001b[43m)\u001b[49m\n\u001b[1;32m    295\u001b[0m \u001b[38;5;28;01mexcept\u001b[39;00m \u001b[38;5;167;01mException\u001b[39;00m \u001b[38;5;28;01mas\u001b[39;00m e:\n\u001b[1;32m    296\u001b[0m     handle_exception(e)\n",
            "Cell \u001b[0;32mIn[5], line 20\u001b[0m, in \u001b[0;36mcorrect_grammar\u001b[0;34m(user_input)\u001b[0m\n\u001b[1;32m     17\u001b[0m client \u001b[38;5;241m=\u001b[39m OpenAI()\n\u001b[1;32m     19\u001b[0m stripped \u001b[38;5;241m=\u001b[39m strip_user_input(user_input)\n\u001b[0;32m---> 20\u001b[0m response \u001b[38;5;241m=\u001b[39m \u001b[43mclient\u001b[49m\u001b[38;5;241;43m.\u001b[39;49m\u001b[43mchat\u001b[49m\u001b[38;5;241;43m.\u001b[39;49m\u001b[43mcompletions\u001b[49m\u001b[38;5;241;43m.\u001b[39;49m\u001b[43mcreate\u001b[49m\u001b[43m(\u001b[49m\n\u001b[1;32m     21\u001b[0m \u001b[43m    \u001b[49m\u001b[43mmodel\u001b[49m\u001b[38;5;241;43m=\u001b[39;49m\u001b[38;5;124;43m\"\u001b[39;49m\u001b[38;5;124;43mgpt-4o-mini\u001b[39;49m\u001b[38;5;124;43m\"\u001b[39;49m\u001b[43m,\u001b[49m\n\u001b[1;32m     22\u001b[0m \u001b[43m    \u001b[49m\u001b[43mmessages\u001b[49m\u001b[38;5;241;43m=\u001b[39;49m\u001b[43m[\u001b[49m\n\u001b[1;32m     23\u001b[0m \u001b[43m        \u001b[49m\u001b[43m{\u001b[49m\n\u001b[1;32m     24\u001b[0m \u001b[43m            \u001b[49m\u001b[38;5;124;43m\"\u001b[39;49m\u001b[38;5;124;43mrole\u001b[39;49m\u001b[38;5;124;43m\"\u001b[39;49m\u001b[43m:\u001b[49m\u001b[43m \u001b[49m\u001b[38;5;124;43m\"\u001b[39;49m\u001b[38;5;124;43msystem\u001b[39;49m\u001b[38;5;124;43m\"\u001b[39;49m\u001b[43m,\u001b[49m\n\u001b[1;32m     25\u001b[0m \u001b[43m            \u001b[49m\u001b[38;5;124;43m\"\u001b[39;49m\u001b[38;5;124;43mcontent\u001b[39;49m\u001b[38;5;124;43m\"\u001b[39;49m\u001b[43m:\u001b[49m\u001b[43m \u001b[49m\u001b[38;5;124;43m\"\u001b[39;49m\u001b[38;5;124;43mVocê é um corretor gramatical, corrija a seguinte entrada do usuário.\u001b[39;49m\u001b[38;5;124;43m\"\u001b[39;49m\u001b[43m,\u001b[49m\n\u001b[1;32m     26\u001b[0m \u001b[43m        \u001b[49m\u001b[43m}\u001b[49m\u001b[43m,\u001b[49m\n\u001b[1;32m     27\u001b[0m \u001b[43m        \u001b[49m\u001b[43m{\u001b[49m\u001b[38;5;124;43m\"\u001b[39;49m\u001b[38;5;124;43mrole\u001b[39;49m\u001b[38;5;124;43m\"\u001b[39;49m\u001b[43m:\u001b[49m\u001b[43m \u001b[49m\u001b[38;5;124;43m\"\u001b[39;49m\u001b[38;5;124;43muser\u001b[39;49m\u001b[38;5;124;43m\"\u001b[39;49m\u001b[43m,\u001b[49m\u001b[43m \u001b[49m\u001b[38;5;124;43m\"\u001b[39;49m\u001b[38;5;124;43mcontent\u001b[39;49m\u001b[38;5;124;43m\"\u001b[39;49m\u001b[43m:\u001b[49m\u001b[43m \u001b[49m\u001b[43mstripped\u001b[49m\u001b[43m}\u001b[49m\u001b[43m,\u001b[49m\n\u001b[1;32m     28\u001b[0m \u001b[43m    \u001b[49m\u001b[43m]\u001b[49m\u001b[43m,\u001b[49m\n\u001b[1;32m     29\u001b[0m \u001b[43m    \u001b[49m\u001b[43mtemperature\u001b[49m\u001b[38;5;241;43m=\u001b[39;49m\u001b[38;5;241;43m0\u001b[39;49m\u001b[43m,\u001b[49m\n\u001b[1;32m     30\u001b[0m \u001b[43m    \u001b[49m\u001b[43mresponse_format\u001b[49m\u001b[38;5;241;43m=\u001b[39;49m\u001b[43m{\u001b[49m\u001b[38;5;124;43m\"\u001b[39;49m\u001b[38;5;124;43mtype\u001b[39;49m\u001b[38;5;124;43m\"\u001b[39;49m\u001b[43m:\u001b[49m\u001b[43m \u001b[49m\u001b[38;5;124;43m\"\u001b[39;49m\u001b[38;5;124;43mjson_object\u001b[39;49m\u001b[38;5;124;43m\"\u001b[39;49m\u001b[43m}\u001b[49m\u001b[43m,\u001b[49m\n\u001b[1;32m     31\u001b[0m \u001b[43m\u001b[49m\u001b[43m)\u001b[49m\n\u001b[1;32m     32\u001b[0m \u001b[38;5;28;01mreturn\u001b[39;00m json\u001b[38;5;241m.\u001b[39mloads(response\u001b[38;5;241m.\u001b[39mchoices[\u001b[38;5;241m0\u001b[39m]\u001b[38;5;241m.\u001b[39mmessage\u001b[38;5;241m.\u001b[39mcontent)\n",
            "File \u001b[0;32m~/2_EddyGiusepe_Estudo/Exploring_the_World_of_Programming_with_Python/venv_All/lib/python3.10/site-packages/weave/trace/op.py:482\u001b[0m, in \u001b[0;36mop.<locals>.op_deco.<locals>.create_wrapper.<locals>.wrapper\u001b[0;34m(*args, **kwargs)\u001b[0m\n\u001b[1;32m    478\u001b[0m     log_once(\n\u001b[1;32m    479\u001b[0m         logger\u001b[38;5;241m.\u001b[39merror, CALL_CREATE_MSG\u001b[38;5;241m.\u001b[39mformat(traceback\u001b[38;5;241m.\u001b[39mformat_exc())\n\u001b[1;32m    480\u001b[0m     )\n\u001b[1;32m    481\u001b[0m     \u001b[38;5;28;01mreturn\u001b[39;00m func(\u001b[38;5;241m*\u001b[39margs, \u001b[38;5;241m*\u001b[39m\u001b[38;5;241m*\u001b[39mkwargs)\n\u001b[0;32m--> 482\u001b[0m res, _ \u001b[38;5;241m=\u001b[39m \u001b[43m_execute_call\u001b[49m\u001b[43m(\u001b[49m\u001b[43mwrapper\u001b[49m\u001b[43m,\u001b[49m\u001b[43m \u001b[49m\u001b[43mcall\u001b[49m\u001b[43m,\u001b[49m\u001b[43m \u001b[49m\u001b[38;5;241;43m*\u001b[39;49m\u001b[43margs\u001b[49m\u001b[43m,\u001b[49m\u001b[43m \u001b[49m\u001b[38;5;241;43m*\u001b[39;49m\u001b[38;5;241;43m*\u001b[39;49m\u001b[43mkwargs\u001b[49m\u001b[43m)\u001b[49m  \u001b[38;5;66;03m# type: ignore\u001b[39;00m\n\u001b[1;32m    483\u001b[0m \u001b[38;5;28;01mreturn\u001b[39;00m res\n",
            "File \u001b[0;32m~/2_EddyGiusepe_Estudo/Exploring_the_World_of_Programming_with_Python/venv_All/lib/python3.10/site-packages/weave/trace/op.py:296\u001b[0m, in \u001b[0;36m_execute_call\u001b[0;34m(__op, call, __should_raise, *args, **kwargs)\u001b[0m\n\u001b[1;32m    294\u001b[0m     res \u001b[38;5;241m=\u001b[39m func(\u001b[38;5;241m*\u001b[39margs, \u001b[38;5;241m*\u001b[39m\u001b[38;5;241m*\u001b[39mkwargs)\n\u001b[1;32m    295\u001b[0m \u001b[38;5;28;01mexcept\u001b[39;00m \u001b[38;5;167;01mException\u001b[39;00m \u001b[38;5;28;01mas\u001b[39;00m e:\n\u001b[0;32m--> 296\u001b[0m     \u001b[43mhandle_exception\u001b[49m\u001b[43m(\u001b[49m\u001b[43me\u001b[49m\u001b[43m)\u001b[49m\n\u001b[1;32m    297\u001b[0m \u001b[38;5;28;01melse\u001b[39;00m:\n\u001b[1;32m    298\u001b[0m     \u001b[38;5;28;01mreturn\u001b[39;00m process(res)\n",
            "File \u001b[0;32m~/2_EddyGiusepe_Estudo/Exploring_the_World_of_Programming_with_Python/venv_All/lib/python3.10/site-packages/weave/trace/op.py:294\u001b[0m, in \u001b[0;36m_execute_call\u001b[0;34m(__op, call, __should_raise, *args, **kwargs)\u001b[0m\n\u001b[1;32m    291\u001b[0m     \u001b[38;5;28;01mreturn\u001b[39;00m _call_async()\n\u001b[1;32m    293\u001b[0m \u001b[38;5;28;01mtry\u001b[39;00m:\n\u001b[0;32m--> 294\u001b[0m     res \u001b[38;5;241m=\u001b[39m \u001b[43mfunc\u001b[49m\u001b[43m(\u001b[49m\u001b[38;5;241;43m*\u001b[39;49m\u001b[43margs\u001b[49m\u001b[43m,\u001b[49m\u001b[43m \u001b[49m\u001b[38;5;241;43m*\u001b[39;49m\u001b[38;5;241;43m*\u001b[39;49m\u001b[43mkwargs\u001b[49m\u001b[43m)\u001b[49m\n\u001b[1;32m    295\u001b[0m \u001b[38;5;28;01mexcept\u001b[39;00m \u001b[38;5;167;01mException\u001b[39;00m \u001b[38;5;28;01mas\u001b[39;00m e:\n\u001b[1;32m    296\u001b[0m     handle_exception(e)\n",
            "File \u001b[0;32m~/2_EddyGiusepe_Estudo/Exploring_the_World_of_Programming_with_Python/venv_All/lib/python3.10/site-packages/weave/integrations/openai/openai_sdk.py:291\u001b[0m, in \u001b[0;36mcreate_wrapper_sync.<locals>.wrapper.<locals>._add_stream_options.<locals>._wrapper\u001b[0;34m(*args, **kwargs)\u001b[0m\n\u001b[1;32m    289\u001b[0m \u001b[38;5;28;01mif\u001b[39;00m \u001b[38;5;28mbool\u001b[39m(kwargs\u001b[38;5;241m.\u001b[39mget(\u001b[38;5;124m\"\u001b[39m\u001b[38;5;124mstream\u001b[39m\u001b[38;5;124m\"\u001b[39m)) \u001b[38;5;129;01mand\u001b[39;00m kwargs\u001b[38;5;241m.\u001b[39mget(\u001b[38;5;124m\"\u001b[39m\u001b[38;5;124mstream_options\u001b[39m\u001b[38;5;124m\"\u001b[39m) \u001b[38;5;129;01mis\u001b[39;00m \u001b[38;5;28;01mNone\u001b[39;00m:\n\u001b[1;32m    290\u001b[0m     kwargs[\u001b[38;5;124m\"\u001b[39m\u001b[38;5;124mstream_options\u001b[39m\u001b[38;5;124m\"\u001b[39m] \u001b[38;5;241m=\u001b[39m {\u001b[38;5;124m\"\u001b[39m\u001b[38;5;124minclude_usage\u001b[39m\u001b[38;5;124m\"\u001b[39m: \u001b[38;5;28;01mTrue\u001b[39;00m}\n\u001b[0;32m--> 291\u001b[0m \u001b[38;5;28;01mreturn\u001b[39;00m \u001b[43mfn\u001b[49m\u001b[43m(\u001b[49m\n\u001b[1;32m    292\u001b[0m \u001b[43m    \u001b[49m\u001b[38;5;241;43m*\u001b[39;49m\u001b[43margs\u001b[49m\u001b[43m,\u001b[49m\u001b[43m \u001b[49m\u001b[38;5;241;43m*\u001b[39;49m\u001b[38;5;241;43m*\u001b[39;49m\u001b[43mkwargs\u001b[49m\n\u001b[1;32m    293\u001b[0m \u001b[43m\u001b[49m\u001b[43m)\u001b[49m\n",
            "File \u001b[0;32m~/2_EddyGiusepe_Estudo/Exploring_the_World_of_Programming_with_Python/venv_All/lib/python3.10/site-packages/openai/_utils/_utils.py:274\u001b[0m, in \u001b[0;36mrequired_args.<locals>.inner.<locals>.wrapper\u001b[0;34m(*args, **kwargs)\u001b[0m\n\u001b[1;32m    272\u001b[0m             msg \u001b[38;5;241m=\u001b[39m \u001b[38;5;124mf\u001b[39m\u001b[38;5;124m\"\u001b[39m\u001b[38;5;124mMissing required argument: \u001b[39m\u001b[38;5;132;01m{\u001b[39;00mquote(missing[\u001b[38;5;241m0\u001b[39m])\u001b[38;5;132;01m}\u001b[39;00m\u001b[38;5;124m\"\u001b[39m\n\u001b[1;32m    273\u001b[0m     \u001b[38;5;28;01mraise\u001b[39;00m \u001b[38;5;167;01mTypeError\u001b[39;00m(msg)\n\u001b[0;32m--> 274\u001b[0m \u001b[38;5;28;01mreturn\u001b[39;00m \u001b[43mfunc\u001b[49m\u001b[43m(\u001b[49m\u001b[38;5;241;43m*\u001b[39;49m\u001b[43margs\u001b[49m\u001b[43m,\u001b[49m\u001b[43m \u001b[49m\u001b[38;5;241;43m*\u001b[39;49m\u001b[38;5;241;43m*\u001b[39;49m\u001b[43mkwargs\u001b[49m\u001b[43m)\u001b[49m\n",
            "File \u001b[0;32m~/2_EddyGiusepe_Estudo/Exploring_the_World_of_Programming_with_Python/venv_All/lib/python3.10/site-packages/openai/resources/chat/completions.py:668\u001b[0m, in \u001b[0;36mCompletions.create\u001b[0;34m(self, messages, model, frequency_penalty, function_call, functions, logit_bias, logprobs, max_tokens, n, parallel_tool_calls, presence_penalty, response_format, seed, service_tier, stop, stream, stream_options, temperature, tool_choice, tools, top_logprobs, top_p, user, extra_headers, extra_query, extra_body, timeout)\u001b[0m\n\u001b[1;32m    633\u001b[0m \u001b[38;5;129m@required_args\u001b[39m([\u001b[38;5;124m\"\u001b[39m\u001b[38;5;124mmessages\u001b[39m\u001b[38;5;124m\"\u001b[39m, \u001b[38;5;124m\"\u001b[39m\u001b[38;5;124mmodel\u001b[39m\u001b[38;5;124m\"\u001b[39m], [\u001b[38;5;124m\"\u001b[39m\u001b[38;5;124mmessages\u001b[39m\u001b[38;5;124m\"\u001b[39m, \u001b[38;5;124m\"\u001b[39m\u001b[38;5;124mmodel\u001b[39m\u001b[38;5;124m\"\u001b[39m, \u001b[38;5;124m\"\u001b[39m\u001b[38;5;124mstream\u001b[39m\u001b[38;5;124m\"\u001b[39m])\n\u001b[1;32m    634\u001b[0m \u001b[38;5;28;01mdef\u001b[39;00m \u001b[38;5;21mcreate\u001b[39m(\n\u001b[1;32m    635\u001b[0m     \u001b[38;5;28mself\u001b[39m,\n\u001b[0;32m   (...)\u001b[0m\n\u001b[1;32m    665\u001b[0m     timeout: \u001b[38;5;28mfloat\u001b[39m \u001b[38;5;241m|\u001b[39m httpx\u001b[38;5;241m.\u001b[39mTimeout \u001b[38;5;241m|\u001b[39m \u001b[38;5;28;01mNone\u001b[39;00m \u001b[38;5;241m|\u001b[39m NotGiven \u001b[38;5;241m=\u001b[39m NOT_GIVEN,\n\u001b[1;32m    666\u001b[0m ) \u001b[38;5;241m-\u001b[39m\u001b[38;5;241m>\u001b[39m ChatCompletion \u001b[38;5;241m|\u001b[39m Stream[ChatCompletionChunk]:\n\u001b[1;32m    667\u001b[0m     validate_response_format(response_format)\n\u001b[0;32m--> 668\u001b[0m     \u001b[38;5;28;01mreturn\u001b[39;00m \u001b[38;5;28;43mself\u001b[39;49m\u001b[38;5;241;43m.\u001b[39;49m\u001b[43m_post\u001b[49m\u001b[43m(\u001b[49m\n\u001b[1;32m    669\u001b[0m \u001b[43m        \u001b[49m\u001b[38;5;124;43m\"\u001b[39;49m\u001b[38;5;124;43m/chat/completions\u001b[39;49m\u001b[38;5;124;43m\"\u001b[39;49m\u001b[43m,\u001b[49m\n\u001b[1;32m    670\u001b[0m \u001b[43m        \u001b[49m\u001b[43mbody\u001b[49m\u001b[38;5;241;43m=\u001b[39;49m\u001b[43mmaybe_transform\u001b[49m\u001b[43m(\u001b[49m\n\u001b[1;32m    671\u001b[0m \u001b[43m            \u001b[49m\u001b[43m{\u001b[49m\n\u001b[1;32m    672\u001b[0m \u001b[43m                \u001b[49m\u001b[38;5;124;43m\"\u001b[39;49m\u001b[38;5;124;43mmessages\u001b[39;49m\u001b[38;5;124;43m\"\u001b[39;49m\u001b[43m:\u001b[49m\u001b[43m \u001b[49m\u001b[43mmessages\u001b[49m\u001b[43m,\u001b[49m\n\u001b[1;32m    673\u001b[0m \u001b[43m                \u001b[49m\u001b[38;5;124;43m\"\u001b[39;49m\u001b[38;5;124;43mmodel\u001b[39;49m\u001b[38;5;124;43m\"\u001b[39;49m\u001b[43m:\u001b[49m\u001b[43m \u001b[49m\u001b[43mmodel\u001b[49m\u001b[43m,\u001b[49m\n\u001b[1;32m    674\u001b[0m \u001b[43m                \u001b[49m\u001b[38;5;124;43m\"\u001b[39;49m\u001b[38;5;124;43mfrequency_penalty\u001b[39;49m\u001b[38;5;124;43m\"\u001b[39;49m\u001b[43m:\u001b[49m\u001b[43m \u001b[49m\u001b[43mfrequency_penalty\u001b[49m\u001b[43m,\u001b[49m\n\u001b[1;32m    675\u001b[0m \u001b[43m                \u001b[49m\u001b[38;5;124;43m\"\u001b[39;49m\u001b[38;5;124;43mfunction_call\u001b[39;49m\u001b[38;5;124;43m\"\u001b[39;49m\u001b[43m:\u001b[49m\u001b[43m \u001b[49m\u001b[43mfunction_call\u001b[49m\u001b[43m,\u001b[49m\n\u001b[1;32m    676\u001b[0m \u001b[43m                \u001b[49m\u001b[38;5;124;43m\"\u001b[39;49m\u001b[38;5;124;43mfunctions\u001b[39;49m\u001b[38;5;124;43m\"\u001b[39;49m\u001b[43m:\u001b[49m\u001b[43m \u001b[49m\u001b[43mfunctions\u001b[49m\u001b[43m,\u001b[49m\n\u001b[1;32m    677\u001b[0m \u001b[43m                \u001b[49m\u001b[38;5;124;43m\"\u001b[39;49m\u001b[38;5;124;43mlogit_bias\u001b[39;49m\u001b[38;5;124;43m\"\u001b[39;49m\u001b[43m:\u001b[49m\u001b[43m \u001b[49m\u001b[43mlogit_bias\u001b[49m\u001b[43m,\u001b[49m\n\u001b[1;32m    678\u001b[0m \u001b[43m                \u001b[49m\u001b[38;5;124;43m\"\u001b[39;49m\u001b[38;5;124;43mlogprobs\u001b[39;49m\u001b[38;5;124;43m\"\u001b[39;49m\u001b[43m:\u001b[49m\u001b[43m \u001b[49m\u001b[43mlogprobs\u001b[49m\u001b[43m,\u001b[49m\n\u001b[1;32m    679\u001b[0m \u001b[43m                \u001b[49m\u001b[38;5;124;43m\"\u001b[39;49m\u001b[38;5;124;43mmax_tokens\u001b[39;49m\u001b[38;5;124;43m\"\u001b[39;49m\u001b[43m:\u001b[49m\u001b[43m \u001b[49m\u001b[43mmax_tokens\u001b[49m\u001b[43m,\u001b[49m\n\u001b[1;32m    680\u001b[0m \u001b[43m                \u001b[49m\u001b[38;5;124;43m\"\u001b[39;49m\u001b[38;5;124;43mn\u001b[39;49m\u001b[38;5;124;43m\"\u001b[39;49m\u001b[43m:\u001b[49m\u001b[43m \u001b[49m\u001b[43mn\u001b[49m\u001b[43m,\u001b[49m\n\u001b[1;32m    681\u001b[0m \u001b[43m                \u001b[49m\u001b[38;5;124;43m\"\u001b[39;49m\u001b[38;5;124;43mparallel_tool_calls\u001b[39;49m\u001b[38;5;124;43m\"\u001b[39;49m\u001b[43m:\u001b[49m\u001b[43m \u001b[49m\u001b[43mparallel_tool_calls\u001b[49m\u001b[43m,\u001b[49m\n\u001b[1;32m    682\u001b[0m \u001b[43m                \u001b[49m\u001b[38;5;124;43m\"\u001b[39;49m\u001b[38;5;124;43mpresence_penalty\u001b[39;49m\u001b[38;5;124;43m\"\u001b[39;49m\u001b[43m:\u001b[49m\u001b[43m \u001b[49m\u001b[43mpresence_penalty\u001b[49m\u001b[43m,\u001b[49m\n\u001b[1;32m    683\u001b[0m \u001b[43m                \u001b[49m\u001b[38;5;124;43m\"\u001b[39;49m\u001b[38;5;124;43mresponse_format\u001b[39;49m\u001b[38;5;124;43m\"\u001b[39;49m\u001b[43m:\u001b[49m\u001b[43m \u001b[49m\u001b[43mresponse_format\u001b[49m\u001b[43m,\u001b[49m\n\u001b[1;32m    684\u001b[0m \u001b[43m                \u001b[49m\u001b[38;5;124;43m\"\u001b[39;49m\u001b[38;5;124;43mseed\u001b[39;49m\u001b[38;5;124;43m\"\u001b[39;49m\u001b[43m:\u001b[49m\u001b[43m \u001b[49m\u001b[43mseed\u001b[49m\u001b[43m,\u001b[49m\n\u001b[1;32m    685\u001b[0m \u001b[43m                \u001b[49m\u001b[38;5;124;43m\"\u001b[39;49m\u001b[38;5;124;43mservice_tier\u001b[39;49m\u001b[38;5;124;43m\"\u001b[39;49m\u001b[43m:\u001b[49m\u001b[43m \u001b[49m\u001b[43mservice_tier\u001b[49m\u001b[43m,\u001b[49m\n\u001b[1;32m    686\u001b[0m \u001b[43m                \u001b[49m\u001b[38;5;124;43m\"\u001b[39;49m\u001b[38;5;124;43mstop\u001b[39;49m\u001b[38;5;124;43m\"\u001b[39;49m\u001b[43m:\u001b[49m\u001b[43m \u001b[49m\u001b[43mstop\u001b[49m\u001b[43m,\u001b[49m\n\u001b[1;32m    687\u001b[0m \u001b[43m                \u001b[49m\u001b[38;5;124;43m\"\u001b[39;49m\u001b[38;5;124;43mstream\u001b[39;49m\u001b[38;5;124;43m\"\u001b[39;49m\u001b[43m:\u001b[49m\u001b[43m \u001b[49m\u001b[43mstream\u001b[49m\u001b[43m,\u001b[49m\n\u001b[1;32m    688\u001b[0m \u001b[43m                \u001b[49m\u001b[38;5;124;43m\"\u001b[39;49m\u001b[38;5;124;43mstream_options\u001b[39;49m\u001b[38;5;124;43m\"\u001b[39;49m\u001b[43m:\u001b[49m\u001b[43m \u001b[49m\u001b[43mstream_options\u001b[49m\u001b[43m,\u001b[49m\n\u001b[1;32m    689\u001b[0m \u001b[43m                \u001b[49m\u001b[38;5;124;43m\"\u001b[39;49m\u001b[38;5;124;43mtemperature\u001b[39;49m\u001b[38;5;124;43m\"\u001b[39;49m\u001b[43m:\u001b[49m\u001b[43m \u001b[49m\u001b[43mtemperature\u001b[49m\u001b[43m,\u001b[49m\n\u001b[1;32m    690\u001b[0m \u001b[43m                \u001b[49m\u001b[38;5;124;43m\"\u001b[39;49m\u001b[38;5;124;43mtool_choice\u001b[39;49m\u001b[38;5;124;43m\"\u001b[39;49m\u001b[43m:\u001b[49m\u001b[43m \u001b[49m\u001b[43mtool_choice\u001b[49m\u001b[43m,\u001b[49m\n\u001b[1;32m    691\u001b[0m \u001b[43m                \u001b[49m\u001b[38;5;124;43m\"\u001b[39;49m\u001b[38;5;124;43mtools\u001b[39;49m\u001b[38;5;124;43m\"\u001b[39;49m\u001b[43m:\u001b[49m\u001b[43m \u001b[49m\u001b[43mtools\u001b[49m\u001b[43m,\u001b[49m\n\u001b[1;32m    692\u001b[0m \u001b[43m                \u001b[49m\u001b[38;5;124;43m\"\u001b[39;49m\u001b[38;5;124;43mtop_logprobs\u001b[39;49m\u001b[38;5;124;43m\"\u001b[39;49m\u001b[43m:\u001b[49m\u001b[43m \u001b[49m\u001b[43mtop_logprobs\u001b[49m\u001b[43m,\u001b[49m\n\u001b[1;32m    693\u001b[0m \u001b[43m                \u001b[49m\u001b[38;5;124;43m\"\u001b[39;49m\u001b[38;5;124;43mtop_p\u001b[39;49m\u001b[38;5;124;43m\"\u001b[39;49m\u001b[43m:\u001b[49m\u001b[43m \u001b[49m\u001b[43mtop_p\u001b[49m\u001b[43m,\u001b[49m\n\u001b[1;32m    694\u001b[0m \u001b[43m                \u001b[49m\u001b[38;5;124;43m\"\u001b[39;49m\u001b[38;5;124;43muser\u001b[39;49m\u001b[38;5;124;43m\"\u001b[39;49m\u001b[43m:\u001b[49m\u001b[43m \u001b[49m\u001b[43muser\u001b[49m\u001b[43m,\u001b[49m\n\u001b[1;32m    695\u001b[0m \u001b[43m            \u001b[49m\u001b[43m}\u001b[49m\u001b[43m,\u001b[49m\n\u001b[1;32m    696\u001b[0m \u001b[43m            \u001b[49m\u001b[43mcompletion_create_params\u001b[49m\u001b[38;5;241;43m.\u001b[39;49m\u001b[43mCompletionCreateParams\u001b[49m\u001b[43m,\u001b[49m\n\u001b[1;32m    697\u001b[0m \u001b[43m        \u001b[49m\u001b[43m)\u001b[49m\u001b[43m,\u001b[49m\n\u001b[1;32m    698\u001b[0m \u001b[43m        \u001b[49m\u001b[43moptions\u001b[49m\u001b[38;5;241;43m=\u001b[39;49m\u001b[43mmake_request_options\u001b[49m\u001b[43m(\u001b[49m\n\u001b[1;32m    699\u001b[0m \u001b[43m            \u001b[49m\u001b[43mextra_headers\u001b[49m\u001b[38;5;241;43m=\u001b[39;49m\u001b[43mextra_headers\u001b[49m\u001b[43m,\u001b[49m\u001b[43m \u001b[49m\u001b[43mextra_query\u001b[49m\u001b[38;5;241;43m=\u001b[39;49m\u001b[43mextra_query\u001b[49m\u001b[43m,\u001b[49m\u001b[43m \u001b[49m\u001b[43mextra_body\u001b[49m\u001b[38;5;241;43m=\u001b[39;49m\u001b[43mextra_body\u001b[49m\u001b[43m,\u001b[49m\u001b[43m \u001b[49m\u001b[43mtimeout\u001b[49m\u001b[38;5;241;43m=\u001b[39;49m\u001b[43mtimeout\u001b[49m\n\u001b[1;32m    700\u001b[0m \u001b[43m        \u001b[49m\u001b[43m)\u001b[49m\u001b[43m,\u001b[49m\n\u001b[1;32m    701\u001b[0m \u001b[43m        \u001b[49m\u001b[43mcast_to\u001b[49m\u001b[38;5;241;43m=\u001b[39;49m\u001b[43mChatCompletion\u001b[49m\u001b[43m,\u001b[49m\n\u001b[1;32m    702\u001b[0m \u001b[43m        \u001b[49m\u001b[43mstream\u001b[49m\u001b[38;5;241;43m=\u001b[39;49m\u001b[43mstream\u001b[49m\u001b[43m \u001b[49m\u001b[38;5;129;43;01mor\u001b[39;49;00m\u001b[43m \u001b[49m\u001b[38;5;28;43;01mFalse\u001b[39;49;00m\u001b[43m,\u001b[49m\n\u001b[1;32m    703\u001b[0m \u001b[43m        \u001b[49m\u001b[43mstream_cls\u001b[49m\u001b[38;5;241;43m=\u001b[39;49m\u001b[43mStream\u001b[49m\u001b[43m[\u001b[49m\u001b[43mChatCompletionChunk\u001b[49m\u001b[43m]\u001b[49m\u001b[43m,\u001b[49m\n\u001b[1;32m    704\u001b[0m \u001b[43m    \u001b[49m\u001b[43m)\u001b[49m\n",
            "File \u001b[0;32m~/2_EddyGiusepe_Estudo/Exploring_the_World_of_Programming_with_Python/venv_All/lib/python3.10/site-packages/openai/_base_client.py:1259\u001b[0m, in \u001b[0;36mSyncAPIClient.post\u001b[0;34m(self, path, cast_to, body, options, files, stream, stream_cls)\u001b[0m\n\u001b[1;32m   1245\u001b[0m \u001b[38;5;28;01mdef\u001b[39;00m \u001b[38;5;21mpost\u001b[39m(\n\u001b[1;32m   1246\u001b[0m     \u001b[38;5;28mself\u001b[39m,\n\u001b[1;32m   1247\u001b[0m     path: \u001b[38;5;28mstr\u001b[39m,\n\u001b[0;32m   (...)\u001b[0m\n\u001b[1;32m   1254\u001b[0m     stream_cls: \u001b[38;5;28mtype\u001b[39m[_StreamT] \u001b[38;5;241m|\u001b[39m \u001b[38;5;28;01mNone\u001b[39;00m \u001b[38;5;241m=\u001b[39m \u001b[38;5;28;01mNone\u001b[39;00m,\n\u001b[1;32m   1255\u001b[0m ) \u001b[38;5;241m-\u001b[39m\u001b[38;5;241m>\u001b[39m ResponseT \u001b[38;5;241m|\u001b[39m _StreamT:\n\u001b[1;32m   1256\u001b[0m     opts \u001b[38;5;241m=\u001b[39m FinalRequestOptions\u001b[38;5;241m.\u001b[39mconstruct(\n\u001b[1;32m   1257\u001b[0m         method\u001b[38;5;241m=\u001b[39m\u001b[38;5;124m\"\u001b[39m\u001b[38;5;124mpost\u001b[39m\u001b[38;5;124m\"\u001b[39m, url\u001b[38;5;241m=\u001b[39mpath, json_data\u001b[38;5;241m=\u001b[39mbody, files\u001b[38;5;241m=\u001b[39mto_httpx_files(files), \u001b[38;5;241m*\u001b[39m\u001b[38;5;241m*\u001b[39moptions\n\u001b[1;32m   1258\u001b[0m     )\n\u001b[0;32m-> 1259\u001b[0m     \u001b[38;5;28;01mreturn\u001b[39;00m cast(ResponseT, \u001b[38;5;28;43mself\u001b[39;49m\u001b[38;5;241;43m.\u001b[39;49m\u001b[43mrequest\u001b[49m\u001b[43m(\u001b[49m\u001b[43mcast_to\u001b[49m\u001b[43m,\u001b[49m\u001b[43m \u001b[49m\u001b[43mopts\u001b[49m\u001b[43m,\u001b[49m\u001b[43m \u001b[49m\u001b[43mstream\u001b[49m\u001b[38;5;241;43m=\u001b[39;49m\u001b[43mstream\u001b[49m\u001b[43m,\u001b[49m\u001b[43m \u001b[49m\u001b[43mstream_cls\u001b[49m\u001b[38;5;241;43m=\u001b[39;49m\u001b[43mstream_cls\u001b[49m\u001b[43m)\u001b[49m)\n",
            "File \u001b[0;32m~/2_EddyGiusepe_Estudo/Exploring_the_World_of_Programming_with_Python/venv_All/lib/python3.10/site-packages/openai/_base_client.py:936\u001b[0m, in \u001b[0;36mSyncAPIClient.request\u001b[0;34m(self, cast_to, options, remaining_retries, stream, stream_cls)\u001b[0m\n\u001b[1;32m    927\u001b[0m \u001b[38;5;28;01mdef\u001b[39;00m \u001b[38;5;21mrequest\u001b[39m(\n\u001b[1;32m    928\u001b[0m     \u001b[38;5;28mself\u001b[39m,\n\u001b[1;32m    929\u001b[0m     cast_to: Type[ResponseT],\n\u001b[0;32m   (...)\u001b[0m\n\u001b[1;32m    934\u001b[0m     stream_cls: \u001b[38;5;28mtype\u001b[39m[_StreamT] \u001b[38;5;241m|\u001b[39m \u001b[38;5;28;01mNone\u001b[39;00m \u001b[38;5;241m=\u001b[39m \u001b[38;5;28;01mNone\u001b[39;00m,\n\u001b[1;32m    935\u001b[0m ) \u001b[38;5;241m-\u001b[39m\u001b[38;5;241m>\u001b[39m ResponseT \u001b[38;5;241m|\u001b[39m _StreamT:\n\u001b[0;32m--> 936\u001b[0m     \u001b[38;5;28;01mreturn\u001b[39;00m \u001b[38;5;28;43mself\u001b[39;49m\u001b[38;5;241;43m.\u001b[39;49m\u001b[43m_request\u001b[49m\u001b[43m(\u001b[49m\n\u001b[1;32m    937\u001b[0m \u001b[43m        \u001b[49m\u001b[43mcast_to\u001b[49m\u001b[38;5;241;43m=\u001b[39;49m\u001b[43mcast_to\u001b[49m\u001b[43m,\u001b[49m\n\u001b[1;32m    938\u001b[0m \u001b[43m        \u001b[49m\u001b[43moptions\u001b[49m\u001b[38;5;241;43m=\u001b[39;49m\u001b[43moptions\u001b[49m\u001b[43m,\u001b[49m\n\u001b[1;32m    939\u001b[0m \u001b[43m        \u001b[49m\u001b[43mstream\u001b[49m\u001b[38;5;241;43m=\u001b[39;49m\u001b[43mstream\u001b[49m\u001b[43m,\u001b[49m\n\u001b[1;32m    940\u001b[0m \u001b[43m        \u001b[49m\u001b[43mstream_cls\u001b[49m\u001b[38;5;241;43m=\u001b[39;49m\u001b[43mstream_cls\u001b[49m\u001b[43m,\u001b[49m\n\u001b[1;32m    941\u001b[0m \u001b[43m        \u001b[49m\u001b[43mremaining_retries\u001b[49m\u001b[38;5;241;43m=\u001b[39;49m\u001b[43mremaining_retries\u001b[49m\u001b[43m,\u001b[49m\n\u001b[1;32m    942\u001b[0m \u001b[43m    \u001b[49m\u001b[43m)\u001b[49m\n",
            "File \u001b[0;32m~/2_EddyGiusepe_Estudo/Exploring_the_World_of_Programming_with_Python/venv_All/lib/python3.10/site-packages/openai/_base_client.py:1040\u001b[0m, in \u001b[0;36mSyncAPIClient._request\u001b[0;34m(self, cast_to, options, remaining_retries, stream, stream_cls)\u001b[0m\n\u001b[1;32m   1037\u001b[0m         err\u001b[38;5;241m.\u001b[39mresponse\u001b[38;5;241m.\u001b[39mread()\n\u001b[1;32m   1039\u001b[0m     log\u001b[38;5;241m.\u001b[39mdebug(\u001b[38;5;124m\"\u001b[39m\u001b[38;5;124mRe-raising status error\u001b[39m\u001b[38;5;124m\"\u001b[39m)\n\u001b[0;32m-> 1040\u001b[0m     \u001b[38;5;28;01mraise\u001b[39;00m \u001b[38;5;28mself\u001b[39m\u001b[38;5;241m.\u001b[39m_make_status_error_from_response(err\u001b[38;5;241m.\u001b[39mresponse) \u001b[38;5;28;01mfrom\u001b[39;00m \u001b[38;5;28;01mNone\u001b[39;00m\n\u001b[1;32m   1042\u001b[0m \u001b[38;5;28;01mreturn\u001b[39;00m \u001b[38;5;28mself\u001b[39m\u001b[38;5;241m.\u001b[39m_process_response(\n\u001b[1;32m   1043\u001b[0m     cast_to\u001b[38;5;241m=\u001b[39mcast_to,\n\u001b[1;32m   1044\u001b[0m     options\u001b[38;5;241m=\u001b[39moptions,\n\u001b[0;32m   (...)\u001b[0m\n\u001b[1;32m   1048\u001b[0m     retries_taken\u001b[38;5;241m=\u001b[39moptions\u001b[38;5;241m.\u001b[39mget_max_retries(\u001b[38;5;28mself\u001b[39m\u001b[38;5;241m.\u001b[39mmax_retries) \u001b[38;5;241m-\u001b[39m retries,\n\u001b[1;32m   1049\u001b[0m )\n",
            "\u001b[0;31mBadRequestError\u001b[0m: Error code: 400 - {'error': {'message': \"'messages' must contain the word 'json' in some form, to use 'response_format' of type 'json_object'.\", 'type': 'invalid_request_error', 'param': 'messages', 'code': None}}"
          ]
        }
      ],
      "source": [
        "import json\n",
        "\n",
        "from openai import OpenAI\n",
        "\n",
        "import weave\n",
        "\n",
        "weave.init(PROJECT)\n",
        "\n",
        "\n",
        "@weave.op()\n",
        "def strip_user_input(user_input):\n",
        "    return ' '.join(user_input.split())\n",
        "\n",
        "\n",
        "@weave.op()\n",
        "def correct_grammar(user_input):\n",
        "    client = OpenAI()\n",
        "\n",
        "    stripped = strip_user_input(user_input)\n",
        "    response = client.chat.completions.create(\n",
        "        model=\"gpt-4o-mini\",\n",
        "        messages=[\n",
        "            {\n",
        "                \"role\": \"system\",\n",
        "                \"content\": \"Você é um corretor gramatical, corrija a seguinte entrada do usuário.\",\n",
        "            },\n",
        "            {\"role\": \"user\", \"content\": stripped},\n",
        "        ],\n",
        "        temperature=0,\n",
        "        response_format={\"type\": \"json_object\"},\n",
        "    )\n",
        "    return json.loads(response.choices[0].message.content)\n",
        "\n",
        "\n",
        "result = correct_grammar(\"   Eui           estouu indo para o cinema a               assistir um fi   lme!    \")\n",
        "print(result)"
      ]
    },
    {
      "cell_type": "markdown",
      "id": "f957c9c8",
      "metadata": {
        "id": "f957c9c8"
      },
      "source": [
        "# Tracking Objects\n",
        "\n",
        "Organizing experimentation is difficult when there are many moving pieces. You can capture and organize the experimental details of your app like your system prompt or the model you're using within `weave.Objects`. This helps organize and compare different iterations of your app. In this section, we will cover:\n",
        "\n",
        "* General Object Tracking\n",
        "* Tracking Models\n",
        "* Tracking Datasets"
      ]
    },
    {
      "cell_type": "markdown",
      "id": "8f6129cc",
      "metadata": {
        "id": "8f6129cc"
      },
      "source": [
        "## General Object Tracking\n",
        "\n",
        "Many times, it is useful to track & version data, just like you track and version code. For example, here we define a `SystemPrompt(weave.Object)` object that can be shared between teammates"
      ]
    },
    {
      "cell_type": "markdown",
      "id": "95017cd1",
      "metadata": {
        "id": "95017cd1"
      },
      "source": [
        "![](https://github.com/wandb/weave/blob/media/intro/5.png?raw=1)"
      ]
    },
    {
      "cell_type": "code",
      "execution_count": 6,
      "id": "08e4e852",
      "metadata": {
        "id": "08e4e852"
      },
      "outputs": [
        {
          "name": "stdout",
          "output_type": "stream",
          "text": [
            "📦 Published to https://wandb.ai/eddygiusepe/weave-intro-notebook/weave/objects/SystemPrompt/versions/y8wtlkPjQeSdGYvRN6F2N4RDXc8t76cuZESqXOsFv2M\n"
          ]
        },
        {
          "data": {
            "text/plain": [
              "ObjectRef(entity='eddygiusepe', project='weave-intro-notebook', name='SystemPrompt', _digest='y8wtlkPjQeSdGYvRN6F2N4RDXc8t76cuZESqXOsFv2M', _extra=())"
            ]
          },
          "execution_count": 6,
          "metadata": {},
          "output_type": "execute_result"
        }
      ],
      "source": [
        "import weave\n",
        "\n",
        "weave.init(PROJECT)\n",
        "\n",
        "\n",
        "class SystemPrompt(weave.Object):\n",
        "    prompt: str\n",
        "\n",
        "\n",
        "system_prompt = SystemPrompt(\n",
        "    prompt=\"Você é um corretor gramatical, corrija a seguinte entrada do usuário.\"\n",
        ")\n",
        "\n",
        "weave.publish(system_prompt)"
      ]
    },
    {
      "cell_type": "markdown",
      "id": "0c873438",
      "metadata": {
        "id": "0c873438"
      },
      "source": [
        "## Model Tracking\n",
        "\n",
        "Models are so common of an object type, that we have a special class to represent them: `weave.Model`. The only requirement is that we define a `predict` method."
      ]
    },
    {
      "cell_type": "markdown",
      "id": "7feb0667",
      "metadata": {
        "id": "7feb0667"
      },
      "source": [
        "![](https://github.com/wandb/weave/blob/media/intro/6.png?raw=1)"
      ]
    },
    {
      "cell_type": "code",
      "execution_count": 7,
      "id": "e3e60d81",
      "metadata": {
        "id": "e3e60d81"
      },
      "outputs": [
        {
          "name": "stdout",
          "output_type": "stream",
          "text": [
            "🍩 https://wandb.ai/eddygiusepe/weave-intro-notebook/r/call/0192cf49-4991-7fd3-9ad7-5159b71c0dda\n",
            "Eu estou indo para o cinema assistir a um filme!\n"
          ]
        }
      ],
      "source": [
        "from openai import OpenAI\n",
        "\n",
        "import weave\n",
        "\n",
        "weave.init(PROJECT)\n",
        "\n",
        "\n",
        "class OpenAIGrammarCorrector(weave.Model):\n",
        "    # Properties are entirely user-defined\n",
        "    openai_model_name: str\n",
        "    system_message: str\n",
        "\n",
        "    @weave.op()\n",
        "    def predict(self, user_input):\n",
        "        client = OpenAI()\n",
        "        response = client.chat.completions.create(\n",
        "            model=self.openai_model_name,\n",
        "            messages=[\n",
        "                {\"role\": \"system\", \"content\": self.system_message},\n",
        "                {\"role\": \"user\", \"content\": user_input},\n",
        "            ],\n",
        "            temperature=0,\n",
        "        )\n",
        "        return response.choices[0].message.content\n",
        "\n",
        "\n",
        "\n",
        "\n",
        "corrector = OpenAIGrammarCorrector(\n",
        "    openai_model_name=\"gpt-4o-mini\",\n",
        "    system_message=\"Você é um corretor gramatical, corrija a seguinte entrada do usuário.\",\n",
        ")\n",
        "\n",
        "result = corrector.predict(\"     Eui           estouu indo para o cinema a               assistir um fi   lme!       \")\n",
        "print(result)"
      ]
    },
    {
      "cell_type": "markdown",
      "id": "624b04c1",
      "metadata": {
        "id": "624b04c1"
      },
      "source": [
        "## Dataset Tracking\n",
        "\n",
        "Semelhante aos modelos, um objeto `weave.Dataset` existe para ajudar a rastrear, organizar e operar em conjuntos de dados"
      ]
    },
    {
      "cell_type": "code",
      "execution_count": 15,
      "id": "ac2c5145",
      "metadata": {
        "id": "ac2c5145"
      },
      "outputs": [
        {
          "name": "stdout",
          "output_type": "stream",
          "text": [
            "📦 Published to https://wandb.ai/eddygiusepe/weave-intro-notebook/weave/objects/grammar-correction/versions/H0X4QPw4JXlCG09rdaMR71zuWli63bJ5Rx0RbVNYi5I\n"
          ]
        },
        {
          "data": {
            "text/plain": [
              "ObjectRef(entity='eddygiusepe', project='weave-intro-notebook', name='grammar-correction', _digest='H0X4QPw4JXlCG09rdaMR71zuWli63bJ5Rx0RbVNYi5I', _extra=())"
            ]
          },
          "execution_count": 15,
          "metadata": {},
          "output_type": "execute_result"
        }
      ],
      "source": [
        "dataset = weave.Dataset(\n",
        "    name=\"grammar-correction\",\n",
        "    rows=[\n",
        "        {\n",
        "            \"user_input\": \"   Eui           estouu indo para o cinema a               assistir um fi   lme!   \",\n",
        "            \"expected\": \"Eu estou indo para o cinema a assistir um filme!\",\n",
        "        },\n",
        "        {\"user_input\": \"  Eu escrevo bom   \", \"expected\": \"Eu escrevo bem\"},\n",
        "        {\n",
        "            \"user_input\": \"  GPT-3 é modelo de    IA mais    inteligente.   \",\n",
        "            \"expected\": \"GPT-3 é o modelo de IA mais inteligente.\",\n",
        "        },\n",
        "    ],\n",
        ")\n",
        "\n",
        "weave.publish(dataset)"
      ]
    },
    {
      "cell_type": "markdown",
      "id": "f7d43bc3",
      "metadata": {
        "id": "f7d43bc3"
      },
      "source": [
        "Notice that we saved a versioned `GrammarCorrector` object that captures the configurations you're experimenting with."
      ]
    },
    {
      "cell_type": "markdown",
      "id": "71c3aaea",
      "metadata": {
        "id": "71c3aaea"
      },
      "source": [
        "## Retrieve Published Objects & Ops\n",
        "\n",
        "Você pode publicar objetos e então recuperá-los em seu código. Você pode até mesmo chamar funções de seus objetos recuperados!"
      ]
    },
    {
      "cell_type": "code",
      "execution_count": 16,
      "id": "caa5c5e0",
      "metadata": {
        "id": "caa5c5e0"
      },
      "outputs": [
        {
          "name": "stdout",
          "output_type": "stream",
          "text": [
            "📦 Published to https://wandb.ai/eddygiusepe/weave-intro-notebook/weave/objects/OpenAIGrammarCorrector/versions/AII0Pib0xuX2dnX7wUnASWJRgiT5qj4JQdok5Ei3Xzc\n",
            "weave:///eddygiusepe/weave-intro-notebook/object/OpenAIGrammarCorrector:AII0Pib0xuX2dnX7wUnASWJRgiT5qj4JQdok5Ei3Xzc\n"
          ]
        }
      ],
      "source": [
        "import weave\n",
        "\n",
        "weave.init(PROJECT)\n",
        "\n",
        "corrector = OpenAIGrammarCorrector(\n",
        "    openai_model_name=\"gpt-4o-mini\",\n",
        "    system_message=\"Você é um corretor gramatical, corrija a seguinte entrada do usuário.\",\n",
        ")\n",
        "\n",
        "ref = weave.publish(corrector)\n",
        "print(ref.uri())"
      ]
    },
    {
      "cell_type": "code",
      "execution_count": 17,
      "id": "0bbe18c7",
      "metadata": {},
      "outputs": [
        {
          "data": {
            "text/plain": [
              "'eddygiusepe'"
            ]
          },
          "execution_count": 17,
          "metadata": {},
          "output_type": "execute_result"
        }
      ],
      "source": [
        "ref.entity"
      ]
    },
    {
      "cell_type": "code",
      "execution_count": 18,
      "id": "fc7948e9",
      "metadata": {},
      "outputs": [
        {
          "data": {
            "text/plain": [
              "'OpenAIGrammarCorrector'"
            ]
          },
          "execution_count": 18,
          "metadata": {},
          "output_type": "execute_result"
        }
      ],
      "source": [
        "ref.name"
      ]
    },
    {
      "cell_type": "code",
      "execution_count": 19,
      "id": "5d5dfd97",
      "metadata": {},
      "outputs": [
        {
          "data": {
            "text/plain": [
              "'AII0Pib0xuX2dnX7wUnASWJRgiT5qj4JQdok5Ei3Xzc'"
            ]
          },
          "execution_count": 19,
          "metadata": {},
          "output_type": "execute_result"
        }
      ],
      "source": [
        "ref.digest"
      ]
    },
    {
      "cell_type": "code",
      "execution_count": 20,
      "id": "9ff9cfe7",
      "metadata": {
        "id": "9ff9cfe7"
      },
      "outputs": [
        {
          "name": "stdout",
          "output_type": "stream",
          "text": [
            "🍩 https://wandb.ai/eddygiusepe/weave-intro-notebook/r/call/0192cf60-0cd0-7853-8bc7-96cb88fd2834\n",
            "Eu estou indo para o cinema assistir a um filme!\n"
          ]
        }
      ],
      "source": [
        "import weave\n",
        "\n",
        "weave.init(PROJECT)\n",
        "\n",
        "# Note: this url is available from the UI after publishing the object!\n",
        "ref_url = f\"weave:///{ref.entity}/{PROJECT}/object/{ref.name}:{ref.digest}\"\n",
        "fetched_collector = weave.ref(ref_url).get()\n",
        "\n",
        "# Notice: this object was loaded from remote location!\n",
        "result = fetched_collector.predict(\"Eui           estouu indo para o cinema a               assistir um fi   lme!\")\n",
        "\n",
        "print(result)"
      ]
    },
    {
      "cell_type": "markdown",
      "id": "77b94dd5",
      "metadata": {
        "id": "77b94dd5"
      },
      "source": [
        "# Evaluation\n",
        "\n",
        "O desenvolvimento orientado a avaliação ajuda você a iterar de forma confiável em um aplicativo. A classe `Evaluation` é projetada para avaliar o desempenho de um `Model` em um dado `Dataset` ou conjunto de exemplos usando funções de pontuação.\n",
        "\n",
        "Veja uma prévia da API abaixo:"
      ]
    },
    {
      "cell_type": "code",
      "execution_count": 21,
      "id": "9c597f9a",
      "metadata": {
        "id": "9c597f9a"
      },
      "outputs": [
        {
          "data": {
            "text/html": [
              "<pre style=\"white-space:pre;overflow-x:auto;line-height:normal;font-family:Menlo,'DejaVu Sans Mono',consolas,'Courier New',monospace\">Evaluated <span style=\"color: #008080; text-decoration-color: #008080; font-weight: bold\">1</span> of <span style=\"color: #008080; text-decoration-color: #008080; font-weight: bold\">3</span> examples\n",
              "</pre>\n"
            ],
            "text/plain": [
              "Evaluated \u001b[1;36m1\u001b[0m of \u001b[1;36m3\u001b[0m examples\n"
            ]
          },
          "metadata": {},
          "output_type": "display_data"
        },
        {
          "data": {
            "text/html": [
              "<pre style=\"white-space:pre;overflow-x:auto;line-height:normal;font-family:Menlo,'DejaVu Sans Mono',consolas,'Courier New',monospace\">Evaluated <span style=\"color: #008080; text-decoration-color: #008080; font-weight: bold\">2</span> of <span style=\"color: #008080; text-decoration-color: #008080; font-weight: bold\">3</span> examples\n",
              "</pre>\n"
            ],
            "text/plain": [
              "Evaluated \u001b[1;36m2\u001b[0m of \u001b[1;36m3\u001b[0m examples\n"
            ]
          },
          "metadata": {},
          "output_type": "display_data"
        },
        {
          "data": {
            "text/html": [
              "<pre style=\"white-space:pre;overflow-x:auto;line-height:normal;font-family:Menlo,'DejaVu Sans Mono',consolas,'Courier New',monospace\">Evaluated <span style=\"color: #008080; text-decoration-color: #008080; font-weight: bold\">3</span> of <span style=\"color: #008080; text-decoration-color: #008080; font-weight: bold\">3</span> examples\n",
              "</pre>\n"
            ],
            "text/plain": [
              "Evaluated \u001b[1;36m3\u001b[0m of \u001b[1;36m3\u001b[0m examples\n"
            ]
          },
          "metadata": {},
          "output_type": "display_data"
        },
        {
          "data": {
            "text/html": [
              "<pre style=\"white-space:pre;overflow-x:auto;line-height:normal;font-family:Menlo,'DejaVu Sans Mono',consolas,'Courier New',monospace\">Evaluation summary\n",
              "<span style=\"font-weight: bold\">{</span>\n",
              "    <span style=\"color: #008000; text-decoration-color: #008000\">'exact_match'</span>: <span style=\"font-weight: bold\">{</span><span style=\"color: #008000; text-decoration-color: #008000\">'match'</span>: <span style=\"font-weight: bold\">{</span><span style=\"color: #008000; text-decoration-color: #008000\">'true_count'</span>: <span style=\"color: #008080; text-decoration-color: #008080; font-weight: bold\">1</span>, <span style=\"color: #008000; text-decoration-color: #008000\">'true_fraction'</span>: <span style=\"color: #008080; text-decoration-color: #008080; font-weight: bold\">0.3333333333333333</span><span style=\"font-weight: bold\">}}</span>,\n",
              "    <span style=\"color: #008000; text-decoration-color: #008000\">'model_latency'</span>: <span style=\"font-weight: bold\">{</span><span style=\"color: #008000; text-decoration-color: #008000\">'mean'</span>: <span style=\"color: #008080; text-decoration-color: #008080; font-weight: bold\">1.0510927836100261</span><span style=\"font-weight: bold\">}</span>\n",
              "<span style=\"font-weight: bold\">}</span>\n",
              "</pre>\n"
            ],
            "text/plain": [
              "Evaluation summary\n",
              "\u001b[1m{\u001b[0m\n",
              "    \u001b[32m'exact_match'\u001b[0m: \u001b[1m{\u001b[0m\u001b[32m'match'\u001b[0m: \u001b[1m{\u001b[0m\u001b[32m'true_count'\u001b[0m: \u001b[1;36m1\u001b[0m, \u001b[32m'true_fraction'\u001b[0m: \u001b[1;36m0.3333333333333333\u001b[0m\u001b[1m}\u001b[0m\u001b[1m}\u001b[0m,\n",
              "    \u001b[32m'model_latency'\u001b[0m: \u001b[1m{\u001b[0m\u001b[32m'mean'\u001b[0m: \u001b[1;36m1.0510927836100261\u001b[0m\u001b[1m}\u001b[0m\n",
              "\u001b[1m}\u001b[0m\n"
            ]
          },
          "metadata": {},
          "output_type": "display_data"
        },
        {
          "name": "stdout",
          "output_type": "stream",
          "text": [
            "🍩 https://wandb.ai/eddygiusepe/weave-intro-notebook/r/call/0192cf60-11ae-7df1-b819-54244b1df2ea\n"
          ]
        }
      ],
      "source": [
        "import weave\n",
        "from weave import Evaluation\n",
        "\n",
        "\n",
        "# Defina qualquer função de pontuação personalizada: \n",
        "@weave.op()\n",
        "def exact_match(expected: str, model_output: dict) -> dict:\n",
        "    # Here is where you'd define the logic to score the model output\n",
        "    return {\"match\": expected == model_output}\n",
        "\n",
        "\n",
        "# Pontue seus exemplos usando funções de pontuação:\n",
        "evaluation = Evaluation(\n",
        "    dataset=dataset,  # can be a list of dictionaries or a weave.Dataset object\n",
        "    scorers=[exact_match],  # can be a list of scoring functions\n",
        ")\n",
        "\n",
        "# Start tracking the evaluation\n",
        "weave.init(PROJECT)\n",
        "# Run the evaluation\n",
        "summary = await evaluation.evaluate(corrector)  # can be a model or simple function"
      ]
    },
    {
      "cell_type": "markdown",
      "id": "d997d9e6",
      "metadata": {
        "id": "d997d9e6"
      },
      "source": [
        "## What's next?\n",
        "\n",
        "Follow the [Build an Evaluation pipeline](http://wandb.me/weave_eval_tut) tutorial to learn more about Evaluation and begin iteratively improving your applications."
      ]
    }
  ],
  "metadata": {
    "colab": {
      "provenance": []
    },
    "kernelspec": {
      "display_name": "venv_All",
      "language": "python",
      "name": "python3"
    },
    "language_info": {
      "codemirror_mode": {
        "name": "ipython",
        "version": 3
      },
      "file_extension": ".py",
      "mimetype": "text/x-python",
      "name": "python",
      "nbconvert_exporter": "python",
      "pygments_lexer": "ipython3",
      "version": "3.10.12"
    }
  },
  "nbformat": 4,
  "nbformat_minor": 5
}
