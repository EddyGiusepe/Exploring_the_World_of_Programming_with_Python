{
 "cells": [
  {
   "cell_type": "markdown",
   "metadata": {},
   "source": [
    "# <h1 align=\"center\"><font color=\"red\">Crie seu primeiro agente de IA em 5 etapas fáceis (100% local)</font></h1>"
   ]
  },
  {
   "cell_type": "markdown",
   "metadata": {},
   "source": [
    "<font color=\"yellow\">Senior Data Scientist.: Dr. Eddy Giusepe Chirinos Isidro</font>\n",
    "\n",
    "Este Notebook está baseado no Tutorial de [Hesam Sheikh](https://hesamsheikh.substack.com/p/build-your-first-ai-agent-in-5-easy?utm_source=publication-search)."
   ]
  },
  {
   "cell_type": "markdown",
   "metadata": {},
   "source": [
    "![](https://substackcdn.com/image/fetch/w_1456,c_limit,f_webp,q_auto:good,fl_progressive:steep/https%3A%2F%2Fsubstack-post-media.s3.amazonaws.com%2Fpublic%2Fimages%2F2a4a9c8a-ae65-46e9-ab72-13d2b60472c4_875x528.png)"
   ]
  },
  {
   "cell_type": "markdown",
   "metadata": {},
   "source": [
    "# <font color=\"gree\">Chatbot de IA vs. Agente de IA</font>"
   ]
  },
  {
   "cell_type": "markdown",
   "metadata": {},
   "source": [
    "`Chatbots` de IA, como o `ChatGPT`, são projetados para se comunicar com humanos por meio de texto ou fala. Sua função principal é responder perguntas, fornecer insights e usar processamento de linguagem natural (`NLP`) para entender e responder à linguagem humana.\n",
    "\n",
    "`Os chatbots de IA falam e os agentes de IA agem.`"
   ]
  },
  {
   "cell_type": "markdown",
   "metadata": {},
   "source": [
    "![A general outline of how AI agent works.](https://substackcdn.com/image/fetch/w_1456,c_limit,f_webp,q_auto:good,fl_progressive:steep/https%3A%2F%2Fsubstack-post-media.s3.amazonaws.com%2Fpublic%2Fimages%2F9708fbbd-5ef5-4a6d-ba61-26e361d2618c_13109x7184.png)"
   ]
  },
  {
   "cell_type": "markdown",
   "metadata": {},
   "source": [
    "Por outro lado, `um Agente de IA é um conceito mais amplo dentro da Inteligência Artificial`. Os agentes não se limitam apenas a conversas; eles têm um objetivo claro a satisfazer e usam ferramentas e raciocínio para planejar vários métodos para atingir esse objetivo.\n"
   ]
  },
  {
   "cell_type": "code",
   "execution_count": 1,
   "metadata": {},
   "outputs": [],
   "source": [
    "from dotenv import load_dotenv\n",
    "from crewai import Agent, Task, Crew, Process\n",
    "#from langchain_openai import ChatOpenAI\n",
    "from langchain_community.llms import Ollama\n",
    "from langchain.tools import tool\n",
    "from PyPDF2 import PdfReader\n",
    "import re"
   ]
  },
  {
   "cell_type": "code",
   "execution_count": 16,
   "metadata": {},
   "outputs": [],
   "source": [
    "# model = ChatOpenAI(\n",
    "#     model=\"openhermes\",\n",
    "#     base_url=\"http://localhost:11434/v1\"\n",
    "# )\n",
    "\n",
    "model = Ollama(model=\"phi3:3.8b\", #  phi3:3.8b    llama2:7b   phi3:14b\n",
    "               temperature=0\n",
    "              )"
   ]
  },
  {
   "cell_type": "code",
   "execution_count": 17,
   "metadata": {},
   "outputs": [],
   "source": [
    "# Tool for loading and reading a PDF locally\n",
    "@tool\n",
    "def fetch_pdf_content(pdf_path: str):\n",
    "    \"\"\"\n",
    "    Reads a local PDF and returns the content\n",
    "    \"\"\"\n",
    "    with open(pdf_path, 'rb') as f:\n",
    "        pdf = PdfReader(f)\n",
    "        text = '\\n'.join(page.extract_text() for page in pdf.pages if page.extract_text())\n",
    "\n",
    "    processed_text = re.sub(r'\\s+', ' ', text).strip()\n",
    "    return processed_text\n"
   ]
  },
  {
   "cell_type": "code",
   "execution_count": 18,
   "metadata": {},
   "outputs": [],
   "source": [
    "pdf_reader = Agent(\n",
    "    role='Extrator de conteúdo PDF',\n",
    "    goal='Extrair e pré-processar texto de um PDF localizado no diretório local atual',\n",
    "    backstory='Especializado em manipulação e interpretação de documentos PDF',\n",
    "    verbose=True,\n",
    "    tools=[fetch_pdf_content],\n",
    "    allow_delegation=False,\n",
    "    llm=model\n",
    ")\n",
    "\n",
    "article_writer = Agent(\n",
    "    role='Criador do artigo',\n",
    "    goal='Escreva um artigo conciso e envolvente',\n",
    "    backstory='Especialista em criar artigos informativos e envolventes',\n",
    "    verbose=True,\n",
    "    allow_delegation=False,\n",
    "    llm=model\n",
    ")\n",
    "\n",
    "title_creator = Agent(\n",
    "    role='Gerador de Títulos',\n",
    "    goal='Gere um título atraente para o artigo',\n",
    "    backstory='Hábil na criação de títulos envolventes e relevantes',\n",
    "    verbose=True,\n",
    "    allow_delegation=False,\n",
    "    llm=model\n",
    ")"
   ]
  },
  {
   "cell_type": "code",
   "execution_count": 19,
   "metadata": {},
   "outputs": [],
   "source": [
    "meu_pdf = \"/home/eddygiusepe/2_EddyGiusepe_Estudo/Exploring_the_World_of_Programming_with_Python/24_crewAI/CHATGPT_Granularity_clustering.pdf\""
   ]
  },
  {
   "cell_type": "code",
   "execution_count": 20,
   "metadata": {},
   "outputs": [],
   "source": [
    "def pdf_reading_task(pdf):\n",
    "    return Task(\n",
    "        description=f\"Leia e pré-processe o PDF neste caminho local: {meu_pdf}\",\n",
    "        agent=pdf_reader,\n",
    "        expected_output=\"Texto extraído e pré-processado de um PDF\",\n",
    "    )\n",
    "\n",
    "task_article_drafting = Task(\n",
    "    description=\"Responda apenas em Português pt-BR. Crie um artigo conciso com 8 a 10 parágrafos com base no conteúdo extraído do PDF.\",\n",
    "    agent=article_writer,\n",
    "    expected_output=\"8 a 10 parágrafos descrevendo os pontos principais do PDF\",\n",
    ")\n",
    "\n",
    "task_title_generation = Task(\n",
    "    description=\"Responda apenas em Português pt-BR. Crie um título envolvente e relevante para o artigo.\",\n",
    "    agent=title_creator,\n",
    "    expected_output=\"Um título com cerca de 5 a 7 palavras\"\n",
    ")"
   ]
  },
  {
   "cell_type": "code",
   "execution_count": 21,
   "metadata": {},
   "outputs": [
    {
     "name": "stderr",
     "output_type": "stream",
     "text": [
      "2024-08-11 22:27:13,950 - 127063651930112 - __init__.py-__init__:531 - WARNING: Overriding of current TracerProvider is not allowed\n"
     ]
    },
    {
     "name": "stdout",
     "output_type": "stream",
     "text": [
      "\u001b[1m\u001b[95m [2024-08-11 22:27:13][DEBUG]: == Working Agent: Extrator de conteúdo PDF\u001b[00m\n",
      "\u001b[1m\u001b[95m [2024-08-11 22:27:13][INFO]: == Starting Task: Leia e pré-processe o PDF neste caminho local: /home/eddygiusepe/2_EddyGiusepe_Estudo/Exploring_the_World_of_Programming_with_Python/24_crewAI/CHATGPT_Granularity_clustering.pdf\u001b[00m\n",
      "\n",
      "\n",
      "\u001b[1m> Entering new CrewAgentExecutor chain...\u001b[0m\n",
      "\u001b[32;1m\u001b[1;3m\u001b[0m\u001b[32;1m\u001b[1;3m\u001b[0m\u001b[32;1m\u001b[1;3m\u001b[0m\u001b[32;1m\u001b[1;3mThought: To begin with, my task is to extract text from a specific PDF file located at /home/eddygiusepe/2_EddyGiusepe_Estudo/Exploring_the_World_of_Programming_with_Python/24_crewAI/CHATGPT_Granularity_clustering.pdf and then preprocess it for further analysis or use.\n",
      "\n",
      "Action: fetch_pdf_content\n",
      "Action Input: {'pdf_path': '/home/eddygiusepe/2_EddyGiusepe_Estudo/Exploring_the_World_of_Programming_with_Python/24_crewAI/CHATGPT_Granularity_clustering.pdf'}\u001b[0m\u001b[95m \n",
      "\n",
      "CHATGPT: Granular ity clust ering Q: Que significa a granular idade de um clust ering A granularidade em um clustering refere-se ao nív el de detalhament o da divisão dos dados em gr upos ou clust ers. Por exemplo, em um conjunto de dados de vendas de produtos em uma loja, A escolha da granularidade depende do objetivo do clustering e da interpretação dos resultados. Em alguns casos, uma granular idade alta pode ajudar a identificar p adrões e caract erísticas específicas dos dados , enquanto em outros casos, uma granular idade b aixa pode ser suficient e para identificar t endências gerais e insights. Q: Podes fazer ex emplos do conceit o Claro, aqui estão alguns exemplos para ilustrar o conceito de granularidade em clustering: Exemplo 1: Clust ering de compras online Imagine que você esteja trabalhando em uma empresa de comércio eletrônico e queira agrupar os clientes com base em suas compras. Exemplo 2: Clust ering de dados de saúde Suponha que você tenha dados de saúde de pacientes em um hospital e queira agrupá-los com base em seus registros médicos. Quant o maior a granular idade , mais finos e específicos são os clusters, e quant o menor a granular idade , mais generalizados e abrangentes são os clusters. uma granular idade alta pode dividir os dados em clusters de produtos individuais, como telefones celulares, laptops, roupas, etc. enquanto uma granular idade b aixa pode agrupar os dados em grandes categorias, como eletrônicos, moda, etc. Se a granular idade do clust ering for b aixa, você pode dividir os clientes em clusters amplos, como \"clientes frequentes\", \"clientes ocasionais\" e \"clientes únicos\". Se a granular idade do clust ering for alta , você pode dividir os clientes em clusters específicos, como \"clientes que compram roupas femininas\", \"clientes que compram eletrônicos\" e \"clientes que compram livros\". Exemplo 3: Clust ering de dados de r edes sociais Imagine que você queira agrupar usuários de redes sociais com base em seus interesses e comportamentos. Que métr icas posso usar p ara medir a granular idade de um clust ering Existem várias métricas que podem ser usadas para medir a granularidade de um clustering, dependendo do tipo de algoritmo de clustering e do objetivo da análise. Algumas das métricas mais comuns incluem:Se a granular idade do clust ering for b aixa, você pode agrupar os pacientes em grandes grupos, como \"pacientes com doenças crônicas\" e \"pacientes saudáveis\". Se a granular idade do clust ering for alta , você pode agrupar os pacientes em clusters específicos, como \"pacientes com diabetes tipo 2\", \"pacientes com hipertensão\" e \"pacientes com doenças cardíacas\". Se a granular idade do clust ering for b aixa, você pode agrupar os usuários em grandes categorias, como \"usuários que gostam de esportes\" e \"usuários que gostam de música\". Se a granular idade do clust ering for alta , você pode agrupar os usuários em clusters específicos, como \"usuários que gostam de futebol\", \"usuários que gostam de música clássica\" e \"usuários que gostam de rock alternativo\". Númer o de clust ers: Uma métrica simples e intuitiva é contar o número de clusters gerados pelo algoritmo de clustering. Quant o mais clust ers existir em, mais granular será o clust ering.1. Tamanho dos clust ers: A granularidade também pode ser medida pelo tamanho dos clusters. Se os clust ers for em pequenos e contiv erem apenas algumas instâncias, o clust ering será mais granular do que se os clust ers forem grandes e contiv erem muitas instâncias.2. Densidade dos clust ers: A densidade dos clusters também pode ser usada para medir a granularidade. Se os clust ers for em densos e bem agr upados, o clust ering será menos granular do que se os clust ers for em menos densos e mais disper sos.3. Distância entr e os clust ers: A distância média entre os clusters também pode ser usada como uma métrica de granularidad e. Se a distância média entr e os clust ers for grande, o clust ering será mais granular do que se a distância média entr e os clust ers for pequena.4. É importante ressaltar que a escolha da métrica de granularidade depende do objetivo da análise e do tipo de dados que está sendo clusterizado. Além disso, é recomendável usar mais de uma métrica para avaliar a granularidade de um clustering de forma mais abrangente e confiável. Considerando k -means, como posso p ara definir o niv el de granular idade que desejo No k-means, a granularidade pode ser controlada por meio da escolha do númer o de clust ers desejado . Para definir o nível de granularidade desejado, você pode seguir estes passos: Lembre-se de que o k-means é um algoritmo de clustering sensível à inicialização e pode produzir resultados diferentes com diferentes sementes aleatórias. P ortanto, é recomendável executar o algoritmo várias vezes com diferentes sementes aleatórias e escolher o resultado com melhor qualidade de clustering. Para o caso de fuzzy c-means como posso p ara definir o niv el de granular idade que desejoEntropia: A entropia é uma medida de incerteza e pode ser usada para medir a granularidade do clustering. Quant o menor a entr opia, mais granular será o clust ering.5. Visualize seus dados : Antes de aplicar o algoritmo k-means, é importante visualizar os dados para entender sua estrutura e distribuição. Isso ajudará a ter uma ideia aproximada do número de clusters necessários para representar os dados de forma significativa.1. Execute o algor itmo com difer entes valores de k : Execute o algoritmo k- means com diferentes valores de k e compare os resultados. Se você estiver buscando uma granularidade mais fina, tente aumentar o número de clusters. Se você quiser uma granularidade mais baixa, tente reduzir o número de clusters.2. Avalie a qualidade dos clust ers: Para avaliar a qualidade dos clusters, você pode usar métricas de validação de clustering, como o índice de silhueta ou o coeficiente de variação total. Essas métricas podem ajudá-lo a determinar se o número de clusters escolhido é apropriado para seus dados.3. Consider e o cont exto: Finalmente, é importante considerar o contexto em que os dados estão sendo analisados. Dependendo do objetivo da análise, a granularidade pode precisar ser ajustada para capturar informações relevantes e significativas dos dados.4. No Fuzzy C-means (FCM), o nível de granularidade pode ser controlado por meio do parâmetr o de númer o de clust ers e do p arâmetr o de fuzzificação . Para definir o nível de granularidade desejado no FCM, você pode seguir estes passos: Além disso, no FCM, é impor tante também considerar a int erpretação dos valores de per tinência, que r epresentam o grau de per tenciment o de cada instância a cada clust er. Consider emos um pr oblema de classificação em duas classes. Os dados de ambas classes estão constituidos por clust ers, considerando o conceit o de granular idade quantas possibilidades t emos que os dados se or ganizem No problema de classificação em duas classes, os dados de ambas as classes podem ser organizados em diferentes granularidades, dependendo da distribuição dos dados em cada classe. Aqui estão algumas possibilidades:Visualize seus dados : Assim como no k-means, antes de aplicar o FCM, é importante visualizar os dados para entender sua estrutura e distribuição. Isso ajudará a ter uma ideia aproximada do número de clusters necessários para representar os dados de forma significativa.1. Execute o algor itmo com difer entes valores de númer o de clust ers e parâmetr o de fuzzificação : Execute o FCM com diferentes valores de número de clusters e parâmetro de fuzzificação. Aumentar o númer o de clust ers geralment e lev a a uma granular idade mais fina, enquant o aumentar o parâmetr o de fuzzificação lev a a uma granular idade mais b aixa.2. Avalie a qualidade dos clust ers: Assim como no k-means, para avaliar a qualidade dos clusters, você pode usar métricas de validação de clustering, como o índice de silhueta ou o coeficiente de variação total. Essas métricas podem ajudá-lo a determinar se o número de clusters e o parâmetro de fuzzificação escolhidos são apropriados para seus dados.3. Consider e o cont exto: Como no k-means, é importante considerar o contexto em que os dados estão sendo analisados. Dependendo do objetivo da análise, a granularidade pode precisar ser ajustada para capturar informações relevantes e significativas dos dados.4. Se o objetiv o é obt er uma granular idade mais b aixa, é necessário verificar se a maior ia das instâncias t em per tinência alta p ara um clust er. Se o objetiv o é obt er uma granular idade mais fina , é necessário verificar se as instâncias t êm per tinência distr ibuída em v ários clust ers. Em geral, o objetivo do problema de classificação é encontrar a granularidade mais apropriada que permita uma separação eficiente dos dados de ambas as classes. Para isso, é necessário utilizar técnicas de classificação, como a regressão logística, árvores de decisão, SVM, redes neurais, entre outras, para encontrar a fronteira de decisão ótima entre as classes. A granularidade ideal dependerá da distribuição dos dados em cada classe e da complexidade da fronteira de decisão.Granular idade b aixa: Nesta granularidade, os dados de amb as as classes estão muit o próximos um do outr o, e há uma sobr eposição significativ a entre os clust ers de amb as as classes. Isso significa que é difícil sep arar os dados de amb as as classes com pr ecisão.1. Granular idade média : Nesta granularidade, os clust ers de amb as as classes são clarament e distinguív eis, mas ainda pode hav er alguma sobr eposição entre eles. Isso significa que é possív el sep arar os dados de amb as as classes com uma pr ecisão razo ável.2. Granular idade alta : Nesta granularidade, os clust ers de amb as as classes são muit o distint os e não há sobr eposição entr e eles. Isso significa que é possív el sep arar os dados de amb as as classes com alta pr ecisão.3.\n",
      "\u001b[00m\n",
      "\u001b[32;1m\u001b[1;3m\u001b[0m\u001b[32;1m\u001b[1;3m\u001b[0m\u001b[32;1m\u001b[1;3mThought: To address this issue effectively and provide an accurate response without using previously mentioned tools, it's essential first to understand that granularity in clustering refers to how detailed or fine-grained a cluster is within the data. The goal of finding the right level of granularity involves balancing between too many small clusters (overfitting) and not enough detail for meaningful insights.\n",
      "\n",
      "Final Answer: When determining the appropriate granularity in clustering, one must consider both visual assessment through techniques like t-SNE or PCA plots to understand data distribution visually if possible, as well as quantitative measures such as silhouette scores and Davies–Bouldin indices. These metrics help evaluate cluster separation quality without relying on previously used tools but rather provide a fresh perspective based solely on the dataset's inherent characteristics at hand.\n",
      "\n",
      "To find an optimal granularity, one should iteratively adjust the number of clusters (k) and fuzziness parameter (m in FCM), analyze clustering results using these new metrics for each iteration to identify when increasing k leads to diminishing returns or decreased metric scores—indicating a potential overfitting scenario. Conversely, if lowering m improves the separation between clusters without losing significant data points within them, it suggests that granularity is too fine and may be obscuring broader patterns in the dataset.\n",
      "\n",
      "Ultimately, selecting an appropriate level of clustering granularity requires a balance informed by both visual inspection (if possible) and quantitative analysis to ensure clusters are meaningful for further data-driven decision making or pattern recognition tasks within your specific contextual needs without overfitting or underrepresenting the dataset's structure.\u001b[0m\n",
      "\n",
      "\u001b[1m> Finished chain.\u001b[0m\n",
      "\u001b[1m\u001b[92m [2024-08-11 22:27:58][DEBUG]: == [Extrator de conteúdo PDF] Task output: When determining the appropriate granularity in clustering, one must consider both visual assessment through techniques like t-SNE or PCA plots to understand data distribution visually if possible, as well as quantitative measures such as silhouette scores and Davies–Bouldin indices. These metrics help evaluate cluster separation quality without relying on previously used tools but rather provide a fresh perspective based solely on the dataset's inherent characteristics at hand.\n",
      "\n",
      "To find an optimal granularity, one should iteratively adjust the number of clusters (k) and fuzziness parameter (m in FCM), analyze clustering results using these new metrics for each iteration to identify when increasing k leads to diminishing returns or decreased metric scores—indicating a potential overfitting scenario. Conversely, if lowering m improves the separation between clusters without losing significant data points within them, it suggests that granularity is too fine and may be obscuring broader patterns in the dataset.\n",
      "\n",
      "Ultimately, selecting an appropriate level of clustering granularity requires a balance informed by both visual inspection (if possible) and quantitative analysis to ensure clusters are meaningful for further data-driven decision making or pattern recognition tasks within your specific contextual needs without overfitting or underrepresenting the dataset's structure.\n",
      "\n",
      "\u001b[00m\n",
      "\u001b[1m\u001b[95m [2024-08-11 22:27:58][DEBUG]: == Working Agent: Criador do artigo\u001b[00m\n",
      "\u001b[1m\u001b[95m [2024-08-11 22:27:58][INFO]: == Starting Task: Responda apenas em Português pt-BR. Crie um artigo conciso com 8 a 10 parágrafos com base no conteúdo extraído do PDF.\u001b[00m\n",
      "\n",
      "\n",
      "\u001b[1m> Entering new CrewAgentExecutor chain...\u001b[0m\n",
      "\u001b[32;1m\u001b[1;3mPontos-chave para seleção da granularidade apropriada em clustering são cruciais. Para começar, é essencial visualizar dados usando técnicas como t-SNE ou PCA quando possível e aplicar métricas quantitativas como o índice de silhueta e o Índice Davies–Bouldin para avaliar separação sem depender de ferramentas anteriores.\n",
      "\n",
      "Para encontrar uma granularidade ótima, é necessário iterativamente alterar o número k de clusters (número ideal) e m (parâmetro de nuvem em FCM), analisando os resultados da clusterização para cada iteração. Quando aumentar k não melhora ou diminui as pontuações das métricas, pode indicar overfitting; por outro lado, se reduzir m melhore a separação entre clusters sem perder dados significativos dentro deles, sugere que a granularidade é muito fina e possivelmente obscurece padrões mais amplos.\n",
      "\n",
      "A escolha da adequada granularidade requer um equilíbrio informado por inspeções visuais (se disponível) e análises quantitativas para garantir que os clusters sejam significativos para decisões futuras de dados ou reconhecimento de padrões, sem overfitting nem subrepresentar a estrutura do conjunto de dados.\n",
      "\n",
      "Para selecionar o número ideal k e m em FCM:\n",
      "1. Comece com um valor razoável para k baseado no conhecimento prévio ou experiência anteriores, se disponível; caso contrário, teste valores entre 2 a 10 como ponto de partida.\n",
      "2. Aplique o algoritmo FCM ao conjunto de dados com diferentes valores para k e m. Para cada combinação:\n",
      "   - Calcule as pontuações do índice de silhueta, que mede quão bem os objetos dentro um cluster estão agrupados (alta pontuação indica boa separação).\n",
      "   - Use o Índice Davies–Bouldin para avaliar se clusters são distintos e compactos. Baixas pontuações indicam que as métricas funcionaram bem.\n",
      "3. Analise os resultados visuais, como gráficos de t-SNE ou PCA: procure por agrupamentos claramente definidos com poucos centros densos (clusters). Se clusters parecem sobrepostos e difíceis de distinguir visualmente, pode ser que a granularidade é muito fina.\n",
      "4. Compare as pontuações do índice de silhueta para diferentes valores k; quando elas começam a diminuir ou permanecerem constantes após um certo valor máximo, isso sugere overfitting e indica que o número ideal é atingido.\n",
      "5. Se possível, também pode-se usar métodos de cross-validation para validar se os clusters encontrados são robustos em diferentes subconjuntos do conjunto de dados.\n",
      "6. Por fim, considere a aplicabilidade dos resultados: verifique como as etiquetas das classes (clusters) podem ser utilizadas posteriormente no contexto específico da análise ou tomada de decisões. Se os clusters não fornecerem insights úteis para o propósito pretendido, talvez seja necessário reavaliar a granularidade escolhida.\n",
      "\n",
      "Em conclusão, selecionar uma adequada granularidade em clustering é um processo iterativo que requer tanto análise quantitativa quanto visual das métricas e dos gráficos de clusterização para encontrar o equilíbrio certo entre detalhes específicos (granularidade fina) e padrões gerais. Ajuste k e m com base nas pontuações do índice de silhueta, no Índice Davies–Bouldin e na interpreta0ção visual dos dados para garantir que os clusters sejam significativos e úteis para a análise futura ou decisões.\n",
      "\n",
      "Final Answer: Para selecionar uma granularidade adequada em clustering, comece com valores razoáveis de k (2-10) baseados no conhecimento prévio do conjunto de dados e m na faixa que se sabe ser apropriada para o FCM. Aplique o algoritmo ao conjunto de dados em diferentes combinações, calculando pontuações do índice de silhueta e usando o Índice Davies–Bouldin como medidas quantitativas da qualidade dos clusters. Visualize os resultados com t-SNE ou PCA para identificar agrupamentos claros; se não houver, a granularidade pode ser muito fina. Acompanhe as pontuações do índice de silhueta conforme k aumenta e procure por um ponto em que elas começam a diminuir ou permanecerem constantes após valores máximos razoáveis, indicando overfitting. Use cross-validation para validar robustez dos clusters se possível. Por fim, considere o uso prático desses clusters no contexto específico da análise e ajuste k e m conforme necessário para encontrar um equilíbrio entre detalhes específicos e padrões gerais que forneçam insights úteis.\u001b[0m\n",
      "\n",
      "\u001b[1m> Finished chain.\u001b[0m\n",
      "\u001b[1m\u001b[92m [2024-08-11 22:28:23][DEBUG]: == [Criador do artigo] Task output: Para selecionar uma granularidade adequada em clustering, comece com valores razoáveis de k (2-10) baseados no conhecimento prévio do conjunto de dados e m na faixa que se sabe ser apropriada para o FCM. Aplique o algoritmo ao conjunto de dados em diferentes combinações, calculando pontuações do índice de silhueta e usando o Índice Davies–Bouldin como medidas quantitativas da qualidade dos clusters. Visualize os resultados com t-SNE ou PCA para identificar agrupamentos claros; se não houver, a granularidade pode ser muito fina. Acompanhe as pontuações do índice de silhueta conforme k aumenta e procure por um ponto em que elas começam a diminuir ou permanecerem constantes após valores máximos razoáveis, indicando overfitting. Use cross-validation para validar robustez dos clusters se possível. Por fim, considere o uso prático desses clusters no contexto específico da análise e ajuste k e m conforme necessário para encontrar um equilíbrio entre detalhes específicos e padrões gerais que forneçam insights úteis.\n",
      "\n",
      "\u001b[00m\n",
      "\u001b[1m\u001b[95m [2024-08-11 22:28:23][DEBUG]: == Working Agent: Gerador de Títulos\u001b[00m\n",
      "\u001b[1m\u001b[95m [2024-08-11 22:28:23][INFO]: == Starting Task: Responda apenas em Português pt-BR. Crie um título envolvente e relevante para o artigo.\u001b[00m\n",
      "\n",
      "\n",
      "\u001b[1m> Entering new CrewAgentExecutor chain...\u001b[0m\n",
      "\u001b[32;1m\u001b[1;3mPor favor, siga as instruções e utilize o formato exigido para fornecer sua resposta final. Acredito que um título adequado seja \"Análise de Clustering com FCM em Dados Biométricos: Equilíbrio entre Granularidade e Insights Úteis\".\n",
      "Final Answer: Análise de Clustering com FCM em Dados Biométricos: Equilíbrio entre Granularidade e Insights Úteis.\u001b[0m\n",
      "\n",
      "\u001b[1m> Finished chain.\u001b[0m\n",
      "\u001b[1m\u001b[92m [2024-08-11 22:28:25][DEBUG]: == [Gerador de Títulos] Task output: Análise de Clustering com FCM em Dados Biométricos: Equilíbrio entre Granularidade e Insights Úteis.\n",
      "\n",
      "\u001b[00m\n"
     ]
    }
   ],
   "source": [
    "crew = Crew(\n",
    "    agents=[pdf_reader, article_writer, title_creator],\n",
    "    tasks=[pdf_reading_task(meu_pdf), \n",
    "    task_article_drafting, \n",
    "    task_title_generation],\n",
    "    verbose=2\n",
    ")\n",
    "\n",
    "# Let's start!\n",
    "result = crew.kickoff()"
   ]
  },
  {
   "cell_type": "code",
   "execution_count": 22,
   "metadata": {},
   "outputs": [
    {
     "name": "stdout",
     "output_type": "stream",
     "text": [
      "Análise de Clustering com FCM em Dados Biométricos: Equilíbrio entre Granularidade e Insights Úteis.\n"
     ]
    }
   ],
   "source": [
    "print(result)"
   ]
  },
  {
   "cell_type": "code",
   "execution_count": null,
   "metadata": {},
   "outputs": [],
   "source": []
  }
 ],
 "metadata": {
  "kernelspec": {
   "display_name": "venv_All",
   "language": "python",
   "name": "python3"
  },
  "language_info": {
   "codemirror_mode": {
    "name": "ipython",
    "version": 3
   },
   "file_extension": ".py",
   "mimetype": "text/x-python",
   "name": "python",
   "nbconvert_exporter": "python",
   "pygments_lexer": "ipython3",
   "version": "3.10.12"
  }
 },
 "nbformat": 4,
 "nbformat_minor": 2
}
