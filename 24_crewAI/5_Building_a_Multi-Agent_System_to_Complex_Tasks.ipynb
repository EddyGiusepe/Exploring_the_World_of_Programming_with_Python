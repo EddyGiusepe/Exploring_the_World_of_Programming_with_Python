{
 "cells": [
  {
   "cell_type": "markdown",
   "metadata": {},
   "source": [
    "# <h1 align=\"center\"><font color=\"red\">Construindo um sistema multiagente para realizar tarefas complexas</font></h1>"
   ]
  },
  {
   "cell_type": "markdown",
   "metadata": {},
   "source": [
    "<font color=\"yellow\">Senior Data Scientist.: Dr. Eddy Giusepe Chirinos Isidro</font>"
   ]
  },
  {
   "cell_type": "markdown",
   "metadata": {},
   "source": [
    "Este Notebook está baseado no Tutorial de [Najib Sharifi](https://pub.towardsai.net/building-a-multi-agent-system-to-accomplish-complex-tasks-812aeedda4eb)."
   ]
  },
  {
   "cell_type": "markdown",
   "metadata": {},
   "source": [
    "# <font color=\"gree\">Construindo um Sistema Multiagente: Analista de Mudanças Climáticas</font>"
   ]
  },
  {
   "cell_type": "code",
   "execution_count": 4,
   "metadata": {},
   "outputs": [],
   "source": [
    "import os\n",
    "import openai\n",
    "from openai import OpenAI\n",
    "from crewai_tools import SerperDevTool\n",
    "from crewai import Agent, Task, Crew, Process\n",
    "\n",
    "import openai\n",
    "import os\n",
    "from dotenv import load_dotenv, find_dotenv\n",
    "_ = load_dotenv(find_dotenv()) # read local .env file\n",
    "Eddy_key_serpAPI  = os.environ['SERPAPI_API_KEY']\n",
    "Eddy_key_openai  = os.environ['OPENAI_API_KEY']\n",
    "\n",
    "#from openai import OpenAI\n",
    "#client = OpenAI(api_key=Eddy_key_openai)\n",
    "\n",
    "\n",
    "client = OpenAI(api_key=Eddy_key_openai)\n",
    "search_tool = SerperDevTool(api_key=Eddy_key_serpAPI)\n"
   ]
  },
  {
   "cell_type": "markdown",
   "metadata": {},
   "source": [
    "Definindo a `agent class`, cada agente terá uma função especializada, objetivo e história de fundo que atribuiremos mais tarde. O agente é capaz de armazenar a tarefa consultada, bem como a saída correspondente, permitindo a `memória de curto prazo`. Ele também pode enviar mensagens a todos os outros agentes, bem como ler mensagens enviadas de outros agentes."
   ]
  },
  {
   "cell_type": "code",
   "execution_count": 5,
   "metadata": {},
   "outputs": [],
   "source": [
    "class Agent:\n",
    "    def __init__(self, name, role, backstory, goal, tools=None):\n",
    "        self.name = name\n",
    "        self.backstory = backstory\n",
    "        self.goal = goal\n",
    "        self.role = role\n",
    "        self.memory = []\n",
    "        self.tools = tools if tools else []\n",
    "        self.message_box = []\n",
    "    # adding memory for the agent to store recent tasks and outputs \n",
    "    def add_to_memory(self, entry):\n",
    "        self.memory.append(entry)\n",
    "\n",
    "    # sending messages to other agents\n",
    "    def send_message(self, recipient, message):\n",
    "        recipient.message_box.append((self.name, message))\n",
    "    \n",
    "    # reading the messages sent from other agents before performing task\n",
    "    # this is done by removing messages from message box and added to memory\n",
    "    def read_messages(self):\n",
    "        while self.message_box:\n",
    "            sender, message = self.message_box.pop(0)\n",
    "            self.add_to_memory(f\"message from the {sender}: {message}\")\n",
    "\n",
    "    # we now define the function that will do the task assigned\n",
    "    # reading messages and adding task to the memory first\n",
    "    # the agent will take up the specialised role assigned and querry gpt3.5 \n",
    "\n",
    "    def do_task(self, task, inputs):\n",
    "        self.read_messages()         \n",
    "        task_info = task.info \n",
    "        self.add_to_memory(f\"doing task: {task_info}\")\n",
    "         \n",
    "        '''for the research agent, the search_tool will be assigned to the agent\n",
    "             which it will be able to use to do a google search online'''\n",
    "\n",
    "        if 'search_tool' in self.tools:\n",
    "            search_query = task_info\n",
    "            search_results = search_tool.run(query=search_query)\n",
    "            inputs['search_results'] = search_results\n",
    "            task_info += f\"\\n\\nsearch results:\\n{search_results}\"\n",
    "\n",
    "        llm_response = client.chat.completions.create(\n",
    "            model=\"gpt-3.5-turbo\",\n",
    "            messages=[\n",
    "                {\"role\": \"system\", \"content\": f\"you are a {self.role}. {self.backstory} Your goal is {self.goal}.\"},\n",
    "                {\"role\": \"user\", \"content\": task_info}\n",
    "            ]\n",
    "        )\n",
    "        output = llm_response.choices[0].message.content\n",
    "        self.add_to_memory(f\"task output: {output}\")\n",
    "\n",
    "        return output"
   ]
  },
  {
   "cell_type": "markdown",
   "metadata": {},
   "source": [
    "`The Architect`, cujo propósito é (além de criar a matriz, é claro) atribuir as tarefas aos agentes correspondentes e coordenar o fluxo de informações entre os agentes. Nesta estrutura, além da mensagem entre os agentes, o trabalho é em uma forma sequencial, ou seja, o trabalho de cada agente é passado para o próximo, não há delegação ou iteração das tarefas para os agentes. No entanto, o framework `crewai`, acho que ela tem essas propriedades que a tornam muito poderosa em suas capacidades."
   ]
  },
  {
   "cell_type": "code",
   "execution_count": 6,
   "metadata": {},
   "outputs": [],
   "source": [
    "class TheArchitect:\n",
    "    def __init__(self, agents, tasks):\n",
    "        # dictionary of all agents based on name \n",
    "        self.agents = {agent.name: agent for agent in agents}\n",
    "        self.tasks = tasks\n",
    "\n",
    "    def process(self, inputs):\n",
    "        results = {}\n",
    "        current_result = None\n",
    "\n",
    "        for task in self.tasks:\n",
    "            task_agent = self.agents[task.agent.name]\n",
    "            '''to help with debugging and also checking flow of info\n",
    "            we can check/print which tasks are assigned to which agent'''\n",
    "            print(f\"assignin task {task.name} to agent {task_agent.name}: {task.info}\")\n",
    "\n",
    "            if current_result:\n",
    "                inputs['previous_result'] = current_result\n",
    "\n",
    "            if 'search' in inputs:\n",
    "                search_query = inputs['search']\n",
    "                search_results = search_tool.run(query=search_query)\n",
    "                inputs['search_results'] = search_results\n",
    "\n",
    "            agent_output = task_agent.do_task(task, inputs)\n",
    "            current_result = agent_output\n",
    "\n",
    "            # send the agent's output as a message to all other agents\n",
    "            for agent_name, agent in self.agents.items():\n",
    "                if agent_name != task_agent.name:\n",
    "                    task_agent.send_message(agent, agent_output)\n",
    "\n",
    "            results[task.agent.name] = agent_output\n",
    "\n",
    "        return results\n",
    "    "
   ]
  },
  {
   "cell_type": "markdown",
   "metadata": {},
   "source": [
    "Agora que definimos a `classe de agentes` e a `classe de arquiteto`, vamos criar instâncias dessas classes para definir diferentes agentes com diferentes funções.\n",
    "\n",
    "Agora podemos definir todos os agentes e dar a eles nomes, papéis, objetivos, histórias de fundo e ferramentas. Esses agentes são apenas coletores de dados, cientistas de dados e escritores de relatórios. Nesse caso, temos apenas o pesquisador/coletor de dados com uma ferramenta.\n"
   ]
  },
  {
   "cell_type": "code",
   "execution_count": 8,
   "metadata": {},
   "outputs": [],
   "source": [
    "data_collector = Agent(\n",
    "    name=\"researcher\",\n",
    "    role=\"Climate Data Collector\",\n",
    "    goal=\"Collect comprehensive climate data from multiple sources.\",\n",
    "    backstory=\"You gather climate data on temperature, carbon dioxide levels and other variables relevant to climate change, from reliable sources.\",\n",
    "    tools=['search_tool']\n",
    ")\n",
    "\n",
    "data_analyst = Agent(\n",
    "    name=\"Data Scientist\",\n",
    "    role=\"Climate Data Scientist\",\n",
    "    goal=\"Analyse the collected climate data to identify significant trends.\",\n",
    "    backstory=\"You analyse climate data to find significant trends and understand the impact of various factors on climate change.\",\n",
    "    tools=[]\n",
    ")\n",
    "\n",
    "report_writer = Agent(\n",
    "    name=\"Report Writer\",\n",
    "    role=\"Senior Scientific Report Writer\",\n",
    "    goal=\"Generate a comprehensive report on climate change findings.\",\n",
    "    backstory=\"You write detailed scientific reports based on the analysed climate data, highlighting key findings and implications.\",\n",
    "    tools=[]\n",
    ")\n",
    "\n",
    "peer_reviewer = Agent(\n",
    "    name=\"Peer Reviewer\",\n",
    "    role=\"Scientific Peer Reviewer\",\n",
    "    goal=\"Review the scientific report for accuracy, clarity, and completeness.\",\n",
    "    backstory=\"You review scientific reports to ensure they are accurate, clear, and meet the standards for scientific publication.\",\n",
    "    tools=[]\n",
    ")\n",
    "\n",
    "final_report_writer = Agent(\n",
    "    name=\"Final Report Writer\",\n",
    "    role=\"Final Report Writer\",\n",
    "    goal=\"Incorporate peer review feedback and finalize the scientific report.\",\n",
    "    backstory=\"You finalize the scientific report by incorporating feedback from peer reviewer and ensure it is publication ready.\",\n",
    "    tools=[]\n",
    ")\n"
   ]
  },
  {
   "cell_type": "markdown",
   "metadata": {},
   "source": [
    "Precisamos dividir qualquer problema em uma série de tarefas e atribuir um agente a cada uma delas. A informação e o expected_output são críticos para fazer o agente se comportar e produzir o que você deseja do agente."
   ]
  },
  {
   "cell_type": "code",
   "execution_count": null,
   "metadata": {},
   "outputs": [],
   "source": [
    "\n",
    "analyse_data = Task(\n",
    "    info=(\n",
    "        \"Using the following climate data, analyze for trends and patterns:\\n{previous_result}\\n\"\n",
    "        \"1. Identify significant trends in temperature, CO2 levels, and precipitation.\\n\"\n",
    "        \"2. Determine potential causes of observed trends.\\n\"\n",
    "        \"3. Summarize key findings in a detailed analysis report.\"\n",
    "    ),\n",
    "    expected_output=\"Detailed analysis report on climate data trends and potential causes.\",\n",
    "    agent=data_analyst,\n",
    "    name=\"Data Analysis\",\n",
    "    type=\"Analysis\"\n",
    ")\n",
    "\n",
    "write_report = Task(\n",
    "    info=(\n",
    "        \"Using the following analysis report, write a comprehensive scientific report on climate change findings:\\n{previous_result}\\n\"\n",
    "        \"1. Include an introduction, methodology, results, discussion, and conclusion.\\n\"\n",
    "        \"2. Use clear and precise language suitable for a scientific audience.\\n\"\n",
    "        \"3. Ensure all findings are supported by data and analysis.\"\n",
    "    ),\n",
    "    expected_output=\"Comprehensive scientific report on climate change findings.\",\n",
    "    agent=report_writer,\n",
    "    name=\"Report Writing\",\n",
    "    type=\"writer\"\n",
    ")\n",
    "\n",
    "review_report = Task(\n",
    "    info=(\n",
    "        \"Using the following scientific report, review for accuracy, clarity, and completeness:\\n{previous_result}\\n\"\n",
    "        \"1. Ensure the report adheres to scientific standards.\\n\"\n",
    "        \"2. Check for any errors or inaccuracies in data and analysis.\\n\"\n",
    "        \"3. Provide feedback and suggestions for improvement.\"\n",
    "    ),\n",
    "    expected_output=\"Reviewed and revised scientific report, ready for publication.\",\n",
    "    agent=peer_reviewer,\n",
    "    name=\"Peer Review\"\n",
    ")\n",
    "\n",
    "finalize_report = Task(\n",
    "    info=(\n",
    "        \"Using the following peer-reviewed report, incorporate feedback and finalize the scientific report:\\n{previous_result}\\n\"\n",
    "        \"1. Address all feedback and suggestions provided by the peer reviewer.\\n\"\n",
    "        \"2. Ensure the report is polished and ready for publication.\\n\"\n",
    "        \"3. Provide the final version of the scientific report.\"\n",
    "    ),\n",
    "    expected_output=\"Finalized scientific report, ready for publication.\",\n",
    "    agent=final_report_writer,\n",
    "    name=\"Finalize Report\"\n",
    ")"
   ]
  },
  {
   "cell_type": "code",
   "execution_count": null,
   "metadata": {},
   "outputs": [],
   "source": []
  }
 ],
 "metadata": {
  "kernelspec": {
   "display_name": "venv_All",
   "language": "python",
   "name": "python3"
  },
  "language_info": {
   "codemirror_mode": {
    "name": "ipython",
    "version": 3
   },
   "file_extension": ".py",
   "mimetype": "text/x-python",
   "name": "python",
   "nbconvert_exporter": "python",
   "pygments_lexer": "ipython3",
   "version": "3.10.12"
  }
 },
 "nbformat": 4,
 "nbformat_minor": 2
}
