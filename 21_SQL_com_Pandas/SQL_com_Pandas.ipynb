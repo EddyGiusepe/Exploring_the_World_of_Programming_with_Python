{
 "cells": [
  {
   "cell_type": "markdown",
   "metadata": {},
   "source": [
    "# <h1 align=\"center\"><font color=\"red\">SQL Queries on Pandas DataFrames using Python</font></h1>"
   ]
  },
  {
   "cell_type": "markdown",
   "metadata": {},
   "source": [
    "<font color=\"yellow\">Data Scientist.: Dr. Eddy Giusepe Chirinos Isidro</font>"
   ]
  },
  {
   "cell_type": "markdown",
   "metadata": {},
   "source": [
    "# <font color=\"gree\">Exemplo 1:</font>"
   ]
  },
  {
   "cell_type": "code",
   "execution_count": 1,
   "metadata": {},
   "outputs": [
    {
     "data": {
      "text/html": [
       "<div>\n",
       "<style scoped>\n",
       "    .dataframe tbody tr th:only-of-type {\n",
       "        vertical-align: middle;\n",
       "    }\n",
       "\n",
       "    .dataframe tbody tr th {\n",
       "        vertical-align: top;\n",
       "    }\n",
       "\n",
       "    .dataframe thead th {\n",
       "        text-align: right;\n",
       "    }\n",
       "</style>\n",
       "<table border=\"1\" class=\"dataframe\">\n",
       "  <thead>\n",
       "    <tr style=\"text-align: right;\">\n",
       "      <th></th>\n",
       "      <th>Students</th>\n",
       "      <th>Gender</th>\n",
       "      <th>Age</th>\n",
       "      <th>Email</th>\n",
       "    </tr>\n",
       "  </thead>\n",
       "  <tbody>\n",
       "    <tr>\n",
       "      <th>0</th>\n",
       "      <td>Sira</td>\n",
       "      <td>Female</td>\n",
       "      <td>18</td>\n",
       "      <td>sira@info.com</td>\n",
       "    </tr>\n",
       "    <tr>\n",
       "      <th>1</th>\n",
       "      <td>Ibrahim</td>\n",
       "      <td>Male</td>\n",
       "      <td>27</td>\n",
       "      <td>ib@info.com</td>\n",
       "    </tr>\n",
       "    <tr>\n",
       "      <th>2</th>\n",
       "      <td>Moussa</td>\n",
       "      <td>Male</td>\n",
       "      <td>19</td>\n",
       "      <td>mouss@info.com</td>\n",
       "    </tr>\n",
       "    <tr>\n",
       "      <th>3</th>\n",
       "      <td>Mamadou</td>\n",
       "      <td>Male</td>\n",
       "      <td>22</td>\n",
       "      <td>mam@info.com</td>\n",
       "    </tr>\n",
       "    <tr>\n",
       "      <th>4</th>\n",
       "      <td>Nabintou</td>\n",
       "      <td>Female</td>\n",
       "      <td>21</td>\n",
       "      <td>nab@info.com</td>\n",
       "    </tr>\n",
       "  </tbody>\n",
       "</table>\n",
       "</div>"
      ],
      "text/plain": [
       "   Students  Gender  Age           Email\n",
       "0      Sira  Female   18   sira@info.com\n",
       "1   Ibrahim    Male   27     ib@info.com\n",
       "2    Moussa    Male   19  mouss@info.com\n",
       "3   Mamadou    Male   22    mam@info.com\n",
       "4  Nabintou  Female   21    nab@info.com"
      ]
     },
     "execution_count": 1,
     "metadata": {},
     "output_type": "execute_result"
    }
   ],
   "source": [
    "from pandasql import sqldf\n",
    "import pandas as pd\n",
    "\n",
    "\n",
    "# Criamos um DataFrame:\n",
    "students= {\n",
    "    'Students':[\"Sira\", \"Ibrahim\", \"Moussa\", \"Mamadou\", \"Nabintou\"],\n",
    "    'Gender':['Female', 'Male', 'Male', \"Male\", \"Female\"],\n",
    "    'Age':[18, 27, 19, 22, 21],\n",
    "    'Email': [\"sira@info.com\", \"ib@info.com\", \"mouss@info.com\", \n",
    "             \"mam@info.com\", \"nab@info.com\"]\n",
    "          }\n",
    "          \n",
    "students_df = pd.DataFrame(students)\n",
    "\n",
    "students_df\n",
    "\n"
   ]
  },
  {
   "cell_type": "code",
   "execution_count": 2,
   "metadata": {},
   "outputs": [
    {
     "data": {
      "text/html": [
       "<div>\n",
       "<style scoped>\n",
       "    .dataframe tbody tr th:only-of-type {\n",
       "        vertical-align: middle;\n",
       "    }\n",
       "\n",
       "    .dataframe tbody tr th {\n",
       "        vertical-align: top;\n",
       "    }\n",
       "\n",
       "    .dataframe thead th {\n",
       "        text-align: right;\n",
       "    }\n",
       "</style>\n",
       "<table border=\"1\" class=\"dataframe\">\n",
       "  <thead>\n",
       "    <tr style=\"text-align: right;\">\n",
       "      <th></th>\n",
       "      <th>Teacher</th>\n",
       "      <th>Email</th>\n",
       "      <th>Degree</th>\n",
       "      <th>Department</th>\n",
       "    </tr>\n",
       "  </thead>\n",
       "  <tbody>\n",
       "    <tr>\n",
       "      <th>0</th>\n",
       "      <td>Ibrahim</td>\n",
       "      <td>ib@info.com</td>\n",
       "      <td>M.S in Data Science</td>\n",
       "      <td>Business</td>\n",
       "    </tr>\n",
       "    <tr>\n",
       "      <th>1</th>\n",
       "      <td>Nabintou</td>\n",
       "      <td>nab@info.com</td>\n",
       "      <td>B.S in Statistics</td>\n",
       "      <td>Statistics</td>\n",
       "    </tr>\n",
       "    <tr>\n",
       "      <th>2</th>\n",
       "      <td>Mamadou</td>\n",
       "      <td>mam@info.com</td>\n",
       "      <td>B. Comp Sc</td>\n",
       "      <td>Comp Sc</td>\n",
       "    </tr>\n",
       "    <tr>\n",
       "      <th>3</th>\n",
       "      <td>Fatim</td>\n",
       "      <td>fat@info.com</td>\n",
       "      <td>M.S. Architecture</td>\n",
       "      <td>Engineering</td>\n",
       "    </tr>\n",
       "    <tr>\n",
       "      <th>4</th>\n",
       "      <td>Aziz</td>\n",
       "      <td>aziz@info.com</td>\n",
       "      <td>B.S in Accounting</td>\n",
       "      <td>Business</td>\n",
       "    </tr>\n",
       "  </tbody>\n",
       "</table>\n",
       "</div>"
      ],
      "text/plain": [
       "    Teacher          Email               Degree   Department\n",
       "0   Ibrahim    ib@info.com  M.S in Data Science     Business\n",
       "1  Nabintou   nab@info.com    B.S in Statistics   Statistics\n",
       "2   Mamadou   mam@info.com           B. Comp Sc      Comp Sc\n",
       "3     Fatim   fat@info.com    M.S. Architecture  Engineering\n",
       "4      Aziz  aziz@info.com    B.S in Accounting     Business"
      ]
     },
     "execution_count": 2,
     "metadata": {},
     "output_type": "execute_result"
    }
   ],
   "source": [
    "# Criamos um DataFrame de Assistente de Ensino:\n",
    "teaching_assistant= {\n",
    "    'Teacher':[\"Ibrahim\",\"Nabintou\",\"Mamadou\",\"Fatim\",\"Aziz\"],\n",
    "    'Email':['ib@info.com','nab@info.com','mam@info.com', \n",
    "             \"fat@info.com\", \"aziz@info.com\"],\n",
    "    'Degree':[\"M.S in Data Science\", \"B.S in Statistics\", \n",
    "              \"B. Comp Sc\", \"M.S. Architecture\", \"B.S in Accounting\"],\n",
    "    'Department': [\"Business\", \"Statistics\", \"Comp Sc\", \n",
    "             \"Engineering\", \"Business\"]\n",
    "          }\n",
    "teaching_assistant_df = pd.DataFrame(teaching_assistant)\n",
    "\n",
    "teaching_assistant_df"
   ]
  },
  {
   "cell_type": "markdown",
   "metadata": {},
   "source": [
    "## <font color=\"pink\">Seleção de dados</font>"
   ]
  },
  {
   "cell_type": "code",
   "execution_count": 3,
   "metadata": {},
   "outputs": [
    {
     "data": {
      "text/html": [
       "<div>\n",
       "<style scoped>\n",
       "    .dataframe tbody tr th:only-of-type {\n",
       "        vertical-align: middle;\n",
       "    }\n",
       "\n",
       "    .dataframe tbody tr th {\n",
       "        vertical-align: top;\n",
       "    }\n",
       "\n",
       "    .dataframe thead th {\n",
       "        text-align: right;\n",
       "    }\n",
       "</style>\n",
       "<table border=\"1\" class=\"dataframe\">\n",
       "  <thead>\n",
       "    <tr style=\"text-align: right;\">\n",
       "      <th></th>\n",
       "      <th>Students</th>\n",
       "      <th>Gender</th>\n",
       "      <th>Age</th>\n",
       "      <th>Email</th>\n",
       "    </tr>\n",
       "  </thead>\n",
       "  <tbody>\n",
       "    <tr>\n",
       "      <th>0</th>\n",
       "      <td>Sira</td>\n",
       "      <td>Female</td>\n",
       "      <td>18</td>\n",
       "      <td>sira@info.com</td>\n",
       "    </tr>\n",
       "    <tr>\n",
       "      <th>1</th>\n",
       "      <td>Ibrahim</td>\n",
       "      <td>Male</td>\n",
       "      <td>27</td>\n",
       "      <td>ib@info.com</td>\n",
       "    </tr>\n",
       "    <tr>\n",
       "      <th>2</th>\n",
       "      <td>Moussa</td>\n",
       "      <td>Male</td>\n",
       "      <td>19</td>\n",
       "      <td>mouss@info.com</td>\n",
       "    </tr>\n",
       "    <tr>\n",
       "      <th>3</th>\n",
       "      <td>Mamadou</td>\n",
       "      <td>Male</td>\n",
       "      <td>22</td>\n",
       "      <td>mam@info.com</td>\n",
       "    </tr>\n",
       "    <tr>\n",
       "      <th>4</th>\n",
       "      <td>Nabintou</td>\n",
       "      <td>Female</td>\n",
       "      <td>21</td>\n",
       "      <td>nab@info.com</td>\n",
       "    </tr>\n",
       "  </tbody>\n",
       "</table>\n",
       "</div>"
      ],
      "text/plain": [
       "   Students  Gender  Age           Email\n",
       "0      Sira  Female   18   sira@info.com\n",
       "1   Ibrahim    Male   27     ib@info.com\n",
       "2    Moussa    Male   19  mouss@info.com\n",
       "3   Mamadou    Male   22    mam@info.com\n",
       "4  Nabintou  Female   21    nab@info.com"
      ]
     },
     "execution_count": 3,
     "metadata": {},
     "output_type": "execute_result"
    }
   ],
   "source": [
    "# Podemos obter todos os dados das colunas da seguinte forma:\n",
    "all_students = sqldf(\"SELECT * FROM students_df\")\n",
    "all_students"
   ]
  },
  {
   "cell_type": "code",
   "execution_count": 4,
   "metadata": {},
   "outputs": [
    {
     "name": "stdout",
     "output_type": "stream",
     "text": [
      "<class 'pandas.core.frame.DataFrame'>\n",
      "------------------------------\n",
      "Students    object\n",
      "Gender      object\n",
      "Age          int64\n",
      "Email       object\n",
      "dtype: object\n"
     ]
    }
   ],
   "source": [
    "print(type(all_students))\n",
    "print(\"---\"*10)\n",
    "print(all_students.dtypes)"
   ]
  },
  {
   "cell_type": "code",
   "execution_count": 10,
   "metadata": {},
   "outputs": [
    {
     "data": {
      "text/html": [
       "<div>\n",
       "<style scoped>\n",
       "    .dataframe tbody tr th:only-of-type {\n",
       "        vertical-align: middle;\n",
       "    }\n",
       "\n",
       "    .dataframe tbody tr th {\n",
       "        vertical-align: top;\n",
       "    }\n",
       "\n",
       "    .dataframe thead th {\n",
       "        text-align: right;\n",
       "    }\n",
       "</style>\n",
       "<table border=\"1\" class=\"dataframe\">\n",
       "  <thead>\n",
       "    <tr style=\"text-align: right;\">\n",
       "      <th></th>\n",
       "      <th>Students</th>\n",
       "      <th>Email</th>\n",
       "    </tr>\n",
       "  </thead>\n",
       "  <tbody>\n",
       "    <tr>\n",
       "      <th>0</th>\n",
       "      <td>Sira</td>\n",
       "      <td>sira@info.com</td>\n",
       "    </tr>\n",
       "    <tr>\n",
       "      <th>1</th>\n",
       "      <td>Ibrahim</td>\n",
       "      <td>ib@info.com</td>\n",
       "    </tr>\n",
       "    <tr>\n",
       "      <th>2</th>\n",
       "      <td>Moussa</td>\n",
       "      <td>mouss@info.com</td>\n",
       "    </tr>\n",
       "  </tbody>\n",
       "</table>\n",
       "</div>"
      ],
      "text/plain": [
       "  Students           Email\n",
       "0     Sira   sira@info.com\n",
       "1  Ibrahim     ib@info.com\n",
       "2   Moussa  mouss@info.com"
      ]
     },
     "execution_count": 10,
     "metadata": {},
     "output_type": "execute_result"
    }
   ],
   "source": [
    "# Selecione o nome do aluno e e-mail\n",
    "query = \"\"\" SELECT Students, Email \n",
    "            FROM students_df \n",
    "            LIMIT 3\n",
    "        \"\"\"\n",
    "name_email = sqldf(query)\n",
    "name_email"
   ]
  },
  {
   "cell_type": "code",
   "execution_count": 8,
   "metadata": {},
   "outputs": [
    {
     "data": {
      "text/html": [
       "<div>\n",
       "<style scoped>\n",
       "    .dataframe tbody tr th:only-of-type {\n",
       "        vertical-align: middle;\n",
       "    }\n",
       "\n",
       "    .dataframe tbody tr th {\n",
       "        vertical-align: top;\n",
       "    }\n",
       "\n",
       "    .dataframe thead th {\n",
       "        text-align: right;\n",
       "    }\n",
       "</style>\n",
       "<table border=\"1\" class=\"dataframe\">\n",
       "  <thead>\n",
       "    <tr style=\"text-align: right;\">\n",
       "      <th></th>\n",
       "      <th>Students</th>\n",
       "      <th>Email</th>\n",
       "      <th>Gender</th>\n",
       "    </tr>\n",
       "  </thead>\n",
       "  <tbody>\n",
       "    <tr>\n",
       "      <th>0</th>\n",
       "      <td>Sira</td>\n",
       "      <td>sira@info.com</td>\n",
       "      <td>Female</td>\n",
       "    </tr>\n",
       "    <tr>\n",
       "      <th>1</th>\n",
       "      <td>Ibrahim</td>\n",
       "      <td>ib@info.com</td>\n",
       "      <td>Male</td>\n",
       "    </tr>\n",
       "  </tbody>\n",
       "</table>\n",
       "</div>"
      ],
      "text/plain": [
       "  Students          Email  Gender\n",
       "0     Sira  sira@info.com  Female\n",
       "1  Ibrahim    ib@info.com    Male"
      ]
     },
     "execution_count": 8,
     "metadata": {},
     "output_type": "execute_result"
    }
   ],
   "source": [
    "# Selecione o nome do aluno, e-mail e sexo:\n",
    "query = \"\"\"SELECT Students, Email, Gender\n",
    "           FROM students_df\n",
    "           LIMIT 2\n",
    "        \"\"\"\n",
    "selection = sqldf(query)\n",
    "selection"
   ]
  },
  {
   "cell_type": "markdown",
   "metadata": {},
   "source": [
    "## <font color=\"pink\">Filtragem de dados</font>"
   ]
  },
  {
   "cell_type": "code",
   "execution_count": 18,
   "metadata": {},
   "outputs": [
    {
     "data": {
      "text/html": [
       "<div>\n",
       "<style scoped>\n",
       "    .dataframe tbody tr th:only-of-type {\n",
       "        vertical-align: middle;\n",
       "    }\n",
       "\n",
       "    .dataframe tbody tr th {\n",
       "        vertical-align: top;\n",
       "    }\n",
       "\n",
       "    .dataframe thead th {\n",
       "        text-align: right;\n",
       "    }\n",
       "</style>\n",
       "<table border=\"1\" class=\"dataframe\">\n",
       "  <thead>\n",
       "    <tr style=\"text-align: right;\">\n",
       "      <th></th>\n",
       "      <th>Students</th>\n",
       "      <th>Gender</th>\n",
       "      <th>Age</th>\n",
       "      <th>Email</th>\n",
       "    </tr>\n",
       "  </thead>\n",
       "  <tbody>\n",
       "    <tr>\n",
       "      <th>0</th>\n",
       "      <td>Sira</td>\n",
       "      <td>Female</td>\n",
       "      <td>18</td>\n",
       "      <td>sira@info.com</td>\n",
       "    </tr>\n",
       "    <tr>\n",
       "      <th>1</th>\n",
       "      <td>Nabintou</td>\n",
       "      <td>Female</td>\n",
       "      <td>21</td>\n",
       "      <td>nab@info.com</td>\n",
       "    </tr>\n",
       "  </tbody>\n",
       "</table>\n",
       "</div>"
      ],
      "text/plain": [
       "   Students  Gender  Age          Email\n",
       "0      Sira  Female   18  sira@info.com\n",
       "1  Nabintou  Female   21   nab@info.com"
      ]
     },
     "execution_count": 18,
     "metadata": {},
     "output_type": "execute_result"
    }
   ],
   "source": [
    "query = \"\"\"SELECT * \n",
    "           FROM students_df \n",
    "           WHERE Gender = 'Female';\n",
    "        \"\"\"\n",
    "\n",
    "female_student = sqldf(query)\n",
    "female_student"
   ]
  },
  {
   "cell_type": "code",
   "execution_count": 17,
   "metadata": {},
   "outputs": [
    {
     "data": {
      "text/html": [
       "<div>\n",
       "<style scoped>\n",
       "    .dataframe tbody tr th:only-of-type {\n",
       "        vertical-align: middle;\n",
       "    }\n",
       "\n",
       "    .dataframe tbody tr th {\n",
       "        vertical-align: top;\n",
       "    }\n",
       "\n",
       "    .dataframe thead th {\n",
       "        text-align: right;\n",
       "    }\n",
       "</style>\n",
       "<table border=\"1\" class=\"dataframe\">\n",
       "  <thead>\n",
       "    <tr style=\"text-align: right;\">\n",
       "      <th></th>\n",
       "      <th>Teacher</th>\n",
       "      <th>Email</th>\n",
       "      <th>Degree</th>\n",
       "    </tr>\n",
       "  </thead>\n",
       "  <tbody>\n",
       "    <tr>\n",
       "      <th>0</th>\n",
       "      <td>Ibrahim</td>\n",
       "      <td>ib@info.com</td>\n",
       "      <td>M.S in Data Science</td>\n",
       "    </tr>\n",
       "    <tr>\n",
       "      <th>1</th>\n",
       "      <td>Fatim</td>\n",
       "      <td>fat@info.com</td>\n",
       "      <td>M.S. Architecture</td>\n",
       "    </tr>\n",
       "  </tbody>\n",
       "</table>\n",
       "</div>"
      ],
      "text/plain": [
       "   Teacher         Email               Degree\n",
       "0  Ibrahim   ib@info.com  M.S in Data Science\n",
       "1    Fatim  fat@info.com    M.S. Architecture"
      ]
     },
     "execution_count": 17,
     "metadata": {},
     "output_type": "execute_result"
    }
   ],
   "source": [
    "# Selecione nome, sexo e e-mail de todos os alunos de mestrado:\n",
    "query = \"\"\" SELECT Teacher, Email, Degree \n",
    "            FROM teaching_assistant_df \n",
    "            WHERE Degree LIKE 'M.S%';\n",
    "        \"\"\"\n",
    "# 'M.S%': Esta é a expressão que define o padrão que estamos procurando. Caracteres Curinga --> `%`: Representa zero ou mais caracteres de qualquer tipo ou `_`: Representa um único caractere de qualquer tipo.\n",
    "ms_students = sqldf(query)\n",
    "ms_students"
   ]
  },
  {
   "cell_type": "markdown",
   "metadata": {},
   "source": [
    "<font color=\"orange\">Com pandas seria, assim:</font>"
   ]
  },
  {
   "cell_type": "code",
   "execution_count": 13,
   "metadata": {},
   "outputs": [
    {
     "data": {
      "text/html": [
       "<div>\n",
       "<style scoped>\n",
       "    .dataframe tbody tr th:only-of-type {\n",
       "        vertical-align: middle;\n",
       "    }\n",
       "\n",
       "    .dataframe tbody tr th {\n",
       "        vertical-align: top;\n",
       "    }\n",
       "\n",
       "    .dataframe thead th {\n",
       "        text-align: right;\n",
       "    }\n",
       "</style>\n",
       "<table border=\"1\" class=\"dataframe\">\n",
       "  <thead>\n",
       "    <tr style=\"text-align: right;\">\n",
       "      <th></th>\n",
       "      <th>Teacher</th>\n",
       "      <th>Email</th>\n",
       "      <th>Degree</th>\n",
       "    </tr>\n",
       "  </thead>\n",
       "  <tbody>\n",
       "    <tr>\n",
       "      <th>0</th>\n",
       "      <td>Ibrahim</td>\n",
       "      <td>ib@info.com</td>\n",
       "      <td>M.S in Data Science</td>\n",
       "    </tr>\n",
       "    <tr>\n",
       "      <th>3</th>\n",
       "      <td>Fatim</td>\n",
       "      <td>fat@info.com</td>\n",
       "      <td>M.S. Architecture</td>\n",
       "    </tr>\n",
       "  </tbody>\n",
       "</table>\n",
       "</div>"
      ],
      "text/plain": [
       "   Teacher         Email               Degree\n",
       "0  Ibrahim   ib@info.com  M.S in Data Science\n",
       "3    Fatim  fat@info.com    M.S. Architecture"
      ]
     },
     "execution_count": 13,
     "metadata": {},
     "output_type": "execute_result"
    }
   ],
   "source": [
    "cols_to_get = ['Teacher', 'Email', 'Degree']\n",
    "\n",
    "teaching_assistant_df[teaching_assistant_df.Degree.str.startswith('M.S')][cols_to_get]"
   ]
  },
  {
   "cell_type": "markdown",
   "metadata": {},
   "source": [
    "## <font color=\"pink\">Agregação de dados</font>"
   ]
  },
  {
   "cell_type": "code",
   "execution_count": 16,
   "metadata": {},
   "outputs": [
    {
     "data": {
      "text/html": [
       "<div>\n",
       "<style scoped>\n",
       "    .dataframe tbody tr th:only-of-type {\n",
       "        vertical-align: middle;\n",
       "    }\n",
       "\n",
       "    .dataframe tbody tr th {\n",
       "        vertical-align: top;\n",
       "    }\n",
       "\n",
       "    .dataframe thead th {\n",
       "        text-align: right;\n",
       "    }\n",
       "</style>\n",
       "<table border=\"1\" class=\"dataframe\">\n",
       "  <thead>\n",
       "    <tr style=\"text-align: right;\">\n",
       "      <th></th>\n",
       "      <th>AVG(Age)</th>\n",
       "      <th>Gender</th>\n",
       "    </tr>\n",
       "  </thead>\n",
       "  <tbody>\n",
       "    <tr>\n",
       "      <th>0</th>\n",
       "      <td>19.500000</td>\n",
       "      <td>Female</td>\n",
       "    </tr>\n",
       "    <tr>\n",
       "      <th>1</th>\n",
       "      <td>22.666667</td>\n",
       "      <td>Male</td>\n",
       "    </tr>\n",
       "  </tbody>\n",
       "</table>\n",
       "</div>"
      ],
      "text/plain": [
       "    AVG(Age)  Gender\n",
       "0  19.500000  Female\n",
       "1  22.666667    Male"
      ]
     },
     "execution_count": 16,
     "metadata": {},
     "output_type": "execute_result"
    }
   ],
   "source": [
    "# Obtenha a idade média em termos de gênero:\n",
    "query = \"\"\" SELECT AVG(Age), Gender \n",
    "            FROM students_df \n",
    "            GROUP BY Gender;\n",
    "        \"\"\"\n",
    "avg_age = sqldf(query)\n",
    "avg_age"
   ]
  },
  {
   "cell_type": "code",
   "execution_count": 19,
   "metadata": {},
   "outputs": [
    {
     "data": {
      "text/html": [
       "<div>\n",
       "<style scoped>\n",
       "    .dataframe tbody tr th:only-of-type {\n",
       "        vertical-align: middle;\n",
       "    }\n",
       "\n",
       "    .dataframe tbody tr th {\n",
       "        vertical-align: top;\n",
       "    }\n",
       "\n",
       "    .dataframe thead th {\n",
       "        text-align: right;\n",
       "    }\n",
       "</style>\n",
       "<table border=\"1\" class=\"dataframe\">\n",
       "  <thead>\n",
       "    <tr style=\"text-align: right;\">\n",
       "      <th></th>\n",
       "      <th>Department</th>\n",
       "      <th>Depart_Count</th>\n",
       "    </tr>\n",
       "  </thead>\n",
       "  <tbody>\n",
       "    <tr>\n",
       "      <th>0</th>\n",
       "      <td>Business</td>\n",
       "      <td>2</td>\n",
       "    </tr>\n",
       "    <tr>\n",
       "      <th>1</th>\n",
       "      <td>Statistics</td>\n",
       "      <td>1</td>\n",
       "    </tr>\n",
       "    <tr>\n",
       "      <th>2</th>\n",
       "      <td>Engineering</td>\n",
       "      <td>1</td>\n",
       "    </tr>\n",
       "    <tr>\n",
       "      <th>3</th>\n",
       "      <td>Comp Sc</td>\n",
       "      <td>1</td>\n",
       "    </tr>\n",
       "  </tbody>\n",
       "</table>\n",
       "</div>"
      ],
      "text/plain": [
       "    Department  Depart_Count\n",
       "0     Business             2\n",
       "1   Statistics             1\n",
       "2  Engineering             1\n",
       "3      Comp Sc             1"
      ]
     },
     "execution_count": 19,
     "metadata": {},
     "output_type": "execute_result"
    }
   ],
   "source": [
    "# Conte o número de ocorrências de cada departamento:\n",
    "query = \"\"\" SELECT Department, COUNT(*) as Depart_Count\n",
    "            FROM teaching_assistant_df \n",
    "            GROUP BY Department\n",
    "            ORDER BY Depart_Count DESC;\n",
    "        \"\"\"\n",
    "\n",
    "depart_count = sqldf(query)\n",
    "depart_count"
   ]
  },
  {
   "cell_type": "markdown",
   "metadata": {},
   "source": [
    "## <font color=\"pink\">Joins</font>"
   ]
  },
  {
   "cell_type": "code",
   "execution_count": 20,
   "metadata": {},
   "outputs": [
    {
     "data": {
      "text/html": [
       "<div>\n",
       "<style scoped>\n",
       "    .dataframe tbody tr th:only-of-type {\n",
       "        vertical-align: middle;\n",
       "    }\n",
       "\n",
       "    .dataframe tbody tr th {\n",
       "        vertical-align: top;\n",
       "    }\n",
       "\n",
       "    .dataframe thead th {\n",
       "        text-align: right;\n",
       "    }\n",
       "</style>\n",
       "<table border=\"1\" class=\"dataframe\">\n",
       "  <thead>\n",
       "    <tr style=\"text-align: right;\">\n",
       "      <th></th>\n",
       "      <th>Students</th>\n",
       "      <th>Gender</th>\n",
       "      <th>Email</th>\n",
       "      <th>Age</th>\n",
       "      <th>Department</th>\n",
       "    </tr>\n",
       "  </thead>\n",
       "  <tbody>\n",
       "    <tr>\n",
       "      <th>0</th>\n",
       "      <td>Ibrahim</td>\n",
       "      <td>Male</td>\n",
       "      <td>ib@info.com</td>\n",
       "      <td>27</td>\n",
       "      <td>Business</td>\n",
       "    </tr>\n",
       "    <tr>\n",
       "      <th>1</th>\n",
       "      <td>Mamadou</td>\n",
       "      <td>Male</td>\n",
       "      <td>mam@info.com</td>\n",
       "      <td>22</td>\n",
       "      <td>Comp Sc</td>\n",
       "    </tr>\n",
       "    <tr>\n",
       "      <th>2</th>\n",
       "      <td>Nabintou</td>\n",
       "      <td>Female</td>\n",
       "      <td>nab@info.com</td>\n",
       "      <td>21</td>\n",
       "      <td>Statistics</td>\n",
       "    </tr>\n",
       "  </tbody>\n",
       "</table>\n",
       "</div>"
      ],
      "text/plain": [
       "   Students  Gender         Email  Age  Department\n",
       "0   Ibrahim    Male   ib@info.com   27    Business\n",
       "1   Mamadou    Male  mam@info.com   22     Comp Sc\n",
       "2  Nabintou  Female  nab@info.com   21  Statistics"
      ]
     },
     "execution_count": 20,
     "metadata": {},
     "output_type": "execute_result"
    }
   ],
   "source": [
    "# Selecione alunos que são assistentes de professores (Teacher assistants) junto com seus departamentos:\n",
    "query = \"\"\" SELECT st.Students, st.Gender, st.Email, st.Age, tat.Department\n",
    "            FROM students_df st INNER JOIN teaching_assistant_df tat \n",
    "            ON st.Email = tat.Email;\n",
    "            \"\"\"\n",
    "\n",
    "result = sqldf(query)\n",
    "result"
   ]
  }
 ],
 "metadata": {
  "kernelspec": {
   "display_name": "venv_All",
   "language": "python",
   "name": "python3"
  },
  "language_info": {
   "codemirror_mode": {
    "name": "ipython",
    "version": 3
   },
   "file_extension": ".py",
   "mimetype": "text/x-python",
   "name": "python",
   "nbconvert_exporter": "python",
   "pygments_lexer": "ipython3",
   "version": "3.10.12"
  }
 },
 "nbformat": 4,
 "nbformat_minor": 2
}
