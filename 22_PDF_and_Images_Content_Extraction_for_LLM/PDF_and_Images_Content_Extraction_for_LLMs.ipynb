{
 "cells": [
  {
   "cell_type": "markdown",
   "metadata": {},
   "source": [
    "# <h1 align=\"center\"><font color=\"red\">Extracting text from PDFs and images with LLMs or OCR models</font></h1>"
   ]
  },
  {
   "cell_type": "markdown",
   "metadata": {},
   "source": [
    "### <font color=\"gree\">Data Scientist.: Dr. Eddy Giusepe Chirinos Isidro</font>"
   ]
  },
  {
   "cell_type": "markdown",
   "metadata": {},
   "source": [
    "Neste Notebook exploro algumas ferramentas populares de análise de `PDFs` ou Imagens de texto para extração eficiente de informações.\n",
    "Faço este estudo de várias ferramentas para posteriormente tomar uma decisão e escolher a melhor delas.\n",
    "\n",
    "Alguns links para mais detalhes:\n",
    "\n",
    "* [Jaided AI: EasyOCR](https://www.jaided.ai/easyocr/tutorial/)\n",
    "* [GitHub: EasyOCR](https://github.com/JaidedAI/EasyOCR?tab=readme-ov-file)"
   ]
  },
  {
   "cell_type": "code",
   "execution_count": null,
   "metadata": {
    "ExecuteTime": {
     "end_time": "2024-07-10T21:26:54.977177Z",
     "start_time": "2024-07-10T21:26:54.454199Z"
    },
    "code_folding": []
   },
   "outputs": [],
   "source": [
    "#!pip install -r requirements.txt\n",
    "#!pip freeze > requirements.txt"
   ]
  },
  {
   "cell_type": "markdown",
   "metadata": {
    "heading_collapsed": true,
    "jp-MarkdownHeadingCollapsed": true
   },
   "source": [
    "# <font color=\"pink\">pypdfium2</font>"
   ]
  },
  {
   "cell_type": "code",
   "execution_count": null,
   "metadata": {
    "code_folding": [],
    "hidden": true
   },
   "outputs": [],
   "source": [
    "# pip install pypdfium2 matplotlib pillow\n",
    "\n",
    "import pypdfium2 as pdfium\n",
    "import matplotlib.pyplot as plt\n",
    "from PIL import Image\n",
    "from io import BytesIO\n",
    "\n",
    "def convert_pdf_to_images(file_path, scale=300/72):\n",
    "    \n",
    "    pdf_file = pdfium.PdfDocument(file_path)  \n",
    "    page_indices = [i for i in range(len(pdf_file))]\n",
    "    \n",
    "    renderer = pdf_file.render(\n",
    "        pdfium.PdfBitmap.to_pil,\n",
    "        page_indices = page_indices, \n",
    "        scale = scale,\n",
    "    )\n",
    "    \n",
    "    list_final_images = [] \n",
    "    \n",
    "    for i, image in zip(page_indices, renderer):\n",
    "        \n",
    "        image_byte_array = BytesIO()\n",
    "        image.save(image_byte_array, format='jpeg', optimize=True)\n",
    "        image_byte_array = image_byte_array.getvalue()\n",
    "        list_final_images.append(dict({i:image_byte_array}))\n",
    "    \n",
    "    return list_final_images"
   ]
  },
  {
   "cell_type": "code",
   "execution_count": null,
   "metadata": {
    "code_folding": [],
    "hidden": true
   },
   "outputs": [],
   "source": [
    "def display_images(list_dict_final_images):\n",
    "    \n",
    "    all_images = [list(data.values())[0] for data in list_dict_final_images]\n",
    "\n",
    "    for index, image_bytes in enumerate(all_images):\n",
    "\n",
    "        image = Image.open(BytesIO(image_bytes))\n",
    "        figure = plt.figure(figsize = (image.width / 100, image.height / 100))\n",
    "\n",
    "        plt.title(f\"----- Page Number {index+1} -----\")\n",
    "        plt.imshow(image)\n",
    "        plt.axis(\"off\")\n",
    "        plt.show()\n",
    "        "
   ]
  },
  {
   "cell_type": "code",
   "execution_count": null,
   "metadata": {
    "hidden": true
   },
   "outputs": [],
   "source": [
    "\n",
    "convert_pdf_to_images = convert_pdf_to_images('4._Ouvidoria_Geral_1.pdf')\n",
    "\n",
    "#convert_pdf_to_images"
   ]
  },
  {
   "cell_type": "code",
   "execution_count": null,
   "metadata": {
    "hidden": true
   },
   "outputs": [],
   "source": [
    "# Logo convertemos a Imagem o PDF:\n",
    "\n",
    "#display_images(convert_pdf_to_images)"
   ]
  },
  {
   "cell_type": "markdown",
   "metadata": {
    "heading_collapsed": true,
    "jp-MarkdownHeadingCollapsed": true
   },
   "source": [
    "# <font color=\"pink\">pytesseract</font>"
   ]
  },
  {
   "cell_type": "code",
   "execution_count": null,
   "metadata": {
    "hidden": true
   },
   "outputs": [],
   "source": [
    "#!pip install pytesseract -qq\n",
    "\n",
    "from pytesseract import image_to_string \n",
    "\n",
    "def extract_text_with_pytesseract(list_dict_final_images):\n",
    "    \n",
    "    image_list = [list(data.values())[0] for data in list_dict_final_images]\n",
    "    image_content = []\n",
    "    \n",
    "    for index, image_bytes in enumerate(image_list):\n",
    "        \n",
    "        image = Image.open(BytesIO(image_bytes))\n",
    "        raw_text = str(image_to_string(image))\n",
    "        image_content.append(raw_text)\n",
    "    \n",
    "    return \"\\n\".join(image_content)"
   ]
  },
  {
   "cell_type": "code",
   "execution_count": null,
   "metadata": {
    "hidden": true
   },
   "outputs": [],
   "source": [
    "text_with_pytesseract = extract_text_with_pytesseract(convert_pdf_to_images)\n",
    "\n",
    "print(text_with_pytesseract)"
   ]
  },
  {
   "cell_type": "markdown",
   "metadata": {
    "heading_collapsed": true
   },
   "source": [
    "# <font color=\"pink\">EasyOCR</font>"
   ]
  },
  {
   "cell_type": "code",
   "execution_count": null,
   "metadata": {
    "ExecuteTime": {
     "end_time": "2024-07-10T21:59:49.418119Z",
     "start_time": "2024-07-10T21:59:46.194849Z"
    },
    "hidden": true
   },
   "outputs": [],
   "source": [
    "#!pip install easyocr\n",
    "\n",
    "from easyocr import Reader\n",
    "\n",
    "# Load model for the Portuguese language:\n",
    "language_reader = Reader([\"pt\"], gpu=True, recognizer=True, verbose=True, quantize=True)\n"
   ]
  },
  {
   "cell_type": "code",
   "execution_count": null,
   "metadata": {
    "hidden": true
   },
   "outputs": [],
   "source": [
    "# from easyocr import Reader\n",
    "# help(Reader.__init__)\n"
   ]
  },
  {
   "cell_type": "code",
   "execution_count": null,
   "metadata": {
    "hidden": true
   },
   "outputs": [],
   "source": [
    "def extract_text_with_easyocr(list_dict_final_images):\n",
    "    \n",
    "    image_list = [list(data.values())[0] for data in list_dict_final_images]\n",
    "    image_content = []\n",
    "    \n",
    "    for index, image_bytes in enumerate(image_list):\n",
    "        \n",
    "        image = Image.open(BytesIO(image_bytes))\n",
    "        raw_text = language_reader.readtext(image)\n",
    "        raw_text = \"\\n\".join([res[1] for res in raw_text])\n",
    "                       \n",
    "        image_content.append(raw_text)\n",
    "    \n",
    "    return \"\\n\".join(image_content)"
   ]
  },
  {
   "cell_type": "code",
   "execution_count": null,
   "metadata": {
    "hidden": true
   },
   "outputs": [],
   "source": [
    "text_with_easy_ocr = extract_text_with_easyocr(convert_pdf_to_images)\n",
    "\n",
    "print(text_with_easy_ocr)"
   ]
  },
  {
   "cell_type": "markdown",
   "metadata": {
    "heading_collapsed": true
   },
   "source": [
    "# <font color=\"gree\">Usando `easyocr` diretamente</font>"
   ]
  },
  {
   "cell_type": "code",
   "execution_count": null,
   "metadata": {
    "ExecuteTime": {
     "end_time": "2024-07-11T03:40:59.093387Z",
     "start_time": "2024-07-11T03:40:58.329612Z"
    },
    "hidden": true
   },
   "outputs": [],
   "source": [
    "import torch\n",
    "torch.cuda.is_available()\n"
   ]
  },
  {
   "cell_type": "code",
   "execution_count": null,
   "metadata": {
    "ExecuteTime": {
     "end_time": "2024-07-11T03:41:12.149790Z",
     "start_time": "2024-07-11T03:41:01.065170Z"
    },
    "code_folding": [],
    "hidden": true
   },
   "outputs": [],
   "source": [
    "import easyocr\n",
    "\n",
    "# Carregar modelo de reconhecimento de texto para o português:\n",
    "reader = easyocr.Reader(['pt'], gpu=True, recognizer=True, verbose=True, quantize=True)\n",
    "\n",
    "result = reader.readtext(\"./data/Atestado_Med_Lucas.jpg\", # \"./data/Atestado_Med_Lucas.jpg\", # \"./data/NF_antigo.png\", # \"./data/RG_internet.jpg\"\n",
    "                         paragraph=True, # Agrupa linhas de texto em parágrafos, facilitando a leitura.\n",
    "                         x_ths=0.3, # Controlar a sensibilidade da detecção de texto. Valores menores detectam mais texto, mas podem incluir FP.\n",
    "                         detail=1, # Define o nível de detalhes retornados (1 para caixas de texto, 0 para apenas texto).\n",
    "                         width_ths=0.9, # Controla a sensibilidade da detecção de texto com base na largura.\n",
    "                         height_ths=0.2 # Controla a sensibilidade da detecção de texto com base na altura.                     \n",
    "                        )\n",
    "#print(result)\n",
    "text = '\\n'.join([line[1] for line in result])\n",
    "print(text)\n"
   ]
  },
  {
   "cell_type": "markdown",
   "metadata": {
    "heading_collapsed": true,
    "jp-MarkdownHeadingCollapsed": true
   },
   "source": [
    "# <font color=\"yellow\">Extract Data using `Amazon Textract` API</font>"
   ]
  },
  {
   "cell_type": "code",
   "execution_count": null,
   "metadata": {
    "hidden": true
   },
   "outputs": [],
   "source": [
    "#!pip install boto3\n",
    "import boto3\n",
    "\n",
    "client = boto3.client('textract',\n",
    "                      region_name='us-east-1',\n",
    "                      aws_access_key_id='',\n",
    "                      aws_secret_access_key='')\n"
   ]
  },
  {
   "cell_type": "code",
   "execution_count": null,
   "metadata": {
    "hidden": true
   },
   "outputs": [],
   "source": []
  },
  {
   "cell_type": "code",
   "execution_count": null,
   "metadata": {
    "hidden": true
   },
   "outputs": [],
   "source": []
  },
  {
   "cell_type": "code",
   "execution_count": null,
   "metadata": {
    "hidden": true
   },
   "outputs": [],
   "source": []
  },
  {
   "cell_type": "code",
   "execution_count": null,
   "metadata": {
    "hidden": true
   },
   "outputs": [],
   "source": []
  },
  {
   "cell_type": "code",
   "execution_count": null,
   "metadata": {
    "hidden": true
   },
   "outputs": [],
   "source": []
  },
  {
   "cell_type": "markdown",
   "metadata": {
    "jp-MarkdownHeadingCollapsed": true
   },
   "source": [
    "# <font color=\"gree\">Tanto o `GPT-4o` quanto o `GPT-4 Turbo` têm capacidades de visão</font>"
   ]
  },
  {
   "cell_type": "code",
   "execution_count": null,
   "metadata": {
    "ExecuteTime": {
     "end_time": "2024-07-11T13:12:37.625638Z",
     "start_time": "2024-07-11T13:12:37.623342Z"
    }
   },
   "outputs": [],
   "source": [
    "import base64\n",
    "\n",
    "def encode_image(image_path):\n",
    "    with open(image_path, \"rb\") as image_file:\n",
    "        return base64.b64encode(image_file.read()).decode('utf-8')\n",
    "    "
   ]
  },
  {
   "cell_type": "code",
   "execution_count": null,
   "metadata": {
    "ExecuteTime": {
     "end_time": "2024-07-11T13:12:40.021402Z",
     "start_time": "2024-07-11T13:12:39.979442Z"
    }
   },
   "outputs": [],
   "source": [
    "import requests\n",
    "\n",
    "# Chave Key da API da OpenAI:\n",
    "api_key = \"Micha_chave_key\"\n",
    "\n",
    "# Caminho da sua Imagem:\n",
    "image_path = \"./data/NF_antigo.png\"# \"./data/Atestado_Med_Lucas.jpg\", # \"./data/NF_antigo.png\", # \"./data/RG_internet.jpg\"\n",
    "\n",
    "# Obtendo a string base64:\n",
    "base64_image = encode_image(image_path)\n",
    "\n",
    "# Configurar cabeçalhos\n",
    "headers = {\n",
    "    \"Content-Type\": \"application/json\",\n",
    "    \"Authorization\": f\"Bearer {api_key}\"\n",
    "}\n",
    "\n",
    "# Prepare para payload:\n",
    "payload = {\n",
    "    \"model\": \"gpt-4o\",\n",
    "    \"messages\": [\n",
    "        {\n",
    "            \"role\": \"user\",\n",
    "            \"content\": [\n",
    "                {\"type\": \"text\", \"text\": \"Extraia informações do seguinte documento.\"},\n",
    "                {\"type\": \"image_url\", \"image_url\": {\"url\":f\"data:image/jpeg;base64,{base64_image}\"}}\n",
    "                \n",
    "            ]\n",
    "        }\n",
    "    ],\n",
    "    \"max_tokens\": 300\n",
    "}"
   ]
  },
  {
   "cell_type": "code",
   "execution_count": null,
   "metadata": {
    "ExecuteTime": {
     "end_time": "2024-07-11T13:12:50.341946Z",
     "start_time": "2024-07-11T13:12:43.139369Z"
    }
   },
   "outputs": [],
   "source": [
    "response = requests.post(\"https://api.openai.com/v1/chat/completions\", headers=headers, json=payload)\n",
    "\n",
    "print(response.json())"
   ]
  },
  {
   "cell_type": "code",
   "execution_count": null,
   "metadata": {
    "ExecuteTime": {
     "end_time": "2024-07-11T13:12:51.648263Z",
     "start_time": "2024-07-11T13:12:51.645827Z"
    }
   },
   "outputs": [],
   "source": [
    "print(response.json()[\"choices\"][0][\"message\"][\"content\"])"
   ]
  },
  {
   "cell_type": "markdown",
   "metadata": {},
   "source": [
    "<font color=\"red\">Limitações</font>\n",
    "\n",
    "Embora o `GPT-4 com visão` seja poderoso e possa ser usado em muitas situações, é importante entender as limitações do modelo. Aqui estão algumas das limitações das quais temos conhecimento:\n",
    "\n",
    "* `Imagens médicas:` O modelo não é adequado para interpretar imagens médicas especializadas, como tomografias computadorizadas, e não deve ser usado para aconselhamento médico.\n",
    "\n",
    "* `Não inglês:` o modelo pode não ter desempenho ideal ao manipular imagens com texto de alfabetos não latinos, como `japonês` ou `coreano`.\n",
    "\n",
    "* `Texto pequeno:` Aumente o texto dentro da imagem para melhorar a legibilidade, mas evite cortar detalhes importantes.\n",
    "\n",
    "* `Rotação:` O modelo pode interpretar incorretamente textos ou imagens girados/de cabeça para baixo.\n",
    "\n",
    "* `Elementos visuais:` O modelo pode ter dificuldade para entender gráficos ou textos onde cores ou estilos como linhas sólidas, tracejadas ou pontilhadas variam.\n",
    "\n",
    "* `Raciocínio espacial:` O modelo tem dificuldades com tarefas que exigem localização espacial precisa, como identificar posições de xadrez.\n",
    "\n",
    "* `Precisão:` O modelo pode gerar descrições ou legendas incorretas em determinados cenários.\n",
    "\n",
    "* `Formato da imagem:` A modelo tem dificuldades com imagens panorâmicas e olho de peixe.\n",
    "\n",
    "* `Metadados e redimensionamento:` o modelo não processa nomes de arquivos originais ou metadados, e as imagens são redimensionadas antes da análise, afetando suas dimensões originais.\n",
    "\n",
    "* `Contagem:` pode fornecer contagens aproximadas de objetos em imagens.\n",
    "\n",
    "* `CAPTCHAS:` Por motivos de segurança, implementamos um sistema para bloquear o envio de CAPTCHAs."
   ]
  },
  {
   "cell_type": "markdown",
   "metadata": {
    "heading_collapsed": true,
    "jp-MarkdownHeadingCollapsed": true
   },
   "source": [
    "# <font color=\"pink\">PyPDF2</font>"
   ]
  },
  {
   "cell_type": "code",
   "execution_count": null,
   "metadata": {
    "hidden": true
   },
   "outputs": [],
   "source": [
    "#!pip install PyPDF2\n",
    "from PyPDF2 import PdfReader\n",
    "\n",
    "def extract_text_with_pyPDF(PDF_File):\n",
    "\n",
    "    pdf_reader = PdfReader(PDF_File)\n",
    "    \n",
    "    raw_text = ''\n",
    "\n",
    "    for i, page in enumerate(pdf_reader.pages):\n",
    "        \n",
    "        text = page.extract_text()\n",
    "        if text:\n",
    "            raw_text += text\n",
    "\n",
    "    return raw_text"
   ]
  },
  {
   "cell_type": "code",
   "execution_count": null,
   "metadata": {
    "hidden": true
   },
   "outputs": [],
   "source": [
    "text_with_pyPDF = extract_text_with_pyPDF(\"4._Ouvidoria_Geral_1.pdf\")\n",
    "\n",
    "print(text_with_pyPDF)"
   ]
  },
  {
   "cell_type": "markdown",
   "metadata": {
    "heading_collapsed": true,
    "jp-MarkdownHeadingCollapsed": true
   },
   "source": [
    "# <font color=\"pink\">Pdfminer</font>"
   ]
  },
  {
   "cell_type": "code",
   "execution_count": null,
   "metadata": {
    "hidden": true
   },
   "outputs": [],
   "source": [
    "#!pip install pdfminer.six\n",
    "\n",
    "from pdfminer.high_level import extract_text\n",
    "\n",
    "def pdfminer_extract(pdf_path):\n",
    "  \"\"\"Extracts text using pdfminer.six.\"\"\"\n",
    "  with open(pdf_path, 'rb') as pdf_file:\n",
    "    text = extract_text(pdf_file)\n",
    "    return text"
   ]
  },
  {
   "cell_type": "code",
   "execution_count": null,
   "metadata": {
    "hidden": true
   },
   "outputs": [],
   "source": [
    "text_with_pdfminer = pdfminer_extract(\"./4._Ouvidoria_Geral_1.pdf\")\n",
    "\n",
    "print(text_with_pdfminer)"
   ]
  },
  {
   "cell_type": "markdown",
   "metadata": {
    "heading_collapsed": true,
    "jp-MarkdownHeadingCollapsed": true
   },
   "source": [
    "# <font color=\"pink\">pdfplumber</font>"
   ]
  },
  {
   "cell_type": "code",
   "execution_count": null,
   "metadata": {
    "hidden": true
   },
   "outputs": [],
   "source": [
    "#!pip install pdfplumber\n",
    "import pdfplumber\n",
    "\n",
    "def pdfplumber_extract(pdf_path):\n",
    "  \"\"\"Extracts text using pdfplumber.\"\"\"\n",
    "  with pdfplumber.open(pdf_path) as pdf:\n",
    "    text = ''\n",
    "    for page in pdf.pages:\n",
    "      text += page.extract_text()\n",
    "    return text\n"
   ]
  },
  {
   "cell_type": "code",
   "execution_count": null,
   "metadata": {
    "hidden": true
   },
   "outputs": [],
   "source": [
    "text_with_pdfplumber = pdfplumber_extract(\"./4._Ouvidoria_Geral_1.pdf\")\n",
    "\n",
    "print(text_with_pdfplumber)"
   ]
  },
  {
   "cell_type": "markdown",
   "metadata": {},
   "source": [
    "# <font color=\"pink\">LangChain</font>"
   ]
  },
  {
   "cell_type": "markdown",
   "metadata": {
    "heading_collapsed": true,
    "jp-MarkdownHeadingCollapsed": true
   },
   "source": [
    "## <font color=\"gree\">Usando `Unstructured`para extrair informações de uma `Imagem`</font>"
   ]
  },
  {
   "cell_type": "code",
   "execution_count": null,
   "metadata": {
    "hidden": true
   },
   "outputs": [],
   "source": [
    "# !pip install langchain\n",
    "\n",
    "from langchain.document_loaders.image import UnstructuredImageLoader\n",
    "\n",
    "from PIL import Image\n",
    "from io import BytesIO\n",
    "import tempfile\n",
    "import os\n",
    "\n",
    "# def extract_text_with_langchain_image(list_dict_final_images):\n",
    "    \n",
    "#     image_list = [list(data.values())[0] for data in list_dict_final_images]\n",
    "#     image_content = []\n",
    "    \n",
    "#     for index, image_bytes in enumerate(image_list):\n",
    "        \n",
    "#         image = Image.open(BytesIO(image_bytes))\n",
    "#         loader = UnstructuredImageLoader(image)\n",
    "#         data = loader.load()\n",
    "#         raw_text = data[index].page_content\n",
    "                       \n",
    "#         image_content.append(raw_text)\n",
    "    \n",
    "#     return \"\\n\".join(image_content)\n",
    "\n",
    "\n",
    "def extract_text_with_langchain_image(list_dict_final_images):\n",
    "    image_list = [list(data.values())[0] for data in list_dict_final_images]\n",
    "    image_content = []\n",
    "    \n",
    "    for index, image_bytes in enumerate(image_list):\n",
    "        image = Image.open(BytesIO(image_bytes))\n",
    "        \n",
    "        # Salva a imagem em um arquivo temporário:\n",
    "        with tempfile.NamedTemporaryFile(delete=False, suffix='.jpeg') as temp_image_file:\n",
    "            image.save(temp_image_file, format='JPEG')\n",
    "            temp_image_path = temp_image_file.name\n",
    "        \n",
    "        try:\n",
    "            loader = UnstructuredImageLoader(temp_image_path)\n",
    "            data = loader.load()\n",
    "            raw_text = data[0].page_content  # Index 0 para obter o conteúdo da primeira página\n",
    "            image_content.append(raw_text)\n",
    "        finally:\n",
    "            os.remove(temp_image_path)  # Remove o arquivo temporário\n",
    "    \n",
    "    return \"\\n\".join(image_content)\n",
    "    "
   ]
  },
  {
   "cell_type": "code",
   "execution_count": null,
   "metadata": {
    "hidden": true
   },
   "outputs": [],
   "source": [
    "text_with_langchain_image = extract_text_with_langchain_image(convert_pdf_to_images)\n",
    "\n",
    "print(text_with_langchain_image)"
   ]
  },
  {
   "cell_type": "markdown",
   "metadata": {
    "heading_collapsed": true,
    "jp-MarkdownHeadingCollapsed": true
   },
   "source": [
    "## <font color=\"blue\">Usando `Unstructured`para extrair informações de um `PDF` direto</font>"
   ]
  },
  {
   "cell_type": "code",
   "execution_count": null,
   "metadata": {
    "hidden": true
   },
   "outputs": [],
   "source": [
    "import sys\n",
    "print(sys.getdefaultencoding())"
   ]
  },
  {
   "cell_type": "code",
   "execution_count": null,
   "metadata": {
    "hidden": true
   },
   "outputs": [],
   "source": [
    "from langchain.document_loaders import UnstructuredFileLoader\n",
    "\n",
    "def extract_text_with_langchain_pdf(pdf_file):\n",
    "    \n",
    "    loader = UnstructuredFileLoader(pdf_file, encoding='utf-8')\n",
    "    documents = loader.load()\n",
    "    pdf_pages_content = '\\n'.join(doc.page_content for doc in documents)\n",
    "    \n",
    "    return pdf_pages_content\n",
    "    "
   ]
  },
  {
   "cell_type": "code",
   "execution_count": null,
   "metadata": {
    "hidden": true
   },
   "outputs": [],
   "source": [
    "text_with_langchain_files = extract_text_with_langchain_pdf(\"./data/4._Ouvidoria_Geral_1.pdf\")\n",
    "\n",
    "print(text_with_langchain_files)"
   ]
  },
  {
   "cell_type": "code",
   "execution_count": null,
   "metadata": {
    "hidden": true
   },
   "outputs": [],
   "source": [
    "from langchain.document_loaders import UnstructuredFileLoader\n",
    "\n",
    "loader = UnstructuredFileLoader(\"./data/4._Ouvidoria_Geral_1.pdf\",\n",
    "                                #mode=\"elements\", # Quando uso este parâmetro traz pouca informação\n",
    "                                #extract_images_in_pdf=True,\n",
    "                                #strategy=\"hi_res\",\n",
    "                                #extract_image_block_output_dir=\"pasta_eddy\"\n",
    "                                #languages=[\"por\"]\n",
    "                                #encoding=\"latin-1\" # ou \"utf-8\"\n",
    "                               )\n",
    "\n",
    "\n",
    "docs = loader.load()\n",
    "pdf_pages_content = '\\n\\n'.join(doc.page_content for doc in docs)\n",
    "print(pdf_pages_content)\n"
   ]
  },
  {
   "cell_type": "markdown",
   "metadata": {
    "heading_collapsed": true,
    "jp-MarkdownHeadingCollapsed": true
   },
   "source": [
    "## <font color=\"gree\">Usando `DirectoryLoader` de `Unstructured`</font>"
   ]
  },
  {
   "cell_type": "code",
   "execution_count": null,
   "metadata": {
    "hidden": true
   },
   "outputs": [],
   "source": [
    "from langchain_community.document_loaders import DirectoryLoader\n",
    "from langchain_community.document_loaders import UnstructuredFileLoader\n",
    "\n",
    "\n",
    "DATA_PATH = \"./data\"\n",
    "\n",
    "def load_documents():\n",
    "    loader = DirectoryLoader(DATA_PATH, glob=\"**/[!.]*\", loader_cls=UnstructuredFileLoader, show_progress=True, use_multithreading=True)\n",
    "    documents = loader.load()\n",
    "    pdf_pages_content = '\\n\\n'.join(doc.page_content for doc in documents)\n",
    "    pdf_pages_content\n",
    "    return pdf_pages_content\n",
    "    #return documents\n"
   ]
  },
  {
   "cell_type": "code",
   "execution_count": null,
   "metadata": {
    "hidden": true
   },
   "outputs": [],
   "source": [
    "documents = load_documents()\n",
    "\n",
    "print(documents)"
   ]
  },
  {
   "cell_type": "markdown",
   "metadata": {
    "heading_collapsed": true,
    "jp-MarkdownHeadingCollapsed": true
   },
   "source": [
    "## <font color=\"gree\">Usando `partition` de `Unstructured`</font>"
   ]
  },
  {
   "cell_type": "code",
   "execution_count": null,
   "metadata": {
    "hidden": true
   },
   "outputs": [],
   "source": [
    "# from unstructured.partition.pdf import partition_pdf\n",
    "\n",
    "# elements = partition_pdf(\n",
    "#     filename=\"./data/4._Ouvidoria_Geral_1.pdf\",                  # mandatory\n",
    "#     strategy=\"fast\", #\"hi_res\",                                     # mandatory to use ``hi_res`` strategy\n",
    "#     extract_images_in_pdf=False,                            # mandatory to set as ``True``\n",
    "#     #extract_image_block_types=[\"Image\", \"Table\"],          # optional\n",
    "#     extract_image_block_to_payload=False,                  # optional\n",
    "#     extract_image_block_output_dir=\"path/to/save/images\",  # optional - only works when ``extract_image_block_to_payload=False``\n",
    "#     #languages=[\"eng\", \"swe\"]\n",
    "#     )\n",
    "\n",
    "\n",
    "# elements\n",
    "\n",
    "# len(elements)\n",
    "\n",
    "# import json\n",
    "\n",
    "# element_dict = [el.to_dict() for el in elements]\n",
    "# output = json.dumps(element_dict, indent=2)\n",
    "# print(output)\n"
   ]
  },
  {
   "cell_type": "code",
   "execution_count": null,
   "metadata": {
    "hidden": true
   },
   "outputs": [],
   "source": []
  }
 ],
 "metadata": {
  "kernelspec": {
   "display_name": "Python 3 (ipykernel)",
   "language": "python",
   "name": "python3"
  },
  "language_info": {
   "codemirror_mode": {
    "name": "ipython",
    "version": 3
   },
   "file_extension": ".py",
   "mimetype": "text/x-python",
   "name": "python",
   "nbconvert_exporter": "python",
   "pygments_lexer": "ipython3",
   "version": "3.10.12"
  },
  "varInspector": {
   "cols": {
    "lenName": 16,
    "lenType": 16,
    "lenVar": 40
   },
   "kernels_config": {
    "python": {
     "delete_cmd_postfix": "",
     "delete_cmd_prefix": "del ",
     "library": "var_list.py",
     "varRefreshCmd": "print(var_dic_list())"
    },
    "r": {
     "delete_cmd_postfix": ") ",
     "delete_cmd_prefix": "rm(",
     "library": "var_list.r",
     "varRefreshCmd": "cat(var_dic_list()) "
    }
   },
   "types_to_exclude": [
    "module",
    "function",
    "builtin_function_or_method",
    "instance",
    "_Feature"
   ],
   "window_display": false
  }
 },
 "nbformat": 4,
 "nbformat_minor": 4
}
