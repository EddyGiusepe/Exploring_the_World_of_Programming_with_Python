{
 "cells": [
  {
   "cell_type": "markdown",
   "metadata": {},
   "source": [
    "<h1 align=\"center\"><font color=\"pink\">POO with Python</font></h1>"
   ]
  },
  {
   "cell_type": "markdown",
   "metadata": {},
   "source": [
    "<font color=\"yellow\">Data Scientist.: Dr. Eddy Giusepe Chirinos Isidro</font>"
   ]
  },
  {
   "cell_type": "markdown",
   "metadata": {},
   "source": [
    "# <font color=\"gree\">Exemplos POO</font>"
   ]
  },
  {
   "cell_type": "code",
   "execution_count": 1,
   "metadata": {},
   "outputs": [],
   "source": [
    "# Exemplo 1:\n",
    "\n",
    "class Phone:\n",
    "    def make_call(self):\n",
    "        print(\"Eu estou fazendo uma ligação\")\n",
    "    \n",
    "    def play_game(self):\n",
    "        print(\"Eu estou jogando um jogo\")"
   ]
  },
  {
   "cell_type": "code",
   "execution_count": 2,
   "metadata": {},
   "outputs": [
    {
     "name": "stdout",
     "output_type": "stream",
     "text": [
      "Eu estou fazendo uma ligação\n"
     ]
    }
   ],
   "source": [
    "meu_fone = Phone()\n",
    "\n",
    "meu_fone.make_call()"
   ]
  },
  {
   "cell_type": "code",
   "execution_count": 3,
   "metadata": {},
   "outputs": [
    {
     "name": "stdout",
     "output_type": "stream",
     "text": [
      "Eu estou jogando um jogo\n"
     ]
    }
   ],
   "source": [
    "meu_fone.play_game()"
   ]
  },
  {
   "cell_type": "code",
   "execution_count": 8,
   "metadata": {},
   "outputs": [],
   "source": [
    "# Exemplo 2:\n",
    "\n",
    "class Phone:\n",
    "    def definir_cor(self, cor):\n",
    "        self.cor = cor\n",
    "    def definir_custo(self, custo):\n",
    "        self.custo = custo\n",
    "    def mostrar_cor(self):\n",
    "        return print(f\"A cor é: {self.cor}\")\n",
    "    def mostrar_custo(self):\n",
    "        return self.custo\n",
    "    def fazer_chamada(self):\n",
    "        print(\"Faça uma chamada\")\n",
    "    def jogar_um_jogo(self):\n",
    "        print(\"Jogar um jogo\")\n"
   ]
  },
  {
   "cell_type": "code",
   "execution_count": 9,
   "metadata": {},
   "outputs": [],
   "source": [
    "telefone = Phone()\n",
    "\n",
    "telefone.definir_cor(\"blue\")\n",
    "\n",
    "telefone.definir_custo(5000)"
   ]
  },
  {
   "cell_type": "code",
   "execution_count": 10,
   "metadata": {},
   "outputs": [
    {
     "name": "stdout",
     "output_type": "stream",
     "text": [
      "A cor é:  blue\n"
     ]
    }
   ],
   "source": [
    "telefone.mostrar_cor()"
   ]
  },
  {
   "cell_type": "code",
   "execution_count": 11,
   "metadata": {},
   "outputs": [
    {
     "data": {
      "text/plain": [
       "5000"
      ]
     },
     "execution_count": 11,
     "metadata": {},
     "output_type": "execute_result"
    }
   ],
   "source": [
    "telefone.mostrar_custo()"
   ]
  },
  {
   "cell_type": "code",
   "execution_count": 12,
   "metadata": {},
   "outputs": [
    {
     "name": "stdout",
     "output_type": "stream",
     "text": [
      "Faça uma chamada\n"
     ]
    }
   ],
   "source": [
    "telefone.fazer_chamada()"
   ]
  },
  {
   "cell_type": "code",
   "execution_count": 14,
   "metadata": {},
   "outputs": [],
   "source": [
    "# Exemplo 3:\n",
    "\n",
    "class Employee:\n",
    "    def __init__(self, name, age, salary, gender):\n",
    "        self.name = name\n",
    "        self.age = age\n",
    "        self.salary = salary\n",
    "        self.gender = gender\n",
    "\n",
    "    def show_employee_details(self):\n",
    "        print(f\"Nome do empleado é: {self.name}\")\n",
    "        print(f\"Idade do empleado é: {self.age}\")\n",
    "        print(f\"Salário do empleado é: {self.salary}\")\n",
    "        print(f\"Gênero do empleado é: {self.gender}\")\n"
   ]
  },
  {
   "cell_type": "code",
   "execution_count": 15,
   "metadata": {},
   "outputs": [
    {
     "name": "stdout",
     "output_type": "stream",
     "text": [
      "Nome do empleado é: Eddy\n",
      "Idade do empleado é: 42\n",
      "Salário do empleado é: 8000\n",
      "Gênero do empleado é: Masculino\n"
     ]
    }
   ],
   "source": [
    "# Instanciamos a nossa Classe:\n",
    "employee = Employee(\"Eddy\", 42, 8000, \"Masculino\")\n",
    "\n",
    "\n",
    "employee.show_employee_details()"
   ]
  },
  {
   "cell_type": "code",
   "execution_count": 16,
   "metadata": {},
   "outputs": [],
   "source": [
    "# Exemplo 4:\n",
    "\n",
    "class Vehicle:\n",
    "    def __init__(self, mileage, cost):\n",
    "        self.mileage = mileage\n",
    "        self.cost = cost\n",
    "\n",
    "    def show_vehicle_details(self):\n",
    "        print(f\"Qilometragem do veículo é: {self.mileage}\")\n",
    "        print(f\"Costo do veículo é: {self.cost}\")\n",
    "        print(\"Eu sou um veículo\")\n",
    "        "
   ]
  },
  {
   "cell_type": "code",
   "execution_count": 18,
   "metadata": {},
   "outputs": [
    {
     "name": "stdout",
     "output_type": "stream",
     "text": [
      "Qilometragem do veículo é: 600\n",
      "Costo do veículo é: 20000\n",
      "Eu sou um veículo\n"
     ]
    }
   ],
   "source": [
    "vehicle = Vehicle(600, 20000)\n",
    "\n",
    "vehicle.show_vehicle_details()"
   ]
  },
  {
   "cell_type": "code",
   "execution_count": 19,
   "metadata": {},
   "outputs": [],
   "source": [
    "class Car(Vehicle):\n",
    "    def show_car_details(self):\n",
    "        print(\"Eu sou um carro\")"
   ]
  },
  {
   "cell_type": "code",
   "execution_count": 20,
   "metadata": {},
   "outputs": [],
   "source": [
    "carro = Car(450, 15000)"
   ]
  },
  {
   "cell_type": "code",
   "execution_count": 21,
   "metadata": {},
   "outputs": [
    {
     "name": "stdout",
     "output_type": "stream",
     "text": [
      "Qilometragem do veículo é: 450\n",
      "Costo do veículo é: 15000\n",
      "Eu sou um veículo\n"
     ]
    }
   ],
   "source": [
    "carro.show_vehicle_details()"
   ]
  },
  {
   "cell_type": "code",
   "execution_count": 22,
   "metadata": {},
   "outputs": [
    {
     "name": "stdout",
     "output_type": "stream",
     "text": [
      "Eu sou um carro\n"
     ]
    }
   ],
   "source": [
    "carro.show_car_details()"
   ]
  },
  {
   "cell_type": "markdown",
   "metadata": {},
   "source": [
    "# <font color=\"gree\">Exemplos com Pandas</font>"
   ]
  },
  {
   "cell_type": "markdown",
   "metadata": {},
   "source": [
    "Link de estudo:\n",
    "\n",
    "* [YouTube: ITLearnz](https://www.youtube.com/watch?v=JGe2QzihPr4&list=PLVSfefc9Rj3cOiu6RVsyt1KRGuD8mK58w&index=3)"
   ]
  },
  {
   "cell_type": "code",
   "execution_count": 1,
   "metadata": {},
   "outputs": [],
   "source": [
    "from IPython.display import display \n",
    "import pandas as pd \n",
    "import numpy as np"
   ]
  },
  {
   "cell_type": "code",
   "execution_count": 2,
   "metadata": {},
   "outputs": [],
   "source": [
    "pd.set_option(\"display.max_rows\", None)"
   ]
  },
  {
   "cell_type": "code",
   "execution_count": 3,
   "metadata": {},
   "outputs": [],
   "source": [
    "df = None"
   ]
  },
  {
   "cell_type": "code",
   "execution_count": 6,
   "metadata": {},
   "outputs": [],
   "source": [
    "minVotes = None\n",
    "def readFile(path):\n",
    "    global df\n",
    "    df = pd.read_csv(path)\n",
    "\n",
    "\n",
    "def cleanDataset():\n",
    "    global df\n",
    "    df = df.drop([\"year\"], axis=1)\n",
    "    df = df.drop([\"certificate\"], axis=1)\n",
    "    df = df.drop([\"duration\"], axis=1)\n",
    "    df = df.drop([\"description\"], axis=1)\n",
    "    df = df.drop([\"stars\"], axis=1)\n",
    "    df = df.drop_duplicates(subset=[\"title\"])\n",
    "\n",
    "    df[\"votes\"] = df[\"votes\"].str.replace(',', '').astype(float)\n",
    "    df = df.fillna(0)\n",
    "\n",
    "\n",
    "def filterGenre(genre):\n",
    "    global df\n",
    "    df = df[df[\"genre\"].str.contains(genre, case=False).fillna(False)]\n",
    "    \n",
    "\n",
    "\n",
    "def threshVotes(thrs):\n",
    "    global df\n",
    "    global minVotes\n",
    "    minVotes = np.quantile(df[\"votes\"], thrs)\n",
    "    df = df.drop(df[df.votes<minVotes].index)\n",
    "\n",
    "\n",
    "def weightedAvgScore():\n",
    "    global df\n",
    "    weightedAvg = []\n",
    "    mean = df['rating'].mean()\n",
    "    df = df.reset_index(drop=True)\n",
    "\n",
    "\n",
    "    for i in range(0, len(df[\"rating\"])):\n",
    "        res = (df['votes'][i]/(df['votes'][i]+ minVotes)*df[\"rating\"][i]) + (minVotes/(df[\"votes\"][i]+minVotes))*mean\n",
    "        weightedAvg.append(res)\n",
    "    df[\"weightedAvg\"] = weightedAvg\n",
    "\n",
    "\n",
    "def sortNscores(n):\n",
    "    sort = df.sort_values(\"weightedAvg\", ascending=False).head(n)\n",
    "    display(sort)\n",
    "\n",
    "\n",
    "# Função que executa tudo:\n",
    "def runRecommenderSystem(genre, votesThrs, numberOfReturnedData):\n",
    "    readFile(\"./n_movies.csv\") # Dataset --> https://www.kaggle.com/datasets/narayan63/netflix-popular-movies-dataset\n",
    "    cleanDataset()\n",
    "    filterGenre(genre)\n",
    "    threshVotes(votesThrs)\n",
    "    weightedAvgScore()\n",
    "    sortNscores(numberOfReturnedData)\n"
   ]
  },
  {
   "cell_type": "code",
   "execution_count": 8,
   "metadata": {},
   "outputs": [
    {
     "data": {
      "text/html": [
       "<div>\n",
       "<style scoped>\n",
       "    .dataframe tbody tr th:only-of-type {\n",
       "        vertical-align: middle;\n",
       "    }\n",
       "\n",
       "    .dataframe tbody tr th {\n",
       "        vertical-align: top;\n",
       "    }\n",
       "\n",
       "    .dataframe thead th {\n",
       "        text-align: right;\n",
       "    }\n",
       "</style>\n",
       "<table border=\"1\" class=\"dataframe\">\n",
       "  <thead>\n",
       "    <tr style=\"text-align: right;\">\n",
       "      <th></th>\n",
       "      <th>title</th>\n",
       "      <th>genre</th>\n",
       "      <th>rating</th>\n",
       "      <th>votes</th>\n",
       "      <th>weightedAvg</th>\n",
       "    </tr>\n",
       "  </thead>\n",
       "  <tbody>\n",
       "    <tr>\n",
       "      <th>4</th>\n",
       "      <td>Breaking Bad</td>\n",
       "      <td>Crime, Drama, Thriller</td>\n",
       "      <td>9.5</td>\n",
       "      <td>1831340.0</td>\n",
       "      <td>9.475954</td>\n",
       "    </tr>\n",
       "    <tr>\n",
       "      <th>53</th>\n",
       "      <td>Sherlock</td>\n",
       "      <td>Crime, Drama, Mystery</td>\n",
       "      <td>9.1</td>\n",
       "      <td>913816.0</td>\n",
       "      <td>9.060775</td>\n",
       "    </tr>\n",
       "    <tr>\n",
       "      <th>33</th>\n",
       "      <td>The Lord of the Rings: The Return of the King</td>\n",
       "      <td>Action, Adventure, Drama</td>\n",
       "      <td>9.0</td>\n",
       "      <td>1819157.0</td>\n",
       "      <td>8.981160</td>\n",
       "    </tr>\n",
       "    <tr>\n",
       "      <th>167</th>\n",
       "      <td>Death Note</td>\n",
       "      <td>Animation, Crime, Drama</td>\n",
       "      <td>9.0</td>\n",
       "      <td>316300.0</td>\n",
       "      <td>8.896898</td>\n",
       "    </tr>\n",
       "    <tr>\n",
       "      <th>2</th>\n",
       "      <td>Better Call Saul</td>\n",
       "      <td>Crime, Drama</td>\n",
       "      <td>8.9</td>\n",
       "      <td>501384.0</td>\n",
       "      <td>8.837303</td>\n",
       "    </tr>\n",
       "    <tr>\n",
       "      <th>36</th>\n",
       "      <td>Fargo</td>\n",
       "      <td>Crime, Drama, Thriller</td>\n",
       "      <td>8.9</td>\n",
       "      <td>369918.0</td>\n",
       "      <td>8.816149</td>\n",
       "    </tr>\n",
       "    <tr>\n",
       "      <th>9</th>\n",
       "      <td>The Lord of the Rings: The Fellowship of the Ring</td>\n",
       "      <td>Action, Adventure, Drama</td>\n",
       "      <td>8.8</td>\n",
       "      <td>1844055.0</td>\n",
       "      <td>8.783529</td>\n",
       "    </tr>\n",
       "    <tr>\n",
       "      <th>41</th>\n",
       "      <td>The Lord of the Rings: The Two Towers</td>\n",
       "      <td>Action, Adventure, Drama</td>\n",
       "      <td>8.8</td>\n",
       "      <td>1642708.0</td>\n",
       "      <td>8.781534</td>\n",
       "    </tr>\n",
       "    <tr>\n",
       "      <th>498</th>\n",
       "      <td>Leyla and Mecnun</td>\n",
       "      <td>Adventure, Comedy, Drama</td>\n",
       "      <td>9.1</td>\n",
       "      <td>93632.0</td>\n",
       "      <td>8.776980</td>\n",
       "    </tr>\n",
       "    <tr>\n",
       "      <th>23</th>\n",
       "      <td>Black Mirror</td>\n",
       "      <td>Drama, Mystery, Sci-Fi</td>\n",
       "      <td>8.8</td>\n",
       "      <td>535782.0</td>\n",
       "      <td>8.744737</td>\n",
       "    </tr>\n",
       "    <tr>\n",
       "      <th>7</th>\n",
       "      <td>Peaky Blinders</td>\n",
       "      <td>Crime, Drama</td>\n",
       "      <td>8.8</td>\n",
       "      <td>531058.0</td>\n",
       "      <td>8.744263</td>\n",
       "    </tr>\n",
       "    <tr>\n",
       "      <th>75</th>\n",
       "      <td>Narcos</td>\n",
       "      <td>Biography, Crime, Drama</td>\n",
       "      <td>8.8</td>\n",
       "      <td>416307.0</td>\n",
       "      <td>8.729595</td>\n",
       "    </tr>\n",
       "    <tr>\n",
       "      <th>355</th>\n",
       "      <td>Kota Factory</td>\n",
       "      <td>Comedy, Drama</td>\n",
       "      <td>9.1</td>\n",
       "      <td>71138.0</td>\n",
       "      <td>8.697019</td>\n",
       "    </tr>\n",
       "    <tr>\n",
       "      <th>5</th>\n",
       "      <td>Stranger Things</td>\n",
       "      <td>Drama, Fantasy, Horror</td>\n",
       "      <td>8.7</td>\n",
       "      <td>1149889.0</td>\n",
       "      <td>8.675440</td>\n",
       "    </tr>\n",
       "    <tr>\n",
       "      <th>274</th>\n",
       "      <td>When They See Us</td>\n",
       "      <td>Biography, Crime, Drama</td>\n",
       "      <td>8.9</td>\n",
       "      <td>119339.0</td>\n",
       "      <td>8.665066</td>\n",
       "    </tr>\n",
       "    <tr>\n",
       "      <th>54</th>\n",
       "      <td>Dexter</td>\n",
       "      <td>Crime, Drama, Mystery</td>\n",
       "      <td>8.7</td>\n",
       "      <td>720792.0</td>\n",
       "      <td>8.661208</td>\n",
       "    </tr>\n",
       "    <tr>\n",
       "      <th>112</th>\n",
       "      <td>Twin Peaks</td>\n",
       "      <td>Crime, Drama, Mystery</td>\n",
       "      <td>8.8</td>\n",
       "      <td>196192.0</td>\n",
       "      <td>8.657823</td>\n",
       "    </tr>\n",
       "    <tr>\n",
       "      <th>102</th>\n",
       "      <td>House of Cards</td>\n",
       "      <td>Drama</td>\n",
       "      <td>8.7</td>\n",
       "      <td>500982.0</td>\n",
       "      <td>8.644833</td>\n",
       "    </tr>\n",
       "    <tr>\n",
       "      <th>31</th>\n",
       "      <td>Dark</td>\n",
       "      <td>Crime, Drama, Mystery</td>\n",
       "      <td>8.7</td>\n",
       "      <td>371981.0</td>\n",
       "      <td>8.626665</td>\n",
       "    </tr>\n",
       "    <tr>\n",
       "      <th>60</th>\n",
       "      <td>BoJack Horseman</td>\n",
       "      <td>Animation, Comedy, Drama</td>\n",
       "      <td>8.8</td>\n",
       "      <td>152649.0</td>\n",
       "      <td>8.621910</td>\n",
       "    </tr>\n",
       "  </tbody>\n",
       "</table>\n",
       "</div>"
      ],
      "text/plain": [
       "                                                 title  \\\n",
       "4                                         Breaking Bad   \n",
       "53                                            Sherlock   \n",
       "33       The Lord of the Rings: The Return of the King   \n",
       "167                                         Death Note   \n",
       "2                                     Better Call Saul   \n",
       "36                                               Fargo   \n",
       "9    The Lord of the Rings: The Fellowship of the Ring   \n",
       "41               The Lord of the Rings: The Two Towers   \n",
       "498                                   Leyla and Mecnun   \n",
       "23                                        Black Mirror   \n",
       "7                                       Peaky Blinders   \n",
       "75                                              Narcos   \n",
       "355                                       Kota Factory   \n",
       "5                                      Stranger Things   \n",
       "274                                   When They See Us   \n",
       "54                                              Dexter   \n",
       "112                                         Twin Peaks   \n",
       "102                                     House of Cards   \n",
       "31                                                Dark   \n",
       "60                                     BoJack Horseman   \n",
       "\n",
       "                        genre  rating      votes  weightedAvg  \n",
       "4      Crime, Drama, Thriller     9.5  1831340.0     9.475954  \n",
       "53      Crime, Drama, Mystery     9.1   913816.0     9.060775  \n",
       "33   Action, Adventure, Drama     9.0  1819157.0     8.981160  \n",
       "167   Animation, Crime, Drama     9.0   316300.0     8.896898  \n",
       "2                Crime, Drama     8.9   501384.0     8.837303  \n",
       "36     Crime, Drama, Thriller     8.9   369918.0     8.816149  \n",
       "9    Action, Adventure, Drama     8.8  1844055.0     8.783529  \n",
       "41   Action, Adventure, Drama     8.8  1642708.0     8.781534  \n",
       "498  Adventure, Comedy, Drama     9.1    93632.0     8.776980  \n",
       "23     Drama, Mystery, Sci-Fi     8.8   535782.0     8.744737  \n",
       "7                Crime, Drama     8.8   531058.0     8.744263  \n",
       "75    Biography, Crime, Drama     8.8   416307.0     8.729595  \n",
       "355             Comedy, Drama     9.1    71138.0     8.697019  \n",
       "5      Drama, Fantasy, Horror     8.7  1149889.0     8.675440  \n",
       "274   Biography, Crime, Drama     8.9   119339.0     8.665066  \n",
       "54      Crime, Drama, Mystery     8.7   720792.0     8.661208  \n",
       "112     Crime, Drama, Mystery     8.8   196192.0     8.657823  \n",
       "102                     Drama     8.7   500982.0     8.644833  \n",
       "31      Crime, Drama, Mystery     8.7   371981.0     8.626665  \n",
       "60   Animation, Comedy, Drama     8.8   152649.0     8.621910  "
      ]
     },
     "metadata": {},
     "output_type": "display_data"
    }
   ],
   "source": [
    "import warnings\n",
    "warnings.filterwarnings(\"ignore\")\n",
    "\n",
    "\n",
    "runRecommenderSystem(\"Drama\", 0.8, 20)"
   ]
  },
  {
   "cell_type": "code",
   "execution_count": null,
   "metadata": {},
   "outputs": [],
   "source": []
  }
 ],
 "metadata": {
  "kernelspec": {
   "display_name": "venv_All",
   "language": "python",
   "name": "python3"
  },
  "language_info": {
   "codemirror_mode": {
    "name": "ipython",
    "version": 3
   },
   "file_extension": ".py",
   "mimetype": "text/x-python",
   "name": "python",
   "nbconvert_exporter": "python",
   "pygments_lexer": "ipython3",
   "version": "3.10.12"
  }
 },
 "nbformat": 4,
 "nbformat_minor": 2
}
