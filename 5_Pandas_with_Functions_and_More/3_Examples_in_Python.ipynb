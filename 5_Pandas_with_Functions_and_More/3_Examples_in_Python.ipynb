{
 "cells": [
  {
   "cell_type": "markdown",
   "metadata": {},
   "source": [
    "<h1 align=\"center\"><font color=\"pink\">Examples in Python</font></h1>"
   ]
  },
  {
   "cell_type": "markdown",
   "metadata": {},
   "source": [
    "<font color=\"yellow\">Data Scientist.: Dr. Eddy Giusepe Chirinos Isidro</font>"
   ]
  },
  {
   "cell_type": "code",
   "execution_count": 1,
   "metadata": {},
   "outputs": [
    {
     "data": {
      "text/plain": [
       "[34, 33, 34, 34, 32, 33]"
      ]
     },
     "execution_count": 1,
     "metadata": {},
     "output_type": "execute_result"
    }
   ],
   "source": [
    "# List comprehension:\n",
    "\n",
    "years_of_birth = [1990, 1991, 1990, 1990, 1992, 1991]\n",
    "\n",
    "\"\"\"\n",
    "ages = []\n",
    "  for year in years_of_birth: \n",
    "    ages.append(2014 - year)\n",
    "\"\"\"\n",
    "# Melhor uso:\n",
    "\n",
    "ages = [2024 - year for year in years_of_birth]\n",
    "ages\n"
   ]
  },
  {
   "cell_type": "code",
   "execution_count": 2,
   "metadata": {},
   "outputs": [
    {
     "data": {
      "text/plain": [
       "[5, 10, 15, 10, 20, 30, 15, 30, 45]"
      ]
     },
     "execution_count": 2,
     "metadata": {},
     "output_type": "execute_result"
    }
   ],
   "source": [
    "# List comprehension:\n",
    "\n",
    "x = [1, 2, 3]\n",
    "y = [5, 10, 15]\n",
    "\n",
    "todos_os_produtos = [a*b for a in x for b in y]\n",
    "\n",
    "todos_os_produtos\n"
   ]
  },
  {
   "cell_type": "code",
   "execution_count": 7,
   "metadata": {},
   "outputs": [
    {
     "data": {
      "text/plain": [
       "[5, 15, 15, 45]"
      ]
     },
     "execution_count": 7,
     "metadata": {},
     "output_type": "execute_result"
    }
   ],
   "source": [
    "# List comprehension:\n",
    "\n",
    "x = [1, 2, 3]\n",
    "y = [5, 10, 15]\n",
    "\n",
    "customlist = [a*b for a in x for b in y if a*b%2 != 0] # Só o produto ímpar será adicionado à lista\n",
    "\n",
    "customlist"
   ]
  },
  {
   "cell_type": "code",
   "execution_count": null,
   "metadata": {},
   "outputs": [],
   "source": []
  }
 ],
 "metadata": {
  "kernelspec": {
   "display_name": "venv_All",
   "language": "python",
   "name": "python3"
  },
  "language_info": {
   "codemirror_mode": {
    "name": "ipython",
    "version": 3
   },
   "file_extension": ".py",
   "mimetype": "text/x-python",
   "name": "python",
   "nbconvert_exporter": "python",
   "pygments_lexer": "ipython3",
   "version": "3.10.12"
  }
 },
 "nbformat": 4,
 "nbformat_minor": 2
}
