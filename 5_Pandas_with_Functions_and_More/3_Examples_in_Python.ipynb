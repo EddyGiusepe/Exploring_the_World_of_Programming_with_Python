{
 "cells": [
  {
   "cell_type": "markdown",
   "metadata": {},
   "source": [
    "<h1 align=\"center\"><font color=\"pink\">Examples in Python</font></h1>"
   ]
  },
  {
   "cell_type": "markdown",
   "metadata": {},
   "source": [
    "<font color=\"yellow\">Data Scientist.: Dr. Eddy Giusepe Chirinos Isidro</font>"
   ]
  },
  {
   "cell_type": "code",
   "execution_count": 1,
   "metadata": {},
   "outputs": [
    {
     "data": {
      "text/plain": [
       "[34, 33, 34, 34, 32, 33]"
      ]
     },
     "execution_count": 1,
     "metadata": {},
     "output_type": "execute_result"
    }
   ],
   "source": [
    "# List comprehension:\n",
    "\n",
    "years_of_birth = [1990, 1991, 1990, 1990, 1992, 1991]\n",
    "\n",
    "\"\"\"\n",
    "ages = []\n",
    "  for year in years_of_birth: \n",
    "    ages.append(2014 - year)\n",
    "\"\"\"\n",
    "# Melhor uso:\n",
    "\n",
    "ages = [2024 - year for year in years_of_birth]\n",
    "ages\n"
   ]
  },
  {
   "cell_type": "code",
   "execution_count": 2,
   "metadata": {},
   "outputs": [
    {
     "data": {
      "text/plain": [
       "[5, 10, 15, 10, 20, 30, 15, 30, 45]"
      ]
     },
     "execution_count": 2,
     "metadata": {},
     "output_type": "execute_result"
    }
   ],
   "source": [
    "# List comprehension:\n",
    "\n",
    "x = [1, 2, 3]\n",
    "y = [5, 10, 15]\n",
    "\n",
    "todos_os_produtos = [a*b for a in x for b in y]\n",
    "\n",
    "todos_os_produtos\n"
   ]
  },
  {
   "cell_type": "code",
   "execution_count": 7,
   "metadata": {},
   "outputs": [
    {
     "data": {
      "text/plain": [
       "[5, 15, 15, 45]"
      ]
     },
     "execution_count": 7,
     "metadata": {},
     "output_type": "execute_result"
    }
   ],
   "source": [
    "# List comprehension:\n",
    "\n",
    "x = [1, 2, 3]\n",
    "y = [5, 10, 15]\n",
    "\n",
    "customlist = [a*b for a in x for b in y if a*b%2 != 0] # Só o produto ímpar será adicionado à lista\n",
    "\n",
    "customlist"
   ]
  },
  {
   "cell_type": "markdown",
   "metadata": {},
   "source": [
    "<font color=\"orange\">Verificação de Erros</font>"
   ]
  },
  {
   "cell_type": "code",
   "execution_count": 4,
   "metadata": {},
   "outputs": [
    {
     "name": "stdout",
     "output_type": "stream",
     "text": [
      "\u001b[0;32mVocê digitou:\u001b[m\u001b[0;33m23\u001b[0;33m\n",
      "\u001b[0;31mSua entrada deve ser um número entre 1 e 9 inclusive\u001b[0;31m\n",
      "\u001b[0;33mVocê deve inserir um número\u001b[m\n",
      "\u001b[0;32mVocê digitou:\u001b[m\u001b[0;33m1\u001b[0;33m\n",
      "\u001b[0;32mVocê digitou:\u001b[m\u001b[0;33m2\u001b[0;33m\n",
      "\u001b[0;32mVocê digitou:\u001b[m\u001b[0;33m3\u001b[0;33m\n",
      "\u001b[0;37mVocê precisou 3 tentativas para adivinhar o número 3\u001b[0;37m\n"
     ]
    }
   ],
   "source": [
    "YELLOW = \"\\033[0;33m\"\n",
    "GREEN = \"\\033[0;32m\"\n",
    "WHITE = \"\\033[0;37m\"\n",
    "RED = \"\\033[0;31m\"\n",
    "RESET= \"\\033[m\"\n",
    "\n",
    "import random\n",
    "\n",
    "number  = random.randint(1, 9)\n",
    "number_of_guesses = 0\n",
    "while True:\n",
    "    while True:\n",
    "        try:\n",
    "            guess = int(input(\"Adivinhe um número entre 1 e 9: \"))\n",
    "            print(f\"{GREEN}Você digitou:{RESET}{YELLOW}{guess}{YELLOW}\")\n",
    "            if guess >=1 and guess <= 9:\n",
    "                break\n",
    "            else:\n",
    "                print(f\"{RED}Sua entrada deve ser um número entre 1 e 9 inclusive{RED}\")\n",
    "        except ValueError: \n",
    "            print(f\"{YELLOW}Você deve inserir um número{RESET}\")\n",
    "\n",
    "    number_of_guesses = number_of_guesses + 1\n",
    "    if guess == number:\n",
    "        break\n",
    "\n",
    "print(f\"{WHITE}Você precisou {number_of_guesses} tentativas para adivinhar o número {number}{WHITE}\")\n"
   ]
  },
  {
   "cell_type": "code",
   "execution_count": null,
   "metadata": {},
   "outputs": [],
   "source": []
  }
 ],
 "metadata": {
  "kernelspec": {
   "display_name": "venv_All",
   "language": "python",
   "name": "python3"
  },
  "language_info": {
   "codemirror_mode": {
    "name": "ipython",
    "version": 3
   },
   "file_extension": ".py",
   "mimetype": "text/x-python",
   "name": "python",
   "nbconvert_exporter": "python",
   "pygments_lexer": "ipython3",
   "version": "3.10.12"
  }
 },
 "nbformat": 4,
 "nbformat_minor": 2
}
