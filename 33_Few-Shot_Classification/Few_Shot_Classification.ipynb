{
  "cells": [
    {
      "cell_type": "markdown",
      "metadata": {},
      "source": [
        "# <h1 align=\"center\"><font color=\"gree\">SetFit For Few Shot Classification of Advertisements</font></h1>"
      ]
    },
    {
      "cell_type": "markdown",
      "metadata": {},
      "source": [
        "<font color=\"pink\">Senior Data Scientist.: Dr. Eddy Giusepe Chirinos Isidro</font>"
      ]
    },
    {
      "cell_type": "markdown",
      "metadata": {},
      "source": [
        "<font color=\"orange\">Este Notebook foi baseado no Tutorial da [Dra. Ishita Gopal](https://ishitagopal.github.io/)</font>"
      ]
    },
    {
      "cell_type": "markdown",
      "metadata": {},
      "source": [
        "# <font color=\"red\">Few-shot classification</font>"
      ]
    },
    {
      "cell_type": "markdown",
      "metadata": {},
      "source": [
        "É uma abordagem de aprendizado de máquina projetada para treinar modelos com um número muito limitado de exemplos rotulados para cada classe. Ao contrário dos métodos tradicionais que exigem grandes conjuntos de dados para atingir um desempenho robusto, a `classificação few-shot` aproveita técnicas como `Transfer Learning`, `Data Augmentation`, etc. para generalizar a partir de apenas um punhado de amostras de treinamento. Isso é particularmente útil em cenários em que coletar dados rotulados é custoso ou impraticável."
      ]
    },
    {
      "cell_type": "markdown",
      "metadata": {},
      "source": [
        "# <font color=\"red\">Advertisement Classification Task</font>"
      ]
    },
    {
      "cell_type": "markdown",
      "metadata": {
        "id": "FFgntuvMxYOD"
      },
      "source": [
        "No tutorial, a `Dra. Ishita Gopal`, avalia o Few Shot Learning usando [SetFit](https://huggingface.co/docs/setfit/en/index) para a classificação de anúncios políticos, categorizando-os em categorias \"promote\" (`promover`) \"attack\" (`atacar`) ou \"contrast\" (`contraste`). Você pode encontrar uma discussão detalhada dos dados e da tarefa de classificação [aqui](https://colab.research.google.com/drive/1wz0btgzCYdXPzwVcuxCpRFiiJV13u7AZ?usp=sharing#scrollTo=4gQHpJdqKXFE). E em posts anteriores dela [1](https://colab.research.google.com/drive/1wz0btgzCYdXPzwVcuxCpRFiiJV13u7AZ?usp=sharing#scrollTo=4gQHpJdqKXFE) e  [2](https://colab.research.google.com/drive/1-tO8BRHArDWqZwe5hviqWfzxzyDBbDBs#scrollTo=jsEn3-SQ_B_Q), aí ela avaliou o desempenho do `Facebook/BART-large-MNLI` Modelo de `Classificação zero-shot` e do `Modelo SetFit` adaptado para classificação zero-shot. Ambos os modelos tiveram dificuldade para classificar a categoria \"contrast\".\n",
        "\n",
        "Para uma tarefa binária simplificada, onde a categoria \"contrast\" foi colapsada na categoria \"attack\", ela obtuvo uma accuracy balanceada de aproximadamente `80%` usando `Facebook/BART-large-MNLI`. Neste Notebook, exploraremos o `Few Shot Learning` e examinaremos seu desempenho aprimorado com dados de treinamento limitados!"
      ]
    },
    {
      "cell_type": "markdown",
      "metadata": {},
      "source": [
        "# <font color=\"red\">The process of Few Shot Learning with SetFit</font>"
      ]
    },
    {
      "cell_type": "markdown",
      "metadata": {},
      "source": [
        "* `Contrastive Tuning of Sentence Embeddings:` um modelo pré-treinado é `Fine-Tuned` usando um pequeno número de exemplos rotulados para cada categoria de anúncio (`advertisement`) por meio de aprendizado contrastivo (`contrastive learning`). A ideia é minimizar a perda de `similaridade de cosseno` para garantir que os `embeddings` de anúncios semelhantes fiquem mais próximos, enquanto anúncios diferentes são afastados, melhorando a diferenciação de classe.\n",
        "\n",
        "\n",
        "* `Tuning the Classifier:` Após otimizar os `embeddings`, um classificador é treinado sobre essas representações aprimoradas usando os poucos exemplos rotulados. O classificador aprende a estabelecer limites de decisão entre as categorias `\"promote\"`, `\"attack\"` e `\"contrast\"`. Durante a inferência, ele gera embeddings para novos anúncios políticos e prevê os rótulos de classe correspondentes."
      ]
    },
    {
      "cell_type": "markdown",
      "metadata": {},
      "source": [
        "# <font color=\"yellow\">Pacotes python, Carregar e limpar os dados</font>"
      ]
    },
    {
      "cell_type": "code",
      "execution_count": 1,
      "metadata": {
        "id": "X4h1xSr4ttSM"
      },
      "outputs": [],
      "source": [
        "%%capture\n",
        "%pip install sentence-transformers datasets setfit\n"
      ]
    },
    {
      "cell_type": "code",
      "execution_count": 3,
      "metadata": {
        "id": "411_c54dQS23"
      },
      "outputs": [],
      "source": [
        "import pandas as pd\n",
        "from sklearn.metrics import balanced_accuracy_score, confusion_matrix\n",
        "from datasets import Dataset\n",
        "from setfit import SetFitModel, Trainer, TrainingArguments, get_templated_dataset, sample_dataset\n",
        "from matplotlib import pyplot as plt\n",
        "import numpy as np\n",
        "\n",
        "# Atualizar  --> pip install --upgrade jupyter"
      ]
    },
    {
      "cell_type": "code",
      "execution_count": null,
      "metadata": {
        "colab": {
          "base_uri": "https://localhost:8080/",
          "height": 258
        },
        "id": "Ks07X6qAtAjV",
        "outputId": "d47cb4fe-d214-4ffc-bc6a-f84ec51a6d2c"
      },
      "outputs": [],
      "source": [
        "data = pd.read_csv('transcripts_df_clean.csv')\n",
        "data.head()\n",
        "# Rename variables\n",
        "data.rename(columns = {\"transcription\":\"text\", \"label\":\"label\"}, inplace = True)\n",
        "\n",
        "# print num of NAS\n",
        "print(f'Num NAs{data.text.isna().sum()}')\n",
        "\n",
        "# Remove rows with NAs\n",
        "data = data.loc[~data.text.isna()] # 3 NAs\n",
        "\n",
        "# print num of duplicate ads\n",
        "print(f'Num duplicates: {data.text.duplicated().sum()}') # 63 duplicates in the data\n",
        "\n",
        "# Remove duplicates\n",
        "data.drop_duplicates(subset=['text'], keep='first', inplace=True)\n",
        "print(f'Num duplicates: {data.text.duplicated().sum()}')\n",
        "\n",
        "# Keep only English Ads\n",
        "data = data.loc[data['is_english']==True]\n",
        "data.head()"
      ]
    },
    {
      "cell_type": "code",
      "execution_count": null,
      "metadata": {
        "colab": {
          "base_uri": "https://localhost:8080/",
          "height": 264
        },
        "id": "gGeCa0pcvKeZ",
        "outputId": "7baad3a8-4182-4089-a66b-f939295273da"
      },
      "outputs": [],
      "source": [
        "data.label.value_counts()"
      ]
    },
    {
      "cell_type": "code",
      "execution_count": null,
      "metadata": {
        "colab": {
          "base_uri": "https://localhost:8080/",
          "height": 502
        },
        "id": "Q2hXRW9hu3Yj",
        "outputId": "a8936a82-5540-425b-feba-14bbd73e8325"
      },
      "outputs": [],
      "source": [
        "# There is class imbalance and the contrast category has the least number of observations\n",
        "data.label.hist()\n"
      ]
    },
    {
      "cell_type": "markdown",
      "metadata": {
        "id": "5cO9j9jFrXio"
      },
      "source": [
        "# **Create Train and Test Dataset**"
      ]
    },
    {
      "cell_type": "code",
      "execution_count": null,
      "metadata": {
        "id": "KqVYG3jsr-4a"
      },
      "outputs": [],
      "source": [
        "def sample_data(data, label_column, num_samples):\n",
        "  sampled_df = data.groupby(label_column).apply(lambda x: x.sample(n=num_samples, random_state=42)).reset_index(level=label_column, drop=True)\n",
        "  return sampled_df\n",
        "\n",
        "def train_test_split(data, label_column, num_samples):\n",
        "  train_df = sample_data(data, label_column, num_samples)\n",
        "  test_df = data.drop(train_df.index)\n",
        "  return train_df, test_df"
      ]
    },
    {
      "cell_type": "code",
      "execution_count": null,
      "metadata": {
        "colab": {
          "base_uri": "https://localhost:8080/"
        },
        "id": "O1bUDiEw58QJ",
        "outputId": "18985feb-1d49-4d7f-c861-5c8b37ffad3f"
      },
      "outputs": [],
      "source": [
        "# Train data\n",
        "train_df, test_df = train_test_split(data, label_column=\"label\", num_samples=100)\n",
        "train_dataset = Dataset.from_pandas(train_df[[\"text\", \"label\"]])\n",
        "\n",
        "# Eval and Test dataset subset\n",
        "test_dataset = Dataset.from_pandas(test_df[[\"text\", \"label\"]])\n",
        "dataset_dict = test_dataset.train_test_split(test_size=500, seed=42)\n",
        "\n",
        "eval_dataset = dataset_dict[\"test\"] # Evaluate the models on this = 500 samples\n",
        "test_dataset = dataset_dict[\"train\"] # Remaining test data"
      ]
    },
    {
      "cell_type": "markdown",
      "metadata": {
        "id": "OlM0hv6tqrvn"
      },
      "source": [
        "# **Testing Different Settings for Tuning SetFit**\n",
        "\n",
        "I experimented with a few different parameters:\n",
        "\n",
        "1. **Increasing the Number of Samples per Class**: This was done to observe how many more samples were needed to see significant improvements in accuracy.\n",
        "2. **Testing Different Base Sentence Transformer Models**: I evaluated the performance of two distinct models.\n",
        "3. **Adjusting Iteration Settings**: I modified the number of text pairs generated for contrastive learning to assess its impact on model performance.\n",
        "\n",
        "Note that there are several other settings and hyperparameters we could adjust, such as tuning the learning rate, batch size, and classification head ([see documentation](https://huggingface.co/docs/setfit/en/how_to/hyperparameter_optimization)). However, in this post, I opted to use the default values for these parameters based on the provided recommendations.\n",
        "\n",
        "It is advisable to keep the [learning rate around 2e-5](https://github.com/huggingface/setfit/issues/208) and utilize the [sklearn classification head](https://wandb.ai/gladiator/SetFit/reports/SetFit-Efficient-Few-Shot-Learning-Without-Prompts--VmlldzozMDUyMzk2), as it performs better than the differentiable head and the SetFit head also takes longer to train. I opted for the top performing sentence transformers from the [sentence-transformers](https://www.sbert.net/docs/sentence_transformer/pretrained_models.html) library and selected two general-purpose models that were trained to detect semantic similarity between sentence pairs, a task that closely aligns with our text classification problem. For a similar application, see this [blog post](https://community.intel.com/t5/Blogs/Tech-Innovation/Artificial-Intelligence-AI/Sentence-Transformer-Fine-Tuning-SetFit/post/1407712) on Intel's website."
      ]
    },
    {
      "cell_type": "markdown",
      "metadata": {
        "id": "8LZiVbl6d3Qa"
      },
      "source": [
        "## **Training Sample Size Vs Balanced Accuracy**"
      ]
    },
    {
      "cell_type": "markdown",
      "metadata": {
        "id": "KwSKPzZIfE_s"
      },
      "source": [
        "I evalute the model on a random sample of 500 samples that reflect the true distribution of classes in the data."
      ]
    },
    {
      "cell_type": "code",
      "execution_count": null,
      "metadata": {
        "id": "PdIJN8I3Gojv"
      },
      "outputs": [],
      "source": [
        "# Define a custom metric function -- returns balanced acc and confusion matrix\n",
        "def balanced_accuracy(y_pred, y_true):\n",
        "  cm = confusion_matrix(y_true, y_pred)\n",
        "  balanced_acc = balanced_accuracy_score(y_true, y_pred)\n",
        "  return {'confusion_matrix': cm,\n",
        "          'balanced_accuracy': balanced_acc}"
      ]
    },
    {
      "cell_type": "code",
      "execution_count": null,
      "metadata": {
        "id": "GQ0b9iQAczVl"
      },
      "outputs": [],
      "source": [
        "models = [\"paraphrase-mpnet-base-v2\"] # \"all-mpnet-base-v2\"\n",
        "\n",
        "# Initialize a list to store evaluation results and run information\n",
        "results = []\n",
        "\n",
        "for model_name in models:\n",
        "  for num_train_samples in [25, 50, 75, 100]:\n",
        "    for num_iterations in [20]: # 15, 25\n",
        "\n",
        "      # Subset to the value in num_train_samples\n",
        "      train_dataset = sample_dataset(train_dataset, label_column=\"label\", num_samples=num_train_samples)\n",
        "      model = SetFitModel.from_pretrained(model_name)\n",
        "\n",
        "      # Set training arguments\n",
        "      args = TrainingArguments(\n",
        "          num_iterations=num_iterations,\n",
        "          batch_size=16,\n",
        "          evaluation_strategy=\"epoch\",\n",
        "        )\n",
        "\n",
        "      # Create trainer\n",
        "      trainer = Trainer(\n",
        "          model=model,\n",
        "          train_dataset=train_dataset,\n",
        "          eval_dataset=eval_dataset,\n",
        "          args=args,\n",
        "          metric=balanced_accuracy,\n",
        "        )\n",
        "\n",
        "      # Train the model\n",
        "      trainer.train()\n",
        "\n",
        "      # Evaluate the model on train and test dataset\n",
        "      eval_metrics_train = trainer.evaluate(dataset=train_dataset)\n",
        "      eval_metrics_test = trainer.evaluate(dataset=eval_dataset)\n",
        "\n",
        "      results_row = {\n",
        "            'model' : model_name,\n",
        "            'num_train_samples':num_train_samples,\n",
        "            #'num_iterations': num_iterations,\n",
        "            'train_balanced_accuracy': eval_metrics_train['balanced_accuracy'],\n",
        "            'test_balanced_accuracy': eval_metrics_test['balanced_accuracy'],\n",
        "            'test_confusion_matrix': eval_metrics_test['confusion_matrix']\n",
        "          }\n",
        "      print(results_row)\n",
        "      results.append(results_row)\n"
      ]
    },
    {
      "cell_type": "code",
      "execution_count": null,
      "metadata": {
        "id": "rDbVPeN6A0PM"
      },
      "outputs": [],
      "source": [
        "results = pd.DataFrame(results)\n",
        "#results.to_csv('results_runs.csv', index=False)"
      ]
    },
    {
      "cell_type": "code",
      "execution_count": null,
      "metadata": {
        "colab": {
          "base_uri": "https://localhost:8080/",
          "height": 472
        },
        "id": "6QB9IhGdRz9X",
        "outputId": "e4e3b5de-e95d-4154-af92-fabfc2663706"
      },
      "outputs": [],
      "source": [
        "# Plot using pandas built-in plotting functionality\n",
        "results.plot(x='num_train_samples', y='test_balanced_accuracy', kind='line', marker='o', linestyle='-', color='b', legend=False)\n",
        "\n",
        "# Adding titles and labels\n",
        "plt.title('Political Advertisement Classification Task')\n",
        "plt.xlabel('Number of Train Samples Per Class (Attack,  Promote, Contrast)')\n",
        "plt.ylabel('Test Balanced Accuracy')\n",
        "plt.ylim(0.6, .9)\n",
        "plt.grid(True)\n",
        "\n",
        "# Show the plot\n",
        "plt.show()"
      ]
    },
    {
      "cell_type": "markdown",
      "metadata": {
        "id": "cj3Nh0S8p6w_"
      },
      "source": [
        "The graph illustrates balanced accuracy as a function of the number of training samples (ad texts) provided. With only 100 training sentences per class and 20 contrastive pairs per sample, SetFit achieves an impressive 85% balanced accuracy 🥵🎉!!\n",
        "\n",
        "In contrast, both the zero-shot adaptation of SetFit ([implemented here](https://colab.research.google.com/drive/1-tO8BRHArDWqZwe5hviqWfzxzyDBbDBs#scrollTo=W-cv1hCioeFe)) and the `Facebook/BART-large-MNLI` zero-shot model ([implemented here](https://colab.research.google.com/drive/1wz0btgzCYdXPzwVcuxCpRFiiJV13u7AZ?usp=sharing)) performed poorly, with balanced accuracy of 43% and 60%, respectively. Traditional machine learning models like SVM and Random Forest also lagged, with balanced accuracy ranging from 60%-65%. Overall, the few-shot approach has **significantly improved** classification performance, delivering major gains with minimal data 🏆.\n"
      ]
    },
    {
      "cell_type": "markdown",
      "metadata": {
        "id": "3R8a8Q9h0bwo"
      },
      "source": [
        "## **Different Base Transformer Models and `num_iterations` Vs Balanced Accuracy**\n",
        "\n",
        "I also tested the performance of `all-mpnet-base-v2`. In all the runs below, the training data consisted of 25 labeled examples for each class, totaling 75 labeled examples. Since `paraphrase-mpnet-base-v2` performed better in these tests, and considering the GPU resources I had available, I decided to continue working with `paraphrase-mpnet-base-v2`.\n",
        "\n",
        "| Model                    | Num Iterations | Test Balanced Accuracy |\n",
        "|--------------------------|----------------|------------------------|\n",
        "| all-mpnet-base-v2         | 15             | 0.67                   |\n",
        "| all-mpnet-base-v2         | 20             | 0.70                   |\n",
        "| all-mpnet-base-v2         | 25             | 0.69                   |\n",
        "| paraphrase-mpnet-base-v2  | 15             | 0.72                   |\n",
        "| paraphrase-mpnet-base-v2  | 20             | 0.72                   |\n",
        "| paraphrase-mpnet-base-v2  | 25             | 0.71                   |\n"
      ]
    },
    {
      "cell_type": "markdown",
      "metadata": {
        "id": "XGvfBQr_87VE"
      },
      "source": []
    },
    {
      "cell_type": "markdown",
      "metadata": {
        "id": "IpPx0BEhHQxu"
      },
      "source": [
        "# **Fine-Tuning based on best model**\n",
        "\n",
        "I used the best-performing model with the `paraphrase-mpnet-base-v2` sentence embedding model, 100 samples per class, and 20 iterations to train and evaluate the final model on the entire test dataset."
      ]
    },
    {
      "cell_type": "code",
      "execution_count": null,
      "metadata": {
        "colab": {
          "base_uri": "https://localhost:8080/",
          "height": 314,
          "referenced_widgets": [
            "e9ec94a1567d46f7b076ecf3feac1c80",
            "cf82a82c3b2343c3bf9d60b106845a1b",
            "3e06766f6e1243b0bb81adc98fd9ff53",
            "dc3580b95aba49178ab36082134803f6",
            "4f14ab09502f4b3b9cf4d6ecfd7cb900",
            "7c7cb66a228249c592dd751ff5007151",
            "7e20e2183edc43b7bb7ab0a61929ca5c",
            "f459d2f63644479b9ed6225cd54de831",
            "9ce9fb229c5c4333a31f4280aee5019d",
            "7516db3ec5cd445788e1ad15d807abcb",
            "97bdd0fb98284934ac40ab914397bd4e",
            "02c57aa58cd04c3a88b3d2bab7f21550",
            "8049629e5d7c4b7281ad59f40cee0b71",
            "2857cb56359548d3bf4545522b3b128f",
            "1207d8c06c334dcdbf21b6007c6ac938",
            "1c97d32eb5f04c27ae1deefcec156e70",
            "03aa056d2a024d48ab118f4b7ced48cc",
            "266c9f1a0bcd41eba7c00aa4e6f148d8",
            "094613bb853149c2a70643da1114ba2a",
            "99671b11240a44ed81cdebe7f7e63595",
            "349d7a75be734fd297b48157b1e4cd8c",
            "d1cb18f4e43c462492382b924e65a4fe"
          ]
        },
        "id": "n4FhH0b-y2wB",
        "outputId": "d6d69f87-95b9-4879-aa91-a21d2d800189"
      },
      "outputs": [],
      "source": [
        "# Train and test dataset -- using 100 samples per class for training\n",
        "train_df, test_df = train_test_split(data, label_column=\"label\", num_samples=100)\n",
        "train_dataset = Dataset.from_pandas(train_df[[\"text\", \"label\"]])\n",
        "test_dataset = Dataset.from_pandas(test_df[[\"text\", \"label\"]])\n",
        "\n",
        "# Fine Tune model\n",
        "model = SetFitModel.from_pretrained(\"paraphrase-mpnet-base-v2\")\n",
        "\n",
        "# Set training arguments\n",
        "args = TrainingArguments(\n",
        "    num_iterations=20,\n",
        "    eval_strategy=\"epoch\")\n",
        "\n",
        "# Create trainer\n",
        "\n",
        "trainer = Trainer(\n",
        "          model=model,\n",
        "          train_dataset=train_dataset,\n",
        "          eval_dataset=eval_dataset,\n",
        "          args=args,\n",
        "          metric=balanced_accuracy,\n",
        "        )\n",
        "\n",
        "# Train the model\n",
        "trainer.train()"
      ]
    },
    {
      "cell_type": "code",
      "execution_count": null,
      "metadata": {
        "colab": {
          "base_uri": "https://localhost:8080/"
        },
        "id": "edv3Uhaqjrsb",
        "outputId": "a3dc332c-49e3-4147-ece1-f25ea40e8c33"
      },
      "outputs": [],
      "source": [
        "trainer.evaluate()"
      ]
    },
    {
      "cell_type": "code",
      "execution_count": null,
      "metadata": {
        "colab": {
          "base_uri": "https://localhost:8080/"
        },
        "id": "egs_v2sPHi8B",
        "outputId": "6a1b3697-fcb8-4608-f062-81ff74da32ec"
      },
      "outputs": [],
      "source": [
        "results = trainer.evaluate(dataset=test_dataset)"
      ]
    },
    {
      "cell_type": "code",
      "execution_count": null,
      "metadata": {
        "colab": {
          "base_uri": "https://localhost:8080/"
        },
        "id": "hunq32_JOqOX",
        "outputId": "7b687cb3-2a75-4429-b12b-99a3d6095a78"
      },
      "outputs": [],
      "source": [
        "results"
      ]
    },
    {
      "cell_type": "code",
      "execution_count": null,
      "metadata": {
        "colab": {
          "base_uri": "https://localhost:8080/"
        },
        "id": "aPtFGpoeRy6R",
        "outputId": "cd434a35-ae78-4e71-b234-e9985f171c0a"
      },
      "outputs": [],
      "source": [
        "from sklearn.metrics import classification_report\n",
        "y_pred = trainer.model.predict(test_dataset['text'])\n",
        "print(classification_report(test_dataset['label'], y_pred))"
      ]
    },
    {
      "cell_type": "code",
      "execution_count": null,
      "metadata": {
        "colab": {
          "base_uri": "https://localhost:8080/",
          "height": 472
        },
        "id": "QM-SpNicQJBv",
        "outputId": "566f86f9-f30a-4b27-ec9a-df56e5c1111a"
      },
      "outputs": [],
      "source": [
        "import seaborn as sns\n",
        "sns.heatmap(results['confusion_matrix'], annot=True, fmt='d', cmap='Blues')\n",
        "plt.xlabel('Predicted Labels')\n",
        "plt.ylabel('True Labels')\n",
        "plt.title('Confusion Matrix')\n",
        "plt.show()"
      ]
    },
    {
      "cell_type": "markdown",
      "metadata": {
        "id": "yp8U4KveufjY"
      },
      "source": [
        "## **Results**\n",
        "Based on the classification report and confusion matrix, we observe that the overall performance on the test set remains consistent, with a balanced accuracy of 85%. The classifier performs exceptionally well on the Promote and Attack categories, but struggles a bit with the Contrast class. This lower performance for the Contrast category could be attributed to its inherently confusing nature, which is reflected in the low precision score for Class 2.Despite this challenge, the model effectively captures a significant portion of the actual Class 2 ads. To further improve this result, it may be beneficial to tune the model's parameters and incorporate additional labeled or synthetic data for the 'Contrast' class. Overall, these results are very impressive, especially considering that the model was trained with only 300 labeled examples!"
      ]
    },
    {
      "cell_type": "code",
      "execution_count": null,
      "metadata": {
        "id": "VscTeGebxO-1"
      },
      "outputs": [],
      "source": []
    }
  ],
  "metadata": {
    "accelerator": "GPU",
    "colab": {
      "gpuType": "T4",
      "provenance": []
    },
    "kernelspec": {
      "display_name": "venv_All",
      "language": "python",
      "name": "python3"
    },
    "language_info": {
      "codemirror_mode": {
        "name": "ipython",
        "version": 3
      },
      "file_extension": ".py",
      "mimetype": "text/x-python",
      "name": "python",
      "nbconvert_exporter": "python",
      "pygments_lexer": "ipython3",
      "version": "3.10.12"
    },
    "widgets": {
      "application/vnd.jupyter.widget-state+json": {
        "02c57aa58cd04c3a88b3d2bab7f21550": {
          "model_module": "@jupyter-widgets/controls",
          "model_module_version": "1.5.0",
          "model_name": "HBoxModel",
          "state": {
            "_dom_classes": [],
            "_model_module": "@jupyter-widgets/controls",
            "_model_module_version": "1.5.0",
            "_model_name": "HBoxModel",
            "_view_count": null,
            "_view_module": "@jupyter-widgets/controls",
            "_view_module_version": "1.5.0",
            "_view_name": "HBoxView",
            "box_style": "",
            "children": [
              "IPY_MODEL_8049629e5d7c4b7281ad59f40cee0b71",
              "IPY_MODEL_2857cb56359548d3bf4545522b3b128f",
              "IPY_MODEL_1207d8c06c334dcdbf21b6007c6ac938"
            ],
            "layout": "IPY_MODEL_1c97d32eb5f04c27ae1deefcec156e70"
          }
        },
        "03aa056d2a024d48ab118f4b7ced48cc": {
          "model_module": "@jupyter-widgets/base",
          "model_module_version": "1.2.0",
          "model_name": "LayoutModel",
          "state": {
            "_model_module": "@jupyter-widgets/base",
            "_model_module_version": "1.2.0",
            "_model_name": "LayoutModel",
            "_view_count": null,
            "_view_module": "@jupyter-widgets/base",
            "_view_module_version": "1.2.0",
            "_view_name": "LayoutView",
            "align_content": null,
            "align_items": null,
            "align_self": null,
            "border": null,
            "bottom": null,
            "display": null,
            "flex": null,
            "flex_flow": null,
            "grid_area": null,
            "grid_auto_columns": null,
            "grid_auto_flow": null,
            "grid_auto_rows": null,
            "grid_column": null,
            "grid_gap": null,
            "grid_row": null,
            "grid_template_areas": null,
            "grid_template_columns": null,
            "grid_template_rows": null,
            "height": null,
            "justify_content": null,
            "justify_items": null,
            "left": null,
            "margin": null,
            "max_height": null,
            "max_width": null,
            "min_height": null,
            "min_width": null,
            "object_fit": null,
            "object_position": null,
            "order": null,
            "overflow": null,
            "overflow_x": null,
            "overflow_y": null,
            "padding": null,
            "right": null,
            "top": null,
            "visibility": null,
            "width": null
          }
        },
        "094613bb853149c2a70643da1114ba2a": {
          "model_module": "@jupyter-widgets/base",
          "model_module_version": "1.2.0",
          "model_name": "LayoutModel",
          "state": {
            "_model_module": "@jupyter-widgets/base",
            "_model_module_version": "1.2.0",
            "_model_name": "LayoutModel",
            "_view_count": null,
            "_view_module": "@jupyter-widgets/base",
            "_view_module_version": "1.2.0",
            "_view_name": "LayoutView",
            "align_content": null,
            "align_items": null,
            "align_self": null,
            "border": null,
            "bottom": null,
            "display": null,
            "flex": null,
            "flex_flow": null,
            "grid_area": null,
            "grid_auto_columns": null,
            "grid_auto_flow": null,
            "grid_auto_rows": null,
            "grid_column": null,
            "grid_gap": null,
            "grid_row": null,
            "grid_template_areas": null,
            "grid_template_columns": null,
            "grid_template_rows": null,
            "height": null,
            "justify_content": null,
            "justify_items": null,
            "left": null,
            "margin": null,
            "max_height": null,
            "max_width": null,
            "min_height": null,
            "min_width": null,
            "object_fit": null,
            "object_position": null,
            "order": null,
            "overflow": null,
            "overflow_x": null,
            "overflow_y": null,
            "padding": null,
            "right": null,
            "top": null,
            "visibility": null,
            "width": null
          }
        },
        "1207d8c06c334dcdbf21b6007c6ac938": {
          "model_module": "@jupyter-widgets/controls",
          "model_module_version": "1.5.0",
          "model_name": "HTMLModel",
          "state": {
            "_dom_classes": [],
            "_model_module": "@jupyter-widgets/controls",
            "_model_module_version": "1.5.0",
            "_model_name": "HTMLModel",
            "_view_count": null,
            "_view_module": "@jupyter-widgets/controls",
            "_view_module_version": "1.5.0",
            "_view_name": "HTMLView",
            "description": "",
            "description_tooltip": null,
            "layout": "IPY_MODEL_349d7a75be734fd297b48157b1e4cd8c",
            "placeholder": "​",
            "style": "IPY_MODEL_d1cb18f4e43c462492382b924e65a4fe",
            "value": " 1/1 [00:00&lt;00:00,  9.09example/s]"
          }
        },
        "1c97d32eb5f04c27ae1deefcec156e70": {
          "model_module": "@jupyter-widgets/base",
          "model_module_version": "1.2.0",
          "model_name": "LayoutModel",
          "state": {
            "_model_module": "@jupyter-widgets/base",
            "_model_module_version": "1.2.0",
            "_model_name": "LayoutModel",
            "_view_count": null,
            "_view_module": "@jupyter-widgets/base",
            "_view_module_version": "1.2.0",
            "_view_name": "LayoutView",
            "align_content": null,
            "align_items": null,
            "align_self": null,
            "border": null,
            "bottom": null,
            "display": null,
            "flex": null,
            "flex_flow": null,
            "grid_area": null,
            "grid_auto_columns": null,
            "grid_auto_flow": null,
            "grid_auto_rows": null,
            "grid_column": null,
            "grid_gap": null,
            "grid_row": null,
            "grid_template_areas": null,
            "grid_template_columns": null,
            "grid_template_rows": null,
            "height": null,
            "justify_content": null,
            "justify_items": null,
            "left": null,
            "margin": null,
            "max_height": null,
            "max_width": null,
            "min_height": null,
            "min_width": null,
            "object_fit": null,
            "object_position": null,
            "order": null,
            "overflow": null,
            "overflow_x": null,
            "overflow_y": null,
            "padding": null,
            "right": null,
            "top": null,
            "visibility": "hidden",
            "width": null
          }
        },
        "266c9f1a0bcd41eba7c00aa4e6f148d8": {
          "model_module": "@jupyter-widgets/controls",
          "model_module_version": "1.5.0",
          "model_name": "DescriptionStyleModel",
          "state": {
            "_model_module": "@jupyter-widgets/controls",
            "_model_module_version": "1.5.0",
            "_model_name": "DescriptionStyleModel",
            "_view_count": null,
            "_view_module": "@jupyter-widgets/base",
            "_view_module_version": "1.2.0",
            "_view_name": "StyleView",
            "description_width": ""
          }
        },
        "2857cb56359548d3bf4545522b3b128f": {
          "model_module": "@jupyter-widgets/controls",
          "model_module_version": "1.5.0",
          "model_name": "FloatProgressModel",
          "state": {
            "_dom_classes": [],
            "_model_module": "@jupyter-widgets/controls",
            "_model_module_version": "1.5.0",
            "_model_name": "FloatProgressModel",
            "_view_count": null,
            "_view_module": "@jupyter-widgets/controls",
            "_view_module_version": "1.5.0",
            "_view_name": "ProgressView",
            "bar_style": "",
            "description": "",
            "description_tooltip": null,
            "layout": "IPY_MODEL_094613bb853149c2a70643da1114ba2a",
            "max": 1,
            "min": 0,
            "orientation": "horizontal",
            "style": "IPY_MODEL_99671b11240a44ed81cdebe7f7e63595",
            "value": 1
          }
        },
        "349d7a75be734fd297b48157b1e4cd8c": {
          "model_module": "@jupyter-widgets/base",
          "model_module_version": "1.2.0",
          "model_name": "LayoutModel",
          "state": {
            "_model_module": "@jupyter-widgets/base",
            "_model_module_version": "1.2.0",
            "_model_name": "LayoutModel",
            "_view_count": null,
            "_view_module": "@jupyter-widgets/base",
            "_view_module_version": "1.2.0",
            "_view_name": "LayoutView",
            "align_content": null,
            "align_items": null,
            "align_self": null,
            "border": null,
            "bottom": null,
            "display": null,
            "flex": null,
            "flex_flow": null,
            "grid_area": null,
            "grid_auto_columns": null,
            "grid_auto_flow": null,
            "grid_auto_rows": null,
            "grid_column": null,
            "grid_gap": null,
            "grid_row": null,
            "grid_template_areas": null,
            "grid_template_columns": null,
            "grid_template_rows": null,
            "height": null,
            "justify_content": null,
            "justify_items": null,
            "left": null,
            "margin": null,
            "max_height": null,
            "max_width": null,
            "min_height": null,
            "min_width": null,
            "object_fit": null,
            "object_position": null,
            "order": null,
            "overflow": null,
            "overflow_x": null,
            "overflow_y": null,
            "padding": null,
            "right": null,
            "top": null,
            "visibility": null,
            "width": null
          }
        },
        "3e06766f6e1243b0bb81adc98fd9ff53": {
          "model_module": "@jupyter-widgets/controls",
          "model_module_version": "1.5.0",
          "model_name": "FloatProgressModel",
          "state": {
            "_dom_classes": [],
            "_model_module": "@jupyter-widgets/controls",
            "_model_module_version": "1.5.0",
            "_model_name": "FloatProgressModel",
            "_view_count": null,
            "_view_module": "@jupyter-widgets/controls",
            "_view_module_version": "1.5.0",
            "_view_name": "ProgressView",
            "bar_style": "success",
            "description": "",
            "description_tooltip": null,
            "layout": "IPY_MODEL_f459d2f63644479b9ed6225cd54de831",
            "max": 300,
            "min": 0,
            "orientation": "horizontal",
            "style": "IPY_MODEL_9ce9fb229c5c4333a31f4280aee5019d",
            "value": 300
          }
        },
        "4f14ab09502f4b3b9cf4d6ecfd7cb900": {
          "model_module": "@jupyter-widgets/base",
          "model_module_version": "1.2.0",
          "model_name": "LayoutModel",
          "state": {
            "_model_module": "@jupyter-widgets/base",
            "_model_module_version": "1.2.0",
            "_model_name": "LayoutModel",
            "_view_count": null,
            "_view_module": "@jupyter-widgets/base",
            "_view_module_version": "1.2.0",
            "_view_name": "LayoutView",
            "align_content": null,
            "align_items": null,
            "align_self": null,
            "border": null,
            "bottom": null,
            "display": null,
            "flex": null,
            "flex_flow": null,
            "grid_area": null,
            "grid_auto_columns": null,
            "grid_auto_flow": null,
            "grid_auto_rows": null,
            "grid_column": null,
            "grid_gap": null,
            "grid_row": null,
            "grid_template_areas": null,
            "grid_template_columns": null,
            "grid_template_rows": null,
            "height": null,
            "justify_content": null,
            "justify_items": null,
            "left": null,
            "margin": null,
            "max_height": null,
            "max_width": null,
            "min_height": null,
            "min_width": null,
            "object_fit": null,
            "object_position": null,
            "order": null,
            "overflow": null,
            "overflow_x": null,
            "overflow_y": null,
            "padding": null,
            "right": null,
            "top": null,
            "visibility": null,
            "width": null
          }
        },
        "7516db3ec5cd445788e1ad15d807abcb": {
          "model_module": "@jupyter-widgets/base",
          "model_module_version": "1.2.0",
          "model_name": "LayoutModel",
          "state": {
            "_model_module": "@jupyter-widgets/base",
            "_model_module_version": "1.2.0",
            "_model_name": "LayoutModel",
            "_view_count": null,
            "_view_module": "@jupyter-widgets/base",
            "_view_module_version": "1.2.0",
            "_view_name": "LayoutView",
            "align_content": null,
            "align_items": null,
            "align_self": null,
            "border": null,
            "bottom": null,
            "display": null,
            "flex": null,
            "flex_flow": null,
            "grid_area": null,
            "grid_auto_columns": null,
            "grid_auto_flow": null,
            "grid_auto_rows": null,
            "grid_column": null,
            "grid_gap": null,
            "grid_row": null,
            "grid_template_areas": null,
            "grid_template_columns": null,
            "grid_template_rows": null,
            "height": null,
            "justify_content": null,
            "justify_items": null,
            "left": null,
            "margin": null,
            "max_height": null,
            "max_width": null,
            "min_height": null,
            "min_width": null,
            "object_fit": null,
            "object_position": null,
            "order": null,
            "overflow": null,
            "overflow_x": null,
            "overflow_y": null,
            "padding": null,
            "right": null,
            "top": null,
            "visibility": null,
            "width": null
          }
        },
        "7c7cb66a228249c592dd751ff5007151": {
          "model_module": "@jupyter-widgets/base",
          "model_module_version": "1.2.0",
          "model_name": "LayoutModel",
          "state": {
            "_model_module": "@jupyter-widgets/base",
            "_model_module_version": "1.2.0",
            "_model_name": "LayoutModel",
            "_view_count": null,
            "_view_module": "@jupyter-widgets/base",
            "_view_module_version": "1.2.0",
            "_view_name": "LayoutView",
            "align_content": null,
            "align_items": null,
            "align_self": null,
            "border": null,
            "bottom": null,
            "display": null,
            "flex": null,
            "flex_flow": null,
            "grid_area": null,
            "grid_auto_columns": null,
            "grid_auto_flow": null,
            "grid_auto_rows": null,
            "grid_column": null,
            "grid_gap": null,
            "grid_row": null,
            "grid_template_areas": null,
            "grid_template_columns": null,
            "grid_template_rows": null,
            "height": null,
            "justify_content": null,
            "justify_items": null,
            "left": null,
            "margin": null,
            "max_height": null,
            "max_width": null,
            "min_height": null,
            "min_width": null,
            "object_fit": null,
            "object_position": null,
            "order": null,
            "overflow": null,
            "overflow_x": null,
            "overflow_y": null,
            "padding": null,
            "right": null,
            "top": null,
            "visibility": null,
            "width": null
          }
        },
        "7e20e2183edc43b7bb7ab0a61929ca5c": {
          "model_module": "@jupyter-widgets/controls",
          "model_module_version": "1.5.0",
          "model_name": "DescriptionStyleModel",
          "state": {
            "_model_module": "@jupyter-widgets/controls",
            "_model_module_version": "1.5.0",
            "_model_name": "DescriptionStyleModel",
            "_view_count": null,
            "_view_module": "@jupyter-widgets/base",
            "_view_module_version": "1.2.0",
            "_view_name": "StyleView",
            "description_width": ""
          }
        },
        "8049629e5d7c4b7281ad59f40cee0b71": {
          "model_module": "@jupyter-widgets/controls",
          "model_module_version": "1.5.0",
          "model_name": "HTMLModel",
          "state": {
            "_dom_classes": [],
            "_model_module": "@jupyter-widgets/controls",
            "_model_module_version": "1.5.0",
            "_model_name": "HTMLModel",
            "_view_count": null,
            "_view_module": "@jupyter-widgets/controls",
            "_view_module_version": "1.5.0",
            "_view_name": "HTMLView",
            "description": "",
            "description_tooltip": null,
            "layout": "IPY_MODEL_03aa056d2a024d48ab118f4b7ced48cc",
            "placeholder": "​",
            "style": "IPY_MODEL_266c9f1a0bcd41eba7c00aa4e6f148d8",
            "value": "Computing widget examples: 100%"
          }
        },
        "97bdd0fb98284934ac40ab914397bd4e": {
          "model_module": "@jupyter-widgets/controls",
          "model_module_version": "1.5.0",
          "model_name": "DescriptionStyleModel",
          "state": {
            "_model_module": "@jupyter-widgets/controls",
            "_model_module_version": "1.5.0",
            "_model_name": "DescriptionStyleModel",
            "_view_count": null,
            "_view_module": "@jupyter-widgets/base",
            "_view_module_version": "1.2.0",
            "_view_name": "StyleView",
            "description_width": ""
          }
        },
        "99671b11240a44ed81cdebe7f7e63595": {
          "model_module": "@jupyter-widgets/controls",
          "model_module_version": "1.5.0",
          "model_name": "ProgressStyleModel",
          "state": {
            "_model_module": "@jupyter-widgets/controls",
            "_model_module_version": "1.5.0",
            "_model_name": "ProgressStyleModel",
            "_view_count": null,
            "_view_module": "@jupyter-widgets/base",
            "_view_module_version": "1.2.0",
            "_view_name": "StyleView",
            "bar_color": null,
            "description_width": ""
          }
        },
        "9ce9fb229c5c4333a31f4280aee5019d": {
          "model_module": "@jupyter-widgets/controls",
          "model_module_version": "1.5.0",
          "model_name": "ProgressStyleModel",
          "state": {
            "_model_module": "@jupyter-widgets/controls",
            "_model_module_version": "1.5.0",
            "_model_name": "ProgressStyleModel",
            "_view_count": null,
            "_view_module": "@jupyter-widgets/base",
            "_view_module_version": "1.2.0",
            "_view_name": "StyleView",
            "bar_color": null,
            "description_width": ""
          }
        },
        "cf82a82c3b2343c3bf9d60b106845a1b": {
          "model_module": "@jupyter-widgets/controls",
          "model_module_version": "1.5.0",
          "model_name": "HTMLModel",
          "state": {
            "_dom_classes": [],
            "_model_module": "@jupyter-widgets/controls",
            "_model_module_version": "1.5.0",
            "_model_name": "HTMLModel",
            "_view_count": null,
            "_view_module": "@jupyter-widgets/controls",
            "_view_module_version": "1.5.0",
            "_view_name": "HTMLView",
            "description": "",
            "description_tooltip": null,
            "layout": "IPY_MODEL_7c7cb66a228249c592dd751ff5007151",
            "placeholder": "​",
            "style": "IPY_MODEL_7e20e2183edc43b7bb7ab0a61929ca5c",
            "value": "Map: 100%"
          }
        },
        "d1cb18f4e43c462492382b924e65a4fe": {
          "model_module": "@jupyter-widgets/controls",
          "model_module_version": "1.5.0",
          "model_name": "DescriptionStyleModel",
          "state": {
            "_model_module": "@jupyter-widgets/controls",
            "_model_module_version": "1.5.0",
            "_model_name": "DescriptionStyleModel",
            "_view_count": null,
            "_view_module": "@jupyter-widgets/base",
            "_view_module_version": "1.2.0",
            "_view_name": "StyleView",
            "description_width": ""
          }
        },
        "dc3580b95aba49178ab36082134803f6": {
          "model_module": "@jupyter-widgets/controls",
          "model_module_version": "1.5.0",
          "model_name": "HTMLModel",
          "state": {
            "_dom_classes": [],
            "_model_module": "@jupyter-widgets/controls",
            "_model_module_version": "1.5.0",
            "_model_name": "HTMLModel",
            "_view_count": null,
            "_view_module": "@jupyter-widgets/controls",
            "_view_module_version": "1.5.0",
            "_view_name": "HTMLView",
            "description": "",
            "description_tooltip": null,
            "layout": "IPY_MODEL_7516db3ec5cd445788e1ad15d807abcb",
            "placeholder": "​",
            "style": "IPY_MODEL_97bdd0fb98284934ac40ab914397bd4e",
            "value": " 300/300 [00:00&lt;00:00, 5584.96 examples/s]"
          }
        },
        "e9ec94a1567d46f7b076ecf3feac1c80": {
          "model_module": "@jupyter-widgets/controls",
          "model_module_version": "1.5.0",
          "model_name": "HBoxModel",
          "state": {
            "_dom_classes": [],
            "_model_module": "@jupyter-widgets/controls",
            "_model_module_version": "1.5.0",
            "_model_name": "HBoxModel",
            "_view_count": null,
            "_view_module": "@jupyter-widgets/controls",
            "_view_module_version": "1.5.0",
            "_view_name": "HBoxView",
            "box_style": "",
            "children": [
              "IPY_MODEL_cf82a82c3b2343c3bf9d60b106845a1b",
              "IPY_MODEL_3e06766f6e1243b0bb81adc98fd9ff53",
              "IPY_MODEL_dc3580b95aba49178ab36082134803f6"
            ],
            "layout": "IPY_MODEL_4f14ab09502f4b3b9cf4d6ecfd7cb900"
          }
        },
        "f459d2f63644479b9ed6225cd54de831": {
          "model_module": "@jupyter-widgets/base",
          "model_module_version": "1.2.0",
          "model_name": "LayoutModel",
          "state": {
            "_model_module": "@jupyter-widgets/base",
            "_model_module_version": "1.2.0",
            "_model_name": "LayoutModel",
            "_view_count": null,
            "_view_module": "@jupyter-widgets/base",
            "_view_module_version": "1.2.0",
            "_view_name": "LayoutView",
            "align_content": null,
            "align_items": null,
            "align_self": null,
            "border": null,
            "bottom": null,
            "display": null,
            "flex": null,
            "flex_flow": null,
            "grid_area": null,
            "grid_auto_columns": null,
            "grid_auto_flow": null,
            "grid_auto_rows": null,
            "grid_column": null,
            "grid_gap": null,
            "grid_row": null,
            "grid_template_areas": null,
            "grid_template_columns": null,
            "grid_template_rows": null,
            "height": null,
            "justify_content": null,
            "justify_items": null,
            "left": null,
            "margin": null,
            "max_height": null,
            "max_width": null,
            "min_height": null,
            "min_width": null,
            "object_fit": null,
            "object_position": null,
            "order": null,
            "overflow": null,
            "overflow_x": null,
            "overflow_y": null,
            "padding": null,
            "right": null,
            "top": null,
            "visibility": null,
            "width": null
          }
        }
      }
    }
  },
  "nbformat": 4,
  "nbformat_minor": 0
}
