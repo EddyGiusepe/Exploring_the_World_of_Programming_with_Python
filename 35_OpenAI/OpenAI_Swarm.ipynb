{
 "cells": [
  {
   "cell_type": "markdown",
   "metadata": {},
   "source": [
    "# <h1 align=\"center\"><font color=\"gree\">OpenAI Swarm : A new Multi AI-Agent framework</font></h1>"
   ]
  },
  {
   "cell_type": "markdown",
   "metadata": {},
   "source": [
    "<font color=\"pink\">Senior Data Scientist.: Dr. Eddy Giusepe Chirinos Isidro</font>"
   ]
  },
  {
   "cell_type": "markdown",
   "metadata": {},
   "source": [
    "Este Notebook segue o tutorial de [Mehul Gupta](https://medium.com/data-science-in-your-pocket/openai-swarm-a-new-multi-ai-agent-framework-38e96d6a4acd). \n",
    "\n",
    "\n",
    "Concorrência para `AutoGen`, `CrewAI`, `OpenDevin` e `LangGraph`."
   ]
  },
  {
   "cell_type": "markdown",
   "metadata": {},
   "source": [
    "# <font color=\"red\">`Exemplo 1:` Swarm</font>"
   ]
  },
  {
   "cell_type": "markdown",
   "metadata": {},
   "source": [
    "```\n",
    "pip install git+ssh://git@github.com/openai/swarm.git\n",
    "```"
   ]
  },
  {
   "cell_type": "code",
   "execution_count": 1,
   "metadata": {},
   "outputs": [],
   "source": [
    "import openai\n",
    "import os\n",
    "from dotenv import load_dotenv, find_dotenv\n",
    "_ = load_dotenv(find_dotenv()) # read local .env file\n",
    "#openai.api_key  = os.environ['OPENAI_API_KEY']\n",
    "#Eddy_key_openai  = os.environ['OPENAI_API_KEY']\n",
    "\n",
    "#from openai import OpenAI\n",
    "#client = OpenAI(api_key=Eddy_key_openai)"
   ]
  },
  {
   "cell_type": "code",
   "execution_count": 2,
   "metadata": {},
   "outputs": [
    {
     "name": "stdout",
     "output_type": "stream",
     "text": [
      "¡Hola! Estoy bien, gracias. ¿Y tú cómo estás?\n"
     ]
    }
   ],
   "source": [
    "from swarm import Swarm, Agent\n",
    "\n",
    "client = Swarm()\n",
    "\n",
    "\n",
    "english_agent = Agent(\n",
    "    name=\"Agente Inglês\",\n",
    "    instructions=\"Você só fala inglês.\",\n",
    ")\n",
    "\n",
    "spanish_agent = Agent(\n",
    "    name=\"Agente Espanhol\",\n",
    "    instructions=\"Você só fala espanhol.\",\n",
    ")\n",
    "\n",
    "\n",
    "def transfer_to_spanish_agent():\n",
    "    \"\"\"Transfira usuários que falam espanhol imediatamente.\"\"\"\n",
    "    return spanish_agent\n",
    "\n",
    "\n",
    "english_agent.functions.append(transfer_to_spanish_agent)\n",
    "\n",
    "messages = [{\"role\": \"user\", \"content\": \"Hola. ¿Cómo estás?\"}]\n",
    "\n",
    "response = client.run(agent=english_agent, messages=messages)\n",
    "\n",
    "print(response.messages[-1][\"content\"])"
   ]
  },
  {
   "cell_type": "markdown",
   "metadata": {},
   "source": [
    "# <font color=\"red\">`Exemplo 2:` Swarm</font>"
   ]
  },
  {
   "cell_type": "code",
   "execution_count": 3,
   "metadata": {},
   "outputs": [
    {
     "name": "stdout",
     "output_type": "stream",
     "text": [
      "O clima em Nova York está ensolarado.\n"
     ]
    }
   ],
   "source": [
    "from swarm import Swarm, Agent\n",
    "\n",
    "\n",
    "# Definir funções do agente:\n",
    "def get_weather(location, time=\"now\"):\n",
    "    # Função para obter informações meteorológicas\n",
    "    return f\"O clima em {location} no {time} é ensolarado.\"\n",
    "def send_email(recipient, subject, body):\n",
    "    # Função para enviar um e-mail\n",
    "    return \"E-mail enviado com sucesso.\"\n",
    "\n",
    "\n",
    "# Definir agentes:\n",
    "weather_agent = Agent(\n",
    "    name=\"Agente do Tempo\",\n",
    "    instructions=\"Forneça atualizações meteorológicas.\",\n",
    "    functions=[get_weather, send_email],\n",
    ")\n",
    "\n",
    "\n",
    "# Initialise Swarm client and run conversation\n",
    "client = Swarm()\n",
    "\n",
    "response = client.run(\n",
    "    agent=weather_agent,\n",
    "    messages=[{\"role\": \"user\", \"content\": \"Como está o clima em Nova York?\"}],\n",
    ")\n",
    "\n",
    "\n",
    "print(response.messages[-1][\"content\"])"
   ]
  },
  {
   "cell_type": "code",
   "execution_count": null,
   "metadata": {},
   "outputs": [],
   "source": []
  }
 ],
 "metadata": {
  "kernelspec": {
   "display_name": "venv_All",
   "language": "python",
   "name": "python3"
  },
  "language_info": {
   "codemirror_mode": {
    "name": "ipython",
    "version": 3
   },
   "file_extension": ".py",
   "mimetype": "text/x-python",
   "name": "python",
   "nbconvert_exporter": "python",
   "pygments_lexer": "ipython3",
   "version": "3.10.12"
  }
 },
 "nbformat": 4,
 "nbformat_minor": 2
}
