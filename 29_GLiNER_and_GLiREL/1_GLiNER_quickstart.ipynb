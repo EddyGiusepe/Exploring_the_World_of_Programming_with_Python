{
 "cells": [
  {
   "cell_type": "markdown",
   "metadata": {},
   "source": [
    "# <h1 align=\"center\"><font color=\"red\">Starting with GLiNER</font></h1>"
   ]
  },
  {
   "cell_type": "markdown",
   "metadata": {},
   "source": [
    "<font color=\"yellow\">Senior Data Scientist.: Dr. Eddy Giusepe Chirinos Isidro</font>"
   ]
  },
  {
   "cell_type": "markdown",
   "metadata": {},
   "source": [
    "Links de estudo:\n",
    "\n",
    "* [GLiNER examples](https://github.com/urchade/GLiNER/tree/main/examples)\n",
    "\n",
    "* [GLiNER vs GPT](https://medium.com/@arjun.s.0717/unveiling-the-ner-annotation-ace-gliner-vs-gpt-f2e4696ddea0)"
   ]
  },
  {
   "cell_type": "markdown",
   "metadata": {},
   "source": [
    "# <font color=\"gree\">`Exemplo 1:` GLiNER</font>"
   ]
  },
  {
   "cell_type": "code",
   "execution_count": 4,
   "metadata": {},
   "outputs": [
    {
     "name": "stdout",
     "output_type": "stream",
     "text": [
      "True\n"
     ]
    }
   ],
   "source": [
    "import torch\n",
    "print(torch.cuda.is_available())  # Deve retornar True se CUDA estiver disponível\n",
    "\n",
    "import warnings\n",
    "warnings.filterwarnings('ignore')"
   ]
  },
  {
   "cell_type": "code",
   "execution_count": 5,
   "metadata": {},
   "outputs": [
    {
     "data": {
      "application/vnd.jupyter.widget-view+json": {
       "model_id": "9c03b7f8996b41248306a8c6040c6909",
       "version_major": 2,
       "version_minor": 0
      },
      "text/plain": [
       "Fetching 4 files:   0%|          | 0/4 [00:00<?, ?it/s]"
      ]
     },
     "metadata": {},
     "output_type": "display_data"
    }
   ],
   "source": [
    "from gliner import GLiNER\n",
    "\n",
    "\n",
    "# available models: https://huggingface.co/urchade\n",
    "model = GLiNER.from_pretrained(pretrained_model_name_or_path=\"urchade/gliner_medium\",\n",
    "                               device=\"cuda\", # or \"cpu\"\n",
    "                               max_length=300\n",
    "                              )\n"
   ]
  },
  {
   "cell_type": "code",
   "execution_count": 6,
   "metadata": {},
   "outputs": [
    {
     "name": "stderr",
     "output_type": "stream",
     "text": [
      "Asking to truncate to max_length but no maximum length is provided and the model has no predefined maximum length. Default to no truncation.\n"
     ]
    },
    {
     "name": "stdout",
     "output_type": "stream",
     "text": [
      "Eddy Giusepe => person\n",
      "Ciência de Dados => book\n",
      "Brasil => location\n",
      "Espírito Santo => location\n",
      "Brasil => location\n",
      "8 de abril de 2013 => date\n",
      "Ciência de Dados => book\n"
     ]
    }
   ],
   "source": [
    "text = \"\"\"\n",
    "       Meu nome é Eddy Giusepe, sou um entusiasta e leitor assíduo de livros de Ciência de Dados.\n",
    "       Vivo no Brasil, especificamente no estado do Espírito Santo. Minha chegada ao Brasil foi\n",
    "       em 8 de abril de 2013, e desde então tenho explorado e me aprofundado no campo da Ciência de Dados.\n",
    "       \"\"\"\n",
    "\n",
    "labels = [\"person\", \"book\", \"location\", \"date\", \"actor\", \"character\"]\n",
    "\n",
    "entities = model.predict_entities(text, labels, threshold=0.3, multi_label=True)\n",
    "\n",
    "for entity in entities:\n",
    "    print(entity[\"text\"], \"=>\", entity[\"label\"])"
   ]
  },
  {
   "cell_type": "markdown",
   "metadata": {},
   "source": [
    "# <font color=\"gree\">`Exemplo 2:` GLiNER</font>"
   ]
  },
  {
   "cell_type": "code",
   "execution_count": 7,
   "metadata": {},
   "outputs": [
    {
     "data": {
      "application/vnd.jupyter.widget-view+json": {
       "model_id": "07223e15bf4f404f970ee002da048bfa",
       "version_major": 2,
       "version_minor": 0
      },
      "text/plain": [
       "Fetching 4 files:   0%|          | 0/4 [00:00<?, ?it/s]"
      ]
     },
     "metadata": {},
     "output_type": "display_data"
    },
    {
     "data": {
      "text/plain": [
       "GLiNER(\n",
       "  (model): SpanModel(\n",
       "    (token_rep_layer): Encoder(\n",
       "      (bert_layer): Transformer(\n",
       "        (model): DebertaV2Model(\n",
       "          (embeddings): DebertaV2Embeddings(\n",
       "            (word_embeddings): Embedding(250105, 768, padding_idx=0)\n",
       "            (LayerNorm): LayerNorm((768,), eps=1e-07, elementwise_affine=True)\n",
       "            (dropout): StableDropout()\n",
       "          )\n",
       "          (encoder): DebertaV2Encoder(\n",
       "            (layer): ModuleList(\n",
       "              (0-11): 12 x DebertaV2Layer(\n",
       "                (attention): DebertaV2Attention(\n",
       "                  (self): DisentangledSelfAttention(\n",
       "                    (query_proj): Linear(in_features=768, out_features=768, bias=True)\n",
       "                    (key_proj): Linear(in_features=768, out_features=768, bias=True)\n",
       "                    (value_proj): Linear(in_features=768, out_features=768, bias=True)\n",
       "                    (pos_dropout): StableDropout()\n",
       "                    (dropout): StableDropout()\n",
       "                  )\n",
       "                  (output): DebertaV2SelfOutput(\n",
       "                    (dense): Linear(in_features=768, out_features=768, bias=True)\n",
       "                    (LayerNorm): LayerNorm((768,), eps=1e-07, elementwise_affine=True)\n",
       "                    (dropout): StableDropout()\n",
       "                  )\n",
       "                )\n",
       "                (intermediate): DebertaV2Intermediate(\n",
       "                  (dense): Linear(in_features=768, out_features=3072, bias=True)\n",
       "                  (intermediate_act_fn): GELUActivation()\n",
       "                )\n",
       "                (output): DebertaV2Output(\n",
       "                  (dense): Linear(in_features=3072, out_features=768, bias=True)\n",
       "                  (LayerNorm): LayerNorm((768,), eps=1e-07, elementwise_affine=True)\n",
       "                  (dropout): StableDropout()\n",
       "                )\n",
       "              )\n",
       "            )\n",
       "            (rel_embeddings): Embedding(512, 768)\n",
       "            (LayerNorm): LayerNorm((768,), eps=1e-07, elementwise_affine=True)\n",
       "          )\n",
       "        )\n",
       "      )\n",
       "      (projection): Linear(in_features=768, out_features=512, bias=True)\n",
       "    )\n",
       "    (rnn): LstmSeq2SeqEncoder(\n",
       "      (lstm): LSTM(512, 256, batch_first=True, bidirectional=True)\n",
       "    )\n",
       "    (span_rep_layer): SpanRepLayer(\n",
       "      (span_rep_layer): SpanMarkerV0(\n",
       "        (project_start): Sequential(\n",
       "          (0): Linear(in_features=512, out_features=2048, bias=True)\n",
       "          (1): ReLU()\n",
       "          (2): Dropout(p=0.4, inplace=False)\n",
       "          (3): Linear(in_features=2048, out_features=512, bias=True)\n",
       "        )\n",
       "        (project_end): Sequential(\n",
       "          (0): Linear(in_features=512, out_features=2048, bias=True)\n",
       "          (1): ReLU()\n",
       "          (2): Dropout(p=0.4, inplace=False)\n",
       "          (3): Linear(in_features=2048, out_features=512, bias=True)\n",
       "        )\n",
       "        (out_project): Sequential(\n",
       "          (0): Linear(in_features=1024, out_features=2048, bias=True)\n",
       "          (1): ReLU()\n",
       "          (2): Dropout(p=0.4, inplace=False)\n",
       "          (3): Linear(in_features=2048, out_features=512, bias=True)\n",
       "        )\n",
       "      )\n",
       "    )\n",
       "    (prompt_rep_layer): Sequential(\n",
       "      (0): Linear(in_features=512, out_features=2048, bias=True)\n",
       "      (1): ReLU()\n",
       "      (2): Dropout(p=0.4, inplace=False)\n",
       "      (3): Linear(in_features=2048, out_features=512, bias=True)\n",
       "    )\n",
       "  )\n",
       ")"
      ]
     },
     "execution_count": 7,
     "metadata": {},
     "output_type": "execute_result"
    }
   ],
   "source": [
    "from gliner import GLiNER\n",
    "from rich import print as rprint\n",
    "from typing import List, Dict, Any \n",
    "import os\n",
    "\n",
    "\n",
    "model = GLiNER.from_pretrained(\"urchade/gliner_multi-v2.1\"\n",
    "                               )\n",
    "model.eval()\n"
   ]
  },
  {
   "cell_type": "code",
   "execution_count": 8,
   "metadata": {},
   "outputs": [],
   "source": [
    "text = \"\"\"\n",
    "       Meu nome é Eddy Giusepe, sou um cientista de dados e um leitor assíduo de \n",
    "       livros e papers sobre Ciência de Dados. Atualmente, trabalho na Meta e recebo um\n",
    "       salário de 25.000 reais. Vivo no Brasil, especificamente no estado do Espírito\n",
    "       Santo, desde que cheguei ao país em 8 de abril de 2013. Além do meu trabalho e\n",
    "       estudos, mantenho um site pessoal chamado EddGiusepe, onde compartilho meu \n",
    "       conhecimento e experiências. Para relaxar e manter a forma, jogo futebol toda segunda-feira.\n",
    "       \"\"\"\n",
    "\n",
    "# Some of the entity types key to Financial Domain:\n",
    "labels = [\"INDUSTRY\", \"DATE\", \"COMPANY\", \"CARDINAL\",\n",
    "          \"PERSON\", \"ORGANIZATION\", \"LOCATION\",\n",
    "          \"NUMBER\"\n",
    "          ]"
   ]
  },
  {
   "cell_type": "code",
   "execution_count": null,
   "metadata": {},
   "outputs": [],
   "source": []
  }
 ],
 "metadata": {
  "kernelspec": {
   "display_name": "venv_All",
   "language": "python",
   "name": "python3"
  },
  "language_info": {
   "codemirror_mode": {
    "name": "ipython",
    "version": 3
   },
   "file_extension": ".py",
   "mimetype": "text/x-python",
   "name": "python",
   "nbconvert_exporter": "python",
   "pygments_lexer": "ipython3",
   "version": "3.10.12"
  }
 },
 "nbformat": 4,
 "nbformat_minor": 2
}
