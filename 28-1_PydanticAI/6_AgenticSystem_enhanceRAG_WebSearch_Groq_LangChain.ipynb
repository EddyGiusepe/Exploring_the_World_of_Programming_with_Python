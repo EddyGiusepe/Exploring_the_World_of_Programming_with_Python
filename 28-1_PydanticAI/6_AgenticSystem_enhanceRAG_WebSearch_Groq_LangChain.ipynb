{
 "cells": [
  {
   "cell_type": "markdown",
   "metadata": {},
   "source": [
    "# <h1 align=\"center\"><font color=\"gree\">Building an Agentic System to enhance RAG with Self-Grading and Web Search Capabilities using Pydantic.AI, Groq and Langchain</font></h1>"
   ]
  },
  {
   "cell_type": "markdown",
   "metadata": {},
   "source": [
    "<font color=\"pink\">Senior Data Scientist.: Dr. Eddy Giusepe Chirinos Isidro</font>"
   ]
  },
  {
   "cell_type": "markdown",
   "metadata": {},
   "source": [
    "Este notebook foi baseado no tutorial de [Plaban Nayak](https://medium.com/the-ai-forum/building-an-agentic-system-to-enhance-rag-with-self-grading-and-web-search-capabilities-using-3f9a1d885730)."
   ]
  },
  {
   "cell_type": "markdown",
   "metadata": {},
   "source": [
    "![](https://miro.medium.com/v2/resize:fit:4800/format:webp/1*I-kwOIjL3WrD3NL0WKLcYQ.jpeg)"
   ]
  },
  {
   "cell_type": "code",
   "execution_count": 12,
   "metadata": {},
   "outputs": [],
   "source": [
    "import nest_asyncio\n",
    "nest_asyncio.apply()\n",
    "\n",
    "import os\n",
    "import openai\n",
    "from dotenv import load_dotenv, find_dotenv\n",
    "_ = load_dotenv(find_dotenv()) # read local .env file\n",
    "Eddy_key_openai  = os.environ['OPENAI_API_KEY']\n",
    "Eddy_key_groq = os.environ['GROQ_API_KEY']\n",
    "Eddy_key_gemini = os.environ['GEMINI_API_KEY']\n",
    "Eddy_key_tavily = os.environ['TAVILY_API_KEY'] # https://tavily.com/"
   ]
  },
  {
   "cell_type": "code",
   "execution_count": 13,
   "metadata": {},
   "outputs": [],
   "source": [
    "from pydantic_ai import Agent\n",
    "from pydantic_ai.models.openai import OpenAIModel\n",
    "from pydantic_ai.models.groq import GroqModel\n",
    "\n",
    "openai_model = OpenAIModel('gpt-4o-mini')\n",
    "groq_model = GroqModel(\"llama-3.3-70b-versatile\")"
   ]
  },
  {
   "cell_type": "code",
   "execution_count": 14,
   "metadata": {},
   "outputs": [
    {
     "data": {
      "text/plain": [
       "[Document(metadata={'producer': 'Microsoft® Word for Microsoft 365', 'creator': 'Microsoft® Word for Microsoft 365', 'creationdate': '2024-09-01T14:52:50+00:00', 'moddate': '2024-09-01T14:52:50+00:00', 'source': './data/FIBROMIALGIA.pdf', 'total_pages': 9, 'page': 0, 'page_label': '1'}, page_content='Manejo da Fibromialgia: Uma Revisão de Literatura \\nMateus Fonseca Dumont et. Al. \\nBrazilian Journal of Implantology and Health Sciences \\nVolume 6, Issue 9 (2024), Page 31-40. \\n \\n \\n \\n \\n \\n \\n \\nMANEJO DA FIBROMIALGIA: UMA  REVISÃO DE \\nLITERATURA \\nMateus Fonseca Dumont 1, Ramon Sousa Dias 2, Raianny Maria Pessoa \\nVeiga2, Iasmyn Madalena de Carvalho Sandes Araujo2, Maxwellen Cabral De \\nAndrade2, Kaio Mascarenhas Ferraz da Silva 2, Vitória Maria dos Passos'),\n",
       " Document(metadata={'producer': 'Microsoft® Word for Microsoft 365', 'creator': 'Microsoft® Word for Microsoft 365', 'creationdate': '2024-09-01T14:52:50+00:00', 'moddate': '2024-09-01T14:52:50+00:00', 'source': './data/FIBROMIALGIA.pdf', 'total_pages': 9, 'page': 0, 'page_label': '1'}, page_content='Ferro2, Werllysson Carlos Santos de Oliveira Pereira 2, Thiago Lopes Nunes \\nMaia2, José Roberto Machado de Amorim Filho2, Wenno de Melo Cadete2, \\nAimée Kalinny Soares Simplício2, Caio Matheus Feitosa de Oliveira3, Yasmyn \\nBenthien de Oliveira4, Isadora Prates de Almeida Lopes Abelha1, Lucas Jorge \\nNardelli5, Keilyane Andrade Pimenta 6, Paula Fernanda Vieira 7, Aron Pinto \\nLugon8, Thiago Ferreira Amory9, Armando da Silva Moura10. \\n \\nREVISÃO DE LITERATURA \\n \\nRESUMO'),\n",
       " Document(metadata={'producer': 'Microsoft® Word for Microsoft 365', 'creator': 'Microsoft® Word for Microsoft 365', 'creationdate': '2024-09-01T14:52:50+00:00', 'moddate': '2024-09-01T14:52:50+00:00', 'source': './data/FIBROMIALGIA.pdf', 'total_pages': 9, 'page': 0, 'page_label': '1'}, page_content='REVISÃO DE LITERATURA \\n \\nRESUMO \\n \\nA fibromialgia é uma síndrome crônica caracterizada por dor musculoesquelética \\ngeneralizada, fadiga persistente e sensibilidade aumentada. A fisiopatologia envolve \\ndisfunção no sistema nervoso central, com influências genéticas, ambientais e \\npsicológicas. O manejo da fibromial gia exige uma abordagem multidisciplinar, que inclui \\ntratamentos farmacológicos como antidepressivos e anticonvulsivantes, combinados'),\n",
       " Document(metadata={'producer': 'Microsoft® Word for Microsoft 365', 'creator': 'Microsoft® Word for Microsoft 365', 'creationdate': '2024-09-01T14:52:50+00:00', 'moddate': '2024-09-01T14:52:50+00:00', 'source': './data/FIBROMIALGIA.pdf', 'total_pages': 9, 'page': 0, 'page_label': '1'}, page_content='com intervenções não farmacológicas, como exercícios físicos e terapia cognitivo -\\ncomportamental. Terapias complementares, como acupuntura e mindfulness, também \\ntêm mostrado eficácia no alívio dos sintomas. O manejo deve ser personalizado, \\nconsiderando as necessidades individuais dos pacientes e priorizando a melhoria da \\nqualidade de vida. Estratégias integradas e holísticas são fundamentais para o sucesso do'),\n",
       " Document(metadata={'producer': 'Microsoft® Word for Microsoft 365', 'creator': 'Microsoft® Word for Microsoft 365', 'creationdate': '2024-09-01T14:52:50+00:00', 'moddate': '2024-09-01T14:52:50+00:00', 'source': './data/FIBROMIALGIA.pdf', 'total_pages': 9, 'page': 0, 'page_label': '1'}, page_content='tratamento, destacando-se a importância de uma abordagem que trate não apenas a dor, \\nmas também os aspectos emocionais e psicológicos da síndrome.  \\n \\nPalavras-chave: Fibromialgia, manejo multidisciplinar, tratamentos farmacológicos, \\nterapia cognitivo-comportamental, acupuntura, qualidade de vida.'),\n",
       " Document(metadata={'producer': 'Microsoft® Word for Microsoft 365', 'creator': 'Microsoft® Word for Microsoft 365', 'creationdate': '2024-09-01T14:52:50+00:00', 'moddate': '2024-09-01T14:52:50+00:00', 'source': './data/FIBROMIALGIA.pdf', 'total_pages': 9, 'page': 1, 'page_label': '2'}, page_content='Manejo da Fibromialgia: Uma Revisão de Literatura \\nMateus Fonseca Dumont et. Al. \\nBrazilian Journal of Implantology and Health Sciences \\nVolume 6, Issue 9 (2024), Page 31-40. \\n \\n \\n \\nMANAGEMENT OF FIBROMYALGIA: A LITERATURE REVIEW \\n \\nAbstract \\n \\nFibromyalgia is a chronic syndrome characterized by widespread musculoskeletal pain, \\npersistent fatigue, and heightened sensitivity. Its pathophysiology involves central'),\n",
       " Document(metadata={'producer': 'Microsoft® Word for Microsoft 365', 'creator': 'Microsoft® Word for Microsoft 365', 'creationdate': '2024-09-01T14:52:50+00:00', 'moddate': '2024-09-01T14:52:50+00:00', 'source': './data/FIBROMIALGIA.pdf', 'total_pages': 9, 'page': 1, 'page_label': '2'}, page_content='nervous system dysfunction, with genetic, environmental, and psychological influences. \\nManaging fibromyalgia requires a multidisciplinary approach, incorporating \\npharmacological treatments like a ntidepressants and anticonvulsants, along with non -\\npharmacological interventions such as physical exercise and cognitive -behavioral \\ntherapy. Complementary therapies, including acupuncture and mindfulness, have also \\nshown efficacy in symptom relief. Managem ent must be personalized, focusing on'),\n",
       " Document(metadata={'producer': 'Microsoft® Word for Microsoft 365', 'creator': 'Microsoft® Word for Microsoft 365', 'creationdate': '2024-09-01T14:52:50+00:00', 'moddate': '2024-09-01T14:52:50+00:00', 'source': './data/FIBROMIALGIA.pdf', 'total_pages': 9, 'page': 1, 'page_label': '2'}, page_content='individual patient needs and enhancing quality of life. Integrated and holistic strategies \\nare crucial for treatment success, emphasizing the importance of addressing both the \\npain and the emotional and psychological aspects of the syndrome. \\n \\nKeywords: Fibromyalgia, multidisciplinary management, pharmacological treatments, \\ncognitive-behavioral therapy, acupuncture, quality of life. \\n \\n \\n \\n \\n \\n                         \\n \\nThis work is licensed under a Creative Commons Attribution 4.0'),\n",
       " Document(metadata={'producer': 'Microsoft® Word for Microsoft 365', 'creator': 'Microsoft® Word for Microsoft 365', 'creationdate': '2024-09-01T14:52:50+00:00', 'moddate': '2024-09-01T14:52:50+00:00', 'source': './data/FIBROMIALGIA.pdf', 'total_pages': 9, 'page': 1, 'page_label': '2'}, page_content='International License.\\nInstituição afiliada –  1Centro Universitário de Belo Horizonte, 2Faculdade de Ciências Médicas de Garanhuns AFYA,  \\n3Centro Universitário Uninovafapi, 4Universidade Federal do Cariri, 5Faculdade Ciências Médicas de Minas Gerais, \\n6FAMINAS Muriaé, 7Universidade do Sul de Santa Catarina Campos Pedra Branca, 8Centro Universitário Redentor, \\n9UNIFAA - Centro Universitário de Valença, 10Faculdade de Tecnologia e Ciências -FTC Salvador.'),\n",
       " Document(metadata={'producer': 'Microsoft® Word for Microsoft 365', 'creator': 'Microsoft® Word for Microsoft 365', 'creationdate': '2024-09-01T14:52:50+00:00', 'moddate': '2024-09-01T14:52:50+00:00', 'source': './data/FIBROMIALGIA.pdf', 'total_pages': 9, 'page': 1, 'page_label': '2'}, page_content='Dados da publicação:  Artigo recebido em 11 de Julho e publicado em 01 de Setembro de 2024.     \\nDOI: https://doi.org/10.36557/2674-8169.2024v6n9p31-40 \\nAutor correspondente:  Mateus Fonseca Dumont, mateusfonsecadumont3@gmail.com'),\n",
       " Document(metadata={'producer': 'Microsoft® Word for Microsoft 365', 'creator': 'Microsoft® Word for Microsoft 365', 'creationdate': '2024-09-01T14:52:50+00:00', 'moddate': '2024-09-01T14:52:50+00:00', 'source': './data/FIBROMIALGIA.pdf', 'total_pages': 9, 'page': 2, 'page_label': '3'}, page_content='Manejo da Fibromialgia: Uma Revisão de Literatura \\nMateus Fonseca Dumont et. Al. \\nBrazilian Journal of Implantology and Health Sciences \\nVolume 6, Issue 9 (2024), Page 31-40. \\n \\n \\nINTRODUÇÃO \\n \\nA fibromialgia é uma síndrome crônica complexa caracterizada por dor \\nmusculoesquelética generalizada, fadiga persistente e sensibilidade aumentada em \\nvárias regiões do corpo. Embora reconhecida como uma das condições reumatológicas'),\n",
       " Document(metadata={'producer': 'Microsoft® Word for Microsoft 365', 'creator': 'Microsoft® Word for Microsoft 365', 'creationdate': '2024-09-01T14:52:50+00:00', 'moddate': '2024-09-01T14:52:50+00:00', 'source': './data/FIBROMIALGIA.pdf', 'total_pages': 9, 'page': 2, 'page_label': '3'}, page_content='mais comuns, sua etiologia permanece obscura, sendo classificada como uma condição \\nidiopática. A prevalência global da fibromialgia gira em torno de 2%, afetando \\npredominantemente mulheres, especialmente na faixa etária de 35 a 44 anos. Além da \\ndor, pacientes com fibromialgia frequentemente apresentam comorbidades como \\ndepressão, ansiedade e síndr ome do intestino irritável, que agravam o sofrimento e \\nimpactam negativamente na qualidade de vida.'),\n",
       " Document(metadata={'producer': 'Microsoft® Word for Microsoft 365', 'creator': 'Microsoft® Word for Microsoft 365', 'creationdate': '2024-09-01T14:52:50+00:00', 'moddate': '2024-09-01T14:52:50+00:00', 'source': './data/FIBROMIALGIA.pdf', 'total_pages': 9, 'page': 2, 'page_label': '3'}, page_content='impactam negativamente na qualidade de vida. \\n \\nA fisiopatologia da fibromialgia ainda não é completamente compreendida, mas \\nestudos sugerem que a disfunção no sistema nervoso central desempenha um papel \\nfundamental na gênese da dor associada à doença. Essa disfunção pode resultar em uma \\nfalha nos mecanismos de supressão da dor, levando a uma hipersensibilidade dolorosa \\nsem a presença de lesões ou inflamações visíveis. Além disso, fatores genéticos,'),\n",
       " Document(metadata={'producer': 'Microsoft® Word for Microsoft 365', 'creator': 'Microsoft® Word for Microsoft 365', 'creationdate': '2024-09-01T14:52:50+00:00', 'moddate': '2024-09-01T14:52:50+00:00', 'source': './data/FIBROMIALGIA.pdf', 'total_pages': 9, 'page': 2, 'page_label': '3'}, page_content='ambientais e psicológicos também parecem contribuir para o desenvolvimento e a \\nmanutenção dos sintomas. \\n \\nOs fatores de risco incluem predisposição genética, traumas físicos ou \\nemocionais, infecções e distúrbios do sono, todos associados a um maior risco de \\ndesenvolvimento da fibromialgia. Essas variáveis reforçam a necessidade de uma \\nabordagem holística para o manejo da condição, que leva em consideração não apenas'),\n",
       " Document(metadata={'producer': 'Microsoft® Word for Microsoft 365', 'creator': 'Microsoft® Word for Microsoft 365', 'creationdate': '2024-09-01T14:52:50+00:00', 'moddate': '2024-09-01T14:52:50+00:00', 'source': './data/FIBROMIALGIA.pdf', 'total_pages': 9, 'page': 2, 'page_label': '3'}, page_content='os sintomas físicos, mas também os aspectos emocionais e psicológicos dos pacientes. \\n \\nApesar de a fibromialgia ser uma condição amplamente estudada, o manejo \\neficaz ainda representa um desafio significativo para os profissionais de saúde. A \\nausência de um tratamento etiológico específico exige que as intervenções sejam \\nfocadas no alívio dos sintomas e na melhoria da qualidade de vida dos pacientes. Nesse'),\n",
       " Document(metadata={'producer': 'Microsoft® Word for Microsoft 365', 'creator': 'Microsoft® Word for Microsoft 365', 'creationdate': '2024-09-01T14:52:50+00:00', 'moddate': '2024-09-01T14:52:50+00:00', 'source': './data/FIBROMIALGIA.pdf', 'total_pages': 9, 'page': 3, 'page_label': '4'}, page_content='Manejo da Fibromialgia: Uma Revisão de Literatura \\nMateus Fonseca Dumont et. Al. \\nBrazilian Journal of Implantology and Health Sciences \\nVolume 6, Issue 9 (2024), Page 31-40. \\n \\n \\ncontexto, estratégias terapêuticas multidisciplinares, que combinam tratamentos \\nfarmacológicos e não farmacológicos, têm sido adotadas para proporcionar um manejo \\nmais abrangente. \\n \\nO objetivo deste artigo é explorar as diferentes abordagens para o manejo da'),\n",
       " Document(metadata={'producer': 'Microsoft® Word for Microsoft 365', 'creator': 'Microsoft® Word for Microsoft 365', 'creationdate': '2024-09-01T14:52:50+00:00', 'moddate': '2024-09-01T14:52:50+00:00', 'source': './data/FIBROMIALGIA.pdf', 'total_pages': 9, 'page': 3, 'page_label': '4'}, page_content='fibromialgia, destacando a importância de estratégias terapêuticas personalizadas que \\npossam atender às necessidades individuais dos pacientes, otimizando os resultados e \\nminimizando os impactos negativos da doença. \\n \\nMETODOLOGIA \\n \\nA metodologia deste estudo fundamenta -se em uma revisão integrativa, cujo \\nobjetivo é sintetizar e analisar de forma crítica as evidências presentes na literatura \\nacerca do manejo da fibromialgia. Essa abordagem permite a compilação de'),\n",
       " Document(metadata={'producer': 'Microsoft® Word for Microsoft 365', 'creator': 'Microsoft® Word for Microsoft 365', 'creationdate': '2024-09-01T14:52:50+00:00', 'moddate': '2024-09-01T14:52:50+00:00', 'source': './data/FIBROMIALGIA.pdf', 'total_pages': 9, 'page': 3, 'page_label': '4'}, page_content='informações oriundas de diversos estudos, com diferentes metodologias, \\nproporcionando uma visão ampla e fundamentada sobre o tema em questão. O \\nprocesso metodológico envolveu a formulação da pergunta de pesquisa, a busca na \\nliteratura, a seleção dos estudos, a extração e análise dos dados, a síntese dos resultados \\ne a elaboração das conclusões. \\n \\nA busca literária foi realizada em bases de dados reconhecidas, como PubMed,'),\n",
       " Document(metadata={'producer': 'Microsoft® Word for Microsoft 365', 'creator': 'Microsoft® Word for Microsoft 365', 'creationdate': '2024-09-01T14:52:50+00:00', 'moddate': '2024-09-01T14:52:50+00:00', 'source': './data/FIBROMIALGIA.pdf', 'total_pages': 9, 'page': 3, 'page_label': '4'}, page_content='Scopus, BVS e SciELO, utilizando uma combinação de palavras-chave relacionadas ao \\ntema, como “fibromialgia”, “manejo clínico”, “tratamento farmacológico” e \\n“intervenções não farmacológicas”. Foram incluídos estudos publicados entre 2000 e \\n2023, nos idiomas português e inglês, seguindo critérios de inclusão  que consideravam \\na relevância, originalidade e contribuição para a compreensão dos diferentes aspectos \\ndo manejo da fibromialgia.'),\n",
       " Document(metadata={'producer': 'Microsoft® Word for Microsoft 365', 'creator': 'Microsoft® Word for Microsoft 365', 'creationdate': '2024-09-01T14:52:50+00:00', 'moddate': '2024-09-01T14:52:50+00:00', 'source': './data/FIBROMIALGIA.pdf', 'total_pages': 9, 'page': 3, 'page_label': '4'}, page_content='do manejo da fibromialgia. \\n \\nPor se tratar de uma revisão integrativa que não envolveu a participação direta \\nde seres humanos, não foi necessária a submissão do protocolo ao Comitê de Ética em'),\n",
       " Document(metadata={'producer': 'Microsoft® Word for Microsoft 365', 'creator': 'Microsoft® Word for Microsoft 365', 'creationdate': '2024-09-01T14:52:50+00:00', 'moddate': '2024-09-01T14:52:50+00:00', 'source': './data/FIBROMIALGIA.pdf', 'total_pages': 9, 'page': 4, 'page_label': '5'}, page_content='Manejo da Fibromialgia: Uma Revisão de Literatura \\nMateus Fonseca Dumont et. Al. \\nBrazilian Journal of Implantology and Health Sciences \\nVolume 6, Issue 9 (2024), Page 31-40. \\n \\n \\nPesquisa. Essa metodologia permitiu uma análise detalhada das abordagens \\nterapêuticas empregadas no manejo da fibromialgia, contribuindo para a identificação \\nde estratégias eficazes e para a orientação de futuras pesquisas na área. \\n \\nRESULTADOS \\n \\nAo longo dos últimos anos, o manejo da fibromialgia tem evoluído'),\n",
       " Document(metadata={'producer': 'Microsoft® Word for Microsoft 365', 'creator': 'Microsoft® Word for Microsoft 365', 'creationdate': '2024-09-01T14:52:50+00:00', 'moddate': '2024-09-01T14:52:50+00:00', 'source': './data/FIBROMIALGIA.pdf', 'total_pages': 9, 'page': 4, 'page_label': '5'}, page_content='significativamente, com um foco crescente em abordagens multimodais. Estudos \\nrecentes têm ressaltado a importância de estratégias combinadas que integram \\nintervenções farmacológicas e não farmacológicas para otimizar o controle dos sintomas \\ne melhorar a qualidade de vida dos pacientes. A literatura indica que o uso de \\nantidepressivos tricíclicos, como a amitriptilina, e inibidores seletivos da recaptação de \\nserotonina e norepinefrina (ISRSNs),  como a duloxetina e a milnaciprano, têm se'),\n",
       " Document(metadata={'producer': 'Microsoft® Word for Microsoft 365', 'creator': 'Microsoft® Word for Microsoft 365', 'creationdate': '2024-09-01T14:52:50+00:00', 'moddate': '2024-09-01T14:52:50+00:00', 'source': './data/FIBROMIALGIA.pdf', 'total_pages': 9, 'page': 4, 'page_label': '5'}, page_content='mostrado eficazes na redução da dor e da fadiga associadas à fibromialgia. Esses \\nmedicamentos atuam modulando neurotransmissores relacionados à percepção da dor, \\ne a sua eficácia é frequentemente potencializada q uando combinados com outras \\nintervenções terapêuticas. \\n \\nAlém das intervenções farmacológicas, terapias não farmacológicas têm \\nganhado destaque na literatura, especialmente no que tange à sua contribuição para o'),\n",
       " Document(metadata={'producer': 'Microsoft® Word for Microsoft 365', 'creator': 'Microsoft® Word for Microsoft 365', 'creationdate': '2024-09-01T14:52:50+00:00', 'moddate': '2024-09-01T14:52:50+00:00', 'source': './data/FIBROMIALGIA.pdf', 'total_pages': 9, 'page': 4, 'page_label': '5'}, page_content='manejo dos sintomas e a reabilitação funcional. Programas de exercícios físicos, \\nincluindo exercícios  aeróbicos de baixo impacto, fortalecimento muscular e \\nalongamento, têm sido amplamente recomendados. A prática regular desses exercícios \\ntem demonstrado melhorar a resistência física e a flexibilidade, além de reduzir a \\nintensidade da dor e os níveis de f adiga. Esses efeitos positivos são atribuídos ao \\naumento da liberação de endorfinas e à melhoria do condicionamento cardiovascular,'),\n",
       " Document(metadata={'producer': 'Microsoft® Word for Microsoft 365', 'creator': 'Microsoft® Word for Microsoft 365', 'creationdate': '2024-09-01T14:52:50+00:00', 'moddate': '2024-09-01T14:52:50+00:00', 'source': './data/FIBROMIALGIA.pdf', 'total_pages': 9, 'page': 4, 'page_label': '5'}, page_content='ambos benéficos para pacientes com fibromialgia. \\n \\nOutro aspecto relevante no manejo da fibromialgia é a terapia cognitivo -\\ncomportamental (TCC), que tem sido cada vez mais incorporada como parte integrante'),\n",
       " Document(metadata={'producer': 'Microsoft® Word for Microsoft 365', 'creator': 'Microsoft® Word for Microsoft 365', 'creationdate': '2024-09-01T14:52:50+00:00', 'moddate': '2024-09-01T14:52:50+00:00', 'source': './data/FIBROMIALGIA.pdf', 'total_pages': 9, 'page': 5, 'page_label': '6'}, page_content='Manejo da Fibromialgia: Uma Revisão de Literatura \\nMateus Fonseca Dumont et. Al. \\nBrazilian Journal of Implantology and Health Sciences \\nVolume 6, Issue 9 (2024), Page 31-40. \\n \\n \\ndas estratégias de tratamento. A TCC se mostrou eficaz na redução do estresse e da \\nansiedade, fatores que frequentemente exacerbam os sintomas da fibromialgia. Além \\ndisso, a TCC auxilia os pacientes a desenvolverem habilidades de enfrentamento para'),\n",
       " Document(metadata={'producer': 'Microsoft® Word for Microsoft 365', 'creator': 'Microsoft® Word for Microsoft 365', 'creationdate': '2024-09-01T14:52:50+00:00', 'moddate': '2024-09-01T14:52:50+00:00', 'source': './data/FIBROMIALGIA.pdf', 'total_pages': 9, 'page': 5, 'page_label': '6'}, page_content='lidar c om a dor crônica, promovendo mudanças nos padrões de pensamento e \\ncomportamento que podem perpetuar o ciclo da dor. \\n \\nNo campo das terapias complementares, práticas como a acupuntura e o \\nmindfulness têm sido investigadas e, em alguns casos, incorporadas ao manejo da \\nfibromialgia. A acupuntura, embora ainda necessite de mais estudos para conclusões \\ndefinitivas, tem sido associada à redução dos sintomas dolorosos e à melhora do bem -'),\n",
       " Document(metadata={'producer': 'Microsoft® Word for Microsoft 365', 'creator': 'Microsoft® Word for Microsoft 365', 'creationdate': '2024-09-01T14:52:50+00:00', 'moddate': '2024-09-01T14:52:50+00:00', 'source': './data/FIBROMIALGIA.pdf', 'total_pages': 9, 'page': 5, 'page_label': '6'}, page_content='estar geral dos pacientes. O mindfulness, por sua vez, atua promovendo um estado de \\natenção plena, ajudando os pacientes a gerenciar a dor e o estresse, o que contribui \\npara uma melhor qualidade de vida. \\n \\nEm termos de intervenções farmacológicas, além dos antidepressivos, a \\nliteratura aponta para o uso de anticonvulsivantes como a pregabalina e a gabapentina, \\nque têm demonstrado eficácia na modulação da dor neuropática associada à'),\n",
       " Document(metadata={'producer': 'Microsoft® Word for Microsoft 365', 'creator': 'Microsoft® Word for Microsoft 365', 'creationdate': '2024-09-01T14:52:50+00:00', 'moddate': '2024-09-01T14:52:50+00:00', 'source': './data/FIBROMIALGIA.pdf', 'total_pages': 9, 'page': 5, 'page_label': '6'}, page_content='fibromialgia. Esses medica mentos são particularmente úteis em pacientes que não \\nrespondem adequadamente aos antidepressivos, oferecendo uma alternativa \\nterapêutica eficaz. \\n \\nFinalmente, a combinação de intervenções personalizadas, que levem em \\nconsideração as características individuais dos pacientes e a gravidade dos sintomas, \\ntem sido amplamente defendida na literatura. O manejo multidisciplinar, que envolve'),\n",
       " Document(metadata={'producer': 'Microsoft® Word for Microsoft 365', 'creator': 'Microsoft® Word for Microsoft 365', 'creationdate': '2024-09-01T14:52:50+00:00', 'moddate': '2024-09-01T14:52:50+00:00', 'source': './data/FIBROMIALGIA.pdf', 'total_pages': 9, 'page': 5, 'page_label': '6'}, page_content='médicos, fisiote rapeutas, psicólogos e outros profissionais de saúde, é considerado \\nessencial para o sucesso do tratamento da fibromialgia, proporcionando uma \\nabordagem holística que visa não apenas a redução dos sintomas, mas também a \\nmelhora do bem-estar geral e da funcionalidade dos pacientes. \\n \\nAssim, o manejo da fibromialgia é um campo em constante evolução, com a \\nliteratura apontando para a necessidade de abordagens integradas e personalizadas,'),\n",
       " Document(metadata={'producer': 'Microsoft® Word for Microsoft 365', 'creator': 'Microsoft® Word for Microsoft 365', 'creationdate': '2024-09-01T14:52:50+00:00', 'moddate': '2024-09-01T14:52:50+00:00', 'source': './data/FIBROMIALGIA.pdf', 'total_pages': 9, 'page': 6, 'page_label': '7'}, page_content='Manejo da Fibromialgia: Uma Revisão de Literatura \\nMateus Fonseca Dumont et. Al. \\nBrazilian Journal of Implantology and Health Sciences \\nVolume 6, Issue 9 (2024), Page 31-40. \\n \\n \\nque combinem tratamentos farmacológicos e não farmacológicos para alcançar os \\nmelhores resultados para os pacientes. \\n \\n \\nCONSIDERAÇÕES FINAIS \\n \\nAs considerações finais deste estudo indicam que o manejo da fibromialgia deve ser \\ncompreendido como uma abordagem complexa e multidimensional, alinhada à'),\n",
       " Document(metadata={'producer': 'Microsoft® Word for Microsoft 365', 'creator': 'Microsoft® Word for Microsoft 365', 'creationdate': '2024-09-01T14:52:50+00:00', 'moddate': '2024-09-01T14:52:50+00:00', 'source': './data/FIBROMIALGIA.pdf', 'total_pages': 9, 'page': 6, 'page_label': '7'}, page_content='necessidade de personalização das estratégias terapêuticas. A revisão das diversas \\nabordagens disponíveis mostra que tanto as intervenções farmacológicas quanto as não \\nfarmacológicas desempenham papéis cruciais no alívio dos sintomas e na melhoria da \\nqualidade de vida dos pacientes. A eficácia de medi camentos como antidepressivos e \\nanticonvulsivantes, em conjunto com programas de exercícios físicos e intervenções'),\n",
       " Document(metadata={'producer': 'Microsoft® Word for Microsoft 365', 'creator': 'Microsoft® Word for Microsoft 365', 'creationdate': '2024-09-01T14:52:50+00:00', 'moddate': '2024-09-01T14:52:50+00:00', 'source': './data/FIBROMIALGIA.pdf', 'total_pages': 9, 'page': 6, 'page_label': '7'}, page_content='psicoterapêuticas, reflete a importância de um tratamento que vá além do alívio \\nsintomático, buscando abordar também os aspectos emocionais e comportamentais da \\ndoença. \\n \\nA integração de práticas complementares, como a acupuntura e o mindfulness, também \\nemerge como uma alternativa promissora para complementar as estratégias \\ntradicionais, embora mais estudos sejam necessários para consolidar sua eficácia. A'),\n",
       " Document(metadata={'producer': 'Microsoft® Word for Microsoft 365', 'creator': 'Microsoft® Word for Microsoft 365', 'creationdate': '2024-09-01T14:52:50+00:00', 'moddate': '2024-09-01T14:52:50+00:00', 'source': './data/FIBROMIALGIA.pdf', 'total_pages': 9, 'page': 6, 'page_label': '7'}, page_content='literatura revisada enfatiza que o sucesso no manejo da fibromialgia depende da adoção \\nde uma abordagem personalizada, que considere as particularidades de cada paciente, \\ntanto em termos de gravidade dos sintomas quanto de resposta aos diferentes \\ntratamentos. \\n \\nEm síntese, este estudo alcança o objetivo proposto ao explorar e destacar a \\nnecessidade de uma abordagem multidisciplinar e personalizada no manejo da'),\n",
       " Document(metadata={'producer': 'Microsoft® Word for Microsoft 365', 'creator': 'Microsoft® Word for Microsoft 365', 'creationdate': '2024-09-01T14:52:50+00:00', 'moddate': '2024-09-01T14:52:50+00:00', 'source': './data/FIBROMIALGIA.pdf', 'total_pages': 9, 'page': 6, 'page_label': '7'}, page_content='fibromialgia, reiterando a importância de combinar tratamentos farmacológicos e não \\nfarmacológicos para otimizar os resultados terapêuticos. A evolução contínua das \\nestratégias de manejo reflete o esforço da comunidade científica em oferecer soluções \\nmais eficazes e adaptadas às necessidades individuais dos pacientes, reforçando a \\nrelevância de uma abordagem holística para melhorar a qualidade de vida e o bem-estar \\ngeral daqueles que convivem com essa condição crônica. \\n \\n \\n \\nREFERÊNCIAS'),\n",
       " Document(metadata={'producer': 'Microsoft® Word for Microsoft 365', 'creator': 'Microsoft® Word for Microsoft 365', 'creationdate': '2024-09-01T14:52:50+00:00', 'moddate': '2024-09-01T14:52:50+00:00', 'source': './data/FIBROMIALGIA.pdf', 'total_pages': 9, 'page': 6, 'page_label': '7'}, page_content='REFERÊNCIAS \\n \\nOLIVEIRA JÚNIOR, J. O. DE .; ALMEIDA, M. B. DE .. The current treatment of'),\n",
       " Document(metadata={'producer': 'Microsoft® Word for Microsoft 365', 'creator': 'Microsoft® Word for Microsoft 365', 'creationdate': '2024-09-01T14:52:50+00:00', 'moddate': '2024-09-01T14:52:50+00:00', 'source': './data/FIBROMIALGIA.pdf', 'total_pages': 9, 'page': 7, 'page_label': '8'}, page_content='Manejo da Fibromialgia: Uma Revisão de Literatura \\nMateus Fonseca Dumont et. Al. \\nBrazilian Journal of Implantology and Health Sciences \\nVolume 6, Issue 9 (2024), Page 31-40. \\n \\n \\nfibromyalgia. BrJP, v. 1, n. 3, p. 255–262, jul. 2018. \\n \\nDE OLIVEIRA BARROS, S.; NUNES VALADARES, M.; OLIVEIRA DOS SANTOS, J.; MAIRESSE \\nRAMOS, E. H.; MESQUITA COUTO, F. Manejo Clínico da Fibromialgia: Terapias \\nFarmacológicas e Não Farmacológicas para Alívio dos Sintomas. Brazilian Journal of'),\n",
       " Document(metadata={'producer': 'Microsoft® Word for Microsoft 365', 'creator': 'Microsoft® Word for Microsoft 365', 'creationdate': '2024-09-01T14:52:50+00:00', 'moddate': '2024-09-01T14:52:50+00:00', 'source': './data/FIBROMIALGIA.pdf', 'total_pages': 9, 'page': 7, 'page_label': '8'}, page_content='Implantology and Health Sciences, [S. l.], v. 5, n. 5, p. 5665–5680, 2023. DOI: \\n10.36557/2674-8169.2023v5n5p5665-5680. Disponível em: \\nhttps://bjihs.emnuvens.com.br/bjihs/article/view/1091. Acesso em: 30 ago. 2024. \\n \\nDE SOUZA GARCIA, C. B. M.; BATILIERI RODRIGUES, N.; RUIZ GONÇALVES CARDOSO, M. \\nF.; DA SILVA MARQUES JÚNIOR, T.; PEREIRA PIO SUWA, D.; CARVALHO GOMES, A. L.; \\nLEAL BEZERRA NASCIMENTO, R. O MANEJO DA DOR EM INDIVÍDUOS QUE POSSUEM'),\n",
       " Document(metadata={'producer': 'Microsoft® Word for Microsoft 365', 'creator': 'Microsoft® Word for Microsoft 365', 'creationdate': '2024-09-01T14:52:50+00:00', 'moddate': '2024-09-01T14:52:50+00:00', 'source': './data/FIBROMIALGIA.pdf', 'total_pages': 9, 'page': 7, 'page_label': '8'}, page_content='FIBROMIALGIA: UMA REVISÃO INTEGRATIVA DE LITERATURA. Brazilian Journal of \\nImplantology and Health Sciences, [S. l.], v. 5, n. 5, p. 3467–3478, 2023. DOI: \\n10.36557/2674-8169.2023v5n5p3467-3478. Disponível em: \\nhttps://bjihs.emnuvens.com.br/bjihs/article/view/869. Acesso em: 30 ago. 2024. \\n \\nHEYMANN, R. E. et al.. Consenso brasileiro do tratamento da fibromialgia. Revista \\nBrasileira de Reumatologia, v. 50, n. 1, p. 56–66, jan. 2010.'),\n",
       " Document(metadata={'producer': 'Microsoft® Word for Microsoft 365', 'creator': 'Microsoft® Word for Microsoft 365', 'creationdate': '2024-09-01T14:52:50+00:00', 'moddate': '2024-09-01T14:52:50+00:00', 'source': './data/FIBROMIALGIA.pdf', 'total_pages': 9, 'page': 7, 'page_label': '8'}, page_content='Senna ER, De Barros AL, Silva EO, Costa IF, Pereira LV, Ciconelli RM et al. Prevalence of \\nrheumatic diseases in Brazil: a study using the COPCORD approach. J Rheumatol 2004; \\n31(3):594-7. \\n \\n Provenza JR, Paiva E, Heymann RE. Manifestações Clínicas. In: Heymann RE, \\ncoordenador. Fibromialgia e Síndrome Miofascial. São Paulo: Legnar, 2006, pp. 31-42. \\n \\nGoldenberg DL. Fibromyalgia syndrome. An emerging but controversial condition. \\nJAMA. 1987;257(20):2782-7.'),\n",
       " Document(metadata={'producer': 'Microsoft® Word for Microsoft 365', 'creator': 'Microsoft® Word for Microsoft 365', 'creationdate': '2024-09-01T14:52:50+00:00', 'moddate': '2024-09-01T14:52:50+00:00', 'source': './data/FIBROMIALGIA.pdf', 'total_pages': 9, 'page': 8, 'page_label': '9'}, page_content='Manejo da Fibromialgia: Uma Revisão de Literatura \\nMateus Fonseca Dumont et. Al. \\nBrazilian Journal of Implantology and Health Sciences \\nVolume 6, Issue 9 (2024), Page 31-40.')]"
      ]
     },
     "execution_count": 14,
     "metadata": {},
     "output_type": "execute_result"
    }
   ],
   "source": [
    "#from langchain_community.vectorstores import Chroma\n",
    "from langchain_chroma import Chroma\n",
    "from langchain_huggingface import HuggingFaceEmbeddings\n",
    "#from langchain_community.embeddings import HuggingFaceEmbeddings\n",
    "from langchain.document_loaders import PyPDFLoader\n",
    "from langchain.text_splitter import RecursiveCharacterTextSplitter\n",
    "\n",
    "loader = PyPDFLoader(\"./data/FIBROMIALGIA.pdf\")\n",
    "documents = loader.load()\n",
    "\n",
    "split_docs = RecursiveCharacterTextSplitter(chunk_size=500, chunk_overlap=50).split_documents(documents)\n",
    "\n",
    "split_docs"
   ]
  },
  {
   "cell_type": "code",
   "execution_count": 15,
   "metadata": {},
   "outputs": [
    {
     "data": {
      "text/plain": [
       "41"
      ]
     },
     "execution_count": 15,
     "metadata": {},
     "output_type": "execute_result"
    }
   ],
   "source": [
    "len(split_docs)"
   ]
  },
  {
   "cell_type": "code",
   "execution_count": 16,
   "metadata": {},
   "outputs": [],
   "source": [
    "embedding = HuggingFaceEmbeddings(model_name=\"intfloat/multilingual-e5-large\" # \"sentence-transformers/all-MiniLM-L6-v2\"\n",
    "                                 )\n",
    "\n",
    "persist_directory = \"./chroma_db\"\n",
    "#Build Index:\n",
    "vectorstore = Chroma.from_documents(\n",
    "    documents=split_docs,\n",
    "    embedding=embedding,\n",
    "    persist_directory=persist_directory,\n",
    "    collection_name=\"fibromyalgia\"\n",
    ")"
   ]
  },
  {
   "cell_type": "code",
   "execution_count": 17,
   "metadata": {},
   "outputs": [],
   "source": [
    "from dataclasses import dataclass\n",
    "\n",
    "@dataclass\n",
    "class Deps:\n",
    "    question:str | None\n",
    "    context:str | None"
   ]
  },
  {
   "cell_type": "code",
   "execution_count": 24,
   "metadata": {},
   "outputs": [],
   "source": [
    "import nest_asyncio\n",
    "nest_asyncio.apply()\n",
    "\n",
    "groq_agent = Agent(groq_model,\n",
    "                   deps_type=Deps,\n",
    "                    retries=2,\n",
    "                    result_type=str,\n",
    "                   system_prompt=\"\"\"Você é um assistente útil e proficiente em responder de forma concisa, objetiva e objetiva a perguntas feitas com base no contexto fornecido.\n",
    "                   Você tem que usar o `retrievre_tool` para obter o contexto relevante e gerar uma resposta baseada no contexto recuperado\n",
    "                   Você é um assistente de avaliação. Avalie a resposta com base em:\n",
    "        1. Relevância à pergunta\n",
    "        2. Fidedignidade ao contexto\n",
    "        3. Qualidade e completude do contexto\n",
    "        \n",
    "        Por favor, avalie a seguinte resposta com base em:\n",
    "        1. Relevância (0-1): Quão bem ela responde à pergunta?\n",
    "        2. Fidedignidade (0-1): Quão bem ela se mantém ao contexto fornecido?\n",
    "        3. Qualidade do contexto (0-1): Quão completo e relevante é o contexto fornecido?\n",
    "        \n",
    "        Question: {ctx.deps.query}\n",
    "        Context: {ctx.deps.context}\n",
    "        Answer: {ctx.deps.response}\n",
    "        \n",
    "        Também determine se uma busca na web é necessária para aumentar o contexto.\n",
    "        \n",
    "        Forneça as notas e explicações no formato JSON com os atributos chave 'Relevancy','Faithfulness','Context Quality','Needs Web Search':\n",
    "        {\n",
    "            \"Relevancy\": <pontuação>,\n",
    "            \"Faithfulness\": <pontuação>,\n",
    "            \"Context Quality\": <pontuação>,\n",
    "            \"Needs Web Search\": <true/false>,\n",
    "            \"Explanation\": <explicação>,\n",
    "            \"Answer\":<forneça a resposta com base no contexto do `retrievre_tool` se o valor de 'Need Web Search' for 'false' caso contrário, use a função `websearch_tool` para gerar a resposta final\n",
    "        }\n",
    "        \"\"\"\n",
    "        )"
   ]
  },
  {
   "cell_type": "code",
   "execution_count": 25,
   "metadata": {},
   "outputs": [],
   "source": [
    "from tavily import TavilyClient\n",
    "\n",
    "\n",
    "@groq_agent.tool_plain\n",
    "async def websearch_tool(question) -> str:  \n",
    "    \"\"\"Verifique se o quadrado é um vencedor\"\"\"\n",
    "    # Step 1. Instanciando o TavilyClient:\n",
    "    tavily_client = TavilyClient(api_key=Eddy_key_tavily)\n",
    "\n",
    "    # Step 2. Executando uma consulta de busca Q&A:\n",
    "    answer = tavily_client.qna_search(query=question)\n",
    "\n",
    "    # Step 3. Isso está resolvido! Sua pergunta foi respondida!\n",
    "    print(f\"BUSCA NA WEB:{answer}\")\n",
    "    return answer"
   ]
  },
  {
   "cell_type": "code",
   "execution_count": 26,
   "metadata": {},
   "outputs": [],
   "source": [
    "from typing import List\n",
    "from pydantic_ai import RunContext\n",
    "\n",
    "\n",
    "@groq_agent.tool\n",
    "async def rertiever_tool( ctx: RunContext[Deps],question:str)-> List[str]:\n",
    "  load_vectorstore = Chroma(persist_directory=persist_directory,\n",
    "                            embedding_function=embedding,\n",
    "                            collection_name=\"fibromyalgia\"\n",
    "                           )\n",
    "  docs = load_vectorstore.similarity_search(question,k=3)\n",
    "  documnets = [d.page_content for d in docs]\n",
    "  print(f\"RAG Retrieval:{documnets}\")\n",
    "  return documnets"
   ]
  },
  {
   "cell_type": "code",
   "execution_count": 27,
   "metadata": {},
   "outputs": [
    {
     "name": "stdout",
     "output_type": "stream",
     "text": [
      "RAG Retrieval:['REVISÃO DE LITERATURA \\n \\nRESUMO \\n \\nA fibromialgia é uma síndrome crônica caracterizada por dor musculoesquelética \\ngeneralizada, fadiga persistente e sensibilidade aumentada. A fisiopatologia envolve \\ndisfunção no sistema nervoso central, com influências genéticas, ambientais e \\npsicológicas. O manejo da fibromial gia exige uma abordagem multidisciplinar, que inclui \\ntratamentos farmacológicos como antidepressivos e anticonvulsivantes, combinados', 'REVISÃO DE LITERATURA \\n \\nRESUMO \\n \\nA fibromialgia é uma síndrome crônica caracterizada por dor musculoesquelética \\ngeneralizada, fadiga persistente e sensibilidade aumentada. A fisiopatologia envolve \\ndisfunção no sistema nervoso central, com influências genéticas, ambientais e \\npsicológicas. O manejo da fibromial gia exige uma abordagem multidisciplinar, que inclui \\ntratamentos farmacológicos como antidepressivos e anticonvulsivantes, combinados', 'REVISÃO DE LITERATURA \\n \\nRESUMO \\n \\nA fibromialgia é uma síndrome crônica caracterizada por dor musculoesquelética \\ngeneralizada, fadiga persistente e sensibilidade aumentada. A fisiopatologia envolve \\ndisfunção no sistema nervoso central, com influências genéticas, ambientais e \\npsicológicas. O manejo da fibromial gia exige uma abordagem multidisciplinar, que inclui \\ntratamentos farmacológicos como antidepressivos e anticonvulsivantes, combinados']\n"
     ]
    },
    {
     "data": {
      "text/plain": [
       "AgentRunResult(data='{\\n    \"Relevancy\": 0.8,\\n    \"Faithfulness\": 0.9,\\n    \"Context Quality\": 0.7,\\n    \"Needs Web Search\": false,\\n    \"Explanation\": \"A resposta fornecida fornece uma visão geral sobre a fibromialgia, suas características principais e as abordagens de manejo. No entanto, a resposta poderia ser mais detalhada e específica para atender completamente às necessidades de informação do usuário.\",\\n    \"Answer\": \"A fibromialgia é uma síndrome crônica caracterizada por dor musculoesquelética generalizada, fadiga persistente e sensibilidade aumentada. A fisiopatologia envolve disfunção no sistema nervoso central, com influências genéticas, ambientais e psicológicas. O manejo da fibromialgia exige uma abordagem multidisciplinar, que inclui tratamentos farmacológicos como antidepressivos e anticonvulsivantes, combinados com exercícios físicos regulares e terapias comportamentais.\"\\n}')"
      ]
     },
     "execution_count": 27,
     "metadata": {},
     "output_type": "execute_result"
    }
   ],
   "source": [
    "query = \"O que é Fibromialgia?\"\n",
    "\n",
    "response = groq_agent.run_sync(query)\n",
    "\n",
    "response"
   ]
  },
  {
   "cell_type": "code",
   "execution_count": 28,
   "metadata": {},
   "outputs": [
    {
     "name": "stdout",
     "output_type": "stream",
     "text": [
      "{\n",
      "    \"Relevancy\": 0.8,\n",
      "    \"Faithfulness\": 0.9,\n",
      "    \"Context Quality\": 0.7,\n",
      "    \"Needs Web Search\": false,\n",
      "    \"Explanation\": \"A resposta fornecida fornece uma visão geral sobre a fibromialgia, suas características principais e as abordagens de manejo. No entanto, a resposta poderia ser mais detalhada e específica para atender completamente às necessidades de informação do usuário.\",\n",
      "    \"Answer\": \"A fibromialgia é uma síndrome crônica caracterizada por dor musculoesquelética generalizada, fadiga persistente e sensibilidade aumentada. A fisiopatologia envolve disfunção no sistema nervoso central, com influências genéticas, ambientais e psicológicas. O manejo da fibromialgia exige uma abordagem multidisciplinar, que inclui tratamentos farmacológicos como antidepressivos e anticonvulsivantes, combinados com exercícios físicos regulares e terapias comportamentais.\"\n",
      "}\n"
     ]
    }
   ],
   "source": [
    "print(response.data)"
   ]
  },
  {
   "cell_type": "code",
   "execution_count": 30,
   "metadata": {},
   "outputs": [
    {
     "name": "stdout",
     "output_type": "stream",
     "text": [
      "RAG Retrieval:['REVISÃO DE LITERATURA \\n \\nRESUMO \\n \\nA fibromialgia é uma síndrome crônica caracterizada por dor musculoesquelética \\ngeneralizada, fadiga persistente e sensibilidade aumentada. A fisiopatologia envolve \\ndisfunção no sistema nervoso central, com influências genéticas, ambientais e \\npsicológicas. O manejo da fibromial gia exige uma abordagem multidisciplinar, que inclui \\ntratamentos farmacológicos como antidepressivos e anticonvulsivantes, combinados', 'REVISÃO DE LITERATURA \\n \\nRESUMO \\n \\nA fibromialgia é uma síndrome crônica caracterizada por dor musculoesquelética \\ngeneralizada, fadiga persistente e sensibilidade aumentada. A fisiopatologia envolve \\ndisfunção no sistema nervoso central, com influências genéticas, ambientais e \\npsicológicas. O manejo da fibromial gia exige uma abordagem multidisciplinar, que inclui \\ntratamentos farmacológicos como antidepressivos e anticonvulsivantes, combinados', 'REVISÃO DE LITERATURA \\n \\nRESUMO \\n \\nA fibromialgia é uma síndrome crônica caracterizada por dor musculoesquelética \\ngeneralizada, fadiga persistente e sensibilidade aumentada. A fisiopatologia envolve \\ndisfunção no sistema nervoso central, com influências genéticas, ambientais e \\npsicológicas. O manejo da fibromial gia exige uma abordagem multidisciplinar, que inclui \\ntratamentos farmacológicos como antidepressivos e anticonvulsivantes, combinados']\n"
     ]
    },
    {
     "data": {
      "text/plain": [
       "AgentRunResult(data='{\\n    \"Relevancy\": 0.8,\\n    \"Faithfulness\": 0.9,\\n    \"Context Quality\": 0.7,\\n    \"Needs Web Search\": false,\\n    \"Explanation\": \"A fibromialgia é uma síndrome crônica caracterizada por dor musculoesquelética generalizada, fadiga persistente e sensibilidade aumentada. A fisiopatologia envolve disfunção no sistema nervoso central, com influências genéticas, ambientais e psicológicas.\",\\n    \"Answer\": \"A fibromialgia é uma síndrome crônica caracterizada por dor musculoesquelética generalizada, fadiga persistente e sensibilidade aumentada. As causas incluem disfunção no sistema nervoso central, com influências genéticas, ambientais e psicológicas.\"\\n}')"
      ]
     },
     "execution_count": 30,
     "metadata": {},
     "output_type": "execute_result"
    }
   ],
   "source": [
    "# Query 2:\n",
    "query = \"O que é Fibromialgia e quais são as causas?\"\n",
    "response = groq_agent.run_sync(query)\n",
    "\n",
    "response"
   ]
  },
  {
   "cell_type": "code",
   "execution_count": 32,
   "metadata": {},
   "outputs": [
    {
     "name": "stdout",
     "output_type": "stream",
     "text": [
      "{\n",
      "    \"Relevancy\": 0.8,\n",
      "    \"Faithfulness\": 0.9,\n",
      "    \"Context Quality\": 0.7,\n",
      "    \"Needs Web Search\": false,\n",
      "    \"Explanation\": \"A fibromialgia é uma síndrome crônica caracterizada por dor musculoesquelética generalizada, fadiga persistente e sensibilidade aumentada. A fisiopatologia envolve disfunção no sistema nervoso central, com influências genéticas, ambientais e psicológicas.\",\n",
      "    \"Answer\": \"A fibromialgia é uma síndrome crônica caracterizada por dor musculoesquelética generalizada, fadiga persistente e sensibilidade aumentada. As causas incluem disfunção no sistema nervoso central, com influências genéticas, ambientais e psicológicas.\"\n",
      "}\n"
     ]
    }
   ],
   "source": [
    "print(response.data)"
   ]
  },
  {
   "cell_type": "code",
   "execution_count": 35,
   "metadata": {},
   "outputs": [
    {
     "name": "stdout",
     "output_type": "stream",
     "text": [
      "{\n",
      "    \"Relevancy\": 0.8,\n",
      "    \"Faithfulness\": 0.9,\n",
      "    \"Context Quality\": 0.7,\n",
      "    \"Needs Web Search\": false,\n",
      "    \"Explanation\": \"A fibromialgia é uma síndrome crônica caracterizada por dor musculoesquelética generalizada, fadiga persistente e sensibilidade aumentada. A fisiopatologia envolve disfunção no sistema nervoso central, com influências genéticas, ambientais e psicológicas.\",\n",
      "    \"Answer\": \"A fibromialgia é uma síndrome crônica caracterizada por dor musculoesquelética generalizada, fadiga persistente e sensibilidade aumentada. As causas incluem disfunção no sistema nervoso central, com influências genéticas, ambientais e psicológicas.\"\n",
      "}\n",
      "{'Relevancy': 0.8, 'Faithfulness': 0.9, 'Context Quality': 0.7, 'Needs Web Search': False, 'Explanation': 'A fibromialgia é uma síndrome crônica caracterizada por dor musculoesquelética generalizada, fadiga persistente e sensibilidade aumentada. A fisiopatologia envolve disfunção no sistema nervoso central, com influências genéticas, ambientais e psicológicas.', 'Answer': 'A fibromialgia é uma síndrome crônica caracterizada por dor musculoesquelética generalizada, fadiga persistente e sensibilidade aumentada. As causas incluem disfunção no sistema nervoso central, com influências genéticas, ambientais e psicológicas.'}\n",
      "\n",
      "\n",
      "A fibromialgia é uma síndrome crônica caracterizada por dor musculoesquelética generalizada, fadiga persistente e sensibilidade aumentada. As causas incluem disfunção no sistema nervoso central, com influências genéticas, ambientais e psicológicas.\n"
     ]
    }
   ],
   "source": [
    "from langchain_core.output_parsers import JsonOutputParser\n",
    "\n",
    "print(response.data)\n",
    "parser = JsonOutputParser()\n",
    "print(parser.parse(response.data))\n",
    "print(\"\\n\")\n",
    "print(parser.parse(response.data)['Answer'])\n",
    "#print(response.cost())"
   ]
  }
 ],
 "metadata": {
  "kernelspec": {
   "display_name": ".venv",
   "language": "python",
   "name": "python3"
  },
  "language_info": {
   "codemirror_mode": {
    "name": "ipython",
    "version": 3
   },
   "file_extension": ".py",
   "mimetype": "text/x-python",
   "name": "python",
   "nbconvert_exporter": "python",
   "pygments_lexer": "ipython3",
   "version": "3.13.2"
  }
 },
 "nbformat": 4,
 "nbformat_minor": 2
}
