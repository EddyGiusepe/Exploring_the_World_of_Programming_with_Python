{
  "cells": [
    {
      "cell_type": "markdown",
      "metadata": {},
      "source": [
        "<h1 align=\"center\"><font color=\"red\">PydanticAI</font></h1>"
      ]
    },
    {
      "cell_type": "markdown",
      "metadata": {},
      "source": [
        "<font color=\"pink\">Senior Data Scientist.: Dr. Eddy Giusepe Chirinos Isidro</font>\n"
      ]
    },
    {
      "cell_type": "markdown",
      "metadata": {},
      "source": [
        "Links de estudo:\n",
        "\n",
        "* [PydanticAI](https://ai.pydantic.dev/)\n",
        "\n",
        "* [Sam Witteveen](https://www.youtube.com/watch?v=UnH7S5044GA)"
      ]
    },
    {
      "cell_type": "markdown",
      "metadata": {
        "id": "icSdHIfj8GMc"
      },
      "source": [
        "# <font color=\"gree\">Install and setup</font>"
      ]
    },
    {
      "cell_type": "code",
      "execution_count": 3,
      "metadata": {
        "id": "kBChdle68C3E"
      },
      "outputs": [],
      "source": [
        "! pip -q install pydantic-ai\n",
        "! pip -q install nest_asyncio\n",
        "! pip -q install devtools"
      ]
    },
    {
      "cell_type": "code",
      "execution_count": 5,
      "metadata": {
        "id": "icRZD-DW8JZf"
      },
      "outputs": [],
      "source": [
        "import openai\n",
        "import os\n",
        "from dotenv import load_dotenv, find_dotenv\n",
        "_ = load_dotenv(find_dotenv()) # read local .env file\n",
        "#openai.api_key  = os.environ['OPENAI_API_KEY']\n",
        "#Eddy_key_openai  = os.environ['OPENAI_API_KEY']\n",
        "\n",
        "#from openai import OpenAI\n",
        "#client = OpenAI(api_key=Eddy_key_openai)\n"
      ]
    },
    {
      "cell_type": "code",
      "execution_count": 6,
      "metadata": {
        "id": "ZKpEfbHCO0b5"
      },
      "outputs": [],
      "source": [
        "import nest_asyncio\n",
        "nest_asyncio.apply()"
      ]
    },
    {
      "cell_type": "markdown",
      "metadata": {
        "id": "TYmgv0FfPiKw"
      },
      "source": [
        "# <font color=\"gree\">Basic structured output</font>"
      ]
    },
    {
      "cell_type": "code",
      "execution_count": 13,
      "metadata": {
        "colab": {
          "base_uri": "https://localhost:8080/"
        },
        "id": "FTMowGQZQq70",
        "outputId": "bf4915e0-5999-4305-e8d2-10a5dad69b22"
      },
      "outputs": [
        {
          "name": "stdout",
          "output_type": "stream",
          "text": [
            "Using the model: openai:gpt-4o-mini\n"
          ]
        },
        {
          "data": {
            "text/plain": [
              "RunResult(_all_messages=[UserPrompt(content='A cidade de Vitória-ES', timestamp=datetime.datetime(2024, 12, 11, 2, 16, 9, 834300, tzinfo=datetime.timezone.utc), role='user'), ModelStructuredResponse(calls=[ToolCall(tool_name='final_result', args=ArgsJson(args_json='{\"city\": \"Vitória\", \"country\": \"Brasil\", \"reason\": \"Vitória possui belas praias, um rico patrimônio cultural e uma culinária famosa, além de ser um importante centro econômico do Espírito Santo.\", \"Famous_food_dish_of_the_city\": \"Moqueca capixaba\"}'), tool_id='call_3DbCzYnxoI3LEwNuvAE6zg1j')], timestamp=datetime.datetime(2024, 12, 11, 2, 16, 11, tzinfo=datetime.timezone.utc), role='model-structured-response'), ToolReturn(tool_name='final_result', content='Final result processed.', tool_id='call_3DbCzYnxoI3LEwNuvAE6zg1j', timestamp=datetime.datetime(2024, 12, 11, 2, 16, 12, 886412, tzinfo=datetime.timezone.utc), role='tool-return')], _new_message_index=0, data=MyModel(city='Vitória', country='Brasil', reason='Vitória possui belas praias, um rico patrimônio cultural e uma culinária famosa, além de ser um importante centro econômico do Espírito Santo.', Famous_food_dish_of_the_city='Moqueca capixaba'), _cost=Cost(request_tokens=88, response_tokens=80, total_tokens=168, details={'accepted_prediction_tokens': 0, 'audio_tokens': 0, 'reasoning_tokens': 0, 'rejected_prediction_tokens': 0, 'cached_tokens': 0}))"
            ]
          },
          "execution_count": 13,
          "metadata": {},
          "output_type": "execute_result"
        }
      ],
      "source": [
        "import os\n",
        "from typing import cast\n",
        "from pydantic import BaseModel\n",
        "\n",
        "from pydantic_ai import Agent\n",
        "from pydantic_ai.models import KnownModelName\n",
        "\n",
        "class MyModel(BaseModel):\n",
        "    city: str\n",
        "    country: str\n",
        "    reason: str\n",
        "    Famous_food_dish_of_the_city: str\n",
        "\n",
        "\n",
        "model = 'openai:gpt-4o-mini'\n",
        "\n",
        "agent = Agent(model,\n",
        "              result_type=MyModel,\n",
        "              )\n",
        "\n",
        "\n",
        "result = agent.run_sync(\"A cidade de Vitória-ES\")\n",
        "result\n"
      ]
    },
    {
      "cell_type": "code",
      "execution_count": 14,
      "metadata": {},
      "outputs": [
        {
          "data": {
            "text/plain": [
              "MyModel(city='Vitória', country='Brasil', reason='Vitória possui belas praias, um rico patrimônio cultural e uma culinária famosa, além de ser um importante centro econômico do Espírito Santo.', Famous_food_dish_of_the_city='Moqueca capixaba')"
            ]
          },
          "execution_count": 14,
          "metadata": {},
          "output_type": "execute_result"
        }
      ],
      "source": [
        "result.data"
      ]
    },
    {
      "cell_type": "code",
      "execution_count": 15,
      "metadata": {
        "colab": {
          "base_uri": "https://localhost:8080/"
        },
        "id": "Jl6F_E97VSM7",
        "outputId": "144d503d-d2a2-4894-c78d-7b837429a79d"
      },
      "outputs": [
        {
          "data": {
            "text/plain": [
              "Cost(request_tokens=88, response_tokens=80, total_tokens=168, details={'accepted_prediction_tokens': 0, 'audio_tokens': 0, 'reasoning_tokens': 0, 'rejected_prediction_tokens': 0, 'cached_tokens': 0})"
            ]
          },
          "execution_count": 15,
          "metadata": {},
          "output_type": "execute_result"
        }
      ],
      "source": [
        "result.cost()"
      ]
    },
    {
      "cell_type": "code",
      "execution_count": 16,
      "metadata": {
        "colab": {
          "base_uri": "https://localhost:8080/"
        },
        "id": "cAYNEqLsVV53",
        "outputId": "91599a9c-27ca-4ab0-b031-ea8ca4620d53"
      },
      "outputs": [
        {
          "data": {
            "text/plain": [
              "MyModel(city='Lima', country='Peru', reason='Lima é a capital e maior cidade do Peru, conhecida por sua rica história, cultura vibrante e como um centro culinário na América do Sul.', Famous_food_dish_of_the_city='Ceviche')"
            ]
          },
          "execution_count": 16,
          "metadata": {},
          "output_type": "execute_result"
        }
      ],
      "source": [
        "result = agent.run_sync('A cidade de Lima-Perú.')\n",
        "\n",
        "result.data"
      ]
    },
    {
      "cell_type": "code",
      "execution_count": 17,
      "metadata": {},
      "outputs": [
        {
          "data": {
            "text/plain": [
              "'Lima é a capital e maior cidade do Peru, conhecida por sua rica história, cultura vibrante e como um centro culinário na América do Sul.'"
            ]
          },
          "execution_count": 17,
          "metadata": {},
          "output_type": "execute_result"
        }
      ],
      "source": [
        "result.data.reason"
      ]
    },
    {
      "cell_type": "code",
      "execution_count": 18,
      "metadata": {
        "colab": {
          "base_uri": "https://localhost:8080/"
        },
        "id": "1PoZr2ozVdVM",
        "outputId": "eb108873-fcf9-4cfd-90aa-d7b514e9c1ea"
      },
      "outputs": [
        {
          "data": {
            "text/plain": [
              "MyModel(city='Cuzco', country='Peru', reason='Cuzco, the historic capital of the Inca Empire, is rich in archaeological remains and Spanish colonial architecture, making it a significant cultural and historical location.', Famous_food_dish_of_the_city='Ceviche')"
            ]
          },
          "execution_count": 18,
          "metadata": {},
          "output_type": "execute_result"
        }
      ],
      "source": [
        "result = agent.run_sync('A cidade de cuzco do Perú')\n",
        "\n",
        "result.data"
      ]
    },
    {
      "cell_type": "code",
      "execution_count": 20,
      "metadata": {
        "colab": {
          "base_uri": "https://localhost:8080/",
          "height": 35
        },
        "id": "08P3XhpWESaq",
        "outputId": "8d458e2c-4183-4ed0-8e53-cd1e18484999"
      },
      "outputs": [
        {
          "data": {
            "text/plain": [
              "'Ceviche'"
            ]
          },
          "execution_count": 20,
          "metadata": {},
          "output_type": "execute_result"
        }
      ],
      "source": [
        "result.data.Famous_food_dish_of_the_city"
      ]
    },
    {
      "cell_type": "code",
      "execution_count": 21,
      "metadata": {
        "colab": {
          "base_uri": "https://localhost:8080/"
        },
        "id": "U2ws8XyYBAgZ",
        "outputId": "644d7779-a5e0-4027-e768-03cc74dfdcbe"
      },
      "outputs": [
        {
          "data": {
            "text/plain": [
              "Agent(model=OpenAIModel(model_name='gpt-4o-mini'), name='agent', last_run_messages=[UserPrompt(content='A cidade de cuzco do Perú', timestamp=datetime.datetime(2024, 12, 11, 2, 21, 2, 995334, tzinfo=datetime.timezone.utc), role='user'), ModelStructuredResponse(calls=[ToolCall(tool_name='final_result', args=ArgsJson(args_json='{\"city\": \"Cuzco\", \"country\": \"Peru\", \"reason\": \"Cuzco, the historic capital of the Inca Empire, is rich in archaeological remains and Spanish colonial architecture, making it a significant cultural and historical location.\", \"Famous_food_dish_of_the_city\": \"Ceviche\"}'), tool_id='call_z0aP9q3x8vR4PNp3l7cXmoUP')], timestamp=datetime.datetime(2024, 12, 11, 2, 21, 3, tzinfo=datetime.timezone.utc), role='model-structured-response'), ToolReturn(tool_name='final_result', content='Final result processed.', tool_id='call_z0aP9q3x8vR4PNp3l7cXmoUP', timestamp=datetime.datetime(2024, 12, 11, 2, 21, 6, 181265, tzinfo=datetime.timezone.utc), role='tool-return')])"
            ]
          },
          "execution_count": 21,
          "metadata": {},
          "output_type": "execute_result"
        }
      ],
      "source": [
        "agent"
      ]
    },
    {
      "cell_type": "markdown",
      "metadata": {
        "id": "0RIfAKkyW7Rl"
      },
      "source": [
        "# <font color=\"gree\">Chat APP</font>"
      ]
    },
    {
      "cell_type": "code",
      "execution_count": 22,
      "metadata": {
        "id": "YY3Hrk1JZOxg"
      },
      "outputs": [],
      "source": [
        "from pydantic_ai import Agent\n",
        "from pprint import pprint"
      ]
    },
    {
      "cell_type": "code",
      "execution_count": 23,
      "metadata": {
        "id": "dzMLp2KgZQX9"
      },
      "outputs": [],
      "source": [
        "agent = Agent('openai:gpt-4o-mini',\n",
        "              system_prompt='Seja um assistente útil que responde às perguntas do usuário de forma educada e amigável.')"
      ]
    },
    {
      "cell_type": "code",
      "execution_count": 24,
      "metadata": {
        "colab": {
          "base_uri": "https://localhost:8080/"
        },
        "id": "hDe_kFcYZV8b",
        "outputId": "5d2b530b-1e14-45fc-cab0-0dbb97058eb8"
      },
      "outputs": [
        {
          "data": {
            "text/plain": [
              "'Claro! Aqui vai uma:\\n\\nPor que o livro de matemática se suicidou?\\n\\nPorque ele tinha muitos problemas! \\n\\nEspero que tenha te feito sorrir! Se quiser ouvir mais, é só avisar!'"
            ]
          },
          "execution_count": 24,
          "metadata": {},
          "output_type": "execute_result"
        }
      ],
      "source": [
        "result = agent.run_sync('Conte-me uma piada.')\n",
        "\n",
        "result.data"
      ]
    },
    {
      "cell_type": "code",
      "execution_count": 25,
      "metadata": {
        "colab": {
          "base_uri": "https://localhost:8080/"
        },
        "id": "9W8OuRz7Zaoq",
        "outputId": "276b2b54-6fe3-46cd-a230-c56ccee15143"
      },
      "outputs": [
        {
          "data": {
            "text/plain": [
              "[SystemPrompt(content='Seja um assistente útil que responde às perguntas do usuário de forma educada e amigável.', role='system'),\n",
              " UserPrompt(content='Conte-me uma piada.', timestamp=datetime.datetime(2024, 12, 11, 2, 28, 1, 45285, tzinfo=datetime.timezone.utc), role='user'),\n",
              " ModelTextResponse(content='Claro! Aqui vai uma:\\n\\nPor que o livro de matemática se suicidou?\\n\\nPorque ele tinha muitos problemas! \\n\\nEspero que tenha te feito sorrir! Se quiser ouvir mais, é só avisar!', timestamp=datetime.datetime(2024, 12, 11, 2, 28, 1, tzinfo=datetime.timezone.utc), role='model-text-response')]"
            ]
          },
          "execution_count": 25,
          "metadata": {},
          "output_type": "execute_result"
        }
      ],
      "source": [
        "# Todas as mensagens da execução:\n",
        "\n",
        "result.all_messages()"
      ]
    },
    {
      "cell_type": "code",
      "execution_count": 26,
      "metadata": {
        "colab": {
          "base_uri": "https://localhost:8080/"
        },
        "id": "dTl5B22WZeKZ",
        "outputId": "826a2b4e-4a30-4b58-bf35-dd50d9304c6e"
      },
      "outputs": [
        {
          "data": {
            "text/plain": [
              "list"
            ]
          },
          "execution_count": 26,
          "metadata": {},
          "output_type": "execute_result"
        }
      ],
      "source": [
        "type(result.all_messages())"
      ]
    },
    {
      "cell_type": "code",
      "execution_count": 27,
      "metadata": {
        "colab": {
          "base_uri": "https://localhost:8080/"
        },
        "id": "n9u0Th2uZ1Zk",
        "outputId": "2f17b08c-6ebc-45a1-9e9b-2719c8b082c0"
      },
      "outputs": [
        {
          "name": "stdout",
          "output_type": "stream",
          "text": [
            "[UserPrompt(content='Conte-me uma piada.',\n",
            "            timestamp=datetime.datetime(2024, 12, 11, 2, 28, 1, 45285, tzinfo=datetime.timezone.utc),\n",
            "            role='user'),\n",
            " ModelTextResponse(content='Claro! Aqui vai uma:\\n'\n",
            "                           '\\n'\n",
            "                           'Por que o livro de matemática se suicidou?\\n'\n",
            "                           '\\n'\n",
            "                           'Porque ele tinha muitos problemas! \\n'\n",
            "                           '\\n'\n",
            "                           'Espero que tenha te feito sorrir! Se quiser ouvir '\n",
            "                           'mais, é só avisar!',\n",
            "                   timestamp=datetime.datetime(2024, 12, 11, 2, 28, 1, tzinfo=datetime.timezone.utc),\n",
            "                   role='model-text-response')]\n"
          ]
        }
      ],
      "source": [
        "pprint(result.new_messages())"
      ]
    },
    {
      "cell_type": "code",
      "execution_count": 28,
      "metadata": {
        "colab": {
          "base_uri": "https://localhost:8080/"
        },
        "id": "XohGqNheZeOW",
        "outputId": "9025db26-d4cf-46d3-be54-8db4fe2d472f"
      },
      "outputs": [
        {
          "data": {
            "text/plain": [
              "'Claro! A piada brinca com o duplo sentido da palavra \"problemas\". Em matemática, \"problemas\" se refere a exercícios ou questões que precisam ser resolvidas. No entanto, a frase sugere de forma humorística que o livro se sentia sobrecarregado e triste por ter muitos \"problemas\" a resolver, como se isso fosse uma razão para \"se suicidar\". O humor vem da combinação inesperada dessas duas interpretações. \\n\\nSe precisar de mais explicações ou de outras piadas, é só avisar!'"
            ]
          },
          "execution_count": 28,
          "metadata": {},
          "output_type": "execute_result"
        }
      ],
      "source": [
        "result2 = agent.run_sync('Explique por favor?', message_history=result.new_messages())\n",
        "\n",
        "result2.data"
      ]
    },
    {
      "cell_type": "code",
      "execution_count": 29,
      "metadata": {
        "colab": {
          "base_uri": "https://localhost:8080/"
        },
        "id": "okyFBRBtZ8l7",
        "outputId": "46fc6b15-ebb9-45ff-bce7-8726968c8672"
      },
      "outputs": [
        {
          "data": {
            "text/plain": [
              "[SystemPrompt(content='Seja um assistente útil que responde às perguntas do usuário de forma educada e amigável.', role='system'),\n",
              " UserPrompt(content='Conte-me uma piada.', timestamp=datetime.datetime(2024, 12, 11, 2, 28, 1, 45285, tzinfo=datetime.timezone.utc), role='user'),\n",
              " ModelTextResponse(content='Claro! Aqui vai uma:\\n\\nPor que o livro de matemática se suicidou?\\n\\nPorque ele tinha muitos problemas! \\n\\nEspero que tenha te feito sorrir! Se quiser ouvir mais, é só avisar!', timestamp=datetime.datetime(2024, 12, 11, 2, 28, 1, tzinfo=datetime.timezone.utc), role='model-text-response'),\n",
              " UserPrompt(content='Explique por favor?', timestamp=datetime.datetime(2024, 12, 11, 2, 44, 13, 850436, tzinfo=datetime.timezone.utc), role='user'),\n",
              " ModelTextResponse(content='Claro! A piada brinca com o duplo sentido da palavra \"problemas\". Em matemática, \"problemas\" se refere a exercícios ou questões que precisam ser resolvidas. No entanto, a frase sugere de forma humorística que o livro se sentia sobrecarregado e triste por ter muitos \"problemas\" a resolver, como se isso fosse uma razão para \"se suicidar\". O humor vem da combinação inesperada dessas duas interpretações. \\n\\nSe precisar de mais explicações ou de outras piadas, é só avisar!', timestamp=datetime.datetime(2024, 12, 11, 2, 44, 14, tzinfo=datetime.timezone.utc), role='model-text-response')]"
            ]
          },
          "execution_count": 29,
          "metadata": {},
          "output_type": "execute_result"
        }
      ],
      "source": [
        "result2.all_messages()"
      ]
    },
    {
      "cell_type": "code",
      "execution_count": null,
      "metadata": {
        "colab": {
          "base_uri": "https://localhost:8080/"
        },
        "id": "PGfJPUpXXOCy",
        "outputId": "a86fba24-913b-4be3-82ef-a62422da78fc"
      },
      "outputs": [
        {
          "name": "stdout",
          "output_type": "stream",
          "text": [
            "[UserPrompt(content='Explain it please?',\n",
            "            timestamp=datetime.datetime(2024, 12, 4, 9, 50, 3, 392053, tzinfo=datetime.timezone.utc),\n",
            "            role='user'),\n",
            " ModelTextResponse(content='Sure! The joke plays on the double meaning of the '\n",
            "                           'phrase \"outstanding in his field.\" \\n'\n",
            "                           '\\n'\n",
            "                           '1. **Literal Meaning**: A scarecrow is literally '\n",
            "                           'placed in a field to scare away birds and protect '\n",
            "                           'crops, so it is \"out standing\" in the field. \\n'\n",
            "                           '\\n'\n",
            "                           '2. **Figurative Meaning**: The phrase \"outstanding '\n",
            "                           'in his field\" is commonly used to refer to someone '\n",
            "                           'who is exceptional or excels in their area of '\n",
            "                           'expertise or profession. \\n'\n",
            "                           '\\n'\n",
            "                           'The humor comes from the pun where the literal '\n",
            "                           'situation of a scarecrow being in a field is '\n",
            "                           'combined with the idiomatic expression about '\n",
            "                           'excellence. So, the scarecrow is both literally '\n",
            "                           'improving the field and humorously implied to be '\n",
            "                           'excellent at his \"job.\"',\n",
            "                   timestamp=datetime.datetime(2024, 12, 4, 9, 50, 3, tzinfo=datetime.timezone.utc),\n",
            "                   role='model-text-response')]\n"
          ]
        }
      ],
      "source": [
        "pprint(result2.new_messages())"
      ]
    },
    {
      "cell_type": "code",
      "execution_count": 30,
      "metadata": {
        "colab": {
          "base_uri": "https://localhost:8080/"
        },
        "id": "25MExpMba0h6",
        "outputId": "c084c0cf-8143-44a5-d1a4-f5c9df3615fc"
      },
      "outputs": [
        {
          "data": {
            "text/plain": [
              "'As piadas sobre livros e matemática são bastante populares e costumam ser usadas em contextos humorísticos, especialmente entre estudantes. Elas fazem parte de um grande repertório de \"piadas de nerds\" ou \"piadas de geek\", que costumam usar trocadilhos e jogos de palavras. Esses tipos de piadas exploram estereótipos e situações engraçadas relacionadas a temas como escola, estudo, ciência e tecnologia.\\n\\nEmbora não haja uma origem específica para essa piada em particular, ela é uma variação de um tipo comum de humor que circula entre estudantes e pessoas que gostam de matemática. Se você tiver interesse em piadas de outros temas ou quiser saber mais sobre algo específico, estou aqui para ajudar!'"
            ]
          },
          "execution_count": 30,
          "metadata": {},
          "output_type": "execute_result"
        }
      ],
      "source": [
        "result3 = agent.run_sync('De onde vem a piada?', message_history=result2.all_messages())\n",
        "\n",
        "result3.data"
      ]
    },
    {
      "cell_type": "code",
      "execution_count": 31,
      "metadata": {
        "colab": {
          "base_uri": "https://localhost:8080/"
        },
        "id": "8p1fgt9za-yY",
        "outputId": "2bb03581-4dc2-45ed-bbc7-51325435e1de"
      },
      "outputs": [
        {
          "data": {
            "text/plain": [
              "[SystemPrompt(content='Seja um assistente útil que responde às perguntas do usuário de forma educada e amigável.', role='system'),\n",
              " UserPrompt(content='Conte-me uma piada.', timestamp=datetime.datetime(2024, 12, 11, 2, 28, 1, 45285, tzinfo=datetime.timezone.utc), role='user'),\n",
              " ModelTextResponse(content='Claro! Aqui vai uma:\\n\\nPor que o livro de matemática se suicidou?\\n\\nPorque ele tinha muitos problemas! \\n\\nEspero que tenha te feito sorrir! Se quiser ouvir mais, é só avisar!', timestamp=datetime.datetime(2024, 12, 11, 2, 28, 1, tzinfo=datetime.timezone.utc), role='model-text-response'),\n",
              " UserPrompt(content='Explique por favor?', timestamp=datetime.datetime(2024, 12, 11, 2, 44, 13, 850436, tzinfo=datetime.timezone.utc), role='user'),\n",
              " ModelTextResponse(content='Claro! A piada brinca com o duplo sentido da palavra \"problemas\". Em matemática, \"problemas\" se refere a exercícios ou questões que precisam ser resolvidas. No entanto, a frase sugere de forma humorística que o livro se sentia sobrecarregado e triste por ter muitos \"problemas\" a resolver, como se isso fosse uma razão para \"se suicidar\". O humor vem da combinação inesperada dessas duas interpretações. \\n\\nSe precisar de mais explicações ou de outras piadas, é só avisar!', timestamp=datetime.datetime(2024, 12, 11, 2, 44, 14, tzinfo=datetime.timezone.utc), role='model-text-response'),\n",
              " UserPrompt(content='De onde vem a piada?', timestamp=datetime.datetime(2024, 12, 11, 2, 45, 40, 369318, tzinfo=datetime.timezone.utc), role='user'),\n",
              " ModelTextResponse(content='As piadas sobre livros e matemática são bastante populares e costumam ser usadas em contextos humorísticos, especialmente entre estudantes. Elas fazem parte de um grande repertório de \"piadas de nerds\" ou \"piadas de geek\", que costumam usar trocadilhos e jogos de palavras. Esses tipos de piadas exploram estereótipos e situações engraçadas relacionadas a temas como escola, estudo, ciência e tecnologia.\\n\\nEmbora não haja uma origem específica para essa piada em particular, ela é uma variação de um tipo comum de humor que circula entre estudantes e pessoas que gostam de matemática. Se você tiver interesse em piadas de outros temas ou quiser saber mais sobre algo específico, estou aqui para ajudar!', timestamp=datetime.datetime(2024, 12, 11, 2, 45, 41, tzinfo=datetime.timezone.utc), role='model-text-response')]"
            ]
          },
          "execution_count": 31,
          "metadata": {},
          "output_type": "execute_result"
        }
      ],
      "source": [
        "result3.all_messages()"
      ]
    },
    {
      "cell_type": "code",
      "execution_count": 40,
      "metadata": {
        "colab": {
          "base_uri": "https://localhost:8080/"
        },
        "id": "LytkNDspbKsW",
        "outputId": "0f0d3e5c-5fdd-417e-ac4d-f596c3600b25"
      },
      "outputs": [
        {
          "data": {
            "text/plain": [
              "b'[{\"content\":\"Seja um assistente \\xc3\\xbatil que responde \\xc3\\xa0s perguntas do usu\\xc3\\xa1rio de forma educada e amig\\xc3\\xa1vel.\",\"role\":\"system\"},{\"content\":\"Conte-me uma piada.\",\"timestamp\":\"2024-12-11T02:28:01.045285Z\",\"role\":\"user\"},{\"content\":\"Claro! Aqui vai uma:\\\\n\\\\nPor que o livro de matem\\xc3\\xa1tica se suicidou?\\\\n\\\\nPorque ele tinha muitos problemas! \\\\n\\\\nEspero que tenha te feito sorrir! Se quiser ouvir mais, \\xc3\\xa9 s\\xc3\\xb3 avisar!\",\"timestamp\":\"2024-12-11T02:28:01Z\",\"role\":\"model-text-response\"},{\"content\":\"Explique por favor?\",\"timestamp\":\"2024-12-11T02:44:13.850436Z\",\"role\":\"user\"},{\"content\":\"Claro! A piada brinca com o duplo sentido da palavra \\\\\"problemas\\\\\". Em matem\\xc3\\xa1tica, \\\\\"problemas\\\\\" se refere a exerc\\xc3\\xadcios ou quest\\xc3\\xb5es que precisam ser resolvidas. No entanto, a frase sugere de forma humor\\xc3\\xadstica que o livro se sentia sobrecarregado e triste por ter muitos \\\\\"problemas\\\\\" a resolver, como se isso fosse uma raz\\xc3\\xa3o para \\\\\"se suicidar\\\\\". O humor vem da combina\\xc3\\xa7\\xc3\\xa3o inesperada dessas duas interpreta\\xc3\\xa7\\xc3\\xb5es. \\\\n\\\\nSe precisar de mais explica\\xc3\\xa7\\xc3\\xb5es ou de outras piadas, \\xc3\\xa9 s\\xc3\\xb3 avisar!\",\"timestamp\":\"2024-12-11T02:44:14Z\",\"role\":\"model-text-response\"},{\"content\":\"De onde vem a piada?\",\"timestamp\":\"2024-12-11T02:45:40.369318Z\",\"role\":\"user\"},{\"content\":\"As piadas sobre livros e matem\\xc3\\xa1tica s\\xc3\\xa3o bastante populares e costumam ser usadas em contextos humor\\xc3\\xadsticos, especialmente entre estudantes. Elas fazem parte de um grande repert\\xc3\\xb3rio de \\\\\"piadas de nerds\\\\\" ou \\\\\"piadas de geek\\\\\", que costumam usar trocadilhos e jogos de palavras. Esses tipos de piadas exploram estere\\xc3\\xb3tipos e situa\\xc3\\xa7\\xc3\\xb5es engra\\xc3\\xa7adas relacionadas a temas como escola, estudo, ci\\xc3\\xaancia e tecnologia.\\\\n\\\\nEmbora n\\xc3\\xa3o haja uma origem espec\\xc3\\xadfica para essa piada em particular, ela \\xc3\\xa9 uma varia\\xc3\\xa7\\xc3\\xa3o de um tipo comum de humor que circula entre estudantes e pessoas que gostam de matem\\xc3\\xa1tica. Se voc\\xc3\\xaa tiver interesse em piadas de outros temas ou quiser saber mais sobre algo espec\\xc3\\xadfico, estou aqui para ajudar!\",\"timestamp\":\"2024-12-11T02:45:41Z\",\"role\":\"model-text-response\"}]'"
            ]
          },
          "execution_count": 40,
          "metadata": {},
          "output_type": "execute_result"
        }
      ],
      "source": [
        "result3.all_messages_json()"
      ]
    },
    {
      "cell_type": "code",
      "execution_count": 41,
      "metadata": {},
      "outputs": [
        {
          "name": "stdout",
          "output_type": "stream",
          "text": [
            "[\n",
            "   {\n",
            "      \"content\": \"Seja um assistente útil que responde às perguntas do usuário de forma educada e amigável.\",\n",
            "      \"role\": \"system\"\n",
            "   },\n",
            "   {\n",
            "      \"content\": \"Conte-me uma piada.\",\n",
            "      \"timestamp\": \"2024-12-11T02:28:01.045285Z\",\n",
            "      \"role\": \"user\"\n",
            "   },\n",
            "   {\n",
            "      \"content\": \"Claro! Aqui vai uma:\\n\\nPor que o livro de matemática se suicidou?\\n\\nPorque ele tinha muitos problemas! \\n\\nEspero que tenha te feito sorrir! Se quiser ouvir mais, é só avisar!\",\n",
            "      \"timestamp\": \"2024-12-11T02:28:01Z\",\n",
            "      \"role\": \"model-text-response\"\n",
            "   },\n",
            "   {\n",
            "      \"content\": \"Explique por favor?\",\n",
            "      \"timestamp\": \"2024-12-11T02:44:13.850436Z\",\n",
            "      \"role\": \"user\"\n",
            "   },\n",
            "   {\n",
            "      \"content\": \"Claro! A piada brinca com o duplo sentido da palavra \\\"problemas\\\". Em matemática, \\\"problemas\\\" se refere a exercícios ou questões que precisam ser resolvidas. No entanto, a frase sugere de forma humorística que o livro se sentia sobrecarregado e triste por ter muitos \\\"problemas\\\" a resolver, como se isso fosse uma razão para \\\"se suicidar\\\". O humor vem da combinação inesperada dessas duas interpretações. \\n\\nSe precisar de mais explicações ou de outras piadas, é só avisar!\",\n",
            "      \"timestamp\": \"2024-12-11T02:44:14Z\",\n",
            "      \"role\": \"model-text-response\"\n",
            "   },\n",
            "   {\n",
            "      \"content\": \"De onde vem a piada?\",\n",
            "      \"timestamp\": \"2024-12-11T02:45:40.369318Z\",\n",
            "      \"role\": \"user\"\n",
            "   },\n",
            "   {\n",
            "      \"content\": \"As piadas sobre livros e matemática são bastante populares e costumam ser usadas em contextos humorísticos, especialmente entre estudantes. Elas fazem parte de um grande repertório de \\\"piadas de nerds\\\" ou \\\"piadas de geek\\\", que costumam usar trocadilhos e jogos de palavras. Esses tipos de piadas exploram estereótipos e situações engraçadas relacionadas a temas como escola, estudo, ciência e tecnologia.\\n\\nEmbora não haja uma origem específica para essa piada em particular, ela é uma variação de um tipo comum de humor que circula entre estudantes e pessoas que gostam de matemática. Se você tiver interesse em piadas de outros temas ou quiser saber mais sobre algo específico, estou aqui para ajudar!\",\n",
            "      \"timestamp\": \"2024-12-11T02:45:41Z\",\n",
            "      \"role\": \"model-text-response\"\n",
            "   }\n",
            "]\n"
          ]
        }
      ],
      "source": [
        "import json\n",
        "\n",
        "# Decodificar os bytes para string e então carregar como JSON:\n",
        "json_str = result3.all_messages_json().decode('utf-8')\n",
        "json_data = json.loads(json_str)\n",
        "\n",
        "# Imprimir formatado:\n",
        "print(json.dumps(json_data, indent=3, ensure_ascii=False))"
      ]
    },
    {
      "cell_type": "markdown",
      "metadata": {
        "id": "54nv6LxtbqFu"
      },
      "source": [
        "# <font color=\"gree\">Chatting LLMs</font>"
      ]
    },
    {
      "cell_type": "code",
      "execution_count": null,
      "metadata": {
        "colab": {
          "base_uri": "https://localhost:8080/"
        },
        "id": "M0K1JKHlbtmv",
        "outputId": "e2a82024-69ae-4014-efaa-5d4c198f07e4"
      },
      "outputs": [
        {
          "name": "stdout",
          "output_type": "stream",
          "text": [
            "Why don't skeletons fight each other? \n",
            "\n",
            "They don't have the guts!\n",
            "The joke plays on the double meaning of \"guts.\"  It refers to both intestines (which skeletons lack) and courage or bravery.  So, skeletons don't fight because they don't have the physical organs, but the joke implies they also lack the courage.\n",
            "\n"
          ]
        }
      ],
      "source": [
        "from pydantic_ai import Agent\n",
        "\n",
        "\n",
        "agent = Agent('openai:gpt-4o-mini',\n",
        "              system_prompt='Seja um assistente útil que responde às perguntas do usuário de forma educada e amigável.')\n",
        "\n",
        "\n",
        "\n",
        "result1 = agent.run_sync('Conte-me uma piada.')\n",
        "result1.data\n",
        "\n",
        "\n",
        "result2 = agent.run_sync(\n",
        "    'Explique por favor?',\n",
        "    model='gemini-1.5-pro',\n",
        "    message_history=result1.new_messages()\n",
        ")\n",
        "result2.data\n",
        "\n",
        "\n"
      ]
    },
    {
      "cell_type": "code",
      "execution_count": null,
      "metadata": {
        "colab": {
          "base_uri": "https://localhost:8080/"
        },
        "id": "JwMoPdhHb52v",
        "outputId": "700dcb25-bd73-41eb-d148-bdbf32df119a"
      },
      "outputs": [
        {
          "name": "stdout",
          "output_type": "stream",
          "text": [
            "[SystemPrompt(content='Be a helpful assistant.', role='system'),\n",
            " UserPrompt(content='Tell me a joke.',\n",
            "            timestamp=datetime.datetime(2024, 12, 4, 9, 52, 5, 563936, tzinfo=datetime.timezone.utc),\n",
            "            role='user'),\n",
            " ModelTextResponse(content=\"Why don't skeletons fight each other? \\n\"\n",
            "                           '\\n'\n",
            "                           \"They don't have the guts!\",\n",
            "                   timestamp=datetime.datetime(2024, 12, 4, 9, 52, 5, tzinfo=datetime.timezone.utc),\n",
            "                   role='model-text-response'),\n",
            " UserPrompt(content='Explain?',\n",
            "            timestamp=datetime.datetime(2024, 12, 4, 9, 52, 6, 47446, tzinfo=datetime.timezone.utc),\n",
            "            role='user'),\n",
            " ModelTextResponse(content='The joke plays on the double meaning of \"guts.\"  '\n",
            "                           'It refers to both intestines (which skeletons '\n",
            "                           \"lack) and courage or bravery.  So, skeletons don't \"\n",
            "                           \"fight because they don't have the physical organs, \"\n",
            "                           'but the joke implies they also lack the courage.\\n',\n",
            "                   timestamp=datetime.datetime(2024, 12, 4, 9, 52, 7, 886871, tzinfo=datetime.timezone.utc),\n",
            "                   role='model-text-response')]\n"
          ]
        }
      ],
      "source": [
        "pprint(result2.all_messages())"
      ]
    },
    {
      "cell_type": "markdown",
      "metadata": {
        "id": "aezrxJNhPm7N"
      },
      "source": [
        "# <font color=\"gree\">Weather</font>"
      ]
    },
    {
      "cell_type": "code",
      "execution_count": 42,
      "metadata": {
        "id": "9j381AIUPoIx"
      },
      "outputs": [],
      "source": [
        "from __future__ import annotations as _annotations\n",
        "\n",
        "import asyncio\n",
        "import os\n",
        "from dataclasses import dataclass\n",
        "from typing import Any\n",
        "\n",
        "from devtools import debug\n",
        "from httpx import AsyncClient\n",
        "\n",
        "from pydantic_ai import Agent, ModelRetry, RunContext"
      ]
    },
    {
      "cell_type": "code",
      "execution_count": null,
      "metadata": {
        "id": "GTRauCbx3I6e"
      },
      "outputs": [],
      "source": [
        "@dataclass\n",
        "class Deps:\n",
        "    client: AsyncClient\n",
        "    weather_api_key: str | None\n",
        "    geo_api_key: str | None\n"
      ]
    },
    {
      "cell_type": "code",
      "execution_count": null,
      "metadata": {
        "id": "_W7bDs6j3I-g"
      },
      "outputs": [],
      "source": [
        "\n",
        "weather_agent = Agent(\n",
        "    'openai:gpt-4o',\n",
        "    system_prompt='Be concise, reply with one sentence.',\n",
        "    deps_type=Deps,\n",
        "    retries=2,\n",
        ")\n",
        "\n",
        "@weather_agent.tool\n",
        "async def get_lat_lng(\n",
        "    ctx: RunContext[Deps], location_description: str\n",
        ") -> dict[str, float]:\n",
        "    \"\"\"Get the latitude and longitude of a location.\n",
        "\n",
        "    Args:\n",
        "        ctx: The context.\n",
        "        location_description: A description of a location.\n",
        "    \"\"\"\n",
        "    if ctx.deps.geo_api_key is None:\n",
        "        # if no API key is provided, return a dummy response (London)\n",
        "        return {'lat': 51.1, 'lng': -0.1}\n",
        "\n",
        "    params = {\n",
        "        'q': location_description,\n",
        "        'api_key': ctx.deps.geo_api_key,\n",
        "    }\n",
        "    with logfire.span('calling geocode API', params=params) as span:\n",
        "        r = await ctx.deps.client.get('https://geocode.maps.co/search', params=params)\n",
        "        r.raise_for_status()\n",
        "        data = r.json()\n",
        "        span.set_attribute('response', data)\n",
        "\n",
        "    if data:\n",
        "        return {'lat': data[0]['lat'], 'lng': data[0]['lon']}\n",
        "    else:\n",
        "        raise ModelRetry('Could not find the location')\n",
        "\n",
        "\n",
        "@weather_agent.tool\n",
        "async def get_weather(ctx: RunContext[Deps], lat: float, lng: float) -> dict[str, Any]:\n",
        "    \"\"\"Get the weather at a location.\n",
        "\n",
        "    Args:\n",
        "        ctx: The context.\n",
        "        lat: Latitude of the location.\n",
        "        lng: Longitude of the location.\n",
        "    \"\"\"\n",
        "    if ctx.deps.weather_api_key is None:\n",
        "        # if no API key is provided, return a dummy response\n",
        "        return {'temperature': '21 °C', 'description': 'Sunny'}\n",
        "\n",
        "    params = {\n",
        "        'apikey': ctx.deps.weather_api_key,\n",
        "        'location': f'{lat},{lng}',\n",
        "        'units': 'metric',\n",
        "    }\n",
        "    with logfire.span('calling weather API', params=params) as span:\n",
        "        r = await ctx.deps.client.get(\n",
        "            'https://api.tomorrow.io/v4/weather/realtime', params=params\n",
        "        )\n",
        "        r.raise_for_status()\n",
        "        data = r.json()\n",
        "        span.set_attribute('response', data)\n",
        "\n",
        "    values = data['data']['values']\n",
        "    # https://docs.tomorrow.io/reference/data-layers-weather-codes\n",
        "    code_lookup = {\n",
        "        1000: 'Clear, Sunny',\n",
        "        1100: 'Mostly Clear',\n",
        "        1101: 'Partly Cloudy',\n",
        "        1102: 'Mostly Cloudy',\n",
        "        1001: 'Cloudy',\n",
        "        2000: 'Fog',\n",
        "        2100: 'Light Fog',\n",
        "        4000: 'Drizzle',\n",
        "        4001: 'Rain',\n",
        "        4200: 'Light Rain',\n",
        "        4201: 'Heavy Rain',\n",
        "        5000: 'Snow',\n",
        "        5001: 'Flurries',\n",
        "        5100: 'Light Snow',\n",
        "        5101: 'Heavy Snow',\n",
        "        6000: 'Freezing Drizzle',\n",
        "        6001: 'Freezing Rain',\n",
        "        6200: 'Light Freezing Rain',\n",
        "        6201: 'Heavy Freezing Rain',\n",
        "        7000: 'Ice Pellets',\n",
        "        7101: 'Heavy Ice Pellets',\n",
        "        7102: 'Light Ice Pellets',\n",
        "        8000: 'Thunderstorm',\n",
        "    }\n",
        "    return {\n",
        "        'temperature': f'{values[\"temperatureApparent\"]:0.0f}°C',\n",
        "        'description': code_lookup.get(values['weatherCode'], 'Unknown'),\n",
        "    }\n",
        "\n",
        "\n",
        "\n"
      ]
    },
    {
      "cell_type": "code",
      "execution_count": null,
      "metadata": {
        "id": "qXo3uShp5jsH"
      },
      "outputs": [],
      "source": [
        "async def main():\n",
        "    async with AsyncClient() as client:\n",
        "        # create a free API key at https://www.tomorrow.io/weather-api/\n",
        "        weather_api_key = os.getenv('WEATHER_API_KEY')\n",
        "        # create a free API key at https://geocode.maps.co/\n",
        "        geo_api_key = os.getenv('GEO_API_KEY')\n",
        "        deps = Deps(\n",
        "            client=client, weather_api_key=weather_api_key, geo_api_key=geo_api_key\n",
        "        )\n",
        "        result = await weather_agent.run(\n",
        "            'What is the weather like in London and in Singapore?', deps=deps\n",
        "        )\n",
        "        debug(result)\n",
        "        print('Response:', result.data)"
      ]
    },
    {
      "cell_type": "code",
      "execution_count": null,
      "metadata": {
        "colab": {
          "base_uri": "https://localhost:8080/"
        },
        "id": "IAkN2NBf3JBw",
        "outputId": "efb65e66-ead8-41a1-b8d7-36ead1332c0a"
      },
      "outputs": [
        {
          "name": "stdout",
          "output_type": "stream",
          "text": [
            "<ipython-input-66-a2f9f6cbe960>:13 main\n",
            "    result: RunResult(\n",
            "        _all_messages=[\n",
            "            SystemPrompt(\n",
            "                content='Be concise, reply with one sentence.',\n",
            "                role='system',\n",
            "            ),\n",
            "            UserPrompt(\n",
            "                content='What is the weather like in London and in Singapore?',\n",
            "                timestamp=datetime.datetime(2024, 12, 4, 9, 56, 16, 119801, tzinfo=datetime.timezone.utc),\n",
            "                role='user',\n",
            "            ),\n",
            "            ModelStructuredResponse(\n",
            "                calls=[\n",
            "                    ToolCall(\n",
            "                        tool_name='get_lat_lng',\n",
            "                        args=ArgsJson(\n",
            "                            args_json='{\"location_description\": \"London\"}',\n",
            "                        ),\n",
            "                        tool_id='call_eUhSdrJJpsLdmVBBarXAY2aE',\n",
            "                    ),\n",
            "                    ToolCall(\n",
            "                        tool_name='get_lat_lng',\n",
            "                        args=ArgsJson(\n",
            "                            args_json='{\"location_description\": \"Singapore\"}',\n",
            "                        ),\n",
            "                        tool_id='call_hBHsgBImacSXZiFCpj5lNOaU',\n",
            "                    ),\n",
            "                ],\n",
            "                timestamp=datetime.datetime(2024, 12, 4, 9, 56, 16, tzinfo=datetime.timezone.utc),\n",
            "                role='model-structured-response',\n",
            "            ),\n",
            "            ToolReturn(\n",
            "                tool_name='get_lat_lng',\n",
            "                content={\n",
            "                    'lat': 51.1,\n",
            "                    'lng': -0.1,\n",
            "                },\n",
            "                tool_id='call_eUhSdrJJpsLdmVBBarXAY2aE',\n",
            "                timestamp=datetime.datetime(2024, 12, 4, 9, 56, 16, 979389, tzinfo=datetime.timezone.utc),\n",
            "                role='tool-return',\n",
            "            ),\n",
            "            ToolReturn(\n",
            "                tool_name='get_lat_lng',\n",
            "                content={\n",
            "                    'lat': 51.1,\n",
            "                    'lng': -0.1,\n",
            "                },\n",
            "                tool_id='call_hBHsgBImacSXZiFCpj5lNOaU',\n",
            "                timestamp=datetime.datetime(2024, 12, 4, 9, 56, 16, 979435, tzinfo=datetime.timezone.utc),\n",
            "                role='tool-return',\n",
            "            ),\n",
            "            ModelStructuredResponse(\n",
            "                calls=[\n",
            "                    ToolCall(\n",
            "                        tool_name='get_weather',\n",
            "                        args=ArgsJson(\n",
            "                            args_json='{\"lat\": 51.1, \"lng\": -0.1}',\n",
            "                        ),\n",
            "                        tool_id='call_I9OyubRQIIqFcOjrH54AxJd0',\n",
            "                    ),\n",
            "                    ToolCall(\n",
            "                        tool_name='get_weather',\n",
            "                        args=ArgsJson(\n",
            "                            args_json='{\"lat\": 51.1, \"lng\": -0.1}',\n",
            "                        ),\n",
            "                        tool_id='call_ejVYjlzccxM6TiSeaIJWPrQH',\n",
            "                    ),\n",
            "                ],\n",
            "                timestamp=datetime.datetime(2024, 12, 4, 9, 56, 17, tzinfo=datetime.timezone.utc),\n",
            "                role='model-structured-response',\n",
            "            ),\n",
            "            ToolReturn(\n",
            "                tool_name='get_weather',\n",
            "                content={\n",
            "                    'temperature': '21 °C',\n",
            "                    'description': 'Sunny',\n",
            "                },\n",
            "                tool_id='call_I9OyubRQIIqFcOjrH54AxJd0',\n",
            "                timestamp=datetime.datetime(2024, 12, 4, 9, 56, 18, 283278, tzinfo=datetime.timezone.utc),\n",
            "                role='tool-return',\n",
            "            ),\n",
            "            ToolReturn(\n",
            "                tool_name='get_weather',\n",
            "                content={\n",
            "                    'temperature': '21 °C',\n",
            "                    'description': 'Sunny',\n",
            "                },\n",
            "                tool_id='call_ejVYjlzccxM6TiSeaIJWPrQH',\n",
            "                timestamp=datetime.datetime(2024, 12, 4, 9, 56, 18, 283329, tzinfo=datetime.timezone.utc),\n",
            "                role='tool-return',\n",
            "            ),\n",
            "            ModelTextResponse(\n",
            "                content='The weather in both London and Singapore is currently 21 °C and sunny.',\n",
            "                timestamp=datetime.datetime(2024, 12, 4, 9, 56, 18, tzinfo=datetime.timezone.utc),\n",
            "                role='model-text-response',\n",
            "            ),\n",
            "        ],\n",
            "        _new_message_index=1,\n",
            "        data='The weather in both London and Singapore is currently 21 °C and sunny.',\n",
            "        _cost=Cost(\n",
            "            request_tokens=716,\n",
            "            response_tokens=129,\n",
            "            total_tokens=845,\n",
            "            details={\n",
            "                'accepted_prediction_tokens': 0,\n",
            "                'audio_tokens': 0,\n",
            "                'reasoning_tokens': 0,\n",
            "                'rejected_prediction_tokens': 0,\n",
            "                'cached_tokens': 0,\n",
            "            },\n",
            "        ),\n",
            "    ) (RunResult)\n",
            "Response: The weather in both London and Singapore is currently 21 °C and sunny.\n"
          ]
        }
      ],
      "source": [
        "asyncio.run(main())"
      ]
    },
    {
      "cell_type": "markdown",
      "metadata": {
        "id": "7glzqzKnYsLT"
      },
      "source": [
        "# <font color=\"gree\">Streaming MarkDown</font>"
      ]
    },
    {
      "cell_type": "code",
      "execution_count": null,
      "metadata": {
        "colab": {
          "base_uri": "https://localhost:8080/",
          "height": 1000,
          "referenced_widgets": [
            "aa6177341ad6439c96c059e433169420",
            "1329031b2a6c437fae35175f8e7ccbb4",
            "402757fec43049cda25b6063e42f6a67",
            "a398fc2e52c3454fa62275335a742f7c",
            "7bd9e078fe824979b0ac9b930ec77ddd",
            "67b778d4848f4586bce0dfdcbd061345"
          ]
        },
        "id": "zPeF_VWkPJ0b",
        "outputId": "74b785cf-6912-4eab-c58f-516bb7f497bc"
      },
      "outputs": [],
      "source": [
        "import asyncio\n",
        "import os\n",
        "\n",
        "from rich.console import Console, ConsoleOptions, RenderResult\n",
        "from rich.live import Live\n",
        "from rich.markdown import CodeBlock, Markdown\n",
        "from rich.syntax import Syntax\n",
        "from rich.text import Text\n",
        "\n",
        "from pydantic_ai import Agent\n",
        "from pydantic_ai.models import KnownModelName\n",
        "\n",
        "\n",
        "agent = Agent()\n",
        "\n",
        "# models to try, and the appropriate env var\n",
        "models: list[tuple[KnownModelName, str]] = [\n",
        "    ('gemini-1.5-flash', 'GEMINI_API_KEY'),\n",
        "    ('openai:gpt-4o-mini', 'OPENAI_API_KEY'),\n",
        "    ('groq:llama-3.1-70b-versatile', 'GROQ_API_KEY'),\n",
        "]\n",
        "\n",
        "\n",
        "async def main():\n",
        "    prettier_code_blocks()\n",
        "    console = Console()\n",
        "    prompt = 'Show me a short example of using Pydantic.'\n",
        "    console.log(f'Asking: {prompt}...', style='cyan')\n",
        "    for model, env_var in models:\n",
        "        if env_var in os.environ:\n",
        "            console.log(f'Using model: {model}')\n",
        "            with Live('', console=console, vertical_overflow='visible') as live:\n",
        "                async with agent.run_stream(prompt, model=model) as result:\n",
        "                    async for message in result.stream():\n",
        "                        live.update(Markdown(message))\n",
        "            console.log(result.cost())\n",
        "        else:\n",
        "            console.log(f'{model} requires {env_var} to be set.')\n",
        "\n",
        "\n",
        "def prettier_code_blocks():\n",
        "    \"\"\"Make rich code blocks prettier and easier to copy.\n",
        "\n",
        "    From https://github.com/samuelcolvin/aicli/blob/v0.8.0/samuelcolvin_aicli.py#L22\n",
        "    \"\"\"\n",
        "\n",
        "    class SimpleCodeBlock(CodeBlock):\n",
        "        def __rich_console__(\n",
        "            self, console: Console, options: ConsoleOptions\n",
        "        ) -> RenderResult:\n",
        "            code = str(self.text).rstrip()\n",
        "            yield Text(self.lexer_name, style='dim')\n",
        "            yield Syntax(\n",
        "                code,\n",
        "                self.lexer_name,\n",
        "                theme=self.theme,\n",
        "                background_color='black',\n",
        "                word_wrap=True,\n",
        "            )\n",
        "            yield Text(f'/{self.lexer_name}', style='dim')\n",
        "\n",
        "    Markdown.elements['fence'] = SimpleCodeBlock\n",
        "\n",
        "\n",
        "if __name__ == '__main__':\n",
        "    asyncio.run(main())"
      ]
    }
  ],
  "metadata": {
    "colab": {
      "provenance": []
    },
    "kernelspec": {
      "display_name": "Python 3",
      "name": "python3"
    },
    "language_info": {
      "codemirror_mode": {
        "name": "ipython",
        "version": 3
      },
      "file_extension": ".py",
      "mimetype": "text/x-python",
      "name": "python",
      "nbconvert_exporter": "python",
      "pygments_lexer": "ipython3",
      "version": "3.10.12"
    },
    "widgets": {
      "application/vnd.jupyter.widget-state+json": {
        "1329031b2a6c437fae35175f8e7ccbb4": {
          "model_module": "@jupyter-widgets/base",
          "model_module_version": "1.2.0",
          "model_name": "LayoutModel",
          "state": {
            "_model_module": "@jupyter-widgets/base",
            "_model_module_version": "1.2.0",
            "_model_name": "LayoutModel",
            "_view_count": null,
            "_view_module": "@jupyter-widgets/base",
            "_view_module_version": "1.2.0",
            "_view_name": "LayoutView",
            "align_content": null,
            "align_items": null,
            "align_self": null,
            "border": null,
            "bottom": null,
            "display": null,
            "flex": null,
            "flex_flow": null,
            "grid_area": null,
            "grid_auto_columns": null,
            "grid_auto_flow": null,
            "grid_auto_rows": null,
            "grid_column": null,
            "grid_gap": null,
            "grid_row": null,
            "grid_template_areas": null,
            "grid_template_columns": null,
            "grid_template_rows": null,
            "height": null,
            "justify_content": null,
            "justify_items": null,
            "left": null,
            "margin": null,
            "max_height": null,
            "max_width": null,
            "min_height": null,
            "min_width": null,
            "object_fit": null,
            "object_position": null,
            "order": null,
            "overflow": null,
            "overflow_x": null,
            "overflow_y": null,
            "padding": null,
            "right": null,
            "top": null,
            "visibility": null,
            "width": null
          }
        },
        "402757fec43049cda25b6063e42f6a67": {
          "model_module": "@jupyter-widgets/output",
          "model_module_version": "1.0.0",
          "model_name": "OutputModel",
          "state": {
            "_dom_classes": [],
            "_model_module": "@jupyter-widgets/output",
            "_model_module_version": "1.0.0",
            "_model_name": "OutputModel",
            "_view_count": null,
            "_view_module": "@jupyter-widgets/output",
            "_view_module_version": "1.0.0",
            "_view_name": "OutputView",
            "layout": "IPY_MODEL_a398fc2e52c3454fa62275335a742f7c",
            "msg_id": "",
            "outputs": [
              {
                "data": {
                  "text/html": "<pre style=\"white-space:pre;overflow-x:auto;line-height:normal;font-family:Menlo,'DejaVu Sans Mono',consolas,'Courier New',monospace\">Certainly! Pydantic is a data validation and settings management library for Python that utilizes Python type      \nannotations. It is particularly useful for validating complex data structures, such as those encountered in        \nconfigurations, API responses, or forms.                                                                           \n\nHere's a simple example demonstrating how to define a data model using Pydantic and validate input data:           \n\n<span style=\"color: #7f7f7f; text-decoration-color: #7f7f7f\">python</span>\n<span style=\"color: #ff4689; text-decoration-color: #ff4689; background-color: #000000\">from</span><span style=\"color: #f8f8f2; text-decoration-color: #f8f8f2; background-color: #000000\"> pydantic </span><span style=\"color: #ff4689; text-decoration-color: #ff4689; background-color: #000000\">import</span><span style=\"color: #f8f8f2; text-decoration-color: #f8f8f2; background-color: #000000\"> BaseModel, EmailStr, conint</span><span style=\"background-color: #000000\">                                                                   </span>\n<span style=\"background-color: #000000\">                                                                                                                   </span>\n<span style=\"color: #959077; text-decoration-color: #959077; background-color: #000000\"># Define a Pydantic model</span><span style=\"background-color: #000000\">                                                                                          </span>\n<span style=\"color: #66d9ef; text-decoration-color: #66d9ef; background-color: #000000\">class</span><span style=\"color: #f8f8f2; text-decoration-color: #f8f8f2; background-color: #000000\"> </span><span style=\"color: #a6e22e; text-decoration-color: #a6e22e; background-color: #000000\">User</span><span style=\"color: #f8f8f2; text-decoration-color: #f8f8f2; background-color: #000000\">(BaseModel):</span><span style=\"background-color: #000000\">                                                                                             </span>\n<span style=\"color: #f8f8f2; text-decoration-color: #f8f8f2; background-color: #000000\">    id: conint(ge</span><span style=\"color: #ff4689; text-decoration-color: #ff4689; background-color: #000000\">=</span><span style=\"color: #ae81ff; text-decoration-color: #ae81ff; background-color: #000000\">0</span><span style=\"color: #f8f8f2; text-decoration-color: #f8f8f2; background-color: #000000\">)  </span><span style=\"color: #959077; text-decoration-color: #959077; background-color: #000000\"># id must be a non-negative integer</span><span style=\"background-color: #000000\">                                                          </span>\n<span style=\"color: #f8f8f2; text-decoration-color: #f8f8f2; background-color: #000000\">    name: str</span><span style=\"background-color: #000000\">                                                                                                      </span>\n<span style=\"color: #f8f8f2; text-decoration-color: #f8f8f2; background-color: #000000\">    email: EmailStr  </span><span style=\"color: #959077; text-decoration-color: #959077; background-color: #000000\"># email must be a valid email address</span><span style=\"background-color: #000000\">                                                         </span>\n<span style=\"color: #f8f8f2; text-decoration-color: #f8f8f2; background-color: #000000\">    age: conint(ge</span><span style=\"color: #ff4689; text-decoration-color: #ff4689; background-color: #000000\">=</span><span style=\"color: #ae81ff; text-decoration-color: #ae81ff; background-color: #000000\">18</span><span style=\"color: #f8f8f2; text-decoration-color: #f8f8f2; background-color: #000000\">)  </span><span style=\"color: #959077; text-decoration-color: #959077; background-color: #000000\"># age must be an integer greater than or equal to 18</span><span style=\"background-color: #000000\">                                       </span>\n<span style=\"background-color: #000000\">                                                                                                                   </span>\n<span style=\"color: #959077; text-decoration-color: #959077; background-color: #000000\"># Example input data</span><span style=\"background-color: #000000\">                                                                                               </span>\n<span style=\"color: #f8f8f2; text-decoration-color: #f8f8f2; background-color: #000000\">data </span><span style=\"color: #ff4689; text-decoration-color: #ff4689; background-color: #000000\">=</span><span style=\"color: #f8f8f2; text-decoration-color: #f8f8f2; background-color: #000000\"> {</span><span style=\"background-color: #000000\">                                                                                                           </span>\n<span style=\"color: #f8f8f2; text-decoration-color: #f8f8f2; background-color: #000000\">    </span><span style=\"color: #e6db74; text-decoration-color: #e6db74; background-color: #000000\">\"id\"</span><span style=\"color: #f8f8f2; text-decoration-color: #f8f8f2; background-color: #000000\">: </span><span style=\"color: #ae81ff; text-decoration-color: #ae81ff; background-color: #000000\">1</span><span style=\"color: #f8f8f2; text-decoration-color: #f8f8f2; background-color: #000000\">,</span><span style=\"background-color: #000000\">                                                                                                       </span>\n<span style=\"color: #f8f8f2; text-decoration-color: #f8f8f2; background-color: #000000\">    </span><span style=\"color: #e6db74; text-decoration-color: #e6db74; background-color: #000000\">\"name\"</span><span style=\"color: #f8f8f2; text-decoration-color: #f8f8f2; background-color: #000000\">: </span><span style=\"color: #e6db74; text-decoration-color: #e6db74; background-color: #000000\">\"Alice\"</span><span style=\"color: #f8f8f2; text-decoration-color: #f8f8f2; background-color: #000000\">,</span><span style=\"background-color: #000000\">                                                                                               </span>\n<span style=\"color: #f8f8f2; text-decoration-color: #f8f8f2; background-color: #000000\">    </span><span style=\"color: #e6db74; text-decoration-color: #e6db74; background-color: #000000\">\"email\"</span><span style=\"color: #f8f8f2; text-decoration-color: #f8f8f2; background-color: #000000\">: </span><span style=\"color: #e6db74; text-decoration-color: #e6db74; background-color: #000000\">\"alice@example.com\"</span><span style=\"color: #f8f8f2; text-decoration-color: #f8f8f2; background-color: #000000\">,</span><span style=\"background-color: #000000\">                                                                                  </span>\n<span style=\"color: #f8f8f2; text-decoration-color: #f8f8f2; background-color: #000000\">    </span><span style=\"color: #e6db74; text-decoration-color: #e6db74; background-color: #000000\">\"age\"</span><span style=\"color: #f8f8f2; text-decoration-color: #f8f8f2; background-color: #000000\">: </span><span style=\"color: #ae81ff; text-decoration-color: #ae81ff; background-color: #000000\">25</span><span style=\"background-color: #000000\">                                                                                                      </span>\n<span style=\"color: #f8f8f2; text-decoration-color: #f8f8f2; background-color: #000000\">}</span><span style=\"background-color: #000000\">                                                                                                                  </span>\n<span style=\"background-color: #000000\">                                                                                                                   </span>\n<span style=\"color: #959077; text-decoration-color: #959077; background-color: #000000\"># Create a User instance</span><span style=\"background-color: #000000\">                                                                                           </span>\n<span style=\"color: #f8f8f2; text-decoration-color: #f8f8f2; background-color: #000000\">user </span><span style=\"color: #ff4689; text-decoration-color: #ff4689; background-color: #000000\">=</span><span style=\"color: #f8f8f2; text-decoration-color: #f8f8f2; background-color: #000000\"> User(</span><span style=\"color: #ff4689; text-decoration-color: #ff4689; background-color: #000000\">**</span><span style=\"color: #f8f8f2; text-decoration-color: #f8f8f2; background-color: #000000\">data)</span><span style=\"background-color: #000000\">                                                                                                </span>\n<span style=\"background-color: #000000\">                                                                                                                   </span>\n<span style=\"color: #959077; text-decoration-color: #959077; background-color: #000000\"># Accessing the validated data</span><span style=\"background-color: #000000\">                                                                                     </span>\n<span style=\"color: #f8f8f2; text-decoration-color: #f8f8f2; background-color: #000000\">print(user)</span><span style=\"background-color: #000000\">                                                                                                        </span>\n<span style=\"color: #f8f8f2; text-decoration-color: #f8f8f2; background-color: #000000\">print(user</span><span style=\"color: #ff4689; text-decoration-color: #ff4689; background-color: #000000\">.</span><span style=\"color: #f8f8f2; text-decoration-color: #f8f8f2; background-color: #000000\">name)  </span><span style=\"color: #959077; text-decoration-color: #959077; background-color: #000000\"># Output: Alice</span><span style=\"background-color: #000000\">                                                                                  </span>\n<span style=\"color: #f8f8f2; text-decoration-color: #f8f8f2; background-color: #000000\">print(user</span><span style=\"color: #ff4689; text-decoration-color: #ff4689; background-color: #000000\">.</span><span style=\"color: #f8f8f2; text-decoration-color: #f8f8f2; background-color: #000000\">email)  </span><span style=\"color: #959077; text-decoration-color: #959077; background-color: #000000\"># Output: alice@example.com</span><span style=\"background-color: #000000\">                                                                     </span>\n<span style=\"background-color: #000000\">                                                                                                                   </span>\n<span style=\"color: #959077; text-decoration-color: #959077; background-color: #000000\"># Uncommenting the following line will raise a validation error</span><span style=\"background-color: #000000\">                                                    </span>\n<span style=\"color: #959077; text-decoration-color: #959077; background-color: #000000\"># invalid_user = User(id=-1, name=\"Bob\", email=\"bob@example.com\", age=17)</span><span style=\"background-color: #000000\">                                          </span>\n<span style=\"color: #7f7f7f; text-decoration-color: #7f7f7f\">/python</span>\n\nIn this example, we define a <span style=\"color: #008080; text-decoration-color: #008080; background-color: #000000; font-weight: bold\">User</span> class that inherits from <span style=\"color: #008080; text-decoration-color: #008080; background-color: #000000; font-weight: bold\">BaseModel</span>. The class specifies various fields with their\nexpected types and validation conditions. When we create an instance of <span style=\"color: #008080; text-decoration-color: #008080; background-color: #000000; font-weight: bold\">User</span> with the given data, Pydantic         \nautomatically validates the input. If any of the constraints are violated (e.g.,                                   \n</pre>\n",
                  "text/plain": "Certainly! Pydantic is a data validation and settings management library for Python that utilizes Python type      \nannotations. It is particularly useful for validating complex data structures, such as those encountered in        \nconfigurations, API responses, or forms.                                                                           \n\nHere's a simple example demonstrating how to define a data model using Pydantic and validate input data:           \n\n\u001b[2mpython\u001b[0m\n\u001b[38;2;255;70;137;40mfrom\u001b[0m\u001b[38;2;248;248;242;40m \u001b[0m\u001b[38;2;248;248;242;40mpydantic\u001b[0m\u001b[38;2;248;248;242;40m \u001b[0m\u001b[38;2;255;70;137;40mimport\u001b[0m\u001b[38;2;248;248;242;40m \u001b[0m\u001b[38;2;248;248;242;40mBaseModel\u001b[0m\u001b[38;2;248;248;242;40m,\u001b[0m\u001b[38;2;248;248;242;40m \u001b[0m\u001b[38;2;248;248;242;40mEmailStr\u001b[0m\u001b[38;2;248;248;242;40m,\u001b[0m\u001b[38;2;248;248;242;40m \u001b[0m\u001b[38;2;248;248;242;40mconint\u001b[0m\u001b[40m                                                                   \u001b[0m\n\u001b[40m                                                                                                                   \u001b[0m\n\u001b[38;2;149;144;119;40m# Define a Pydantic model\u001b[0m\u001b[40m                                                                                          \u001b[0m\n\u001b[38;2;102;217;239;40mclass\u001b[0m\u001b[38;2;248;248;242;40m \u001b[0m\u001b[38;2;166;226;46;40mUser\u001b[0m\u001b[38;2;248;248;242;40m(\u001b[0m\u001b[38;2;248;248;242;40mBaseModel\u001b[0m\u001b[38;2;248;248;242;40m)\u001b[0m\u001b[38;2;248;248;242;40m:\u001b[0m\u001b[40m                                                                                             \u001b[0m\n\u001b[38;2;248;248;242;40m    \u001b[0m\u001b[38;2;248;248;242;40mid\u001b[0m\u001b[38;2;248;248;242;40m:\u001b[0m\u001b[38;2;248;248;242;40m \u001b[0m\u001b[38;2;248;248;242;40mconint\u001b[0m\u001b[38;2;248;248;242;40m(\u001b[0m\u001b[38;2;248;248;242;40mge\u001b[0m\u001b[38;2;255;70;137;40m=\u001b[0m\u001b[38;2;174;129;255;40m0\u001b[0m\u001b[38;2;248;248;242;40m)\u001b[0m\u001b[38;2;248;248;242;40m  \u001b[0m\u001b[38;2;149;144;119;40m# id must be a non-negative integer\u001b[0m\u001b[40m                                                          \u001b[0m\n\u001b[38;2;248;248;242;40m    \u001b[0m\u001b[38;2;248;248;242;40mname\u001b[0m\u001b[38;2;248;248;242;40m:\u001b[0m\u001b[38;2;248;248;242;40m \u001b[0m\u001b[38;2;248;248;242;40mstr\u001b[0m\u001b[40m                                                                                                      \u001b[0m\n\u001b[38;2;248;248;242;40m    \u001b[0m\u001b[38;2;248;248;242;40memail\u001b[0m\u001b[38;2;248;248;242;40m:\u001b[0m\u001b[38;2;248;248;242;40m \u001b[0m\u001b[38;2;248;248;242;40mEmailStr\u001b[0m\u001b[38;2;248;248;242;40m  \u001b[0m\u001b[38;2;149;144;119;40m# email must be a valid email address\u001b[0m\u001b[40m                                                         \u001b[0m\n\u001b[38;2;248;248;242;40m    \u001b[0m\u001b[38;2;248;248;242;40mage\u001b[0m\u001b[38;2;248;248;242;40m:\u001b[0m\u001b[38;2;248;248;242;40m \u001b[0m\u001b[38;2;248;248;242;40mconint\u001b[0m\u001b[38;2;248;248;242;40m(\u001b[0m\u001b[38;2;248;248;242;40mge\u001b[0m\u001b[38;2;255;70;137;40m=\u001b[0m\u001b[38;2;174;129;255;40m18\u001b[0m\u001b[38;2;248;248;242;40m)\u001b[0m\u001b[38;2;248;248;242;40m  \u001b[0m\u001b[38;2;149;144;119;40m# age must be an integer greater than or equal to 18\u001b[0m\u001b[40m                                       \u001b[0m\n\u001b[40m                                                                                                                   \u001b[0m\n\u001b[38;2;149;144;119;40m# Example input data\u001b[0m\u001b[40m                                                                                               \u001b[0m\n\u001b[38;2;248;248;242;40mdata\u001b[0m\u001b[38;2;248;248;242;40m \u001b[0m\u001b[38;2;255;70;137;40m=\u001b[0m\u001b[38;2;248;248;242;40m \u001b[0m\u001b[38;2;248;248;242;40m{\u001b[0m\u001b[40m                                                                                                           \u001b[0m\n\u001b[38;2;248;248;242;40m    \u001b[0m\u001b[38;2;230;219;116;40m\"\u001b[0m\u001b[38;2;230;219;116;40mid\u001b[0m\u001b[38;2;230;219;116;40m\"\u001b[0m\u001b[38;2;248;248;242;40m:\u001b[0m\u001b[38;2;248;248;242;40m \u001b[0m\u001b[38;2;174;129;255;40m1\u001b[0m\u001b[38;2;248;248;242;40m,\u001b[0m\u001b[40m                                                                                                       \u001b[0m\n\u001b[38;2;248;248;242;40m    \u001b[0m\u001b[38;2;230;219;116;40m\"\u001b[0m\u001b[38;2;230;219;116;40mname\u001b[0m\u001b[38;2;230;219;116;40m\"\u001b[0m\u001b[38;2;248;248;242;40m:\u001b[0m\u001b[38;2;248;248;242;40m \u001b[0m\u001b[38;2;230;219;116;40m\"\u001b[0m\u001b[38;2;230;219;116;40mAlice\u001b[0m\u001b[38;2;230;219;116;40m\"\u001b[0m\u001b[38;2;248;248;242;40m,\u001b[0m\u001b[40m                                                                                               \u001b[0m\n\u001b[38;2;248;248;242;40m    \u001b[0m\u001b[38;2;230;219;116;40m\"\u001b[0m\u001b[38;2;230;219;116;40memail\u001b[0m\u001b[38;2;230;219;116;40m\"\u001b[0m\u001b[38;2;248;248;242;40m:\u001b[0m\u001b[38;2;248;248;242;40m \u001b[0m\u001b[38;2;230;219;116;40m\"\u001b[0m\u001b[38;2;230;219;116;40malice@example.com\u001b[0m\u001b[38;2;230;219;116;40m\"\u001b[0m\u001b[38;2;248;248;242;40m,\u001b[0m\u001b[40m                                                                                  \u001b[0m\n\u001b[38;2;248;248;242;40m    \u001b[0m\u001b[38;2;230;219;116;40m\"\u001b[0m\u001b[38;2;230;219;116;40mage\u001b[0m\u001b[38;2;230;219;116;40m\"\u001b[0m\u001b[38;2;248;248;242;40m:\u001b[0m\u001b[38;2;248;248;242;40m \u001b[0m\u001b[38;2;174;129;255;40m25\u001b[0m\u001b[40m                                                                                                      \u001b[0m\n\u001b[38;2;248;248;242;40m}\u001b[0m\u001b[40m                                                                                                                  \u001b[0m\n\u001b[40m                                                                                                                   \u001b[0m\n\u001b[38;2;149;144;119;40m# Create a User instance\u001b[0m\u001b[40m                                                                                           \u001b[0m\n\u001b[38;2;248;248;242;40muser\u001b[0m\u001b[38;2;248;248;242;40m \u001b[0m\u001b[38;2;255;70;137;40m=\u001b[0m\u001b[38;2;248;248;242;40m \u001b[0m\u001b[38;2;248;248;242;40mUser\u001b[0m\u001b[38;2;248;248;242;40m(\u001b[0m\u001b[38;2;255;70;137;40m*\u001b[0m\u001b[38;2;255;70;137;40m*\u001b[0m\u001b[38;2;248;248;242;40mdata\u001b[0m\u001b[38;2;248;248;242;40m)\u001b[0m\u001b[40m                                                                                                \u001b[0m\n\u001b[40m                                                                                                                   \u001b[0m\n\u001b[38;2;149;144;119;40m# Accessing the validated data\u001b[0m\u001b[40m                                                                                     \u001b[0m\n\u001b[38;2;248;248;242;40mprint\u001b[0m\u001b[38;2;248;248;242;40m(\u001b[0m\u001b[38;2;248;248;242;40muser\u001b[0m\u001b[38;2;248;248;242;40m)\u001b[0m\u001b[40m                                                                                                        \u001b[0m\n\u001b[38;2;248;248;242;40mprint\u001b[0m\u001b[38;2;248;248;242;40m(\u001b[0m\u001b[38;2;248;248;242;40muser\u001b[0m\u001b[38;2;255;70;137;40m.\u001b[0m\u001b[38;2;248;248;242;40mname\u001b[0m\u001b[38;2;248;248;242;40m)\u001b[0m\u001b[38;2;248;248;242;40m  \u001b[0m\u001b[38;2;149;144;119;40m# Output: Alice\u001b[0m\u001b[40m                                                                                  \u001b[0m\n\u001b[38;2;248;248;242;40mprint\u001b[0m\u001b[38;2;248;248;242;40m(\u001b[0m\u001b[38;2;248;248;242;40muser\u001b[0m\u001b[38;2;255;70;137;40m.\u001b[0m\u001b[38;2;248;248;242;40memail\u001b[0m\u001b[38;2;248;248;242;40m)\u001b[0m\u001b[38;2;248;248;242;40m  \u001b[0m\u001b[38;2;149;144;119;40m# Output: alice@example.com\u001b[0m\u001b[40m                                                                     \u001b[0m\n\u001b[40m                                                                                                                   \u001b[0m\n\u001b[38;2;149;144;119;40m# Uncommenting the following line will raise a validation error\u001b[0m\u001b[40m                                                    \u001b[0m\n\u001b[38;2;149;144;119;40m# invalid_user = User(id=-1, name=\"Bob\", email=\"bob@example.com\", age=17)\u001b[0m\u001b[40m                                          \u001b[0m\n\u001b[2m/python\u001b[0m\n\nIn this example, we define a \u001b[1;36;40mUser\u001b[0m class that inherits from \u001b[1;36;40mBaseModel\u001b[0m. The class specifies various fields with their\nexpected types and validation conditions. When we create an instance of \u001b[1;36;40mUser\u001b[0m with the given data, Pydantic         \nautomatically validates the input. If any of the constraints are violated (e.g.,                                   \n"
                },
                "metadata": {},
                "output_type": "display_data"
              }
            ]
          }
        },
        "67b778d4848f4586bce0dfdcbd061345": {
          "model_module": "@jupyter-widgets/base",
          "model_module_version": "1.2.0",
          "model_name": "LayoutModel",
          "state": {
            "_model_module": "@jupyter-widgets/base",
            "_model_module_version": "1.2.0",
            "_model_name": "LayoutModel",
            "_view_count": null,
            "_view_module": "@jupyter-widgets/base",
            "_view_module_version": "1.2.0",
            "_view_name": "LayoutView",
            "align_content": null,
            "align_items": null,
            "align_self": null,
            "border": null,
            "bottom": null,
            "display": null,
            "flex": null,
            "flex_flow": null,
            "grid_area": null,
            "grid_auto_columns": null,
            "grid_auto_flow": null,
            "grid_auto_rows": null,
            "grid_column": null,
            "grid_gap": null,
            "grid_row": null,
            "grid_template_areas": null,
            "grid_template_columns": null,
            "grid_template_rows": null,
            "height": null,
            "justify_content": null,
            "justify_items": null,
            "left": null,
            "margin": null,
            "max_height": null,
            "max_width": null,
            "min_height": null,
            "min_width": null,
            "object_fit": null,
            "object_position": null,
            "order": null,
            "overflow": null,
            "overflow_x": null,
            "overflow_y": null,
            "padding": null,
            "right": null,
            "top": null,
            "visibility": null,
            "width": null
          }
        },
        "7bd9e078fe824979b0ac9b930ec77ddd": {
          "model_module": "@jupyter-widgets/output",
          "model_module_version": "1.0.0",
          "model_name": "OutputModel",
          "state": {
            "_dom_classes": [],
            "_model_module": "@jupyter-widgets/output",
            "_model_module_version": "1.0.0",
            "_model_name": "OutputModel",
            "_view_count": null,
            "_view_module": "@jupyter-widgets/output",
            "_view_module_version": "1.0.0",
            "_view_name": "OutputView",
            "layout": "IPY_MODEL_67b778d4848f4586bce0dfdcbd061345",
            "msg_id": "",
            "outputs": [
              {
                "data": {
                  "text/html": "<pre style=\"white-space:pre;overflow-x:auto;line-height:normal;font-family:Menlo,'DejaVu Sans Mono',consolas,'Courier New',monospace\">┏━━━━━━━━━━━━━━━━━━━━━━━━━━━━━━━━━━━━━━━━━━━━━━━━━━━━━━━━━━━━━━━━━━━━━━━━━━━━━━━━━━━━━━━━━━━━━━━━━━━━━━━━━━━━━━━━━┓\n┃                              <span style=\"font-weight: bold\">Using Pydantic for Data Validation and Serialization</span>                               ┃\n┗━━━━━━━━━━━━━━━━━━━━━━━━━━━━━━━━━━━━━━━━━━━━━━━━━━━━━━━━━━━━━━━━━━━━━━━━━━━━━━━━━━━━━━━━━━━━━━━━━━━━━━━━━━━━━━━━━┛\n\nPydantic is a Python library that provides runtime data validation and serialization. Here's a simple example of   \nhow to use it:                                                                                                     \n\n                                                 <span style=\"font-weight: bold\">Install Pydantic</span>                                                  \n\nBefore you start, make sure you have Pydantic installed. You can install it using pip:                             \n\n<span style=\"color: #7f7f7f; text-decoration-color: #7f7f7f\">bash</span>\n<span style=\"color: #f8f8f2; text-decoration-color: #f8f8f2; background-color: #000000\">pip install pydantic</span><span style=\"background-color: #000000\">                                                                                               </span>\n<span style=\"color: #7f7f7f; text-decoration-color: #7f7f7f\">/bash</span>\n\n                                              <span style=\"font-weight: bold\">Define a Pydantic Model</span>                                              \n\n<span style=\"color: #7f7f7f; text-decoration-color: #7f7f7f\">python</span>\n<span style=\"color: #ff4689; text-decoration-color: #ff4689; background-color: #000000\">from</span><span style=\"color: #f8f8f2; text-decoration-color: #f8f8f2; background-color: #000000\"> pydantic </span><span style=\"color: #ff4689; text-decoration-color: #ff4689; background-color: #000000\">import</span><span style=\"color: #f8f8f2; text-decoration-color: #f8f8f2; background-color: #000000\"> BaseModel</span><span style=\"background-color: #000000\">                                                                                     </span>\n<span style=\"background-color: #000000\">                                                                                                                   </span>\n<span style=\"color: #66d9ef; text-decoration-color: #66d9ef; background-color: #000000\">class</span><span style=\"color: #f8f8f2; text-decoration-color: #f8f8f2; background-color: #000000\"> </span><span style=\"color: #a6e22e; text-decoration-color: #a6e22e; background-color: #000000\">User</span><span style=\"color: #f8f8f2; text-decoration-color: #f8f8f2; background-color: #000000\">(BaseModel):</span><span style=\"background-color: #000000\">                                                                                             </span>\n<span style=\"color: #f8f8f2; text-decoration-color: #f8f8f2; background-color: #000000\">    id: int</span><span style=\"background-color: #000000\">                                                                                                        </span>\n<span style=\"color: #f8f8f2; text-decoration-color: #f8f8f2; background-color: #000000\">    name: str</span><span style=\"background-color: #000000\">                                                                                                      </span>\n<span style=\"color: #f8f8f2; text-decoration-color: #f8f8f2; background-color: #000000\">    email: str</span><span style=\"background-color: #000000\">                                                                                                     </span>\n<span style=\"background-color: #000000\">                                                                                                                   </span>\n<span style=\"color: #f8f8f2; text-decoration-color: #f8f8f2; background-color: #000000\">    </span><span style=\"color: #66d9ef; text-decoration-color: #66d9ef; background-color: #000000\">class</span><span style=\"color: #f8f8f2; text-decoration-color: #f8f8f2; background-color: #000000\"> </span><span style=\"color: #a6e22e; text-decoration-color: #a6e22e; background-color: #000000\">Config</span><span style=\"color: #f8f8f2; text-decoration-color: #f8f8f2; background-color: #000000\">:</span><span style=\"background-color: #000000\">                                                                                                  </span>\n<span style=\"color: #f8f8f2; text-decoration-color: #f8f8f2; background-color: #000000\">        schema_extra </span><span style=\"color: #ff4689; text-decoration-color: #ff4689; background-color: #000000\">=</span><span style=\"color: #f8f8f2; text-decoration-color: #f8f8f2; background-color: #000000\"> {</span><span style=\"background-color: #000000\">                                                                                           </span>\n<span style=\"color: #f8f8f2; text-decoration-color: #f8f8f2; background-color: #000000\">            </span><span style=\"color: #e6db74; text-decoration-color: #e6db74; background-color: #000000\">\"example\"</span><span style=\"color: #f8f8f2; text-decoration-color: #f8f8f2; background-color: #000000\">: {</span><span style=\"background-color: #000000\">                                                                                           </span>\n<span style=\"color: #f8f8f2; text-decoration-color: #f8f8f2; background-color: #000000\">                </span><span style=\"color: #e6db74; text-decoration-color: #e6db74; background-color: #000000\">\"id\"</span><span style=\"color: #f8f8f2; text-decoration-color: #f8f8f2; background-color: #000000\">: </span><span style=\"color: #ae81ff; text-decoration-color: #ae81ff; background-color: #000000\">1</span><span style=\"color: #f8f8f2; text-decoration-color: #f8f8f2; background-color: #000000\">,</span><span style=\"background-color: #000000\">                                                                                           </span>\n<span style=\"color: #f8f8f2; text-decoration-color: #f8f8f2; background-color: #000000\">                </span><span style=\"color: #e6db74; text-decoration-color: #e6db74; background-color: #000000\">\"name\"</span><span style=\"color: #f8f8f2; text-decoration-color: #f8f8f2; background-color: #000000\">: </span><span style=\"color: #e6db74; text-decoration-color: #e6db74; background-color: #000000\">\"John Doe\"</span><span style=\"color: #f8f8f2; text-decoration-color: #f8f8f2; background-color: #000000\">,</span><span style=\"background-color: #000000\">                                                                                </span>\n<span style=\"color: #f8f8f2; text-decoration-color: #f8f8f2; background-color: #000000\">                </span><span style=\"color: #e6db74; text-decoration-color: #e6db74; background-color: #000000\">\"email\"</span><span style=\"color: #f8f8f2; text-decoration-color: #f8f8f2; background-color: #000000\">: </span><span style=\"color: #e6db74; text-decoration-color: #e6db74; background-color: #000000\">\"john@example.com\"</span><span style=\"background-color: #000000\">                                                                        </span>\n<span style=\"color: #f8f8f2; text-decoration-color: #f8f8f2; background-color: #000000\">            }</span><span style=\"background-color: #000000\">                                                                                                      </span>\n<span style=\"color: #f8f8f2; text-decoration-color: #f8f8f2; background-color: #000000\">        }</span><span style=\"background-color: #000000\">                                                                                                          </span>\n<span style=\"color: #7f7f7f; text-decoration-color: #7f7f7f\">/python</span>\n\nIn this example, we define a <span style=\"color: #008080; text-decoration-color: #008080; background-color: #000000; font-weight: bold\">User</span> model with three fields: <span style=\"color: #008080; text-decoration-color: #008080; background-color: #000000; font-weight: bold\">id</span>, <span style=\"color: #008080; text-decoration-color: #008080; background-color: #000000; font-weight: bold\">name</span>, and <span style=\"color: #008080; text-decoration-color: #008080; background-color: #000000; font-weight: bold\">email</span>. The <span style=\"color: #008080; text-decoration-color: #008080; background-color: #000000; font-weight: bold\">BaseModel</span> class from Pydantic  \nprovides the basic functionality for data validation and serialization.                                            \n\n                                              <span style=\"font-weight: bold\">Create a User Instance</span>                                               \n\n<span style=\"color: #7f7f7f; text-decoration-color: #7f7f7f\">python</span>\n<span style=\"color: #f8f8f2; text-decoration-color: #f8f8f2; background-color: #000000\">user </span><span style=\"color: #ff4689; text-decoration-color: #ff4689; background-color: #000000\">=</span><span style=\"color: #f8f8f2; text-decoration-color: #f8f8f2; background-color: #000000\"> User(id</span><span style=\"color: #ff4689; text-decoration-color: #ff4689; background-color: #000000\">=</span><span style=\"color: #ae81ff; text-decoration-color: #ae81ff; background-color: #000000\">1</span><span style=\"color: #f8f8f2; text-decoration-color: #f8f8f2; background-color: #000000\">, name</span><span style=\"color: #ff4689; text-decoration-color: #ff4689; background-color: #000000\">=</span><span style=\"color: #e6db74; text-decoration-color: #e6db74; background-color: #000000\">\"John Doe\"</span><span style=\"color: #f8f8f2; text-decoration-color: #f8f8f2; background-color: #000000\">, email</span><span style=\"color: #ff4689; text-decoration-color: #ff4689; background-color: #000000\">=</span><span style=\"color: #e6db74; text-decoration-color: #e6db74; background-color: #000000\">\"john@example.com\"</span><span style=\"color: #f8f8f2; text-decoration-color: #f8f8f2; background-color: #000000\">)</span><span style=\"background-color: #000000\">                                                       </span>\n<span style=\"color: #f8f8f2; text-decoration-color: #f8f8f2; background-color: #000000\">print(user)</span><span style=\"background-color: #000000\">                                                                                                        </span>\n<span style=\"color: #7f7f7f; text-decoration-color: #7f7f7f\">/python</span>\n\nOutput:                                                                                                            \n\n<span style=\"color: #7f7f7f; text-decoration-color: #7f7f7f\">json</span>\n<span style=\"color: #ed007e; text-decoration-color: #ed007e; background-color: #000000\">id=</span><span style=\"color: #ae81ff; text-decoration-color: #ae81ff; background-color: #000000\">1</span><span style=\"color: #f8f8f2; text-decoration-color: #f8f8f2; background-color: #000000\"> </span><span style=\"color: #66d9ef; text-decoration-color: #66d9ef; background-color: #000000\">na</span><span style=\"color: #ed007e; text-decoration-color: #ed007e; background-color: #000000\">me='Joh</span><span style=\"color: #66d9ef; text-decoration-color: #66d9ef; background-color: #000000\">n</span><span style=\"color: #f8f8f2; text-decoration-color: #f8f8f2; background-color: #000000\"> </span><span style=\"color: #ed007e; text-decoration-color: #ed007e; background-color: #000000\">Doe'</span><span style=\"color: #f8f8f2; text-decoration-color: #f8f8f2; background-color: #000000\"> </span><span style=\"color: #ed007e; text-decoration-color: #ed007e; background-color: #000000\">email='joh</span><span style=\"color: #66d9ef; text-decoration-color: #66d9ef; background-color: #000000\">n</span><span style=\"color: #ed007e; text-decoration-color: #ed007e; background-color: #000000\">@example.com'</span><span style=\"background-color: #000000\">                                                                      </span>\n<span style=\"color: #7f7f7f; text-decoration-color: #7f7f7f\">/json</span>\n\n                                                <span style=\"font-weight: bold\">Validate User Data</span>                                                 \n\nPydantic automatically validates the data when you create a new instance of the model. If the data is invalid, it  \nraises a <span style=\"color: #008080; text-decoration-color: #008080; background-color: #000000; font-weight: bold\">ValidationError</span>.                                                                                          \n\n<span style=\"color: #7f7f7f; text-decoration-color: #7f7f7f\">python</span>\n<span style=\"color: #66d9ef; text-decoration-color: #66d9ef; background-color: #000000\">try</span><span style=\"color: #f8f8f2; text-decoration-color: #f8f8f2; background-color: #000000\">:</span><span style=\"background-color: #000000\">                                                                                                               </span>\n<span style=\"color: #f8f8f2; text-decoration-color: #f8f8f2; background-color: #000000\">    invalid_user </span><span style=\"color: #ff4689; text-decoration-color: #ff4689; background-color: #000000\">=</span><span style=\"color: #f8f8f2; text-decoration-color: #f8f8f2; background-color: #000000\"> User(id</span><span style=\"color: #ff4689; text-decoration-color: #ff4689; background-color: #000000\">=</span><span style=\"color: #e6db74; text-decoration-color: #e6db74; background-color: #000000\">\"abc\"</span><span style=\"color: #f8f8f2; text-decoration-color: #f8f8f2; background-color: #000000\">, name</span><span style=\"color: #ff4689; text-decoration-color: #ff4689; background-color: #000000\">=</span><span style=\"color: #e6db74; text-decoration-color: #e6db74; background-color: #000000\">\"John Doe\"</span><span style=\"color: #f8f8f2; text-decoration-color: #f8f8f2; background-color: #000000\">, email</span><span style=\"color: #ff4689; text-decoration-color: #ff4689; background-color: #000000\">=</span><span style=\"color: #e6db74; text-decoration-color: #e6db74; background-color: #000000\">\"john@example.com\"</span><span style=\"color: #f8f8f2; text-decoration-color: #f8f8f2; background-color: #000000\">)</span><span style=\"background-color: #000000\">                                       </span>\n<span style=\"color: #66d9ef; text-decoration-color: #66d9ef; background-color: #000000\">except</span><span style=\"color: #f8f8f2; text-decoration-color: #f8f8f2; background-color: #000000\"> </span><span style=\"color: #a6e22e; text-decoration-color: #a6e22e; background-color: #000000\">Exception</span><span style=\"color: #f8f8f2; text-decoration-color: #f8f8f2; background-color: #000000\"> </span><span style=\"color: #66d9ef; text-decoration-color: #66d9ef; background-color: #000000\">as</span><span style=\"color: #f8f8f2; text-decoration-color: #f8f8f2; background-color: #000000\"> e:</span><span style=\"background-color: #000000\">                                                                                             </span>\n<span style=\"color: #f8f8f2; text-decoration-color: #f8f8f2; background-color: #000000\">    print(e)</span><span style=\"background-color: #000000\">                                                                                                       </span>\n<span style=\"color: #7f7f7f; text-decoration-color: #7f7f7f\">/python</span>\n\nOutput:                                                                                                            \n\n<span style=\"color: #7f7f7f; text-decoration-color: #7f7f7f\">text</span>\n<span style=\"color: #f8f8f2; text-decoration-color: #f8f8f2; background-color: #000000\">1 validation error for User</span><span style=\"background-color: #000000\">                                                                                        </span>\n<span style=\"color: #f8f8f2; text-decoration-color: #f8f8f2; background-color: #000000\">id</span><span style=\"background-color: #000000\">                                                                                                                 </span>\n<span style=\"color: #f8f8f2; text-decoration-color: #f8f8f2; background-color: #000000\">  value is not a valid integer (type=type_error.integer)</span><span style=\"background-color: #000000\">                                                           </span>\n<span style=\"color: #7f7f7f; text-decoration-color: #7f7f7f\">/text</span>\n\n                                            <span style=\"font-weight: bold\">Serialize User Data to JSON</span>                                            \n\nPydantic models can be easily serialized to JSON using the <span style=\"color: #008080; text-decoration-color: #008080; background-color: #000000; font-weight: bold\">json()</span> method.                                          \n\n<span style=\"color: #7f7f7f; text-decoration-color: #7f7f7f\">python</span>\n<span style=\"color: #ff4689; text-decoration-color: #ff4689; background-color: #000000\">import</span><span style=\"color: #f8f8f2; text-decoration-color: #f8f8f2; background-color: #000000\"> json</span><span style=\"background-color: #000000\">                                                                                                        </span>\n<span style=\"background-color: #000000\">                                                                                                                   </span>\n<span style=\"color: #f8f8f2; text-decoration-color: #f8f8f2; background-color: #000000\">user_json </span><span style=\"color: #ff4689; text-decoration-color: #ff4689; background-color: #000000\">=</span><span style=\"color: #f8f8f2; text-decoration-color: #f8f8f2; background-color: #000000\"> user</span><span style=\"color: #ff4689; text-decoration-color: #ff4689; background-color: #000000\">.</span><span style=\"color: #f8f8f2; text-decoration-color: #f8f8f2; background-color: #000000\">json()</span><span style=\"background-color: #000000\">                                                                                            </span>\n<span style=\"color: #f8f8f2; text-decoration-color: #f8f8f2; background-color: #000000\">print(user_json)</span><span style=\"background-color: #000000\">                                                                                                   </span>\n<span style=\"color: #7f7f7f; text-decoration-color: #7f7f7f\">/python</span>\n\nOutput:                                                                                                            \n\n<span style=\"color: #7f7f7f; text-decoration-color: #7f7f7f\">json</span>\n<span style=\"color: #f8f8f2; text-decoration-color: #f8f8f2; background-color: #000000\">{</span><span style=\"color: #ff4689; text-decoration-color: #ff4689; background-color: #000000\">\"id\"</span><span style=\"color: #f8f8f2; text-decoration-color: #f8f8f2; background-color: #000000\">: </span><span style=\"color: #ae81ff; text-decoration-color: #ae81ff; background-color: #000000\">1</span><span style=\"color: #f8f8f2; text-decoration-color: #f8f8f2; background-color: #000000\">, </span><span style=\"color: #ff4689; text-decoration-color: #ff4689; background-color: #000000\">\"name\"</span><span style=\"color: #f8f8f2; text-decoration-color: #f8f8f2; background-color: #000000\">: </span><span style=\"color: #e6db74; text-decoration-color: #e6db74; background-color: #000000\">\"John Doe\"</span><span style=\"color: #f8f8f2; text-decoration-color: #f8f8f2; background-color: #000000\">, </span><span style=\"color: #ff4689; text-decoration-color: #ff4689; background-color: #000000\">\"email\"</span><span style=\"color: #f8f8f2; text-decoration-color: #f8f8f2; background-color: #000000\">: </span><span style=\"color: #e6db74; text-decoration-color: #e6db74; background-color: #000000\">\"john@example.com\"</span><span style=\"color: #f8f8f2; text-decoration-color: #f8f8f2; background-color: #000000\">}</span><span style=\"background-color: #000000\">                                                         </span>\n<span style=\"color: #7f7f7f; text-decoration-color: #7f7f7f\">/json</span>\n\nThis is a basic example of how to use Pydantic for data validation and serialization. Pydantic provides many more  \nfeatures, such as support for nested models, custom validation, and more.                                          \n</pre>\n",
                  "text/plain": "┏━━━━━━━━━━━━━━━━━━━━━━━━━━━━━━━━━━━━━━━━━━━━━━━━━━━━━━━━━━━━━━━━━━━━━━━━━━━━━━━━━━━━━━━━━━━━━━━━━━━━━━━━━━━━━━━━━┓\n┃                              \u001b[1mUsing Pydantic for Data Validation and Serialization\u001b[0m                               ┃\n┗━━━━━━━━━━━━━━━━━━━━━━━━━━━━━━━━━━━━━━━━━━━━━━━━━━━━━━━━━━━━━━━━━━━━━━━━━━━━━━━━━━━━━━━━━━━━━━━━━━━━━━━━━━━━━━━━━┛\n\nPydantic is a Python library that provides runtime data validation and serialization. Here's a simple example of   \nhow to use it:                                                                                                     \n\n                                                 \u001b[1mInstall Pydantic\u001b[0m                                                  \n\nBefore you start, make sure you have Pydantic installed. You can install it using pip:                             \n\n\u001b[2mbash\u001b[0m\n\u001b[38;2;248;248;242;40mpip\u001b[0m\u001b[38;2;248;248;242;40m \u001b[0m\u001b[38;2;248;248;242;40minstall\u001b[0m\u001b[38;2;248;248;242;40m \u001b[0m\u001b[38;2;248;248;242;40mpydantic\u001b[0m\u001b[40m                                                                                               \u001b[0m\n\u001b[2m/bash\u001b[0m\n\n                                              \u001b[1mDefine a Pydantic Model\u001b[0m                                              \n\n\u001b[2mpython\u001b[0m\n\u001b[38;2;255;70;137;40mfrom\u001b[0m\u001b[38;2;248;248;242;40m \u001b[0m\u001b[38;2;248;248;242;40mpydantic\u001b[0m\u001b[38;2;248;248;242;40m \u001b[0m\u001b[38;2;255;70;137;40mimport\u001b[0m\u001b[38;2;248;248;242;40m \u001b[0m\u001b[38;2;248;248;242;40mBaseModel\u001b[0m\u001b[40m                                                                                     \u001b[0m\n\u001b[40m                                                                                                                   \u001b[0m\n\u001b[38;2;102;217;239;40mclass\u001b[0m\u001b[38;2;248;248;242;40m \u001b[0m\u001b[38;2;166;226;46;40mUser\u001b[0m\u001b[38;2;248;248;242;40m(\u001b[0m\u001b[38;2;248;248;242;40mBaseModel\u001b[0m\u001b[38;2;248;248;242;40m)\u001b[0m\u001b[38;2;248;248;242;40m:\u001b[0m\u001b[40m                                                                                             \u001b[0m\n\u001b[38;2;248;248;242;40m    \u001b[0m\u001b[38;2;248;248;242;40mid\u001b[0m\u001b[38;2;248;248;242;40m:\u001b[0m\u001b[38;2;248;248;242;40m \u001b[0m\u001b[38;2;248;248;242;40mint\u001b[0m\u001b[40m                                                                                                        \u001b[0m\n\u001b[38;2;248;248;242;40m    \u001b[0m\u001b[38;2;248;248;242;40mname\u001b[0m\u001b[38;2;248;248;242;40m:\u001b[0m\u001b[38;2;248;248;242;40m \u001b[0m\u001b[38;2;248;248;242;40mstr\u001b[0m\u001b[40m                                                                                                      \u001b[0m\n\u001b[38;2;248;248;242;40m    \u001b[0m\u001b[38;2;248;248;242;40memail\u001b[0m\u001b[38;2;248;248;242;40m:\u001b[0m\u001b[38;2;248;248;242;40m \u001b[0m\u001b[38;2;248;248;242;40mstr\u001b[0m\u001b[40m                                                                                                     \u001b[0m\n\u001b[40m                                                                                                                   \u001b[0m\n\u001b[38;2;248;248;242;40m    \u001b[0m\u001b[38;2;102;217;239;40mclass\u001b[0m\u001b[38;2;248;248;242;40m \u001b[0m\u001b[38;2;166;226;46;40mConfig\u001b[0m\u001b[38;2;248;248;242;40m:\u001b[0m\u001b[40m                                                                                                  \u001b[0m\n\u001b[38;2;248;248;242;40m        \u001b[0m\u001b[38;2;248;248;242;40mschema_extra\u001b[0m\u001b[38;2;248;248;242;40m \u001b[0m\u001b[38;2;255;70;137;40m=\u001b[0m\u001b[38;2;248;248;242;40m \u001b[0m\u001b[38;2;248;248;242;40m{\u001b[0m\u001b[40m                                                                                           \u001b[0m\n\u001b[38;2;248;248;242;40m            \u001b[0m\u001b[38;2;230;219;116;40m\"\u001b[0m\u001b[38;2;230;219;116;40mexample\u001b[0m\u001b[38;2;230;219;116;40m\"\u001b[0m\u001b[38;2;248;248;242;40m:\u001b[0m\u001b[38;2;248;248;242;40m \u001b[0m\u001b[38;2;248;248;242;40m{\u001b[0m\u001b[40m                                                                                           \u001b[0m\n\u001b[38;2;248;248;242;40m                \u001b[0m\u001b[38;2;230;219;116;40m\"\u001b[0m\u001b[38;2;230;219;116;40mid\u001b[0m\u001b[38;2;230;219;116;40m\"\u001b[0m\u001b[38;2;248;248;242;40m:\u001b[0m\u001b[38;2;248;248;242;40m \u001b[0m\u001b[38;2;174;129;255;40m1\u001b[0m\u001b[38;2;248;248;242;40m,\u001b[0m\u001b[40m                                                                                           \u001b[0m\n\u001b[38;2;248;248;242;40m                \u001b[0m\u001b[38;2;230;219;116;40m\"\u001b[0m\u001b[38;2;230;219;116;40mname\u001b[0m\u001b[38;2;230;219;116;40m\"\u001b[0m\u001b[38;2;248;248;242;40m:\u001b[0m\u001b[38;2;248;248;242;40m \u001b[0m\u001b[38;2;230;219;116;40m\"\u001b[0m\u001b[38;2;230;219;116;40mJohn Doe\u001b[0m\u001b[38;2;230;219;116;40m\"\u001b[0m\u001b[38;2;248;248;242;40m,\u001b[0m\u001b[40m                                                                                \u001b[0m\n\u001b[38;2;248;248;242;40m                \u001b[0m\u001b[38;2;230;219;116;40m\"\u001b[0m\u001b[38;2;230;219;116;40memail\u001b[0m\u001b[38;2;230;219;116;40m\"\u001b[0m\u001b[38;2;248;248;242;40m:\u001b[0m\u001b[38;2;248;248;242;40m \u001b[0m\u001b[38;2;230;219;116;40m\"\u001b[0m\u001b[38;2;230;219;116;40mjohn@example.com\u001b[0m\u001b[38;2;230;219;116;40m\"\u001b[0m\u001b[40m                                                                        \u001b[0m\n\u001b[38;2;248;248;242;40m            \u001b[0m\u001b[38;2;248;248;242;40m}\u001b[0m\u001b[40m                                                                                                      \u001b[0m\n\u001b[38;2;248;248;242;40m        \u001b[0m\u001b[38;2;248;248;242;40m}\u001b[0m\u001b[40m                                                                                                          \u001b[0m\n\u001b[2m/python\u001b[0m\n\nIn this example, we define a \u001b[1;36;40mUser\u001b[0m model with three fields: \u001b[1;36;40mid\u001b[0m, \u001b[1;36;40mname\u001b[0m, and \u001b[1;36;40memail\u001b[0m. The \u001b[1;36;40mBaseModel\u001b[0m class from Pydantic  \nprovides the basic functionality for data validation and serialization.                                            \n\n                                              \u001b[1mCreate a User Instance\u001b[0m                                               \n\n\u001b[2mpython\u001b[0m\n\u001b[38;2;248;248;242;40muser\u001b[0m\u001b[38;2;248;248;242;40m \u001b[0m\u001b[38;2;255;70;137;40m=\u001b[0m\u001b[38;2;248;248;242;40m \u001b[0m\u001b[38;2;248;248;242;40mUser\u001b[0m\u001b[38;2;248;248;242;40m(\u001b[0m\u001b[38;2;248;248;242;40mid\u001b[0m\u001b[38;2;255;70;137;40m=\u001b[0m\u001b[38;2;174;129;255;40m1\u001b[0m\u001b[38;2;248;248;242;40m,\u001b[0m\u001b[38;2;248;248;242;40m \u001b[0m\u001b[38;2;248;248;242;40mname\u001b[0m\u001b[38;2;255;70;137;40m=\u001b[0m\u001b[38;2;230;219;116;40m\"\u001b[0m\u001b[38;2;230;219;116;40mJohn Doe\u001b[0m\u001b[38;2;230;219;116;40m\"\u001b[0m\u001b[38;2;248;248;242;40m,\u001b[0m\u001b[38;2;248;248;242;40m \u001b[0m\u001b[38;2;248;248;242;40memail\u001b[0m\u001b[38;2;255;70;137;40m=\u001b[0m\u001b[38;2;230;219;116;40m\"\u001b[0m\u001b[38;2;230;219;116;40mjohn@example.com\u001b[0m\u001b[38;2;230;219;116;40m\"\u001b[0m\u001b[38;2;248;248;242;40m)\u001b[0m\u001b[40m                                                       \u001b[0m\n\u001b[38;2;248;248;242;40mprint\u001b[0m\u001b[38;2;248;248;242;40m(\u001b[0m\u001b[38;2;248;248;242;40muser\u001b[0m\u001b[38;2;248;248;242;40m)\u001b[0m\u001b[40m                                                                                                        \u001b[0m\n\u001b[2m/python\u001b[0m\n\nOutput:                                                                                                            \n\n\u001b[2mjson\u001b[0m\n\u001b[38;2;237;0;126;40mi\u001b[0m\u001b[38;2;237;0;126;40md\u001b[0m\u001b[38;2;237;0;126;40m=\u001b[0m\u001b[38;2;174;129;255;40m1\u001b[0m\u001b[38;2;248;248;242;40m \u001b[0m\u001b[38;2;102;217;239;40mna\u001b[0m\u001b[38;2;237;0;126;40mm\u001b[0m\u001b[38;2;237;0;126;40me\u001b[0m\u001b[38;2;237;0;126;40m=\u001b[0m\u001b[38;2;237;0;126;40m'\u001b[0m\u001b[38;2;237;0;126;40mJ\u001b[0m\u001b[38;2;237;0;126;40mo\u001b[0m\u001b[38;2;237;0;126;40mh\u001b[0m\u001b[38;2;102;217;239;40mn\u001b[0m\u001b[38;2;248;248;242;40m \u001b[0m\u001b[38;2;237;0;126;40mD\u001b[0m\u001b[38;2;237;0;126;40mo\u001b[0m\u001b[38;2;237;0;126;40me\u001b[0m\u001b[38;2;237;0;126;40m'\u001b[0m\u001b[38;2;248;248;242;40m \u001b[0m\u001b[38;2;237;0;126;40me\u001b[0m\u001b[38;2;237;0;126;40mm\u001b[0m\u001b[38;2;237;0;126;40ma\u001b[0m\u001b[38;2;237;0;126;40mi\u001b[0m\u001b[38;2;237;0;126;40ml\u001b[0m\u001b[38;2;237;0;126;40m=\u001b[0m\u001b[38;2;237;0;126;40m'\u001b[0m\u001b[38;2;237;0;126;40mj\u001b[0m\u001b[38;2;237;0;126;40mo\u001b[0m\u001b[38;2;237;0;126;40mh\u001b[0m\u001b[38;2;102;217;239;40mn\u001b[0m\u001b[38;2;237;0;126;40m@\u001b[0m\u001b[38;2;237;0;126;40me\u001b[0m\u001b[38;2;237;0;126;40mx\u001b[0m\u001b[38;2;237;0;126;40ma\u001b[0m\u001b[38;2;237;0;126;40mm\u001b[0m\u001b[38;2;237;0;126;40mp\u001b[0m\u001b[38;2;237;0;126;40ml\u001b[0m\u001b[38;2;237;0;126;40me\u001b[0m\u001b[38;2;237;0;126;40m.\u001b[0m\u001b[38;2;237;0;126;40mc\u001b[0m\u001b[38;2;237;0;126;40mo\u001b[0m\u001b[38;2;237;0;126;40mm\u001b[0m\u001b[38;2;237;0;126;40m'\u001b[0m\u001b[40m                                                                      \u001b[0m\n\u001b[2m/json\u001b[0m\n\n                                                \u001b[1mValidate User Data\u001b[0m                                                 \n\nPydantic automatically validates the data when you create a new instance of the model. If the data is invalid, it  \nraises a \u001b[1;36;40mValidationError\u001b[0m.                                                                                          \n\n\u001b[2mpython\u001b[0m\n\u001b[38;2;102;217;239;40mtry\u001b[0m\u001b[38;2;248;248;242;40m:\u001b[0m\u001b[40m                                                                                                               \u001b[0m\n\u001b[38;2;248;248;242;40m    \u001b[0m\u001b[38;2;248;248;242;40minvalid_user\u001b[0m\u001b[38;2;248;248;242;40m \u001b[0m\u001b[38;2;255;70;137;40m=\u001b[0m\u001b[38;2;248;248;242;40m \u001b[0m\u001b[38;2;248;248;242;40mUser\u001b[0m\u001b[38;2;248;248;242;40m(\u001b[0m\u001b[38;2;248;248;242;40mid\u001b[0m\u001b[38;2;255;70;137;40m=\u001b[0m\u001b[38;2;230;219;116;40m\"\u001b[0m\u001b[38;2;230;219;116;40mabc\u001b[0m\u001b[38;2;230;219;116;40m\"\u001b[0m\u001b[38;2;248;248;242;40m,\u001b[0m\u001b[38;2;248;248;242;40m \u001b[0m\u001b[38;2;248;248;242;40mname\u001b[0m\u001b[38;2;255;70;137;40m=\u001b[0m\u001b[38;2;230;219;116;40m\"\u001b[0m\u001b[38;2;230;219;116;40mJohn Doe\u001b[0m\u001b[38;2;230;219;116;40m\"\u001b[0m\u001b[38;2;248;248;242;40m,\u001b[0m\u001b[38;2;248;248;242;40m \u001b[0m\u001b[38;2;248;248;242;40memail\u001b[0m\u001b[38;2;255;70;137;40m=\u001b[0m\u001b[38;2;230;219;116;40m\"\u001b[0m\u001b[38;2;230;219;116;40mjohn@example.com\u001b[0m\u001b[38;2;230;219;116;40m\"\u001b[0m\u001b[38;2;248;248;242;40m)\u001b[0m\u001b[40m                                       \u001b[0m\n\u001b[38;2;102;217;239;40mexcept\u001b[0m\u001b[38;2;248;248;242;40m \u001b[0m\u001b[38;2;166;226;46;40mException\u001b[0m\u001b[38;2;248;248;242;40m \u001b[0m\u001b[38;2;102;217;239;40mas\u001b[0m\u001b[38;2;248;248;242;40m \u001b[0m\u001b[38;2;248;248;242;40me\u001b[0m\u001b[38;2;248;248;242;40m:\u001b[0m\u001b[40m                                                                                             \u001b[0m\n\u001b[38;2;248;248;242;40m    \u001b[0m\u001b[38;2;248;248;242;40mprint\u001b[0m\u001b[38;2;248;248;242;40m(\u001b[0m\u001b[38;2;248;248;242;40me\u001b[0m\u001b[38;2;248;248;242;40m)\u001b[0m\u001b[40m                                                                                                       \u001b[0m\n\u001b[2m/python\u001b[0m\n\nOutput:                                                                                                            \n\n\u001b[2mtext\u001b[0m\n\u001b[38;2;248;248;242;40m1 validation error for User\u001b[0m\u001b[40m                                                                                        \u001b[0m\n\u001b[38;2;248;248;242;40mid\u001b[0m\u001b[40m                                                                                                                 \u001b[0m\n\u001b[38;2;248;248;242;40m  value is not a valid integer (type=type_error.integer)\u001b[0m\u001b[40m                                                           \u001b[0m\n\u001b[2m/text\u001b[0m\n\n                                            \u001b[1mSerialize User Data to JSON\u001b[0m                                            \n\nPydantic models can be easily serialized to JSON using the \u001b[1;36;40mjson()\u001b[0m method.                                          \n\n\u001b[2mpython\u001b[0m\n\u001b[38;2;255;70;137;40mimport\u001b[0m\u001b[38;2;248;248;242;40m \u001b[0m\u001b[38;2;248;248;242;40mjson\u001b[0m\u001b[40m                                                                                                        \u001b[0m\n\u001b[40m                                                                                                                   \u001b[0m\n\u001b[38;2;248;248;242;40muser_json\u001b[0m\u001b[38;2;248;248;242;40m \u001b[0m\u001b[38;2;255;70;137;40m=\u001b[0m\u001b[38;2;248;248;242;40m \u001b[0m\u001b[38;2;248;248;242;40muser\u001b[0m\u001b[38;2;255;70;137;40m.\u001b[0m\u001b[38;2;248;248;242;40mjson\u001b[0m\u001b[38;2;248;248;242;40m(\u001b[0m\u001b[38;2;248;248;242;40m)\u001b[0m\u001b[40m                                                                                            \u001b[0m\n\u001b[38;2;248;248;242;40mprint\u001b[0m\u001b[38;2;248;248;242;40m(\u001b[0m\u001b[38;2;248;248;242;40muser_json\u001b[0m\u001b[38;2;248;248;242;40m)\u001b[0m\u001b[40m                                                                                                   \u001b[0m\n\u001b[2m/python\u001b[0m\n\nOutput:                                                                                                            \n\n\u001b[2mjson\u001b[0m\n\u001b[38;2;248;248;242;40m{\u001b[0m\u001b[38;2;255;70;137;40m\"id\"\u001b[0m\u001b[38;2;248;248;242;40m:\u001b[0m\u001b[38;2;248;248;242;40m \u001b[0m\u001b[38;2;174;129;255;40m1\u001b[0m\u001b[38;2;248;248;242;40m,\u001b[0m\u001b[38;2;248;248;242;40m \u001b[0m\u001b[38;2;255;70;137;40m\"name\"\u001b[0m\u001b[38;2;248;248;242;40m:\u001b[0m\u001b[38;2;248;248;242;40m \u001b[0m\u001b[38;2;230;219;116;40m\"John Doe\"\u001b[0m\u001b[38;2;248;248;242;40m,\u001b[0m\u001b[38;2;248;248;242;40m \u001b[0m\u001b[38;2;255;70;137;40m\"email\"\u001b[0m\u001b[38;2;248;248;242;40m:\u001b[0m\u001b[38;2;248;248;242;40m \u001b[0m\u001b[38;2;230;219;116;40m\"john@example.com\"\u001b[0m\u001b[38;2;248;248;242;40m}\u001b[0m\u001b[40m                                                         \u001b[0m\n\u001b[2m/json\u001b[0m\n\nThis is a basic example of how to use Pydantic for data validation and serialization. Pydantic provides many more  \nfeatures, such as support for nested models, custom validation, and more.                                          \n"
                },
                "metadata": {},
                "output_type": "display_data"
              }
            ]
          }
        },
        "a398fc2e52c3454fa62275335a742f7c": {
          "model_module": "@jupyter-widgets/base",
          "model_module_version": "1.2.0",
          "model_name": "LayoutModel",
          "state": {
            "_model_module": "@jupyter-widgets/base",
            "_model_module_version": "1.2.0",
            "_model_name": "LayoutModel",
            "_view_count": null,
            "_view_module": "@jupyter-widgets/base",
            "_view_module_version": "1.2.0",
            "_view_name": "LayoutView",
            "align_content": null,
            "align_items": null,
            "align_self": null,
            "border": null,
            "bottom": null,
            "display": null,
            "flex": null,
            "flex_flow": null,
            "grid_area": null,
            "grid_auto_columns": null,
            "grid_auto_flow": null,
            "grid_auto_rows": null,
            "grid_column": null,
            "grid_gap": null,
            "grid_row": null,
            "grid_template_areas": null,
            "grid_template_columns": null,
            "grid_template_rows": null,
            "height": null,
            "justify_content": null,
            "justify_items": null,
            "left": null,
            "margin": null,
            "max_height": null,
            "max_width": null,
            "min_height": null,
            "min_width": null,
            "object_fit": null,
            "object_position": null,
            "order": null,
            "overflow": null,
            "overflow_x": null,
            "overflow_y": null,
            "padding": null,
            "right": null,
            "top": null,
            "visibility": null,
            "width": null
          }
        },
        "aa6177341ad6439c96c059e433169420": {
          "model_module": "@jupyter-widgets/output",
          "model_module_version": "1.0.0",
          "model_name": "OutputModel",
          "state": {
            "_dom_classes": [],
            "_model_module": "@jupyter-widgets/output",
            "_model_module_version": "1.0.0",
            "_model_name": "OutputModel",
            "_view_count": null,
            "_view_module": "@jupyter-widgets/output",
            "_view_module_version": "1.0.0",
            "_view_name": "OutputView",
            "layout": "IPY_MODEL_1329031b2a6c437fae35175f8e7ccbb4",
            "msg_id": "",
            "outputs": [
              {
                "data": {
                  "text/html": "<pre style=\"white-space:pre;overflow-x:auto;line-height:normal;font-family:Menlo,'DejaVu Sans Mono',consolas,'Courier New',monospace\">This example demonstrates a simple Pydantic model for a user, validating input data and providing type hints:      \n\n<span style=\"color: #7f7f7f; text-decoration-color: #7f7f7f\">python</span>\n<span style=\"color: #ff4689; text-decoration-color: #ff4689; background-color: #000000\">from</span><span style=\"color: #f8f8f2; text-decoration-color: #f8f8f2; background-color: #000000\"> pydantic </span><span style=\"color: #ff4689; text-decoration-color: #ff4689; background-color: #000000\">import</span><span style=\"color: #f8f8f2; text-decoration-color: #f8f8f2; background-color: #000000\"> BaseModel, ValidationError</span><span style=\"background-color: #000000\">                                                                    </span>\n<span style=\"background-color: #000000\">                                                                                                                   </span>\n<span style=\"color: #66d9ef; text-decoration-color: #66d9ef; background-color: #000000\">class</span><span style=\"color: #f8f8f2; text-decoration-color: #f8f8f2; background-color: #000000\"> </span><span style=\"color: #a6e22e; text-decoration-color: #a6e22e; background-color: #000000\">User</span><span style=\"color: #f8f8f2; text-decoration-color: #f8f8f2; background-color: #000000\">(BaseModel):</span><span style=\"background-color: #000000\">                                                                                             </span>\n<span style=\"color: #f8f8f2; text-decoration-color: #f8f8f2; background-color: #000000\">    id: int</span><span style=\"background-color: #000000\">                                                                                                        </span>\n<span style=\"color: #f8f8f2; text-decoration-color: #f8f8f2; background-color: #000000\">    name: str</span><span style=\"background-color: #000000\">                                                                                                      </span>\n<span style=\"color: #f8f8f2; text-decoration-color: #f8f8f2; background-color: #000000\">    signup_ts: float </span><span style=\"color: #ff4689; text-decoration-color: #ff4689; background-color: #000000\">|</span><span style=\"color: #f8f8f2; text-decoration-color: #f8f8f2; background-color: #000000\"> </span><span style=\"color: #66d9ef; text-decoration-color: #66d9ef; background-color: #000000\">None</span><span style=\"color: #f8f8f2; text-decoration-color: #f8f8f2; background-color: #000000\"> </span><span style=\"color: #ff4689; text-decoration-color: #ff4689; background-color: #000000\">=</span><span style=\"color: #f8f8f2; text-decoration-color: #f8f8f2; background-color: #000000\"> </span><span style=\"color: #66d9ef; text-decoration-color: #66d9ef; background-color: #000000\">None</span><span style=\"background-color: #000000\">                                                                                 </span>\n<span style=\"background-color: #000000\">                                                                                                                   </span>\n<span style=\"color: #959077; text-decoration-color: #959077; background-color: #000000\"># Valid data</span><span style=\"background-color: #000000\">                                                                                                       </span>\n<span style=\"color: #f8f8f2; text-decoration-color: #f8f8f2; background-color: #000000\">valid_user_data </span><span style=\"color: #ff4689; text-decoration-color: #ff4689; background-color: #000000\">=</span><span style=\"color: #f8f8f2; text-decoration-color: #f8f8f2; background-color: #000000\"> {</span><span style=\"background-color: #000000\">                                                                                                </span>\n<span style=\"color: #f8f8f2; text-decoration-color: #f8f8f2; background-color: #000000\">    </span><span style=\"color: #e6db74; text-decoration-color: #e6db74; background-color: #000000\">\"id\"</span><span style=\"color: #f8f8f2; text-decoration-color: #f8f8f2; background-color: #000000\">: </span><span style=\"color: #ae81ff; text-decoration-color: #ae81ff; background-color: #000000\">123</span><span style=\"color: #f8f8f2; text-decoration-color: #f8f8f2; background-color: #000000\">,</span><span style=\"background-color: #000000\">                                                                                                     </span>\n<span style=\"color: #f8f8f2; text-decoration-color: #f8f8f2; background-color: #000000\">    </span><span style=\"color: #e6db74; text-decoration-color: #e6db74; background-color: #000000\">\"name\"</span><span style=\"color: #f8f8f2; text-decoration-color: #f8f8f2; background-color: #000000\">: </span><span style=\"color: #e6db74; text-decoration-color: #e6db74; background-color: #000000\">\"John Doe\"</span><span style=\"color: #f8f8f2; text-decoration-color: #f8f8f2; background-color: #000000\">,</span><span style=\"background-color: #000000\">                                                                                            </span>\n<span style=\"color: #f8f8f2; text-decoration-color: #f8f8f2; background-color: #000000\">    </span><span style=\"color: #e6db74; text-decoration-color: #e6db74; background-color: #000000\">\"signup_ts\"</span><span style=\"color: #f8f8f2; text-decoration-color: #f8f8f2; background-color: #000000\">: </span><span style=\"color: #ae81ff; text-decoration-color: #ae81ff; background-color: #000000\">1678886400.0</span><span style=\"color: #f8f8f2; text-decoration-color: #f8f8f2; background-color: #000000\">  </span><span style=\"color: #959077; text-decoration-color: #959077; background-color: #000000\"># Example timestamp</span><span style=\"background-color: #000000\">                                                                 </span>\n<span style=\"color: #f8f8f2; text-decoration-color: #f8f8f2; background-color: #000000\">}</span><span style=\"background-color: #000000\">                                                                                                                  </span>\n<span style=\"background-color: #000000\">                                                                                                                   </span>\n<span style=\"color: #66d9ef; text-decoration-color: #66d9ef; background-color: #000000\">try</span><span style=\"color: #f8f8f2; text-decoration-color: #f8f8f2; background-color: #000000\">:</span><span style=\"background-color: #000000\">                                                                                                               </span>\n<span style=\"color: #f8f8f2; text-decoration-color: #f8f8f2; background-color: #000000\">    user </span><span style=\"color: #ff4689; text-decoration-color: #ff4689; background-color: #000000\">=</span><span style=\"color: #f8f8f2; text-decoration-color: #f8f8f2; background-color: #000000\"> User(</span><span style=\"color: #ff4689; text-decoration-color: #ff4689; background-color: #000000\">**</span><span style=\"color: #f8f8f2; text-decoration-color: #f8f8f2; background-color: #000000\">valid_user_data)</span><span style=\"background-color: #000000\">                                                                                 </span>\n<span style=\"color: #f8f8f2; text-decoration-color: #f8f8f2; background-color: #000000\">    print(user)  </span><span style=\"color: #959077; text-decoration-color: #959077; background-color: #000000\"># Output: id=123 name='John Doe' signup_ts=1678886400.0</span><span style=\"background-color: #000000\">                                           </span>\n<span style=\"color: #f8f8f2; text-decoration-color: #f8f8f2; background-color: #000000\">    print(user</span><span style=\"color: #ff4689; text-decoration-color: #ff4689; background-color: #000000\">.</span><span style=\"color: #f8f8f2; text-decoration-color: #f8f8f2; background-color: #000000\">dict()) </span><span style=\"color: #959077; text-decoration-color: #959077; background-color: #000000\"># Output: {'id': 123, 'name': 'John Doe', 'signup_ts': 1678886400.0}</span><span style=\"background-color: #000000\">                        </span>\n<span style=\"color: #66d9ef; text-decoration-color: #66d9ef; background-color: #000000\">except</span><span style=\"color: #f8f8f2; text-decoration-color: #f8f8f2; background-color: #000000\"> ValidationError </span><span style=\"color: #66d9ef; text-decoration-color: #66d9ef; background-color: #000000\">as</span><span style=\"color: #f8f8f2; text-decoration-color: #f8f8f2; background-color: #000000\"> e:</span><span style=\"background-color: #000000\">                                                                                       </span>\n<span style=\"color: #f8f8f2; text-decoration-color: #f8f8f2; background-color: #000000\">    print(e)</span><span style=\"background-color: #000000\">                                                                                                       </span>\n<span style=\"background-color: #000000\">                                                                                                                   </span>\n<span style=\"color: #959077; text-decoration-color: #959077; background-color: #000000\"># Invalid data - missing required field</span><span style=\"background-color: #000000\">                                                                            </span>\n<span style=\"color: #f8f8f2; text-decoration-color: #f8f8f2; background-color: #000000\">invalid_user_data </span><span style=\"color: #ff4689; text-decoration-color: #ff4689; background-color: #000000\">=</span><span style=\"color: #f8f8f2; text-decoration-color: #f8f8f2; background-color: #000000\"> {</span><span style=\"background-color: #000000\">                                                                                              </span>\n<span style=\"color: #f8f8f2; text-decoration-color: #f8f8f2; background-color: #000000\">    </span><span style=\"color: #e6db74; text-decoration-color: #e6db74; background-color: #000000\">\"name\"</span><span style=\"color: #f8f8f2; text-decoration-color: #f8f8f2; background-color: #000000\">: </span><span style=\"color: #e6db74; text-decoration-color: #e6db74; background-color: #000000\">\"Jane Doe\"</span><span style=\"background-color: #000000\">                                                                                             </span>\n<span style=\"color: #f8f8f2; text-decoration-color: #f8f8f2; background-color: #000000\">}</span><span style=\"background-color: #000000\">                                                                                                                  </span>\n<span style=\"background-color: #000000\">                                                                                                                   </span>\n<span style=\"color: #66d9ef; text-decoration-color: #66d9ef; background-color: #000000\">try</span><span style=\"color: #f8f8f2; text-decoration-color: #f8f8f2; background-color: #000000\">:</span><span style=\"background-color: #000000\">                                                                                                               </span>\n<span style=\"color: #7f7f7f; text-decoration-color: #7f7f7f\">/python</span>\n</pre>\n",
                  "text/plain": "This example demonstrates a simple Pydantic model for a user, validating input data and providing type hints:      \n\n\u001b[2mpython\u001b[0m\n\u001b[38;2;255;70;137;40mfrom\u001b[0m\u001b[38;2;248;248;242;40m \u001b[0m\u001b[38;2;248;248;242;40mpydantic\u001b[0m\u001b[38;2;248;248;242;40m \u001b[0m\u001b[38;2;255;70;137;40mimport\u001b[0m\u001b[38;2;248;248;242;40m \u001b[0m\u001b[38;2;248;248;242;40mBaseModel\u001b[0m\u001b[38;2;248;248;242;40m,\u001b[0m\u001b[38;2;248;248;242;40m \u001b[0m\u001b[38;2;248;248;242;40mValidationError\u001b[0m\u001b[40m                                                                    \u001b[0m\n\u001b[40m                                                                                                                   \u001b[0m\n\u001b[38;2;102;217;239;40mclass\u001b[0m\u001b[38;2;248;248;242;40m \u001b[0m\u001b[38;2;166;226;46;40mUser\u001b[0m\u001b[38;2;248;248;242;40m(\u001b[0m\u001b[38;2;248;248;242;40mBaseModel\u001b[0m\u001b[38;2;248;248;242;40m)\u001b[0m\u001b[38;2;248;248;242;40m:\u001b[0m\u001b[40m                                                                                             \u001b[0m\n\u001b[38;2;248;248;242;40m    \u001b[0m\u001b[38;2;248;248;242;40mid\u001b[0m\u001b[38;2;248;248;242;40m:\u001b[0m\u001b[38;2;248;248;242;40m \u001b[0m\u001b[38;2;248;248;242;40mint\u001b[0m\u001b[40m                                                                                                        \u001b[0m\n\u001b[38;2;248;248;242;40m    \u001b[0m\u001b[38;2;248;248;242;40mname\u001b[0m\u001b[38;2;248;248;242;40m:\u001b[0m\u001b[38;2;248;248;242;40m \u001b[0m\u001b[38;2;248;248;242;40mstr\u001b[0m\u001b[40m                                                                                                      \u001b[0m\n\u001b[38;2;248;248;242;40m    \u001b[0m\u001b[38;2;248;248;242;40msignup_ts\u001b[0m\u001b[38;2;248;248;242;40m:\u001b[0m\u001b[38;2;248;248;242;40m \u001b[0m\u001b[38;2;248;248;242;40mfloat\u001b[0m\u001b[38;2;248;248;242;40m \u001b[0m\u001b[38;2;255;70;137;40m|\u001b[0m\u001b[38;2;248;248;242;40m \u001b[0m\u001b[38;2;102;217;239;40mNone\u001b[0m\u001b[38;2;248;248;242;40m \u001b[0m\u001b[38;2;255;70;137;40m=\u001b[0m\u001b[38;2;248;248;242;40m \u001b[0m\u001b[38;2;102;217;239;40mNone\u001b[0m\u001b[40m                                                                                 \u001b[0m\n\u001b[40m                                                                                                                   \u001b[0m\n\u001b[38;2;149;144;119;40m# Valid data\u001b[0m\u001b[40m                                                                                                       \u001b[0m\n\u001b[38;2;248;248;242;40mvalid_user_data\u001b[0m\u001b[38;2;248;248;242;40m \u001b[0m\u001b[38;2;255;70;137;40m=\u001b[0m\u001b[38;2;248;248;242;40m \u001b[0m\u001b[38;2;248;248;242;40m{\u001b[0m\u001b[40m                                                                                                \u001b[0m\n\u001b[38;2;248;248;242;40m    \u001b[0m\u001b[38;2;230;219;116;40m\"\u001b[0m\u001b[38;2;230;219;116;40mid\u001b[0m\u001b[38;2;230;219;116;40m\"\u001b[0m\u001b[38;2;248;248;242;40m:\u001b[0m\u001b[38;2;248;248;242;40m \u001b[0m\u001b[38;2;174;129;255;40m123\u001b[0m\u001b[38;2;248;248;242;40m,\u001b[0m\u001b[40m                                                                                                     \u001b[0m\n\u001b[38;2;248;248;242;40m    \u001b[0m\u001b[38;2;230;219;116;40m\"\u001b[0m\u001b[38;2;230;219;116;40mname\u001b[0m\u001b[38;2;230;219;116;40m\"\u001b[0m\u001b[38;2;248;248;242;40m:\u001b[0m\u001b[38;2;248;248;242;40m \u001b[0m\u001b[38;2;230;219;116;40m\"\u001b[0m\u001b[38;2;230;219;116;40mJohn Doe\u001b[0m\u001b[38;2;230;219;116;40m\"\u001b[0m\u001b[38;2;248;248;242;40m,\u001b[0m\u001b[40m                                                                                            \u001b[0m\n\u001b[38;2;248;248;242;40m    \u001b[0m\u001b[38;2;230;219;116;40m\"\u001b[0m\u001b[38;2;230;219;116;40msignup_ts\u001b[0m\u001b[38;2;230;219;116;40m\"\u001b[0m\u001b[38;2;248;248;242;40m:\u001b[0m\u001b[38;2;248;248;242;40m \u001b[0m\u001b[38;2;174;129;255;40m1678886400.0\u001b[0m\u001b[38;2;248;248;242;40m  \u001b[0m\u001b[38;2;149;144;119;40m# Example timestamp\u001b[0m\u001b[40m                                                                 \u001b[0m\n\u001b[38;2;248;248;242;40m}\u001b[0m\u001b[40m                                                                                                                  \u001b[0m\n\u001b[40m                                                                                                                   \u001b[0m\n\u001b[38;2;102;217;239;40mtry\u001b[0m\u001b[38;2;248;248;242;40m:\u001b[0m\u001b[40m                                                                                                               \u001b[0m\n\u001b[38;2;248;248;242;40m    \u001b[0m\u001b[38;2;248;248;242;40muser\u001b[0m\u001b[38;2;248;248;242;40m \u001b[0m\u001b[38;2;255;70;137;40m=\u001b[0m\u001b[38;2;248;248;242;40m \u001b[0m\u001b[38;2;248;248;242;40mUser\u001b[0m\u001b[38;2;248;248;242;40m(\u001b[0m\u001b[38;2;255;70;137;40m*\u001b[0m\u001b[38;2;255;70;137;40m*\u001b[0m\u001b[38;2;248;248;242;40mvalid_user_data\u001b[0m\u001b[38;2;248;248;242;40m)\u001b[0m\u001b[40m                                                                                 \u001b[0m\n\u001b[38;2;248;248;242;40m    \u001b[0m\u001b[38;2;248;248;242;40mprint\u001b[0m\u001b[38;2;248;248;242;40m(\u001b[0m\u001b[38;2;248;248;242;40muser\u001b[0m\u001b[38;2;248;248;242;40m)\u001b[0m\u001b[38;2;248;248;242;40m  \u001b[0m\u001b[38;2;149;144;119;40m# Output: id=123 name='John Doe' signup_ts=1678886400.0\u001b[0m\u001b[40m                                           \u001b[0m\n\u001b[38;2;248;248;242;40m    \u001b[0m\u001b[38;2;248;248;242;40mprint\u001b[0m\u001b[38;2;248;248;242;40m(\u001b[0m\u001b[38;2;248;248;242;40muser\u001b[0m\u001b[38;2;255;70;137;40m.\u001b[0m\u001b[38;2;248;248;242;40mdict\u001b[0m\u001b[38;2;248;248;242;40m(\u001b[0m\u001b[38;2;248;248;242;40m)\u001b[0m\u001b[38;2;248;248;242;40m)\u001b[0m\u001b[38;2;248;248;242;40m \u001b[0m\u001b[38;2;149;144;119;40m# Output: {'id': 123, 'name': 'John Doe', 'signup_ts': 1678886400.0}\u001b[0m\u001b[40m                        \u001b[0m\n\u001b[38;2;102;217;239;40mexcept\u001b[0m\u001b[38;2;248;248;242;40m \u001b[0m\u001b[38;2;248;248;242;40mValidationError\u001b[0m\u001b[38;2;248;248;242;40m \u001b[0m\u001b[38;2;102;217;239;40mas\u001b[0m\u001b[38;2;248;248;242;40m \u001b[0m\u001b[38;2;248;248;242;40me\u001b[0m\u001b[38;2;248;248;242;40m:\u001b[0m\u001b[40m                                                                                       \u001b[0m\n\u001b[38;2;248;248;242;40m    \u001b[0m\u001b[38;2;248;248;242;40mprint\u001b[0m\u001b[38;2;248;248;242;40m(\u001b[0m\u001b[38;2;248;248;242;40me\u001b[0m\u001b[38;2;248;248;242;40m)\u001b[0m\u001b[40m                                                                                                       \u001b[0m\n\u001b[40m                                                                                                                   \u001b[0m\n\u001b[38;2;149;144;119;40m# Invalid data - missing required field\u001b[0m\u001b[40m                                                                            \u001b[0m\n\u001b[38;2;248;248;242;40minvalid_user_data\u001b[0m\u001b[38;2;248;248;242;40m \u001b[0m\u001b[38;2;255;70;137;40m=\u001b[0m\u001b[38;2;248;248;242;40m \u001b[0m\u001b[38;2;248;248;242;40m{\u001b[0m\u001b[40m                                                                                              \u001b[0m\n\u001b[38;2;248;248;242;40m    \u001b[0m\u001b[38;2;230;219;116;40m\"\u001b[0m\u001b[38;2;230;219;116;40mname\u001b[0m\u001b[38;2;230;219;116;40m\"\u001b[0m\u001b[38;2;248;248;242;40m:\u001b[0m\u001b[38;2;248;248;242;40m \u001b[0m\u001b[38;2;230;219;116;40m\"\u001b[0m\u001b[38;2;230;219;116;40mJane Doe\u001b[0m\u001b[38;2;230;219;116;40m\"\u001b[0m\u001b[40m                                                                                             \u001b[0m\n\u001b[38;2;248;248;242;40m}\u001b[0m\u001b[40m                                                                                                                  \u001b[0m\n\u001b[40m                                                                                                                   \u001b[0m\n\u001b[38;2;102;217;239;40mtry\u001b[0m\u001b[38;2;248;248;242;40m:\u001b[0m\u001b[40m                                                                                                               \u001b[0m\n\u001b[2m/python\u001b[0m\n"
                },
                "metadata": {},
                "output_type": "display_data"
              }
            ]
          }
        }
      }
    }
  },
  "nbformat": 4,
  "nbformat_minor": 0
}
