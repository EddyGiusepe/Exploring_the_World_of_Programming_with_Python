{
  "cells": [
    {
      "cell_type": "markdown",
      "metadata": {
        "id": "w66Ao3_gPTa3"
      },
      "source": [
        "<p align = \"center\" draggable=”false” ><img src=\"https://github.com/AI-Maker-Space/LLM-Dev-101/assets/37101144/d1343317-fa2f-41e1-8af1-1dbb18399719\"\n",
        "     width=\"200px\"\n",
        "     height=\"auto\"/>\n",
        "</p>\n",
        "\n",
        "<h1 align=\"center\" id=\"heading\">AI Makerspace: Pydantic AI Event</h1>\n"
      ]
    },
    {
      "cell_type": "markdown",
      "metadata": {},
      "source": [
        "Sou o <font color=\"pink\">Senior Data Scientist.: Dr. Eddy Giusepe Chirinos Isidro</font> e aqui estudarei a Pydantic AI.\n",
        "\n",
        "\n",
        "Links de estudo:\n",
        "\n",
        "* [logfire](https://logfire.pydantic.dev/eddygiusepe/teste-ai-makerspace/settings/setup)\n",
        "* [Anthropic](https://console.anthropic.com/settings/keys)"
      ]
    },
    {
      "cell_type": "markdown",
      "metadata": {},
      "source": [
        "Neste evento apresentado por ``AI Makerspace``, construiremos um gerador de piadas usando a estrutura de IA do Pydantic!\n",
        "\n",
        "A estrutura de IA do ``Pydantic`` é uma nova maneira de criar agentes com base nos trabalhos anteriores do ``Pydantic`` sobre validação de dados e modelos de dados.\n",
        "\n",
        "Começaremos com nossas dependências:"
      ]
    },
    {
      "cell_type": "code",
      "execution_count": null,
      "metadata": {
        "colab": {
          "base_uri": "https://localhost:8080/"
        },
        "id": "6tJXXr3X7jq9",
        "outputId": "886fe466-ea12-4b4a-b7fb-5ee12efeee19"
      },
      "outputs": [],
      "source": [
        "#!pip install -qU pydantic-ai logfire devtools"
      ]
    },
    {
      "cell_type": "markdown",
      "metadata": {
        "id": "eR7EHUoSPTa4"
      },
      "source": [
        "Precisaremos de algumas chaves de API para este exemplo:\n",
        "\n",
        "Vamos aproveitar o novo agente \"melhor vibração\" para determinar se as piadas são hilárias - e o ``Claude 3.7 Sonnet`` para gerar algumas piadas iniciais."
      ]
    },
    {
      "cell_type": "code",
      "execution_count": 1,
      "metadata": {
        "colab": {
          "base_uri": "https://localhost:8080/"
        },
        "id": "O6Fx09gV-Hbw",
        "outputId": "2e01273d-8171-43fa-970d-29618bb8d709"
      },
      "outputs": [],
      "source": [
        "import os\n",
        "from dotenv import load_dotenv, find_dotenv\n",
        "_ = load_dotenv(find_dotenv()) # read local .env file\n",
        "#openai.api_key  = os.environ['OPENAI_API_KEY']\n",
        "Eddy_key_openai  = os.environ['OPENAI_API_KEY']\n",
        "Eddy_key_anthropic = os.environ['ANTHROPIC_API_KEY']\n",
        "Eddy_key_logfire = os.environ['LOGFIRE_API_KEY']\n"
      ]
    },
    {
      "cell_type": "markdown",
      "metadata": {
        "id": "yuCi8drrPTa5"
      },
      "source": [
        "Como estamos no notebook, precisaremos aninhar o asyncio para executar nosso código."
      ]
    },
    {
      "cell_type": "code",
      "execution_count": 2,
      "metadata": {
        "id": "UsGFUXAF-2m7"
      },
      "outputs": [],
      "source": [
        "import nest_asyncio\n",
        "nest_asyncio.apply()"
      ]
    },
    {
      "cell_type": "markdown",
      "metadata": {
        "id": "MOS8Hc3iPTa5"
      },
      "source": [
        "GRANDE PAREDE DE DECLARAÇÕES DE IMPORTAÇÃO!"
      ]
    },
    {
      "cell_type": "code",
      "execution_count": 3,
      "metadata": {
        "id": "yV7QNACmBSG_"
      },
      "outputs": [],
      "source": [
        "from __future__ import annotations as _annotations\n",
        "\n",
        "from dataclasses import dataclass, field\n",
        "from pathlib import Path\n",
        "from typing import Annotated\n",
        "\n",
        "import logfire\n",
        "from devtools import debug\n",
        "from pydantic_graph import BaseNode, Edge, End, Graph, GraphRunContext, HistoryStep\n",
        "\n",
        "from pydantic_ai import Agent\n",
        "from pydantic_ai.format_as_xml import format_as_xml\n",
        "from pydantic_ai.messages import ModelMessage"
      ]
    },
    {
      "cell_type": "markdown",
      "metadata": {
        "id": "4Z1D11hCPTa5"
      },
      "source": [
        "Vamos usar o Logfire para rastrear nossos eventos!\n",
        "\n",
        "Você pode se inscrever em uma conta gratuita em https://pydantic.dev/logfire!"
      ]
    },
    {
      "cell_type": "code",
      "execution_count": 4,
      "metadata": {
        "colab": {
          "base_uri": "https://localhost:8080/"
        },
        "id": "W5k00s3rB6q6",
        "outputId": "96e08417-1b5b-4dc2-dffc-ffb987dd3b68"
      },
      "outputs": [
        {
          "data": {
            "text/plain": [
              "<logfire._internal.main.Logfire at 0x7f080fa02a50>"
            ]
          },
          "execution_count": 4,
          "metadata": {},
          "output_type": "execute_result"
        },
        {
          "name": "stderr",
          "output_type": "stream",
          "text": [
            "\u001b[1mLogfire\u001b[0m project URL: \n",
            "\u001b]8;id=808514;https://logfire.pydantic.dev/eddygiusepe/teste-ai-makerspace\u001b\\\u001b[4;36mhttps://logfire.pydantic.dev/eddygiusepe/teste-ai-makerspace\u001b[0m\u001b]8;;\u001b\\\n"
          ]
        }
      ],
      "source": [
        "logfire.configure(token=os.environ[\"LOGFIRE_API_KEY\"])"
      ]
    },
    {
      "cell_type": "markdown",
      "metadata": {
        "id": "ENHrg3oGPTa5"
      },
      "source": [
        "## Building our Agents!\n",
        "\n",
        "Para construir um gerador de piadas multi-agente, precisaremos construir um par de agentes.\n",
        "\n",
        "Vamos começar com nosso agente \"Joke Generator\".\n",
        "\n",
        "> NOTE: O ``\"instrument=True\"`` é importante aqui. Isso permitirá que rastreemos os eventos no Logfire."
      ]
    },
    {
      "cell_type": "code",
      "execution_count": 5,
      "metadata": {
        "id": "x1cmzSdiCAem"
      },
      "outputs": [],
      "source": [
        "joke_generator_agent = Agent(\n",
        "    \"anthropic:claude-3-7-sonnet-latest\",\n",
        "    result_type=str,\n",
        "    instrument=True\n",
        ")"
      ]
    },
    {
      "cell_type": "markdown",
      "metadata": {
        "id": "-Pu_wr6sPTa5"
      },
      "source": [
        "Então, similar a outros frameworks de agentes, queremos definir nosso estado.\n",
        "\n",
        "> ``NOTE:`` Limitaremos a 5 tentativas para gerar uma piada, apenas no caso de Claude estar tendo um dia ruim."
      ]
    },
    {
      "cell_type": "code",
      "execution_count": 6,
      "metadata": {
        "id": "p2L3SMffCMJl"
      },
      "outputs": [],
      "source": [
        "@dataclass\n",
        "class JokeState:\n",
        "    joke: str | None = None\n",
        "    joke_generator_agent_messages: list[ModelMessage] = field(default_factory=list)\n",
        "    evaluate_agent_messages: list[ModelMessage] = field(default_factory=list)\n",
        "    attempts: int = 0\n",
        "    max_attempts: int = 5"
      ]
    },
    {
      "cell_type": "markdown",
      "metadata": {
        "id": "H46YpQEfPTa6"
      },
      "source": [
        "Em seguida, vamos configurar nosso agente ``\"Joke Generator\"``, que será responsável por gerar piadas e incorporar feedback na geração de piadas.\n",
        "\n",
        "Nosso ``JokeGenerator`` tomará nosso ``BaseNode`` com nosso ``JokeState``, e retornará um ``Evaluate`` node.\n",
        "\n",
        "Este é o caminho que podemos produzir nosso gráfico! Podemos encadear nossos nós para produzir um gráfico - incluindo, como veremos, lógica condicional - assim como em ``LangGraph``!"
      ]
    },
    {
      "cell_type": "code",
      "execution_count": 7,
      "metadata": {
        "id": "sbsM-OolCPZs"
      },
      "outputs": [],
      "source": [
        "@dataclass\n",
        "class JokeGenerator(BaseNode[JokeState]):\n",
        "    feedback: str | None = None\n",
        "\n",
        "    async def run(self, ctx: GraphRunContext[JokeState]) -> Evaluate:\n",
        "        ctx.state.attempts += 1\n",
        "\n",
        "        prompt = 'Invente uma piada sobre gatos. Ela deve ser engraçada e interessante.'\n",
        "\n",
        "        if self.feedback:\n",
        "            prompt = f\"\"\"Invente uma piada sobre gatos. Ela deve ser engraçada e interessante.\n",
        "\n",
        "Tentativa anterior: {ctx.state.joke}\n",
        "\n",
        "Feedback na tentativa anterior: {self.feedback}\n",
        "\n",
        "Por favor, crie uma nova piada que aborde este feedback.\"\"\"\n",
        "\n",
        "        result = await joke_generator_agent.run(\n",
        "            prompt,\n",
        "            message_history=ctx.state.joke_generator_agent_messages,\n",
        "        )\n",
        "        ctx.state.joke_generator_agent_messages += result.all_messages()\n",
        "        ctx.state.joke = result.data\n",
        "\n",
        "        return Evaluate()"
      ]
    },
    {
      "cell_type": "markdown",
      "metadata": {
        "id": "-1cv418VPTa6"
      },
      "source": [
        "Em seguida, podemos produzir outro nó que será responsável por iniciar nosso processo de avaliação."
      ]
    },
    {
      "cell_type": "code",
      "execution_count": 8,
      "metadata": {
        "id": "wAwjq2W1CRAc"
      },
      "outputs": [],
      "source": [
        "@dataclass\n",
        "class ProducedJoke(BaseNode[JokeState]):\n",
        "    joke: str | None = None\n",
        "\n",
        "    async def run(self, ctx: GraphRunContext[JokeState]) -> Evaluate:\n",
        "        assert self.joke is not None\n",
        "        return Evaluate(self.joke)"
      ]
    },
    {
      "cell_type": "markdown",
      "metadata": {
        "id": "5no8z5wZPTa6"
      },
      "source": [
        "Precisaremos criar algum estado de avaliação, que ajudará o LLM a determinar como responder."
      ]
    },
    {
      "cell_type": "code",
      "execution_count": 11,
      "metadata": {
        "id": "fSUtLjMUCTHO"
      },
      "outputs": [],
      "source": [
        "@dataclass\n",
        "class EvaluationResult:\n",
        "    dope: bool\n",
        "    funny: bool\n",
        "    comment: str"
      ]
    },
    {
      "cell_type": "markdown",
      "metadata": {
        "id": "Irkt7E1XPTa6"
      },
      "source": [
        "Nosso agente de avaliação será um modelo ``GPT-4.5 preview``, que será responsável por avaliar a piada. Estamos usando este modelo porque, embora não seja ótimo para raciocínio, é ótimo para ser engraçado!"
      ]
    },
    {
      "cell_type": "code",
      "execution_count": 12,
      "metadata": {
        "id": "PPIc3VKSCVJK"
      },
      "outputs": [],
      "source": [
        "evaluate_agent = Agent(\n",
        "    'openai:gpt-4.5-preview',\n",
        "    result_type=EvaluationResult,\n",
        "    system_prompt='Dado uma piada, avalie se a piada é engraçada ou não - também avalie se a piada é engraçada. Ela precisa ser *muito* boa. Sugira melhorias na piada se não for.',\n",
        ")"
      ]
    },
    {
      "cell_type": "markdown",
      "metadata": {
        "id": "IJfhIP3DPTa6"
      },
      "source": [
        "Agora vamos criar nosso ``Evaluate`` node.\n",
        "\n",
        "Observe como estamos retornando um ``Congratulate`` ou ``Reprimand`` node, dependendo da avaliação - isso é como adicionamos complexidade ao nosso gráfico."
      ]
    },
    {
      "cell_type": "code",
      "execution_count": 13,
      "metadata": {
        "id": "0ZkG-GuqC1oF"
      },
      "outputs": [],
      "source": [
        "@dataclass\n",
        "class Evaluate(BaseNode[JokeState]):\n",
        "    async def run(\n",
        "        self,\n",
        "        ctx: GraphRunContext[JokeState],\n",
        "    ) -> Congratulate | Reprimand | End:\n",
        "        assert ctx.state.joke is not None\n",
        "\n",
        "        result = await evaluate_agent.run(\n",
        "            format_as_xml({'joke': ctx.state.joke}),\n",
        "            message_history=ctx.state.evaluate_agent_messages,\n",
        "        )\n",
        "        ctx.state.evaluate_agent_messages += result.all_messages()\n",
        "\n",
        "        if ctx.state.attempts >= ctx.state.max_attempts:\n",
        "            print(f\"Reached maximum attempts ({ctx.state.max_attempts}). Best joke so far: {ctx.state.joke}\")\n",
        "            print(f\"Final feedback: {result.data.comment}\")\n",
        "            return End(None)\n",
        "\n",
        "        if result.data.funny and result.data.dope:\n",
        "            return Congratulate(result.data.comment)\n",
        "        else:\n",
        "            return Reprimand(result.data.comment)"
      ]
    },
    {
      "cell_type": "markdown",
      "metadata": {
        "id": "qYwjMsjxPTa6"
      },
      "source": [
        "Em seguida, vamos criar nosso ``Congratulate`` e ``Reprimand`` nodes.\n",
        "\n",
        "Estes são nossos estados de ``\"sucesso\"`` e ``\"falha\"`` - eles serão usados para determinar o próximo nó em nosso gráfico.\n",
        "\n",
        "`End` se a piada for boa."
      ]
    },
    {
      "cell_type": "code",
      "execution_count": 14,
      "metadata": {
        "id": "XcJ5fzdDC3_-"
      },
      "outputs": [],
      "source": [
        "@dataclass\n",
        "class Congratulate(BaseNode[JokeState, None, None]):\n",
        "    comment: str\n",
        "\n",
        "    async def run(\n",
        "        self, ctx: GraphRunContext[JokeState]\n",
        "    ) -> Annotated[End, Edge(label='success')]:\n",
        "        print(f'Encontrei uma piada engraçada e interessante após {ctx.state.attempts} tentativas!')\n",
        "        print(f'Piada: {ctx.state.joke}')\n",
        "        print(f'Feedback: {self.comment}')\n",
        "        return End(None)"
      ]
    },
    {
      "cell_type": "markdown",
      "metadata": {
        "id": "GPghk0ZAPTa6"
      },
      "source": [
        "`Reprimand` se a piada precisa de melhorias."
      ]
    },
    {
      "cell_type": "code",
      "execution_count": 15,
      "metadata": {
        "id": "Utvgro03C6p_"
      },
      "outputs": [],
      "source": [
        "@dataclass\n",
        "class Reprimand(BaseNode[JokeState]):\n",
        "    comment: str\n",
        "\n",
        "    async def run(self, ctx: GraphRunContext[JokeState]) -> JokeGenerator:\n",
        "        print(f'Tentativa {ctx.state.attempts}: {ctx.state.joke}')\n",
        "        print(f'Feedback: {self.comment}')\n",
        "        return JokeGenerator(feedback=self.comment)"
      ]
    },
    {
      "cell_type": "markdown",
      "metadata": {
        "id": "884L6WvLPTa6"
      },
      "source": [
        "Por fim, vamos criar nosso gráfico!\n",
        "\n",
        "Observe que podemos apenas colocar os nós, conforme definimos suas conexões em cada nó."
      ]
    },
    {
      "cell_type": "code",
      "execution_count": 16,
      "metadata": {
        "id": "42ZbEFq7C-lz"
      },
      "outputs": [],
      "source": [
        "question_graph = Graph(\n",
        "    nodes=(JokeGenerator, Evaluate, Congratulate, Reprimand), state_type=JokeState\n",
        ")"
      ]
    },
    {
      "cell_type": "code",
      "execution_count": 17,
      "metadata": {
        "colab": {
          "base_uri": "https://localhost:8080/",
          "height": 454
        },
        "id": "zrEH5XYMdLiR",
        "outputId": "f4dc6ca3-7c6e-4e92-ac2c-a8037d8ca3ae"
      },
      "outputs": [
        {
          "data": {
            "image/jpeg": "[encoded data removed]",
            "text/plain": [
              "<IPython.core.display.Image object>"
            ]
          },
          "metadata": {},
          "output_type": "display_data"
        }
      ],
      "source": [
        "from IPython.display import Image, display\n",
        "\n",
        "display(Image(question_graph.mermaid_image(start_node=JokeGenerator)))"
      ]
    },
    {
      "cell_type": "markdown",
      "metadata": {
        "id": "BzG5KBq6PTa6"
      },
      "source": [
        "Por fim, podemos executar nosso gráfico - é tão fácil quanto executar o próximo nó em um loop até que atinjamos o nó ``End``!"
      ]
    },
    {
      "cell_type": "code",
      "execution_count": 18,
      "metadata": {
        "colab": {
          "base_uri": "https://localhost:8080/"
        },
        "id": "jKx-uwvdDCFq",
        "outputId": "fe827a18-1336-4461-bfb4-7ddac60c14af"
      },
      "outputs": [
        {
          "name": "stdout",
          "output_type": "stream",
          "text": [
            "03:17:09.845 run automated joke generator\n",
            "03:17:09.887   run node JokeGenerator\n",
            "03:17:09.888     joke_generator_agent run\n",
            "03:17:09.889       preparing model request params\n",
            "03:17:09.889       chat claude-3-7-sonnet-latest\n"
          ]
        },
        {
          "ename": "ModelHTTPError",
          "evalue": "status_code: 400, model_name: claude-3-7-sonnet-latest, body: {'type': 'error', 'error': {'type': 'invalid_request_error', 'message': 'Your credit balance is too low to access the Anthropic API. Please go to Plans & Billing to upgrade or purchase credits.'}}",
          "output_type": "error",
          "traceback": [
            "\u001b[31m---------------------------------------------------------------------------\u001b[39m",
            "\u001b[31mBadRequestError\u001b[39m                           Traceback (most recent call last)",
            "\u001b[36mFile \u001b[39m\u001b[32m~/1_github/Exploring_the_World_of_Programming_with_Python/.venv/lib/python3.13/site-packages/pydantic_ai/models/anthropic.py:235\u001b[39m, in \u001b[36mAnthropicModel._messages_create\u001b[39m\u001b[34m(self, messages, stream, model_settings, model_request_parameters)\u001b[39m\n\u001b[32m    234\u001b[39m \u001b[38;5;28;01mtry\u001b[39;00m:\n\u001b[32m--> \u001b[39m\u001b[32m235\u001b[39m     \u001b[38;5;28;01mreturn\u001b[39;00m \u001b[38;5;28;01mawait\u001b[39;00m \u001b[38;5;28mself\u001b[39m.client.messages.create(\n\u001b[32m    236\u001b[39m         max_tokens=model_settings.get(\u001b[33m'\u001b[39m\u001b[33mmax_tokens\u001b[39m\u001b[33m'\u001b[39m, \u001b[32m1024\u001b[39m),\n\u001b[32m    237\u001b[39m         system=system_prompt \u001b[38;5;129;01mor\u001b[39;00m NOT_GIVEN,\n\u001b[32m    238\u001b[39m         messages=anthropic_messages,\n\u001b[32m    239\u001b[39m         model=\u001b[38;5;28mself\u001b[39m._model_name,\n\u001b[32m    240\u001b[39m         tools=tools \u001b[38;5;129;01mor\u001b[39;00m NOT_GIVEN,\n\u001b[32m    241\u001b[39m         tool_choice=tool_choice \u001b[38;5;129;01mor\u001b[39;00m NOT_GIVEN,\n\u001b[32m    242\u001b[39m         stream=stream,\n\u001b[32m    243\u001b[39m         temperature=model_settings.get(\u001b[33m'\u001b[39m\u001b[33mtemperature\u001b[39m\u001b[33m'\u001b[39m, NOT_GIVEN),\n\u001b[32m    244\u001b[39m         top_p=model_settings.get(\u001b[33m'\u001b[39m\u001b[33mtop_p\u001b[39m\u001b[33m'\u001b[39m, NOT_GIVEN),\n\u001b[32m    245\u001b[39m         timeout=model_settings.get(\u001b[33m'\u001b[39m\u001b[33mtimeout\u001b[39m\u001b[33m'\u001b[39m, NOT_GIVEN),\n\u001b[32m    246\u001b[39m         metadata=model_settings.get(\u001b[33m'\u001b[39m\u001b[33manthropic_metadata\u001b[39m\u001b[33m'\u001b[39m, NOT_GIVEN),\n\u001b[32m    247\u001b[39m     )\n\u001b[32m    248\u001b[39m \u001b[38;5;28;01mexcept\u001b[39;00m APIStatusError \u001b[38;5;28;01mas\u001b[39;00m e:\n",
            "\u001b[36mFile \u001b[39m\u001b[32m~/1_github/Exploring_the_World_of_Programming_with_Python/.venv/lib/python3.13/site-packages/anthropic/resources/messages/messages.py:2165\u001b[39m, in \u001b[36mAsyncMessages.create\u001b[39m\u001b[34m(self, max_tokens, messages, model, metadata, stop_sequences, stream, system, temperature, thinking, tool_choice, tools, top_k, top_p, extra_headers, extra_query, extra_body, timeout)\u001b[39m\n\u001b[32m   2159\u001b[39m     warnings.warn(\n\u001b[32m   2160\u001b[39m         \u001b[33mf\u001b[39m\u001b[33m\"\u001b[39m\u001b[33mThe model \u001b[39m\u001b[33m'\u001b[39m\u001b[38;5;132;01m{\u001b[39;00mmodel\u001b[38;5;132;01m}\u001b[39;00m\u001b[33m'\u001b[39m\u001b[33m is deprecated and will reach end-of-life on \u001b[39m\u001b[38;5;132;01m{\u001b[39;00mDEPRECATED_MODELS[model]\u001b[38;5;132;01m}\u001b[39;00m\u001b[33m.\u001b[39m\u001b[38;5;130;01m\\n\u001b[39;00m\u001b[33mPlease migrate to a newer model. Visit https://docs.anthropic.com/en/docs/resources/model-deprecations for more information.\u001b[39m\u001b[33m\"\u001b[39m,\n\u001b[32m   2161\u001b[39m         \u001b[38;5;167;01mDeprecationWarning\u001b[39;00m,\n\u001b[32m   2162\u001b[39m         stacklevel=\u001b[32m3\u001b[39m,\n\u001b[32m   2163\u001b[39m     )\n\u001b[32m-> \u001b[39m\u001b[32m2165\u001b[39m \u001b[38;5;28;01mreturn\u001b[39;00m \u001b[38;5;28;01mawait\u001b[39;00m \u001b[38;5;28mself\u001b[39m._post(\n\u001b[32m   2166\u001b[39m     \u001b[33m\"\u001b[39m\u001b[33m/v1/messages\u001b[39m\u001b[33m\"\u001b[39m,\n\u001b[32m   2167\u001b[39m     body=\u001b[38;5;28;01mawait\u001b[39;00m async_maybe_transform(\n\u001b[32m   2168\u001b[39m         {\n\u001b[32m   2169\u001b[39m             \u001b[33m\"\u001b[39m\u001b[33mmax_tokens\u001b[39m\u001b[33m\"\u001b[39m: max_tokens,\n\u001b[32m   2170\u001b[39m             \u001b[33m\"\u001b[39m\u001b[33mmessages\u001b[39m\u001b[33m\"\u001b[39m: messages,\n\u001b[32m   2171\u001b[39m             \u001b[33m\"\u001b[39m\u001b[33mmodel\u001b[39m\u001b[33m\"\u001b[39m: model,\n\u001b[32m   2172\u001b[39m             \u001b[33m\"\u001b[39m\u001b[33mmetadata\u001b[39m\u001b[33m\"\u001b[39m: metadata,\n\u001b[32m   2173\u001b[39m             \u001b[33m\"\u001b[39m\u001b[33mstop_sequences\u001b[39m\u001b[33m\"\u001b[39m: stop_sequences,\n\u001b[32m   2174\u001b[39m             \u001b[33m\"\u001b[39m\u001b[33mstream\u001b[39m\u001b[33m\"\u001b[39m: stream,\n\u001b[32m   2175\u001b[39m             \u001b[33m\"\u001b[39m\u001b[33msystem\u001b[39m\u001b[33m\"\u001b[39m: system,\n\u001b[32m   2176\u001b[39m             \u001b[33m\"\u001b[39m\u001b[33mtemperature\u001b[39m\u001b[33m\"\u001b[39m: temperature,\n\u001b[32m   2177\u001b[39m             \u001b[33m\"\u001b[39m\u001b[33mthinking\u001b[39m\u001b[33m\"\u001b[39m: thinking,\n\u001b[32m   2178\u001b[39m             \u001b[33m\"\u001b[39m\u001b[33mtool_choice\u001b[39m\u001b[33m\"\u001b[39m: tool_choice,\n\u001b[32m   2179\u001b[39m             \u001b[33m\"\u001b[39m\u001b[33mtools\u001b[39m\u001b[33m\"\u001b[39m: tools,\n\u001b[32m   2180\u001b[39m             \u001b[33m\"\u001b[39m\u001b[33mtop_k\u001b[39m\u001b[33m\"\u001b[39m: top_k,\n\u001b[32m   2181\u001b[39m             \u001b[33m\"\u001b[39m\u001b[33mtop_p\u001b[39m\u001b[33m\"\u001b[39m: top_p,\n\u001b[32m   2182\u001b[39m         },\n\u001b[32m   2183\u001b[39m         message_create_params.MessageCreateParams,\n\u001b[32m   2184\u001b[39m     ),\n\u001b[32m   2185\u001b[39m     options=make_request_options(\n\u001b[32m   2186\u001b[39m         extra_headers=extra_headers, extra_query=extra_query, extra_body=extra_body, timeout=timeout\n\u001b[32m   2187\u001b[39m     ),\n\u001b[32m   2188\u001b[39m     cast_to=Message,\n\u001b[32m   2189\u001b[39m     stream=stream \u001b[38;5;129;01mor\u001b[39;00m \u001b[38;5;28;01mFalse\u001b[39;00m,\n\u001b[32m   2190\u001b[39m     stream_cls=AsyncStream[RawMessageStreamEvent],\n\u001b[32m   2191\u001b[39m )\n",
            "\u001b[36mFile \u001b[39m\u001b[32m~/1_github/Exploring_the_World_of_Programming_with_Python/.venv/lib/python3.13/site-packages/anthropic/_base_client.py:1920\u001b[39m, in \u001b[36mAsyncAPIClient.post\u001b[39m\u001b[34m(self, path, cast_to, body, files, options, stream, stream_cls)\u001b[39m\n\u001b[32m   1917\u001b[39m opts = FinalRequestOptions.construct(\n\u001b[32m   1918\u001b[39m     method=\u001b[33m\"\u001b[39m\u001b[33mpost\u001b[39m\u001b[33m\"\u001b[39m, url=path, json_data=body, files=\u001b[38;5;28;01mawait\u001b[39;00m async_to_httpx_files(files), **options\n\u001b[32m   1919\u001b[39m )\n\u001b[32m-> \u001b[39m\u001b[32m1920\u001b[39m \u001b[38;5;28;01mreturn\u001b[39;00m \u001b[38;5;28;01mawait\u001b[39;00m \u001b[38;5;28mself\u001b[39m.request(cast_to, opts, stream=stream, stream_cls=stream_cls)\n",
            "\u001b[36mFile \u001b[39m\u001b[32m~/1_github/Exploring_the_World_of_Programming_with_Python/.venv/lib/python3.13/site-packages/anthropic/_base_client.py:1614\u001b[39m, in \u001b[36mAsyncAPIClient.request\u001b[39m\u001b[34m(self, cast_to, options, stream, stream_cls, remaining_retries)\u001b[39m\n\u001b[32m   1612\u001b[39m     retries_taken = \u001b[32m0\u001b[39m\n\u001b[32m-> \u001b[39m\u001b[32m1614\u001b[39m \u001b[38;5;28;01mreturn\u001b[39;00m \u001b[38;5;28;01mawait\u001b[39;00m \u001b[38;5;28mself\u001b[39m._request(\n\u001b[32m   1615\u001b[39m     cast_to=cast_to,\n\u001b[32m   1616\u001b[39m     options=options,\n\u001b[32m   1617\u001b[39m     stream=stream,\n\u001b[32m   1618\u001b[39m     stream_cls=stream_cls,\n\u001b[32m   1619\u001b[39m     retries_taken=retries_taken,\n\u001b[32m   1620\u001b[39m )\n",
            "\u001b[36mFile \u001b[39m\u001b[32m~/1_github/Exploring_the_World_of_Programming_with_Python/.venv/lib/python3.13/site-packages/anthropic/_base_client.py:1715\u001b[39m, in \u001b[36mAsyncAPIClient._request\u001b[39m\u001b[34m(self, cast_to, options, stream, stream_cls, retries_taken)\u001b[39m\n\u001b[32m   1714\u001b[39m     log.debug(\u001b[33m\"\u001b[39m\u001b[33mRe-raising status error\u001b[39m\u001b[33m\"\u001b[39m)\n\u001b[32m-> \u001b[39m\u001b[32m1715\u001b[39m     \u001b[38;5;28;01mraise\u001b[39;00m \u001b[38;5;28mself\u001b[39m._make_status_error_from_response(err.response) \u001b[38;5;28;01mfrom\u001b[39;00m\u001b[38;5;250m \u001b[39m\u001b[38;5;28;01mNone\u001b[39;00m\n\u001b[32m   1717\u001b[39m \u001b[38;5;28;01mreturn\u001b[39;00m \u001b[38;5;28;01mawait\u001b[39;00m \u001b[38;5;28mself\u001b[39m._process_response(\n\u001b[32m   1718\u001b[39m     cast_to=cast_to,\n\u001b[32m   1719\u001b[39m     options=options,\n\u001b[32m   (...)\u001b[39m\u001b[32m   1723\u001b[39m     retries_taken=retries_taken,\n\u001b[32m   1724\u001b[39m )\n",
            "\u001b[31mBadRequestError\u001b[39m: Error code: 400 - {'type': 'error', 'error': {'type': 'invalid_request_error', 'message': 'Your credit balance is too low to access the Anthropic API. Please go to Plans & Billing to upgrade or purchase credits.'}}",
            "\nThe above exception was the direct cause of the following exception:\n",
            "\u001b[31mModelHTTPError\u001b[39m                            Traceback (most recent call last)",
            "\u001b[36mCell\u001b[39m\u001b[36m \u001b[39m\u001b[32mIn[18]\u001b[39m\u001b[32m, line 12\u001b[39m\n\u001b[32m      9\u001b[39m                 debug([e.data_snapshot() \u001b[38;5;28;01mfor\u001b[39;00m e \u001b[38;5;129;01min\u001b[39;00m history])\n\u001b[32m     10\u001b[39m                 \u001b[38;5;28;01mbreak\u001b[39;00m\n\u001b[32m---> \u001b[39m\u001b[32m12\u001b[39m result = \u001b[38;5;28;01mawait\u001b[39;00m run_automated_joke_generator()\n",
            "\u001b[36mCell\u001b[39m\u001b[36m \u001b[39m\u001b[32mIn[18]\u001b[39m\u001b[32m, line 7\u001b[39m, in \u001b[36mrun_automated_joke_generator\u001b[39m\u001b[34m()\u001b[39m\n\u001b[32m      5\u001b[39m \u001b[38;5;28;01mwith\u001b[39;00m logfire.span(\u001b[33m'\u001b[39m\u001b[33mrun automated joke generator\u001b[39m\u001b[33m'\u001b[39m):\n\u001b[32m      6\u001b[39m     \u001b[38;5;28;01mwhile\u001b[39;00m \u001b[38;5;28;01mTrue\u001b[39;00m:\n\u001b[32m----> \u001b[39m\u001b[32m7\u001b[39m         node = \u001b[38;5;28;01mawait\u001b[39;00m question_graph.next(node, history, state=state)\n\u001b[32m      8\u001b[39m         \u001b[38;5;28;01mif\u001b[39;00m \u001b[38;5;28misinstance\u001b[39m(node, End):\n\u001b[32m      9\u001b[39m             debug([e.data_snapshot() \u001b[38;5;28;01mfor\u001b[39;00m e \u001b[38;5;129;01min\u001b[39;00m history])\n",
            "\u001b[36mFile \u001b[39m\u001b[32m~/1_github/Exploring_the_World_of_Programming_with_Python/.venv/lib/python3.13/site-packages/pydantic_graph/graph.py:307\u001b[39m, in \u001b[36mGraph.next\u001b[39m\u001b[34m(self, node, history, state, deps, infer_name)\u001b[39m\n\u001b[32m    305\u001b[39m     start_ts = _utils.now_utc()\n\u001b[32m    306\u001b[39m     start = perf_counter()\n\u001b[32m--> \u001b[39m\u001b[32m307\u001b[39m     next_node = \u001b[38;5;28;01mawait\u001b[39;00m node.run(ctx)\n\u001b[32m    308\u001b[39m     duration = perf_counter() - start\n\u001b[32m    310\u001b[39m history.append(\n\u001b[32m    311\u001b[39m     NodeStep(state=state, node=node, start_ts=start_ts, duration=duration, snapshot_state=\u001b[38;5;28mself\u001b[39m.snapshot_state)\n\u001b[32m    312\u001b[39m )\n",
            "\u001b[36mCell\u001b[39m\u001b[36m \u001b[39m\u001b[32mIn[7]\u001b[39m\u001b[32m, line 19\u001b[39m, in \u001b[36mJokeGenerator.run\u001b[39m\u001b[34m(self, ctx)\u001b[39m\n\u001b[32m     10\u001b[39m         \u001b[38;5;28;01mif\u001b[39;00m \u001b[38;5;28mself\u001b[39m.feedback:\n\u001b[32m     11\u001b[39m             prompt = \u001b[33mf\u001b[39m\u001b[33m\"\"\"\u001b[39m\u001b[33mInvente uma piada sobre gatos. Ela deve ser engraçada e interessante.\u001b[39m\n\u001b[32m     12\u001b[39m \n\u001b[32m     13\u001b[39m \u001b[33mTentativa anterior: \u001b[39m\u001b[38;5;132;01m{\u001b[39;00mctx.state.joke\u001b[38;5;132;01m}\u001b[39;00m\n\u001b[32m   (...)\u001b[39m\u001b[32m     16\u001b[39m \n\u001b[32m     17\u001b[39m \u001b[33mPor favor, crie uma nova piada que aborde este feedback.\u001b[39m\u001b[33m\"\"\"\u001b[39m\n\u001b[32m---> \u001b[39m\u001b[32m19\u001b[39m         result = \u001b[38;5;28;01mawait\u001b[39;00m joke_generator_agent.run(\n\u001b[32m     20\u001b[39m             prompt,\n\u001b[32m     21\u001b[39m             message_history=ctx.state.joke_generator_agent_messages,\n\u001b[32m     22\u001b[39m         )\n\u001b[32m     23\u001b[39m         ctx.state.joke_generator_agent_messages += result.all_messages()\n\u001b[32m     24\u001b[39m         ctx.state.joke = result.data\n",
            "\u001b[36mFile \u001b[39m\u001b[32m~/1_github/Exploring_the_World_of_Programming_with_Python/.venv/lib/python3.13/site-packages/pydantic_ai/agent.py:316\u001b[39m, in \u001b[36mAgent.run\u001b[39m\u001b[34m(self, user_prompt, result_type, message_history, model, deps, model_settings, usage_limits, usage, infer_name)\u001b[39m\n\u001b[32m    305\u001b[39m     \u001b[38;5;28mself\u001b[39m._infer_name(inspect.currentframe())\n\u001b[32m    306\u001b[39m \u001b[38;5;28;01masync\u001b[39;00m \u001b[38;5;28;01mwith\u001b[39;00m \u001b[38;5;28mself\u001b[39m.iter(\n\u001b[32m    307\u001b[39m     user_prompt=user_prompt,\n\u001b[32m    308\u001b[39m     result_type=result_type,\n\u001b[32m   (...)\u001b[39m\u001b[32m    314\u001b[39m     usage=usage,\n\u001b[32m    315\u001b[39m ) \u001b[38;5;28;01mas\u001b[39;00m agent_run:\n\u001b[32m--> \u001b[39m\u001b[32m316\u001b[39m     \u001b[38;5;28;01masync\u001b[39;00m \u001b[38;5;28;01mfor\u001b[39;00m _ \u001b[38;5;129;01min\u001b[39;00m agent_run:\n\u001b[32m    317\u001b[39m         \u001b[38;5;28;01mpass\u001b[39;00m\n\u001b[32m    319\u001b[39m \u001b[38;5;28;01massert\u001b[39;00m (final_result := agent_run.result) \u001b[38;5;129;01mis\u001b[39;00m \u001b[38;5;129;01mnot\u001b[39;00m \u001b[38;5;28;01mNone\u001b[39;00m, \u001b[33m'\u001b[39m\u001b[33mThe graph run did not finish properly\u001b[39m\u001b[33m'\u001b[39m\n",
            "\u001b[36mFile \u001b[39m\u001b[32m~/1_github/Exploring_the_World_of_Programming_with_Python/.venv/lib/python3.13/site-packages/pydantic_ai/agent.py:1366\u001b[39m, in \u001b[36mAgentRun.__anext__\u001b[39m\u001b[34m(self)\u001b[39m\n\u001b[32m   1362\u001b[39m \u001b[38;5;28;01masync\u001b[39;00m \u001b[38;5;28;01mdef\u001b[39;00m\u001b[38;5;250m \u001b[39m\u001b[34m__anext__\u001b[39m(\n\u001b[32m   1363\u001b[39m     \u001b[38;5;28mself\u001b[39m,\n\u001b[32m   1364\u001b[39m ) -> _agent_graph.AgentNode[AgentDepsT, ResultDataT] | End[FinalResult[ResultDataT]]:\n\u001b[32m   1365\u001b[39m \u001b[38;5;250m    \u001b[39m\u001b[33;03m\"\"\"Advance to the next node automatically based on the last returned node.\"\"\"\u001b[39;00m\n\u001b[32m-> \u001b[39m\u001b[32m1366\u001b[39m     next_node = \u001b[38;5;28;01mawait\u001b[39;00m \u001b[38;5;28mself\u001b[39m._graph_run.\u001b[34m__anext__\u001b[39m()\n\u001b[32m   1367\u001b[39m     \u001b[38;5;28;01mif\u001b[39;00m _agent_graph.is_agent_node(next_node):\n\u001b[32m   1368\u001b[39m         \u001b[38;5;28;01mreturn\u001b[39;00m next_node\n",
            "\u001b[36mFile \u001b[39m\u001b[32m~/1_github/Exploring_the_World_of_Programming_with_Python/.venv/lib/python3.13/site-packages/pydantic_graph/graph.py:736\u001b[39m, in \u001b[36mGraphRun.__anext__\u001b[39m\u001b[34m(self)\u001b[39m\n\u001b[32m    734\u001b[39m \u001b[38;5;28;01mif\u001b[39;00m \u001b[38;5;28misinstance\u001b[39m(\u001b[38;5;28mself\u001b[39m._next_node, End):\n\u001b[32m    735\u001b[39m     \u001b[38;5;28;01mraise\u001b[39;00m \u001b[38;5;167;01mStopAsyncIteration\u001b[39;00m\n\u001b[32m--> \u001b[39m\u001b[32m736\u001b[39m \u001b[38;5;28;01mreturn\u001b[39;00m \u001b[38;5;28;01mawait\u001b[39;00m \u001b[38;5;28mself\u001b[39m.next(\u001b[38;5;28mself\u001b[39m._next_node)\n",
            "\u001b[36mFile \u001b[39m\u001b[32m~/1_github/Exploring_the_World_of_Programming_with_Python/.venv/lib/python3.13/site-packages/pydantic_graph/graph.py:725\u001b[39m, in \u001b[36mGraphRun.next\u001b[39m\u001b[34m(self, node)\u001b[39m\n\u001b[32m    722\u001b[39m state = \u001b[38;5;28mself\u001b[39m.state\n\u001b[32m    723\u001b[39m deps = \u001b[38;5;28mself\u001b[39m.deps\n\u001b[32m--> \u001b[39m\u001b[32m725\u001b[39m \u001b[38;5;28mself\u001b[39m._next_node = \u001b[38;5;28;01mawait\u001b[39;00m \u001b[38;5;28mself\u001b[39m.graph.next(node, history, state=state, deps=deps, infer_name=\u001b[38;5;28;01mFalse\u001b[39;00m)\n\u001b[32m    727\u001b[39m \u001b[38;5;28;01mreturn\u001b[39;00m \u001b[38;5;28mself\u001b[39m._next_node\n",
            "\u001b[36mFile \u001b[39m\u001b[32m~/1_github/Exploring_the_World_of_Programming_with_Python/.venv/lib/python3.13/site-packages/pydantic_graph/graph.py:307\u001b[39m, in \u001b[36mGraph.next\u001b[39m\u001b[34m(self, node, history, state, deps, infer_name)\u001b[39m\n\u001b[32m    305\u001b[39m     start_ts = _utils.now_utc()\n\u001b[32m    306\u001b[39m     start = perf_counter()\n\u001b[32m--> \u001b[39m\u001b[32m307\u001b[39m     next_node = \u001b[38;5;28;01mawait\u001b[39;00m node.run(ctx)\n\u001b[32m    308\u001b[39m     duration = perf_counter() - start\n\u001b[32m    310\u001b[39m history.append(\n\u001b[32m    311\u001b[39m     NodeStep(state=state, node=node, start_ts=start_ts, duration=duration, snapshot_state=\u001b[38;5;28mself\u001b[39m.snapshot_state)\n\u001b[32m    312\u001b[39m )\n",
            "\u001b[36mFile \u001b[39m\u001b[32m~/1_github/Exploring_the_World_of_Programming_with_Python/.venv/lib/python3.13/site-packages/pydantic_ai/_agent_graph.py:252\u001b[39m, in \u001b[36mModelRequestNode.run\u001b[39m\u001b[34m(self, ctx)\u001b[39m\n\u001b[32m    247\u001b[39m \u001b[38;5;28;01mif\u001b[39;00m \u001b[38;5;28mself\u001b[39m._did_stream:\n\u001b[32m    248\u001b[39m     \u001b[38;5;66;03m# `self._result` gets set when exiting the `stream` contextmanager, so hitting this\u001b[39;00m\n\u001b[32m    249\u001b[39m     \u001b[38;5;66;03m# means that the stream was started but not finished before `run()` was called\u001b[39;00m\n\u001b[32m    250\u001b[39m     \u001b[38;5;28;01mraise\u001b[39;00m exceptions.AgentRunError(\u001b[33m'\u001b[39m\u001b[33mYou must finish streaming before calling run()\u001b[39m\u001b[33m'\u001b[39m)\n\u001b[32m--> \u001b[39m\u001b[32m252\u001b[39m \u001b[38;5;28;01mreturn\u001b[39;00m \u001b[38;5;28;01mawait\u001b[39;00m \u001b[38;5;28mself\u001b[39m._make_request(ctx)\n",
            "\u001b[36mFile \u001b[39m\u001b[32m~/1_github/Exploring_the_World_of_Programming_with_Python/.venv/lib/python3.13/site-packages/pydantic_ai/_agent_graph.py:304\u001b[39m, in \u001b[36mModelRequestNode._make_request\u001b[39m\u001b[34m(self, ctx)\u001b[39m\n\u001b[32m    301\u001b[39m     \u001b[38;5;28;01mreturn\u001b[39;00m \u001b[38;5;28mself\u001b[39m._result\n\u001b[32m    303\u001b[39m model_settings, model_request_parameters = \u001b[38;5;28;01mawait\u001b[39;00m \u001b[38;5;28mself\u001b[39m._prepare_request(ctx)\n\u001b[32m--> \u001b[39m\u001b[32m304\u001b[39m model_response, request_usage = \u001b[38;5;28;01mawait\u001b[39;00m ctx.deps.model.request(\n\u001b[32m    305\u001b[39m     ctx.state.message_history, model_settings, model_request_parameters\n\u001b[32m    306\u001b[39m )\n\u001b[32m    307\u001b[39m ctx.state.usage.incr(_usage.Usage(), requests=\u001b[32m1\u001b[39m)\n\u001b[32m    309\u001b[39m \u001b[38;5;28;01mreturn\u001b[39;00m \u001b[38;5;28mself\u001b[39m._finish_handling(ctx, model_response, request_usage)\n",
            "\u001b[36mFile \u001b[39m\u001b[32m~/1_github/Exploring_the_World_of_Programming_with_Python/.venv/lib/python3.13/site-packages/pydantic_ai/models/instrumented.py:116\u001b[39m, in \u001b[36mInstrumentedModel.request\u001b[39m\u001b[34m(self, messages, model_settings, model_request_parameters)\u001b[39m\n\u001b[32m    109\u001b[39m \u001b[38;5;28;01masync\u001b[39;00m \u001b[38;5;28;01mdef\u001b[39;00m\u001b[38;5;250m \u001b[39m\u001b[34mrequest\u001b[39m(\n\u001b[32m    110\u001b[39m     \u001b[38;5;28mself\u001b[39m,\n\u001b[32m    111\u001b[39m     messages: \u001b[38;5;28mlist\u001b[39m[ModelMessage],\n\u001b[32m    112\u001b[39m     model_settings: ModelSettings | \u001b[38;5;28;01mNone\u001b[39;00m,\n\u001b[32m    113\u001b[39m     model_request_parameters: ModelRequestParameters,\n\u001b[32m    114\u001b[39m ) -> \u001b[38;5;28mtuple\u001b[39m[ModelResponse, Usage]:\n\u001b[32m    115\u001b[39m     \u001b[38;5;28;01mwith\u001b[39;00m \u001b[38;5;28mself\u001b[39m._instrument(messages, model_settings) \u001b[38;5;28;01mas\u001b[39;00m finish:\n\u001b[32m--> \u001b[39m\u001b[32m116\u001b[39m         response, usage = \u001b[38;5;28;01mawait\u001b[39;00m \u001b[38;5;28msuper\u001b[39m().request(messages, model_settings, model_request_parameters)\n\u001b[32m    117\u001b[39m         finish(response, usage)\n\u001b[32m    118\u001b[39m         \u001b[38;5;28;01mreturn\u001b[39;00m response, usage\n",
            "\u001b[36mFile \u001b[39m\u001b[32m~/1_github/Exploring_the_World_of_Programming_with_Python/.venv/lib/python3.13/site-packages/pydantic_ai/models/wrapper.py:24\u001b[39m, in \u001b[36mWrapperModel.request\u001b[39m\u001b[34m(self, *args, **kwargs)\u001b[39m\n\u001b[32m     23\u001b[39m \u001b[38;5;28;01masync\u001b[39;00m \u001b[38;5;28;01mdef\u001b[39;00m\u001b[38;5;250m \u001b[39m\u001b[34mrequest\u001b[39m(\u001b[38;5;28mself\u001b[39m, *args: Any, **kwargs: Any) -> \u001b[38;5;28mtuple\u001b[39m[ModelResponse, Usage]:\n\u001b[32m---> \u001b[39m\u001b[32m24\u001b[39m     \u001b[38;5;28;01mreturn\u001b[39;00m \u001b[38;5;28;01mawait\u001b[39;00m \u001b[38;5;28mself\u001b[39m.wrapped.request(*args, **kwargs)\n",
            "\u001b[36mFile \u001b[39m\u001b[32m~/1_github/Exploring_the_World_of_Programming_with_Python/.venv/lib/python3.13/site-packages/pydantic_ai/models/anthropic.py:161\u001b[39m, in \u001b[36mAnthropicModel.request\u001b[39m\u001b[34m(self, messages, model_settings, model_request_parameters)\u001b[39m\n\u001b[32m    154\u001b[39m \u001b[38;5;28;01masync\u001b[39;00m \u001b[38;5;28;01mdef\u001b[39;00m\u001b[38;5;250m \u001b[39m\u001b[34mrequest\u001b[39m(\n\u001b[32m    155\u001b[39m     \u001b[38;5;28mself\u001b[39m,\n\u001b[32m    156\u001b[39m     messages: \u001b[38;5;28mlist\u001b[39m[ModelMessage],\n\u001b[32m    157\u001b[39m     model_settings: ModelSettings | \u001b[38;5;28;01mNone\u001b[39;00m,\n\u001b[32m    158\u001b[39m     model_request_parameters: ModelRequestParameters,\n\u001b[32m    159\u001b[39m ) -> \u001b[38;5;28mtuple\u001b[39m[ModelResponse, usage.Usage]:\n\u001b[32m    160\u001b[39m     check_allow_model_requests()\n\u001b[32m--> \u001b[39m\u001b[32m161\u001b[39m     response = \u001b[38;5;28;01mawait\u001b[39;00m \u001b[38;5;28mself\u001b[39m._messages_create(\n\u001b[32m    162\u001b[39m         messages, \u001b[38;5;28;01mFalse\u001b[39;00m, cast(AnthropicModelSettings, model_settings \u001b[38;5;129;01mor\u001b[39;00m {}), model_request_parameters\n\u001b[32m    163\u001b[39m     )\n\u001b[32m    164\u001b[39m     \u001b[38;5;28;01mreturn\u001b[39;00m \u001b[38;5;28mself\u001b[39m._process_response(response), _map_usage(response)\n",
            "\u001b[36mFile \u001b[39m\u001b[32m~/1_github/Exploring_the_World_of_Programming_with_Python/.venv/lib/python3.13/site-packages/pydantic_ai/models/anthropic.py:250\u001b[39m, in \u001b[36mAnthropicModel._messages_create\u001b[39m\u001b[34m(self, messages, stream, model_settings, model_request_parameters)\u001b[39m\n\u001b[32m    248\u001b[39m \u001b[38;5;28;01mexcept\u001b[39;00m APIStatusError \u001b[38;5;28;01mas\u001b[39;00m e:\n\u001b[32m    249\u001b[39m     \u001b[38;5;28;01mif\u001b[39;00m (status_code := e.status_code) >= \u001b[32m400\u001b[39m:\n\u001b[32m--> \u001b[39m\u001b[32m250\u001b[39m         \u001b[38;5;28;01mraise\u001b[39;00m ModelHTTPError(status_code=status_code, model_name=\u001b[38;5;28mself\u001b[39m.model_name, body=e.body) \u001b[38;5;28;01mfrom\u001b[39;00m\u001b[38;5;250m \u001b[39m\u001b[34;01me\u001b[39;00m\n\u001b[32m    251\u001b[39m     \u001b[38;5;28;01mraise\u001b[39;00m\n",
            "\u001b[31mModelHTTPError\u001b[39m: status_code: 400, model_name: claude-3-7-sonnet-latest, body: {'type': 'error', 'error': {'type': 'invalid_request_error', 'message': 'Your credit balance is too low to access the Anthropic API. Please go to Plans & Billing to upgrade or purchase credits.'}}"
          ]
        }
      ],
      "source": [
        "async def run_automated_joke_generator():\n",
        "    state = JokeState()\n",
        "    node = JokeGenerator()\n",
        "    history: list[HistoryStep[JokeState, None]] = []\n",
        "    with logfire.span('run automated joke generator'):\n",
        "        while True:\n",
        "            node = await question_graph.next(node, history, state=state)\n",
        "            if isinstance(node, End):\n",
        "                debug([e.data_snapshot() for e in history])\n",
        "                break\n",
        "\n",
        "result = await run_automated_joke_generator()"
      ]
    },
    {
      "cell_type": "code",
      "execution_count": null,
      "metadata": {},
      "outputs": [],
      "source": []
    }
  ],
  "metadata": {
    "colab": {
      "provenance": []
    },
    "kernelspec": {
      "display_name": ".venv",
      "language": "python",
      "name": "python3"
    },
    "language_info": {
      "codemirror_mode": {
        "name": "ipython",
        "version": 3
      },
      "file_extension": ".py",
      "mimetype": "text/x-python",
      "name": "python",
      "nbconvert_exporter": "python",
      "pygments_lexer": "ipython3",
      "version": "3.13.2"
    }
  },
  "nbformat": 4,
  "nbformat_minor": 0
}
