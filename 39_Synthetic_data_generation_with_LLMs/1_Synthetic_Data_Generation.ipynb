{
 "cells": [
  {
   "cell_type": "markdown",
   "metadata": {},
   "source": [
    "# <h1 align=\"center\"><font color=\"gree\">Synthetic Data Generation</font></h1>"
   ]
  },
  {
   "cell_type": "markdown",
   "metadata": {},
   "source": [
    "<font color=\"pink\">Senior Data Scientist.: Dr. Eddy Giusepe Chirinos Isidro</font>"
   ]
  },
  {
   "cell_type": "markdown",
   "metadata": {},
   "source": [
    "Links de estudo:\n",
    "\n",
    "* [LangChain: Generate Synthetic Data](https://python.langchain.com/docs/tutorials/data_generation/)\n",
    "\n",
    "* [sudarshan-koirala](https://github.com/sudarshan-koirala/youtube-stuffs/blob/main/langchain/synthetic_data_generation.ipynb)"
   ]
  },
  {
   "cell_type": "markdown",
   "metadata": {},
   "source": [
    "Uma vez que os dados sintéticos são gerados, precisamos avaliá-los para garantir que estejam OK para uso em tarefas posteriores. Existem muitas bibliotecas e sites que oferecem esse tipo de solução. Mas aqui, focamos na parte `GenAI`.\n"
   ]
  },
  {
   "cell_type": "markdown",
   "metadata": {},
   "source": [
    "# <font color=\"red\">Use case</font>"
   ]
  },
  {
   "cell_type": "markdown",
   "metadata": {},
   "source": [
    "Dados sintéticos referem-se a dados gerados artificialmente que imitam as características de dados reais sem conter nenhuma informação de indivíduos ou entidades reais. Normalmente, são criados por meio de modelos matemáticos, algoritmos ou outras técnicas de geração de dados. Dados sintéticos podem ser usados ​​para uma variedade de propósitos, incluindo testes, pesquisas e treinamento de modelos de aprendizado de máquina, preservando a privacidade e a segurança.\n",
    "\n",
    "Benefícios dos Dados Sintéticos:\n",
    "\n",
    "* `Privacidade e segurança:` Nenhum dado pessoal real corre risco de violações.\n",
    "\n",
    "* `Aumento de dados (Data Augmentation):` Expande conjuntos de dados para aprendizado de máquina.\n",
    "\n",
    "* `Flexibilidade:` Cria cenários específicos ou raros.\n",
    "\n",
    "* `Custo-benefício:` Geralmente mais barato do que a coleta de dados do mundo real.\n",
    "\n",
    "* `Conformidade regulatória:` Ajuda a navegar em leis rígidas de proteção de dados.\n",
    "\n",
    "* `Robustez do modelo:` Pode levar a modelos de IA de melhor generalização.\n",
    "\n",
    "* `Prototipagem rápida:` Permite testes rápidos sem dados reais.\n",
    "\n",
    "* `Experimentação controlada:` Simula condições específicas.\n",
    "\n",
    "* `Acesso aos dados:` Alternativa quando dados reais não estão disponíveis.\n",
    "\n",
    "\n",
    "<font color=\"pink\">Observação: Apesar dos benefícios, dados sintéticos devem ser usados ​​com cuidado, pois nem sempre podem capturar complexidades do mundo real.</font>\n"
   ]
  },
  {
   "cell_type": "markdown",
   "metadata": {},
   "source": [
    "<font colr=\"orange\">Neste notebook, vamos nos aprofundar na geração de `registros de faturamento médico` sintéticos usando a `biblioteca langchain`. Esta ferramenta é particularmente útil quando você quer desenvolver ou testar algoritmos, mas não quer usar dados reais de pacientes devido a preocupações com privacidade ou problemas de disponibilidade de dados.</font>"
   ]
  },
  {
   "cell_type": "markdown",
   "metadata": {},
   "source": [
    "# <font color=\"red\">Setup</font>"
   ]
  },
  {
   "cell_type": "markdown",
   "metadata": {},
   "source": [
    "* Primeiro, você precisará ter a `biblioteca langchain` instalada, junto com suas dependências. Como estamos usando a `cadeia de geradores OpenAI`, instalaremos isso também. Como esta é uma biblioteca experimental, precisaremos incluir `langchain_experimental` em nossas instalações.\n",
    "\n",
    "* [Pydantic](https://docs.pydantic.dev/latest/): Biblioteca de validação de dados para Python"
   ]
  },
  {
   "cell_type": "code",
   "execution_count": 1,
   "metadata": {},
   "outputs": [],
   "source": [
    "%%capture\n",
    "#%pip install -U langchain langchain_experimental openai\n",
    "%pip install --upgrade --quiet  langchain langchain_experimental langchain-openai"
   ]
  },
  {
   "cell_type": "code",
   "execution_count": 2,
   "metadata": {},
   "outputs": [],
   "source": [
    "from dotenv import load_dotenv, find_dotenv\n",
    "_ = load_dotenv(find_dotenv()) # read local .env file\n",
    "#openai.api_key  = os.environ['OPENAI_API_KEY']\n",
    "#Eddy_key_openai  = os.environ['OPENAI_API_KEY']\n",
    "#from openai import OpenAI\n",
    "#client = OpenAI(api_key=Eddy_key_openai)"
   ]
  },
  {
   "cell_type": "code",
   "execution_count": 3,
   "metadata": {},
   "outputs": [],
   "source": [
    "from langchain.prompts import FewShotPromptTemplate, PromptTemplate\n",
    "#from langchain.chat_models import ChatOpenAI\n",
    "\n",
    "#from langchain.pydantic_v1 import BaseModel\n",
    "from pydantic import  BaseModel\n",
    "from langchain_experimental.tabular_synthetic_data.base import SyntheticDataGenerator\n",
    "from langchain_experimental.tabular_synthetic_data.openai import create_openai_data_generator, OPENAI_TEMPLATE\n",
    "from langchain_experimental.tabular_synthetic_data.prompts import SYNTHETIC_FEW_SHOT_SUFFIX, SYNTHETIC_FEW_SHOT_PREFIX"
   ]
  },
  {
   "cell_type": "markdown",
   "metadata": {},
   "source": [
    "# <font color=\"red\">Define your Data Model</font>"
   ]
  },
  {
   "cell_type": "markdown",
   "metadata": {},
   "source": [
    "* Cada conjunto de dados tem uma estrutura ou um \"esquema\".\n",
    "\n",
    "* A classe `MedicalBilling` abaixo serve como nosso `esquema para os dados sintéticos`.\n",
    "\n",
    "* Ao definir isso, estamos informando nosso gerador de dados sintéticos sobre a forma e a natureza dos dados que esperamos."
   ]
  },
  {
   "cell_type": "code",
   "execution_count": 4,
   "metadata": {},
   "outputs": [],
   "source": [
    "class MedicalBilling(BaseModel):\n",
    "    patient_id: int\n",
    "    patient_name: str\n",
    "    diagnosis_code: str\n",
    "    procedure_code: str\n",
    "    total_charge: float\n",
    "    insurance_claim_amount: float"
   ]
  },
  {
   "cell_type": "markdown",
   "metadata": {},
   "source": [
    "# <font color=\"red\">Sample Data</font>"
   ]
  },
  {
   "cell_type": "markdown",
   "metadata": {},
   "source": [
    "`Para orientar o gerador de dados sintéticos`, é útil fornecer alguns exemplos do mundo real. Esses exemplos servem como uma `\"semente\"` (seed) - eles são representativos do tipo de dados que você deseja, e o gerador os usará para criar mais dados que pareçam semelhantes.\n",
    "\n",
    "Aqui estão alguns registros fictícios de cobrança médica:"
   ]
  },
  {
   "cell_type": "code",
   "execution_count": 5,
   "metadata": {},
   "outputs": [],
   "source": [
    "examples = [\n",
    "    {\"example\": \"\"\"Patient ID: 123456, Patient Name: Eddy Giusepe, Diagnosis Code: J20.9, Procedure Code: 99203, Total Charge: $500, Insurance Claim Amount: $350\"\"\"},\n",
    "    {\"example\": \"\"\"Patient ID: 789012, Patient Name: Ramos Gonzalo, Diagnosis Code: M54.5, Procedure Code: 99213, Total Charge: $150, Insurance Claim Amount: $120\"\"\"},\n",
    "    {\"example\": \"\"\"Patient ID: 345678, Patient Name: Dionisia, Diagnosis Code: E11.9, Procedure Code: 99214, Total Charge: $300, Insurance Claim Amount: $250\"\"\"},\n",
    "]"
   ]
  },
  {
   "cell_type": "markdown",
   "metadata": {},
   "source": [
    "# <font color=\"red\">Craft a Prompt Template (`Elabore um Modelo de Prompt`)</font>"
   ]
  },
  {
   "cell_type": "markdown",
   "metadata": {},
   "source": [
    "O `gerador` não sabe magicamente como criar nossos dados; precisamos guiá-lo. Fazemos isso criando um `Prompt Template`. Este modelo ajuda a `instruir o modelo de linguagem subjacente` sobre como produzir dados sintéticos no formato desejado."
   ]
  },
  {
   "cell_type": "code",
   "execution_count": 6,
   "metadata": {},
   "outputs": [],
   "source": [
    "OPENAI_TEMPLATE = PromptTemplate(input_variables=[\"example\"], template=\"{example}\")\n",
    "\n",
    "prompt_template = FewShotPromptTemplate(\n",
    "    prefix=SYNTHETIC_FEW_SHOT_PREFIX,\n",
    "    examples=examples,\n",
    "    suffix=SYNTHETIC_FEW_SHOT_SUFFIX,\n",
    "    input_variables=[\"subject\", \"extra\"],\n",
    "    example_prompt=OPENAI_TEMPLATE,\n",
    ")\n"
   ]
  },
  {
   "cell_type": "markdown",
   "metadata": {},
   "source": [
    "O `FewShotPromptTemplate` inclui:\n",
    "\n",
    "* `prefix` e `suffix`: provavelmente contêm contexto ou instruções de orientação.\n",
    "\n",
    "* `examples`: os dados de amostra que definimos anteriormente.\n",
    "\n",
    "* `input_variables`: essas variáveis ​​(`\"subject\"`, `\"extra\"`) são marcadores (placeholders) de posição que você pode preencher dinamicamente mais tarde. `Por exemplo`, `\"subject\"` pode ser preenchido com `\"medical_billing\"` para orientar o modelo mais adiante.\n",
    "\n",
    "* `example_prompt`: este modelo de prompt é o formato que queremos que cada linha de exemplo tenha em nosso prompt."
   ]
  },
  {
   "cell_type": "markdown",
   "metadata": {},
   "source": [
    "# <font color=\"red\"> Creating the Data Generator</font>"
   ]
  },
  {
   "cell_type": "markdown",
   "metadata": {},
   "source": [
    "Com o `esquema` e o `prompt` prontos, o próximo passo é criar o `gerador de dados`. Este objeto sabe como se comunicar com o modelo de linguagem subjacente para obter dados sintéticos."
   ]
  },
  {
   "cell_type": "code",
   "execution_count": 7,
   "metadata": {},
   "outputs": [],
   "source": [
    "from langchain_openai import ChatOpenAI\n",
    "\n",
    "synthetic_data_generator = create_openai_data_generator(output_schema=MedicalBilling,\n",
    "                                                        llm=ChatOpenAI(model=\"gpt-4o-mini\", temperature=1),\n",
    "                                                        prompt=prompt_template,\n",
    "                                                    )"
   ]
  },
  {
   "cell_type": "markdown",
   "metadata": {},
   "source": [
    "# <font color=\"red\">Generate Synthetic Data</font>"
   ]
  },
  {
   "cell_type": "markdown",
   "metadata": {},
   "source": [
    "Por fim, vamos obter nossos dados sintéticos!"
   ]
  },
  {
   "cell_type": "code",
   "execution_count": 8,
   "metadata": {},
   "outputs": [],
   "source": [
    "synthetic_results = synthetic_data_generator.generate(subject=\"medical_billing\",\n",
    "                                                      extra=\"O nome deve ser escolhido aleatoriamente. Faça algo que você normalmente não escolheria.\",\n",
    "                                                      runs=5,\n",
    "                                                     )"
   ]
  },
  {
   "cell_type": "markdown",
   "metadata": {},
   "source": [
    "Este comando pede ao gerador para produzir `5` registros de faturamento médico sintético. Os resultados são armazenados em `synthetic_results`. A saída será uma lista dos modelos `pydantic MedicalBilling`."
   ]
  },
  {
   "cell_type": "code",
   "execution_count": 9,
   "metadata": {},
   "outputs": [
    {
     "data": {
      "text/plain": [
       "list"
      ]
     },
     "execution_count": 9,
     "metadata": {},
     "output_type": "execute_result"
    }
   ],
   "source": [
    "type(synthetic_results)"
   ]
  },
  {
   "cell_type": "markdown",
   "metadata": {},
   "source": [
    "# <font color=\"red\">Visualize the Generated Synthetic Data</font>"
   ]
  },
  {
   "cell_type": "code",
   "execution_count": 10,
   "metadata": {},
   "outputs": [
    {
     "data": {
      "text/plain": [
       "5"
      ]
     },
     "execution_count": 10,
     "metadata": {},
     "output_type": "execute_result"
    }
   ],
   "source": [
    "len(synthetic_results)"
   ]
  },
  {
   "cell_type": "code",
   "execution_count": 11,
   "metadata": {},
   "outputs": [
    {
     "data": {
      "text/plain": [
       "[MedicalBilling(patient_id=456789, patient_name='Miranda Chen', diagnosis_code='I10', procedure_code='99204', total_charge=750.0, insurance_claim_amount=600.0),\n",
       " MedicalBilling(patient_id=234567, patient_name='Xander Quill', diagnosis_code='G43.909', procedure_code='99215', total_charge=400.0, insurance_claim_amount=320.0),\n",
       " MedicalBilling(patient_id=987654, patient_name='Elowen Thorne', diagnosis_code='F32.9', procedure_code='99213', total_charge=500.0, insurance_claim_amount=400.0),\n",
       " MedicalBilling(patient_id=543216, patient_name='Octavia Prism', diagnosis_code='M54.5', procedure_code='99203', total_charge=920.0, insurance_claim_amount=740.0),\n",
       " MedicalBilling(patient_id=135790, patient_name='Felix Caterwaul', diagnosis_code='R51.9', procedure_code='99214', total_charge=680.0, insurance_claim_amount=550.0)]"
      ]
     },
     "execution_count": 11,
     "metadata": {},
     "output_type": "execute_result"
    }
   ],
   "source": [
    "synthetic_results"
   ]
  },
  {
   "cell_type": "markdown",
   "metadata": {},
   "source": [
    "# <font color=\"red\">Converting the synthetic data into Pandas Dataframe</font>"
   ]
  },
  {
   "cell_type": "code",
   "execution_count": 13,
   "metadata": {},
   "outputs": [
    {
     "name": "stdout",
     "output_type": "stream",
     "text": [
      "<class 'pandas.core.frame.DataFrame'>\n"
     ]
    }
   ],
   "source": [
    "import pandas as pd\n",
    "\n",
    "# Create a list of dictionaries from the objects\n",
    "synthetic_data = []\n",
    "for item in synthetic_results:\n",
    "    synthetic_data.append({\n",
    "        'patient_id': item.patient_id,\n",
    "        'patient_name': item.patient_name,\n",
    "        'diagnosis_code': item.diagnosis_code,\n",
    "        'procedure_code': item.procedure_code,\n",
    "        'total_charge': item.total_charge,\n",
    "        'insurance_claim_amount': item.insurance_claim_amount\n",
    "    })\n",
    "\n",
    "# Create a Pandas DataFrame from the list of dictionaries\n",
    "synthetic_df = pd.DataFrame(synthetic_data)\n",
    "\n",
    "# Display the DataFrame\n",
    "print(type(synthetic_df))\n"
   ]
  },
  {
   "cell_type": "code",
   "execution_count": 14,
   "metadata": {},
   "outputs": [
    {
     "data": {
      "text/html": [
       "<div>\n",
       "<style scoped>\n",
       "    .dataframe tbody tr th:only-of-type {\n",
       "        vertical-align: middle;\n",
       "    }\n",
       "\n",
       "    .dataframe tbody tr th {\n",
       "        vertical-align: top;\n",
       "    }\n",
       "\n",
       "    .dataframe thead th {\n",
       "        text-align: right;\n",
       "    }\n",
       "</style>\n",
       "<table border=\"1\" class=\"dataframe\">\n",
       "  <thead>\n",
       "    <tr style=\"text-align: right;\">\n",
       "      <th></th>\n",
       "      <th>patient_id</th>\n",
       "      <th>patient_name</th>\n",
       "      <th>diagnosis_code</th>\n",
       "      <th>procedure_code</th>\n",
       "      <th>total_charge</th>\n",
       "      <th>insurance_claim_amount</th>\n",
       "    </tr>\n",
       "  </thead>\n",
       "  <tbody>\n",
       "    <tr>\n",
       "      <th>0</th>\n",
       "      <td>456789</td>\n",
       "      <td>Miranda Chen</td>\n",
       "      <td>I10</td>\n",
       "      <td>99204</td>\n",
       "      <td>750.0</td>\n",
       "      <td>600.0</td>\n",
       "    </tr>\n",
       "    <tr>\n",
       "      <th>1</th>\n",
       "      <td>234567</td>\n",
       "      <td>Xander Quill</td>\n",
       "      <td>G43.909</td>\n",
       "      <td>99215</td>\n",
       "      <td>400.0</td>\n",
       "      <td>320.0</td>\n",
       "    </tr>\n",
       "    <tr>\n",
       "      <th>2</th>\n",
       "      <td>987654</td>\n",
       "      <td>Elowen Thorne</td>\n",
       "      <td>F32.9</td>\n",
       "      <td>99213</td>\n",
       "      <td>500.0</td>\n",
       "      <td>400.0</td>\n",
       "    </tr>\n",
       "    <tr>\n",
       "      <th>3</th>\n",
       "      <td>543216</td>\n",
       "      <td>Octavia Prism</td>\n",
       "      <td>M54.5</td>\n",
       "      <td>99203</td>\n",
       "      <td>920.0</td>\n",
       "      <td>740.0</td>\n",
       "    </tr>\n",
       "    <tr>\n",
       "      <th>4</th>\n",
       "      <td>135790</td>\n",
       "      <td>Felix Caterwaul</td>\n",
       "      <td>R51.9</td>\n",
       "      <td>99214</td>\n",
       "      <td>680.0</td>\n",
       "      <td>550.0</td>\n",
       "    </tr>\n",
       "  </tbody>\n",
       "</table>\n",
       "</div>"
      ],
      "text/plain": [
       "   patient_id     patient_name diagnosis_code procedure_code  total_charge  \\\n",
       "0      456789     Miranda Chen            I10          99204         750.0   \n",
       "1      234567     Xander Quill        G43.909          99215         400.0   \n",
       "2      987654    Elowen Thorne          F32.9          99213         500.0   \n",
       "3      543216    Octavia Prism          M54.5          99203         920.0   \n",
       "4      135790  Felix Caterwaul          R51.9          99214         680.0   \n",
       "\n",
       "   insurance_claim_amount  \n",
       "0                   600.0  \n",
       "1                   320.0  \n",
       "2                   400.0  \n",
       "3                   740.0  \n",
       "4                   550.0  "
      ]
     },
     "execution_count": 14,
     "metadata": {},
     "output_type": "execute_result"
    }
   ],
   "source": [
    "synthetic_df"
   ]
  },
  {
   "cell_type": "markdown",
   "metadata": {},
   "source": [
    "<font color=\"orange\">Comece a explorar com base no seu caso de uso e use a mesma abordagem para dados sensíveis reais. `Mas tenha cuidado, pois os dados sintéticos podem não capturar as complexidades do mundo real.`</font>"
   ]
  }
 ],
 "metadata": {
  "kernelspec": {
   "display_name": "venv_All",
   "language": "python",
   "name": "python3"
  },
  "language_info": {
   "codemirror_mode": {
    "name": "ipython",
    "version": 3
   },
   "file_extension": ".py",
   "mimetype": "text/x-python",
   "name": "python",
   "nbconvert_exporter": "python",
   "pygments_lexer": "ipython3",
   "version": "3.10.12"
  }
 },
 "nbformat": 4,
 "nbformat_minor": 2
}
