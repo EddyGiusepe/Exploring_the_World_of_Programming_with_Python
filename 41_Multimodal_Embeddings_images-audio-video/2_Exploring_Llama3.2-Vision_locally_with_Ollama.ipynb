{
 "cells": [
  {
   "cell_type": "markdown",
   "metadata": {},
   "source": [
    "# <h1 align=\"center\"><font color=\"red\">Exploring Llama 3.2-Vision (locally) with Ollama\n",
    "</font></h1>"
   ]
  },
  {
   "cell_type": "markdown",
   "metadata": {},
   "source": [
    "<font color=\"pink\">Senior Data Scientist.: Dr. Eddy Giusepe Chirinos Isidro</font>"
   ]
  },
  {
   "cell_type": "markdown",
   "metadata": {},
   "source": [
    "Links de estudo:\n",
    "\n",
    "* [Shaw Talebi](https://towardsdatascience.com/multimodal-embeddings-an-introduction-5dc36975966f)\n",
    "\n",
    "* [GitHub: Shaw Talebi](https://github.com/ShawhinT/YouTube-Blog/tree/main)"
   ]
  },
  {
   "cell_type": "markdown",
   "metadata": {},
   "source": [
    "# <font color=\"pink\">Baixando as imagens</font>"
   ]
  },
  {
   "cell_type": "code",
   "execution_count": null,
   "metadata": {},
   "outputs": [],
   "source": [
    "# %cd /home/eddygiusepe/2_EddyGiusepe_Estudo/Exploring_the_World_of_Programming_with_Python/41_Multimodal_Embeddings_images-audio-video/data \n",
    "\n",
    "\n",
    "# !wget https://raw.githubusercontent.com/ShawhinT/YouTube-Blog/refs/heads/main/multimodal-ai/1-mm-llms/images/5-ai-projects.jpeg\n",
    "\n",
    "# !wget https://raw.githubusercontent.com/ShawhinT/YouTube-Blog/refs/heads/main/multimodal-ai/1-mm-llms/images/ai-meme.jpeg\n",
    "\n",
    "# NOTA: Para baixar as imagens, tem que usar o link raw da imagem (faz click na imagem e abre no navegador e copia o link da imagem)\n"
   ]
  },
  {
   "cell_type": "markdown",
   "metadata": {},
   "source": [
    "# <font color=\"red\">Basic Usage</font>"
   ]
  },
  {
   "cell_type": "code",
   "execution_count": 5,
   "metadata": {},
   "outputs": [],
   "source": [
    "import ollama\n",
    "\n",
    "# pull model:\n",
    "#ollama.pull('llama3.2-vision:11b')\n",
    "\n",
    "response = ollama.chat(\n",
    "    model='llama3.2-vision:11b',\n",
    "    messages=[{\n",
    "        'role': 'user',\n",
    "        'content': 'O que mostra a imagem?',\n",
    "        'images': ['data/ai-meme.jpeg']\n",
    "    }]\n",
    ")\n"
   ]
  },
  {
   "cell_type": "code",
   "execution_count": 6,
   "metadata": {},
   "outputs": [
    {
     "name": "stdout",
     "output_type": "stream",
     "text": [
      "A imagem é uma piada sobre o AI (Inteligência Artificial). Ela apresenta um personagem de desenho animado chamado Patrick Star, do programa \"SpongeBob SquarePants\", tentando construir uma estrutura com pedras. As pedras são representadas por símbolos e logotipos de várias empresas que trabalham com AI.\n",
      "\n",
      "A imagem é uma metáfora para o processo de construção de modelos de inteligência artificial, onde os desenvolvedores precisam combinar diferentes ferramentas, tecnologias e recursos para criar um modelo eficaz. A piada sugere que a tarefa pode ser complicada e desafiadora, mas também divertida e criativa.\n",
      "\n",
      "A imagem é uma forma de humor e ironia, pois usa um personagem infantil e uma situação absurda para ilustrar um conceito complexo como o AI. Ela também destaca a importância da colaboração e do trabalho em equipe no desenvolvimento de modelos de inteligência artificial.\n"
     ]
    }
   ],
   "source": [
    "print(response['message']['content'])\n"
   ]
  },
  {
   "cell_type": "markdown",
   "metadata": {},
   "source": [
    "# <font color=\"red\">Image captioning - streaming</font>"
   ]
  },
  {
   "cell_type": "code",
   "execution_count": 9,
   "metadata": {},
   "outputs": [
    {
     "name": "stdout",
     "output_type": "stream",
     "text": [
      "Esta imagem é um meme que satiriza o processo de construção com AI. O título é \"Trying to build with AI today...\". \n",
      "\n",
      "A imagem mostra um cenário sob-marino, com Patrick Star (um personagem da série de desenho animado \"Esponja Bob Esquadrão\") tentando construir uma estrutura usando pedras. No entanto, as pedras estão sendo interrompidas por AI logos e símbolos.\n",
      "\n",
      "A legenda é: \"Trying to build with AI today...\"."
     ]
    }
   ],
   "source": [
    "stream = ollama.chat(\n",
    "    model='llama3.2-vision:11b',\n",
    "    messages=[{\n",
    "        'role': 'user',\n",
    "        'content': 'Responde em pt-BR a seguinte pergunta: Você pode escrever uma legenda para esta imagem?',\n",
    "        'images': ['data/ai-meme.jpeg']\n",
    "    }],\n",
    "    stream=True,\n",
    ")\n",
    "\n",
    "for chunk in stream:\n",
    "    print(chunk['message']['content'], end='', flush=True)"
   ]
  },
  {
   "cell_type": "markdown",
   "metadata": {},
   "source": [
    "# <font color=\"red\">Explaining memes</font>"
   ]
  },
  {
   "cell_type": "code",
   "execution_count": 11,
   "metadata": {},
   "outputs": [
    {
     "name": "stdout",
     "output_type": "stream",
     "text": [
      "Este meme faz uma comparação entre o desafio de construir um projeto com AI e a busca por ferramentas de desenvolvimento adequadas. A imagem mostra Patrick Star, personagem da série de animação \"SpongeBob SquarePants\", tentando construir uma estrutura usando blocos de madeira, mas eles estão espalhados pelo chão.\n",
      "\n",
      "O meme sugere que é difícil encontrar as ferramentas certas para o seu projeto, pois muitas delas não são compatíveis ou não se encaixam bem no lugar. O uso do nome \"AI\" pode ser um erro, pois o termo geralmente se refere a inteligência artificial e não a construção de estruturas.\n",
      "\n",
      "O meme é uma forma humorística de expressar as dificuldades que os desenvolvedores enfrentam ao tentar usar ferramentas de AI para seus projetos. Ele sugere que encontrar as ferramentas certas pode ser um desafio, mas também é uma parte importante do processo de desenvolvimento."
     ]
    }
   ],
   "source": [
    "stream = ollama.chat(\n",
    "    model='llama3.2-vision:11b',\n",
    "    messages=[{\n",
    "        'role': 'user',\n",
    "        'content': 'Responde em pt-BR a seguinte pergunta: Você pode explicar este meme para mim?',\n",
    "        'images': ['data/ai-meme.jpeg']\n",
    "    }],\n",
    "    stream=True,\n",
    ")\n",
    "\n",
    "for chunk in stream:\n",
    "    print(chunk['message']['content'], end='', flush=True)"
   ]
  },
  {
   "cell_type": "markdown",
   "metadata": {},
   "source": [
    "# <font color=\"red\">OCR</font>"
   ]
  },
  {
   "cell_type": "code",
   "execution_count": 12,
   "metadata": {},
   "outputs": [
    {
     "name": "stdout",
     "output_type": "stream",
     "text": [
      "Sim, eu posso transcrevê-lo. Aqui está a transcrição:\n",
      "\n",
      "**5 AI Projects You Can Build This Weekend (with Python)**\n",
      "\n",
      "### 1) Resume Optimization (Beginner)\n",
      "\n",
      "*   Idea: build a tool that adapts your resume for a specific job description.\n",
      "\n",
      "### 2) YouTube Lecture Summarizer (Beginner)\n",
      "\n",
      "*   Idea: build a tool that takes a YouTube video link and summarizes it.\n",
      "\n",
      "### 3) Automatically Organizing PDFs (Intermediate)\n",
      "\n",
      "*   Idea: build a tool to analyze the contents of each PDF and organize them into folders based on topics.\n",
      "\n",
      "### 4) Multimodal Search (Intermediate)\n",
      "\n",
      "*   Idea: use multimodal embeddings to represent user queries, text knowledge, and images in single space.\n",
      "\n",
      "### 5) Desktop QA (Advanced)\n",
      "\n",
      "*   Idea: connect a multimodal knowledge base to a multimodal model like Llama-3.2-11B-Vision."
     ]
    }
   ],
   "source": [
    "stream = ollama.chat(\n",
    "    model='llama3.2-vision:11b',\n",
    "    messages=[{\n",
    "        'role': 'user',\n",
    "        'content': 'Responde em pt-BR a seguinte pergunta: Você pode transcrever o texto desta captura de tela em um formato markdown?',\n",
    "        'images': ['data/5-ai-projects.jpeg']\n",
    "    }],\n",
    "    stream=True,\n",
    ")\n",
    "\n",
    "for chunk in stream:\n",
    "    print(chunk['message']['content'], end='', flush=True)"
   ]
  }
 ],
 "metadata": {
  "kernelspec": {
   "display_name": "venv_All",
   "language": "python",
   "name": "python3"
  },
  "language_info": {
   "codemirror_mode": {
    "name": "ipython",
    "version": 3
   },
   "file_extension": ".py",
   "mimetype": "text/x-python",
   "name": "python",
   "nbconvert_exporter": "python",
   "pygments_lexer": "ipython3",
   "version": "3.10.12"
  }
 },
 "nbformat": 4,
 "nbformat_minor": 2
}
