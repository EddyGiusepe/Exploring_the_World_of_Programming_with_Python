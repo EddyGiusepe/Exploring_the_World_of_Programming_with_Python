{
 "cells": [
  {
   "cell_type": "markdown",
   "metadata": {},
   "source": [
    "# <h1 align=\"center\"><font color=\"red\">Exploring Llama 3.2-Vision (locally) with Ollama\n",
    "</font></h1>"
   ]
  },
  {
   "cell_type": "markdown",
   "metadata": {},
   "source": [
    "<font color=\"pink\">Senior Data Scientist.: Dr. Eddy Giusepe Chirinos Isidro</font>"
   ]
  },
  {
   "cell_type": "markdown",
   "metadata": {},
   "source": [
    "Links de estudo:\n",
    "\n",
    "* [Shaw Talebi](https://towardsdatascience.com/multimodal-embeddings-an-introduction-5dc36975966f)"
   ]
  },
  {
   "cell_type": "markdown",
   "metadata": {},
   "source": [
    "# <font color=\"pink\">Baixando as imagens</font>"
   ]
  },
  {
   "cell_type": "code",
   "execution_count": null,
   "metadata": {},
   "outputs": [],
   "source": [
    "# %cd /home/eddygiusepe/2_EddyGiusepe_Estudo/Exploring_the_World_of_Programming_with_Python/41_Multimodal_Embeddings_images-audio-video/data \n",
    "\n",
    "\n",
    "# !wget https://raw.githubusercontent.com/ShawhinT/YouTube-Blog/refs/heads/main/multimodal-ai/1-mm-llms/images/5-ai-projects.jpeg\n",
    "\n",
    "# !wget https://raw.githubusercontent.com/ShawhinT/YouTube-Blog/refs/heads/main/multimodal-ai/1-mm-llms/images/ai-meme.jpeg\n",
    "\n",
    "# NOTA: Para baixar as imagens, tem que usar o link raw da imagem (faz click na imagem e abre no navegador e copia o link da imagem)\n"
   ]
  },
  {
   "cell_type": "markdown",
   "metadata": {},
   "source": [
    "# <font color=\"red\">Basic Usage</font>"
   ]
  },
  {
   "cell_type": "code",
   "execution_count": 5,
   "metadata": {},
   "outputs": [],
   "source": [
    "import ollama\n",
    "\n",
    "# pull model:\n",
    "#ollama.pull('llama3.2-vision:11b')\n",
    "\n",
    "response = ollama.chat(\n",
    "    model='llama3.2-vision:11b',\n",
    "    messages=[{\n",
    "        'role': 'user',\n",
    "        'content': 'O que mostra a imagem?',\n",
    "        'images': ['data/ai-meme.jpeg']\n",
    "    }]\n",
    ")\n"
   ]
  },
  {
   "cell_type": "code",
   "execution_count": 6,
   "metadata": {},
   "outputs": [
    {
     "name": "stdout",
     "output_type": "stream",
     "text": [
      "A imagem é uma piada sobre o AI (Inteligência Artificial). Ela apresenta um personagem de desenho animado chamado Patrick Star, do programa \"SpongeBob SquarePants\", tentando construir uma estrutura com pedras. As pedras são representadas por símbolos e logotipos de várias empresas que trabalham com AI.\n",
      "\n",
      "A imagem é uma metáfora para o processo de construção de modelos de inteligência artificial, onde os desenvolvedores precisam combinar diferentes ferramentas, tecnologias e recursos para criar um modelo eficaz. A piada sugere que a tarefa pode ser complicada e desafiadora, mas também divertida e criativa.\n",
      "\n",
      "A imagem é uma forma de humor e ironia, pois usa um personagem infantil e uma situação absurda para ilustrar um conceito complexo como o AI. Ela também destaca a importância da colaboração e do trabalho em equipe no desenvolvimento de modelos de inteligência artificial.\n"
     ]
    }
   ],
   "source": [
    "print(response['message']['content'])\n"
   ]
  },
  {
   "cell_type": "markdown",
   "metadata": {},
   "source": [
    "# <font color=\"red\">Image captioning - streaming</font>"
   ]
  },
  {
   "cell_type": "code",
   "execution_count": null,
   "metadata": {},
   "outputs": [],
   "source": []
  },
  {
   "cell_type": "code",
   "execution_count": null,
   "metadata": {},
   "outputs": [],
   "source": []
  }
 ],
 "metadata": {
  "kernelspec": {
   "display_name": "venv_All",
   "language": "python",
   "name": "python3"
  },
  "language_info": {
   "codemirror_mode": {
    "name": "ipython",
    "version": 3
   },
   "file_extension": ".py",
   "mimetype": "text/x-python",
   "name": "python",
   "nbconvert_exporter": "python",
   "pygments_lexer": "ipython3",
   "version": "3.10.12"
  }
 },
 "nbformat": 4,
 "nbformat_minor": 2
}
