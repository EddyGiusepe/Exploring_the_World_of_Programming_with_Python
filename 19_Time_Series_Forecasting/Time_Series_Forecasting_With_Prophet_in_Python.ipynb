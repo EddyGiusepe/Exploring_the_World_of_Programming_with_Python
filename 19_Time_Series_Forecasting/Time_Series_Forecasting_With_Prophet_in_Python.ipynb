{
 "cells": [
  {
   "cell_type": "markdown",
   "metadata": {},
   "source": [
    "# <h1 align=\"center\"><font color=\"red\">Previsão de série temporal com Prophet em Python</font></h1>"
   ]
  },
  {
   "cell_type": "markdown",
   "metadata": {},
   "source": [
    "<font color=\"yellow\">Data Scientist.: Dr. Eddy Giusepe Chirinos Isidro</font>"
   ]
  },
  {
   "cell_type": "markdown",
   "metadata": {},
   "source": [
    "# <font color=\"gree\">Contextualizando</font>"
   ]
  },
  {
   "cell_type": "markdown",
   "metadata": {},
   "source": [
    "<font color=\"orange\">A previsão de série temporal pode ser desafiadora, pois há muitos métodos diferentes que você pode usar e muitos hiperparâmetros diferentes para cada método.\n",
    "\n",
    "A `biblioteca prophet` é uma biblioteca de código aberto projetada para fazer previsões (`forecasts`) para conjuntos de dados de `séries temporais univariadas`. É fácil de usar e projetado para encontrar automaticamente um bom conjunto de hiperparâmetros para o modelo, em um esforço para fazer previsões hábeis para dados com tendências e estrutura sazonal por padrão.</font>\n",
    "\n",
    "\n",
    "\n",
    "Instalação:\n",
    "```\n",
    "$ pip install prophet\n",
    "```"
   ]
  },
  {
   "cell_type": "code",
   "execution_count": 4,
   "metadata": {},
   "outputs": [
    {
     "name": "stdout",
     "output_type": "stream",
     "text": [
      "Prophet 1.1.5\n"
     ]
    }
   ],
   "source": [
    "# verifique a versão de prophet:\n",
    "import prophet\n",
    "# Versão:\n",
    "print('Prophet %s' % prophet.__version__)"
   ]
  },
  {
   "cell_type": "markdown",
   "metadata": {},
   "source": [
    "# <font color=\"gree\">Dataset</font>"
   ]
  },
  {
   "cell_type": "markdown",
   "metadata": {},
   "source": [
    "<font color=\"orange\">Usaremos o conjunto de dados mensais de vendas de carros.\n",
    "\n",
    "É um conjunto de dados de `série temporal univariado` padrão que contém uma `tendência` e uma `sazonalidade`. O conjunto de dados tem 108 meses de dados e uma previsão de persistência ingénua (naive) pode atingir um `erro médio absoluto` de cerca de `3.235` vendas, proporcionando um limite de erro mais baixo.</font>"
   ]
  },
  {
   "cell_type": "markdown",
   "metadata": {},
   "source": [
    "# <font color=\"gree\">Carregar e resumir conjunto de dados</font>"
   ]
  },
  {
   "cell_type": "markdown",
   "metadata": {},
   "source": [
    "<font color=\"orange\">Primeiro, vamos carregar e resumir o conjunto de dados.\n",
    "\n",
    "O Profeta exige que os dados estejam nos DataFrames do Pandas. Portanto, carregaremos e resumiremos os dados usando Pandas.\n",
    "\n",
    "Podemos carregar os dados diretamente do URL chamando a função read_csv() Pandas e, em seguida, resumir a forma (número de linhas e colunas) dos dados e visualizar as primeiras linhas de dados.</font>"
   ]
  },
  {
   "cell_type": "code",
   "execution_count": null,
   "metadata": {},
   "outputs": [],
   "source": []
  },
  {
   "cell_type": "code",
   "execution_count": null,
   "metadata": {},
   "outputs": [],
   "source": []
  },
  {
   "cell_type": "code",
   "execution_count": null,
   "metadata": {},
   "outputs": [],
   "source": []
  },
  {
   "cell_type": "code",
   "execution_count": null,
   "metadata": {},
   "outputs": [],
   "source": []
  },
  {
   "cell_type": "code",
   "execution_count": null,
   "metadata": {},
   "outputs": [],
   "source": []
  },
  {
   "cell_type": "code",
   "execution_count": null,
   "metadata": {},
   "outputs": [],
   "source": []
  }
 ],
 "metadata": {
  "kernelspec": {
   "display_name": "venv_All",
   "language": "python",
   "name": "python3"
  },
  "language_info": {
   "codemirror_mode": {
    "name": "ipython",
    "version": 3
   },
   "file_extension": ".py",
   "mimetype": "text/x-python",
   "name": "python",
   "nbconvert_exporter": "python",
   "pygments_lexer": "ipython3",
   "version": "3.10.12"
  }
 },
 "nbformat": 4,
 "nbformat_minor": 2
}
