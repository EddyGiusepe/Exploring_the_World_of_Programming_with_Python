{
 "cells": [
  {
   "cell_type": "markdown",
   "metadata": {},
   "source": [
    "# <h1 align=\"center\"><font color=\"red\">Saídas estruturadas e Cadeia de Pensamento (Chain of thought)</font></h1>"
   ]
  },
  {
   "cell_type": "markdown",
   "metadata": {},
   "source": [
    "<font color=\"yellow\">Senior Data Scientist.: Dr. Eddy Giusepe Chirinos Isidro</font>"
   ]
  },
  {
   "cell_type": "markdown",
   "metadata": {},
   "source": [
    "# <font color=\"gree\">Introdução</font>"
   ]
  },
  {
   "cell_type": "markdown",
   "metadata": {},
   "source": [
    "Você pode pedir ao modelo para gerar uma resposta de forma estruturada, passo a passo, para guiar o usuário pela solução."
   ]
  },
  {
   "cell_type": "code",
   "execution_count": 1,
   "metadata": {},
   "outputs": [],
   "source": [
    "import openai\n",
    "import os\n",
    "from dotenv import load_dotenv, find_dotenv\n",
    "_ = load_dotenv(find_dotenv()) # read local .env file\n",
    "#openai.api_key  = os.environ['OPENAI_API_KEY']\n",
    "Eddy_key_openai  = os.environ['OPENAI_API_KEY']\n",
    "\n",
    "\n",
    "from openai import OpenAI\n",
    "client = OpenAI(api_key=Eddy_key_openai)\n",
    "\n",
    "from pydantic import BaseModel"
   ]
  },
  {
   "cell_type": "code",
   "execution_count": 2,
   "metadata": {},
   "outputs": [
    {
     "data": {
      "text/plain": [
       "MathReasoning(steps=[Step(explanation='Queremos isolar a variável x na equação 8x + 7 = -23. O primeiro passo é mover todos os termos sem a variável x para o outro lado da equação. Começaremos subtraindo 7 de ambos os lados.', output='8x + 7 - 7 = -23 - 7'), Step(explanation='O 7 no lado esquerdo é eliminado depois da subtração, restando apenas 8x. No lado direito, -23 - 7 resulta em -30.', output='8x = -30'), Step(explanation='Agora, queremos encontrar o valor de x. Para fazer isso, dividimos ambos os lados da equação por 8.', output='(8x) / 8 = (-30) / 8'), Step(explanation='Quando dividimos 8x por 8, obtemos x. Quando dividimos -30 por 8, obtemos -3.75.', output='x = -3.75')], final_answer='x = -3.75')"
      ]
     },
     "execution_count": 2,
     "metadata": {},
     "output_type": "execute_result"
    }
   ],
   "source": [
    "class Step(BaseModel):\n",
    "    explanation: str\n",
    "    output: str\n",
    "\n",
    "\n",
    "class MathReasoning(BaseModel):\n",
    "    steps: list[Step]\n",
    "    final_answer: str\n",
    "\n",
    "\n",
    "\n",
    "completion = client.beta.chat.completions.parse(\n",
    "    model=\"gpt-4o-2024-08-06\",\n",
    "    messages=[\n",
    "        {\"role\": \"system\", \"content\": \"Você é um tutor de matemática útil. Guie o usuário pela solução passo a passo.\"},\n",
    "        {\"role\": \"user\", \"content\": \"Como posso resolver 8x + 7 = -23\"}\n",
    "    ],\n",
    "    response_format=MathReasoning,\n",
    ")\n",
    "\n",
    "\n",
    "math_reasoning = completion.choices[0].message.parsed\n",
    "math_reasoning"
   ]
  },
  {
   "cell_type": "code",
   "execution_count": 3,
   "metadata": {},
   "outputs": [
    {
     "data": {
      "text/plain": [
       "[Step(explanation='Queremos isolar a variável x na equação 8x + 7 = -23. O primeiro passo é mover todos os termos sem a variável x para o outro lado da equação. Começaremos subtraindo 7 de ambos os lados.', output='8x + 7 - 7 = -23 - 7'),\n",
       " Step(explanation='O 7 no lado esquerdo é eliminado depois da subtração, restando apenas 8x. No lado direito, -23 - 7 resulta em -30.', output='8x = -30'),\n",
       " Step(explanation='Agora, queremos encontrar o valor de x. Para fazer isso, dividimos ambos os lados da equação por 8.', output='(8x) / 8 = (-30) / 8'),\n",
       " Step(explanation='Quando dividimos 8x por 8, obtemos x. Quando dividimos -30 por 8, obtemos -3.75.', output='x = -3.75')]"
      ]
     },
     "execution_count": 3,
     "metadata": {},
     "output_type": "execute_result"
    }
   ],
   "source": [
    "math_reasoning.steps"
   ]
  },
  {
   "cell_type": "code",
   "execution_count": 5,
   "metadata": {},
   "outputs": [
    {
     "data": {
      "text/plain": [
       "'x = -3.75'"
      ]
     },
     "execution_count": 5,
     "metadata": {},
     "output_type": "execute_result"
    }
   ],
   "source": [
    "math_reasoning.final_answer"
   ]
  },
  {
   "cell_type": "code",
   "execution_count": 6,
   "metadata": {},
   "outputs": [
    {
     "data": {
      "text/plain": [
       "Step(explanation='Queremos isolar a variável x na equação 8x + 7 = -23. O primeiro passo é mover todos os termos sem a variável x para o outro lado da equação. Começaremos subtraindo 7 de ambos os lados.', output='8x + 7 - 7 = -23 - 7')"
      ]
     },
     "execution_count": 6,
     "metadata": {},
     "output_type": "execute_result"
    }
   ],
   "source": [
    "math_reasoning.steps[0]"
   ]
  },
  {
   "cell_type": "code",
   "execution_count": 7,
   "metadata": {},
   "outputs": [
    {
     "data": {
      "text/plain": [
       "'Queremos isolar a variável x na equação 8x + 7 = -23. O primeiro passo é mover todos os termos sem a variável x para o outro lado da equação. Começaremos subtraindo 7 de ambos os lados.'"
      ]
     },
     "execution_count": 7,
     "metadata": {},
     "output_type": "execute_result"
    }
   ],
   "source": [
    "math_reasoning.steps[0].explanation"
   ]
  }
 ],
 "metadata": {
  "kernelspec": {
   "display_name": "venv_All",
   "language": "python",
   "name": "python3"
  },
  "language_info": {
   "codemirror_mode": {
    "name": "ipython",
    "version": 3
   },
   "file_extension": ".py",
   "mimetype": "text/x-python",
   "name": "python",
   "nbconvert_exporter": "python",
   "pygments_lexer": "ipython3",
   "version": "3.10.12"
  }
 },
 "nbformat": 4,
 "nbformat_minor": 2
}
