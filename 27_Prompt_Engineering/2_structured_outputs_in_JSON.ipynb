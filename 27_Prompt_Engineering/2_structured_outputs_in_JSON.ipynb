{
 "cells": [
  {
   "cell_type": "markdown",
   "metadata": {},
   "source": [
    "# <h1 align=\"center\"><font color=\"red\">Saídas estruturadas em JSON</font></h1>"
   ]
  },
  {
   "cell_type": "markdown",
   "metadata": {},
   "source": [
    "<font color=\"yellow\">Senior Data Scientist.: Dr. Eddy Giusepe Chirinos Isidro</font>"
   ]
  },
  {
   "cell_type": "code",
   "execution_count": 1,
   "metadata": {},
   "outputs": [],
   "source": [
    "import openai\n",
    "import os\n",
    "from dotenv import load_dotenv, find_dotenv\n",
    "_ = load_dotenv(find_dotenv()) # read local .env file\n",
    "#openai.api_key  = os.environ['OPENAI_API_KEY']\n",
    "Eddy_key_openai  = os.environ['OPENAI_API_KEY']\n",
    "\n",
    "\n",
    "from openai import OpenAI\n",
    "client = OpenAI(api_key=Eddy_key_openai)\n",
    "\n",
    "from pydantic import BaseModel"
   ]
  },
  {
   "cell_type": "code",
   "execution_count": 2,
   "metadata": {},
   "outputs": [],
   "source": [
    "EGCI = \"\"\"\n",
    "Eddy Giusepe Chirinos Isidro Nasceu em Perú, mas atualmente mora em Brasil. \n",
    "Ele é Senior Data Scientist e atualmente trabalha na Tractian. \n",
    "\"\"\""
   ]
  },
  {
   "cell_type": "code",
   "execution_count": 7,
   "metadata": {},
   "outputs": [
    {
     "name": "stdout",
     "output_type": "stream",
     "text": [
      "{'name': 'NamedEntities', 'schema': {'type': 'object', 'properties': {'entities': {'type': 'array', 'description': 'Lista de nomes de entidades e seus tipos correspondentes', 'items': {'type': 'object', 'properties': {'name': {'type': 'string', 'description': 'O nome real conforme especificado no texto, por exemplo, o nome de uma pessoa ou o nome do país'}, 'type': {'type': 'string', 'description': \"O tipo de entidade, como 'Pessoa' ou 'Organização'\", 'enum': ['Person', 'Organization', 'Location', 'DateTime']}}, 'required': ['name', 'type'], 'additionalProperties': False}}}, 'required': ['entities'], 'additionalProperties': False}, 'strict': True}\n"
     ]
    }
   ],
   "source": [
    "json_schema = {\n",
    "    \"name\": \"NamedEntities\",\n",
    "    \"schema\": {\n",
    "                \"type\": \"object\",\n",
    "                \"properties\": {\"entities\": {\"type\": \"array\",\n",
    "                                            \"description\": \"Lista de nomes de entidades e seus tipos correspondentes\",\n",
    "                                            \"items\": {\"type\": \"object\",\n",
    "                                                      \"properties\": {\"name\": {\"type\": \"string\",\n",
    "                                                                              \"description\": \"O nome real conforme especificado no texto, por exemplo, o nome de uma pessoa ou o nome do país\"\n",
    "                                                                             },\n",
    "                                                                     \"type\": {\"type\": \"string\",\n",
    "                                                                              \"description\": \"O tipo de entidade, como 'Pessoa' ou 'Organização'\",\n",
    "                                                                              \"enum\": [\"Person\", \"Organization\", \"Location\", \"DateTime\"]\n",
    "                                                                             }\n",
    "                                                                    },\n",
    "                                                      \"required\": [\"name\", \"type\"],\n",
    "                                                      \"additionalProperties\": False\n",
    "                                                     }\n",
    "                                           }\n",
    "                              },\n",
    "                \"required\": [\"entities\"],\n",
    "                \"additionalProperties\": False\n",
    "              },\n",
    "    \"strict\": True\n",
    "}\n",
    "\n",
    "print(json_schema)"
   ]
  },
  {
   "cell_type": "code",
   "execution_count": 8,
   "metadata": {},
   "outputs": [],
   "source": [
    "completion = client.beta.chat.completions.parse(\n",
    "    model=\"gpt-4o-2024-08-06\",\n",
    "    messages=[\n",
    "        {\n",
    "            \"role\": \"system\",\n",
    "            \"content\": \"\"\"Você é um sistema Named Entity Recognition (NER). Seu trabalho é identificar e retornar\n",
    "                          todos os nomes de entidades e seus tipos para um determinado pedaço de texto. Você deve\n",
    "                          obedecer estritamente apenas aos seguintes tipos de entidade: Person, Location, Organization\n",
    "                          e DateTime. Se não tiver certeza sobre o tipo de entidade, ignore-o.\n",
    "                       \"\"\",\n",
    "        },\n",
    "        {\n",
    "            \"role\": \"user\",\n",
    "            \"content\": EGCI\n",
    "        }\n",
    "    ],\n",
    "    response_format={\n",
    "        \"type\": \"json_schema\",\n",
    "        \"json_schema\": json_schema,\n",
    "    }\n",
    ")\n"
   ]
  },
  {
   "cell_type": "code",
   "execution_count": 9,
   "metadata": {},
   "outputs": [
    {
     "name": "stdout",
     "output_type": "stream",
     "text": [
      "{\"entities\":[{\"name\":\"Eddy Giusepe Chirinos Isidro\",\"type\":\"Person\"},{\"name\":\"Perú\",\"type\":\"Location\"},{\"name\":\"Brasil\",\"type\":\"Location\"},{\"name\":\"Tractian\",\"type\":\"Organization\"}]}\n"
     ]
    }
   ],
   "source": [
    "\n",
    "print(completion.choices[0].message.content)"
   ]
  },
  {
   "cell_type": "code",
   "execution_count": 10,
   "metadata": {},
   "outputs": [
    {
     "name": "stdout",
     "output_type": "stream",
     "text": [
      "{   'entities': [   {'name': 'Eddy Giusepe Chirinos Isidro', 'type': 'Person'},\n",
      "                    {'name': 'Perú', 'type': 'Location'},\n",
      "                    {'name': 'Brasil', 'type': 'Location'},\n",
      "                    {'name': 'Tractian', 'type': 'Organization'}]}\n"
     ]
    }
   ],
   "source": [
    "import pprint\n",
    "import json\n",
    "\n",
    "\n",
    "\n",
    "pprint.pprint(json.loads(completion.choices[0].message.content), indent=4)"
   ]
  }
 ],
 "metadata": {
  "kernelspec": {
   "display_name": "venv_All",
   "language": "python",
   "name": "python3"
  },
  "language_info": {
   "codemirror_mode": {
    "name": "ipython",
    "version": 3
   },
   "file_extension": ".py",
   "mimetype": "text/x-python",
   "name": "python",
   "nbconvert_exporter": "python",
   "pygments_lexer": "ipython3",
   "version": "3.10.12"
  }
 },
 "nbformat": 4,
 "nbformat_minor": 2
}
