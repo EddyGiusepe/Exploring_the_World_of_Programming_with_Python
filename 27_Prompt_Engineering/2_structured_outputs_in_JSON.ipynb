{
 "cells": [
  {
   "cell_type": "markdown",
   "metadata": {},
   "source": [
    "# <h1 align=\"center\"><font color=\"red\">Saídas estruturadas em JSON</font></h1>"
   ]
  },
  {
   "cell_type": "markdown",
   "metadata": {},
   "source": [
    "<font color=\"yellow\">Senior Data Scientist.: Dr. Eddy Giusepe Chirinos Isidro</font>"
   ]
  },
  {
   "cell_type": "code",
   "execution_count": 1,
   "metadata": {},
   "outputs": [],
   "source": [
    "import openai\n",
    "import os\n",
    "from dotenv import load_dotenv, find_dotenv\n",
    "_ = load_dotenv(find_dotenv()) # read local .env file\n",
    "#openai.api_key  = os.environ['OPENAI_API_KEY']\n",
    "Eddy_key_openai  = os.environ['OPENAI_API_KEY']\n",
    "\n",
    "\n",
    "from openai import OpenAI\n",
    "client = OpenAI(api_key=Eddy_key_openai)\n",
    "\n",
    "from pydantic import BaseModel"
   ]
  },
  {
   "cell_type": "code",
   "execution_count": null,
   "metadata": {},
   "outputs": [],
   "source": [
    "EGCI = \"\"\"\n",
    "Eddy Giusepe Chirinos Isidro Nasceu em Perú, mas atualmente mora em Brasil. \n",
    "Ele é Senior Data Scientist e atualmente trabalha na Tractian. \n",
    "\"\"\""
   ]
  },
  {
   "cell_type": "code",
   "execution_count": 3,
   "metadata": {},
   "outputs": [
    {
     "name": "stdout",
     "output_type": "stream",
     "text": [
      "{'name': 'NamedEntities', 'schema': {'type': 'object', 'properties': {'entities': {'type': 'array', 'description': 'Lista de nomes de entidades e seus tipos correspondentes', 'items': {'type': 'object', 'properties': {'name': {'type': 'string', 'description': 'O nome real conforme especificado no texto, por exemplo, o nome de uma pessoa ou o nome do país'}, 'type': {'type': 'string', 'description': \"O tipo de entidade, como 'Pessoa' ou 'Organização'\", 'enum': ['Person', 'Organization', 'Location', 'DateTime']}}, 'required': ['name', 'type'], 'additionalProperties': False}}}, 'required': ['entities'], 'additionalProperties': False}, 'strict': True}\n"
     ]
    }
   ],
   "source": [
    "json_schema = {\n",
    "    \"name\": \"NamedEntities\",\n",
    "    \"schema\": {\n",
    "                \"type\": \"object\",\n",
    "                \"properties\": {\"entities\": {\"type\": \"array\",\n",
    "                                            \"description\": \"Lista de nomes de entidades e seus tipos correspondentes\",\n",
    "                                            \"items\": {\"type\": \"object\",\n",
    "                                            \"properties\": {\"name\": {\"type\": \"string\",\n",
    "                                                                    \"description\": \"O nome real conforme especificado no texto, por exemplo, o nome de uma pessoa ou o nome do país\"\n",
    "                                                                   },\n",
    "                                                           \"type\": {\"type\": \"string\",\n",
    "                                                                    \"description\": \"O tipo de entidade, como 'Pessoa' ou 'Organização'\",\n",
    "                                                           \"enum\": [\"Person\", \"Organization\", \"Location\", \"DateTime\"]\n",
    "                                                                   }\n",
    "                                                          },\n",
    "                                  \"required\": [\"name\", \"type\"],\n",
    "                                  \"additionalProperties\": False\n",
    "                                 }\n",
    "                                           }\n",
    "                              },\n",
    "                \"required\": [\"entities\"],\n",
    "                \"additionalProperties\": False\n",
    "              },\n",
    "    \"strict\": True\n",
    "}\n",
    "\n",
    "print(json_schema)"
   ]
  },
  {
   "cell_type": "code",
   "execution_count": 7,
   "metadata": {},
   "outputs": [
    {
     "ename": "AttributeError",
     "evalue": "'Beta' object has no attribute 'chat'",
     "output_type": "error",
     "traceback": [
      "\u001b[0;31m---------------------------------------------------------------------------\u001b[0m",
      "\u001b[0;31mAttributeError\u001b[0m                            Traceback (most recent call last)",
      "Cell \u001b[0;32mIn[7], line 1\u001b[0m\n\u001b[0;32m----> 1\u001b[0m completion \u001b[38;5;241m=\u001b[39m \u001b[43mclient\u001b[49m\u001b[38;5;241;43m.\u001b[39;49m\u001b[43mbeta\u001b[49m\u001b[38;5;241;43m.\u001b[39;49m\u001b[43mchat\u001b[49m\u001b[38;5;241m.\u001b[39mcompletions\u001b[38;5;241m.\u001b[39mparse(\n\u001b[1;32m      2\u001b[0m     model\u001b[38;5;241m=\u001b[39m\u001b[38;5;124m\"\u001b[39m\u001b[38;5;124mgpt-4o-2024-08-06\u001b[39m\u001b[38;5;124m\"\u001b[39m,\n\u001b[1;32m      3\u001b[0m     messages\u001b[38;5;241m=\u001b[39m[\n\u001b[1;32m      4\u001b[0m         {\n\u001b[1;32m      5\u001b[0m             \u001b[38;5;124m\"\u001b[39m\u001b[38;5;124mrole\u001b[39m\u001b[38;5;124m\"\u001b[39m: \u001b[38;5;124m\"\u001b[39m\u001b[38;5;124msystem\u001b[39m\u001b[38;5;124m\"\u001b[39m,\n\u001b[1;32m      6\u001b[0m             \u001b[38;5;124m\"\u001b[39m\u001b[38;5;124mcontent\u001b[39m\u001b[38;5;124m\"\u001b[39m: \u001b[38;5;124m\"\"\"\u001b[39m\u001b[38;5;124mVocê é um sistema Named Entity Recognition (NER). Seu trabalho é identificar e retornar\u001b[39m\n\u001b[1;32m      7\u001b[0m \u001b[38;5;124m                          todos os nomes de entidades e seus tipos para um determinado pedaço de texto. Você deve\u001b[39m\n\u001b[1;32m      8\u001b[0m \u001b[38;5;124m                          obedecer estritamente apenas aos seguintes tipos de entidade: Person, Location, Organization\u001b[39m\n\u001b[1;32m      9\u001b[0m \u001b[38;5;124m                          e DateTime. Se não tiver certeza sobre o tipo de entidade, ignore-o.\u001b[39m\n\u001b[1;32m     10\u001b[0m \u001b[38;5;124m                       \u001b[39m\u001b[38;5;124m\"\"\"\u001b[39m,\n\u001b[1;32m     11\u001b[0m         },\n\u001b[1;32m     12\u001b[0m         {\n\u001b[1;32m     13\u001b[0m             \u001b[38;5;124m\"\u001b[39m\u001b[38;5;124mrole\u001b[39m\u001b[38;5;124m\"\u001b[39m: \u001b[38;5;124m\"\u001b[39m\u001b[38;5;124muser\u001b[39m\u001b[38;5;124m\"\u001b[39m,\n\u001b[1;32m     14\u001b[0m             \u001b[38;5;124m\"\u001b[39m\u001b[38;5;124mcontent\u001b[39m\u001b[38;5;124m\"\u001b[39m: EGCI\n\u001b[1;32m     15\u001b[0m         }\n\u001b[1;32m     16\u001b[0m     ],\n\u001b[1;32m     17\u001b[0m     response_format\u001b[38;5;241m=\u001b[39m{\n\u001b[1;32m     18\u001b[0m         \u001b[38;5;124m\"\u001b[39m\u001b[38;5;124mtype\u001b[39m\u001b[38;5;124m\"\u001b[39m: \u001b[38;5;124m\"\u001b[39m\u001b[38;5;124mjson_schema\u001b[39m\u001b[38;5;124m\"\u001b[39m,\n\u001b[1;32m     19\u001b[0m         \u001b[38;5;124m\"\u001b[39m\u001b[38;5;124mjson_schema\u001b[39m\u001b[38;5;124m\"\u001b[39m: json_schema,\n\u001b[1;32m     20\u001b[0m     }\n\u001b[1;32m     21\u001b[0m )\n",
      "\u001b[0;31mAttributeError\u001b[0m: 'Beta' object has no attribute 'chat'"
     ]
    }
   ],
   "source": [
    "completion = client.beta.chat.completions.parse(\n",
    "    model=\"gpt-4o-2024-08-06\",\n",
    "    messages=[\n",
    "        {\n",
    "            \"role\": \"system\",\n",
    "            \"content\": \"\"\"Você é um sistema Named Entity Recognition (NER). Seu trabalho é identificar e retornar\n",
    "                          todos os nomes de entidades e seus tipos para um determinado pedaço de texto. Você deve\n",
    "                          obedecer estritamente apenas aos seguintes tipos de entidade: Person, Location, Organization\n",
    "                          e DateTime. Se não tiver certeza sobre o tipo de entidade, ignore-o.\n",
    "                       \"\"\",\n",
    "        },\n",
    "        {\n",
    "            \"role\": \"user\",\n",
    "            \"content\": EGCI\n",
    "        }\n",
    "    ],\n",
    "    response_format={\n",
    "        \"type\": \"json_schema\",\n",
    "        \"json_schema\": json_schema,\n",
    "    }\n",
    ")\n"
   ]
  },
  {
   "cell_type": "code",
   "execution_count": null,
   "metadata": {},
   "outputs": [],
   "source": [
    "\n",
    "print(completion.choices[0].message.content)"
   ]
  },
  {
   "cell_type": "code",
   "execution_count": null,
   "metadata": {},
   "outputs": [],
   "source": [
    "import pprint\n",
    "import json\n",
    "\n",
    "\n",
    "\n",
    "pprint.pprint(json.loads(completion.choices[0].message.content), indent=4)"
   ]
  }
 ],
 "metadata": {
  "kernelspec": {
   "display_name": "venv_All",
   "language": "python",
   "name": "python3"
  },
  "language_info": {
   "codemirror_mode": {
    "name": "ipython",
    "version": 3
   },
   "file_extension": ".py",
   "mimetype": "text/x-python",
   "name": "python",
   "nbconvert_exporter": "python",
   "pygments_lexer": "ipython3",
   "version": "3.10.12"
  }
 },
 "nbformat": 4,
 "nbformat_minor": 2
}
