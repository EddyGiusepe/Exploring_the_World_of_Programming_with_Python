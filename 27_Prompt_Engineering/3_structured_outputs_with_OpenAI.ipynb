{
 "cells": [
  {
   "cell_type": "markdown",
   "metadata": {},
   "source": [
    "# <h1 align=\"center\"><font color=\"red\">Saídas estruturadas</font></h1>"
   ]
  },
  {
   "cell_type": "markdown",
   "metadata": {},
   "source": [
    "<font color=\"yellow\">Senior Data Scientist.: Dr. Eddy Giusepe Chirinos Isidro</font>"
   ]
  },
  {
   "cell_type": "markdown",
   "metadata": {},
   "source": [
    "# <font color=\"gree\">Introdução</font>"
   ]
  },
  {
   "cell_type": "markdown",
   "metadata": {},
   "source": [
    "`JSON` é um dos formatos mais utilizados no mundo para aplicativos de troca de dados.\n",
    "\n",
    "`Saídas Estruturadas` (Structured Outputs) é um recurso que garante que o modelo sempre gerará respostas que estejam de acordo com o [Esquema JSON](https://json-schema.org/overview/what-is-jsonschema) fornecido, para que você não precise se preocupar com o modelo omitindo uma chave necessária ou alucinando um valor de enumeração inválido.\n",
    "\n",
    "Alguns benefícios das saídas estruturadas incluem:\n",
    "\n",
    "* `Segurança de tipo confiável:` não há necessidade de validar ou tentar novamente respostas formatadas incorretamente\n",
    "\n",
    "* `Recusas explícitas:` as recusas de modelos baseados em segurança agora são detectáveis ​​programaticamente\n",
    "\n",
    "* `Prompts mais simples:` não há necessidade de prompts fortemente formulados para obter formatação consistente\n",
    "\n",
    "Além de oferecer suporte ao `JSON` Schema na REST API, os OpenAI SDKs para `Python` e `JavaScript` também facilitam a definição de esquemas de objetos usando [Pydantic](https://docs.pydantic.dev/latest/) e [Zod](https://zod.dev/), respectivamente. Abaixo, você pode ver como extrair informações de texto não estruturado que esteja em conformidade com um esquema definido no código."
   ]
  },
  {
   "cell_type": "code",
   "execution_count": 1,
   "metadata": {},
   "outputs": [],
   "source": [
    "import openai\n",
    "import os\n",
    "from dotenv import load_dotenv, find_dotenv\n",
    "_ = load_dotenv(find_dotenv()) # read local .env file\n",
    "#openai.api_key  = os.environ['OPENAI_API_KEY']\n",
    "Eddy_key_openai  = os.environ['OPENAI_API_KEY']\n",
    "\n",
    "\n",
    "from openai import OpenAI\n",
    "client = OpenAI(api_key=Eddy_key_openai)\n",
    "\n",
    "from pydantic import BaseModel"
   ]
  },
  {
   "cell_type": "code",
   "execution_count": 2,
   "metadata": {},
   "outputs": [
    {
     "data": {
      "text/plain": [
       "CalendarEvent(name='Viagem a São Paulo', date='2023-09', participants=['Eddy', 'Karina'])"
      ]
     },
     "execution_count": 2,
     "metadata": {},
     "output_type": "execute_result"
    }
   ],
   "source": [
    "class CalendarEvent(BaseModel):\n",
    "    name: str\n",
    "    date: str\n",
    "    participants: list[str]\n",
    "\n",
    "\n",
    "\n",
    "\n",
    "completion = client.beta.chat.completions.parse(\n",
    "    model=\"gpt-4o-2024-08-06\",\n",
    "    messages=[\n",
    "        {\"role\": \"system\", \"content\": \"Extraia as informações do seguinte texto.\"},\n",
    "        {\"role\": \"user\", \"content\": \"Eddy e Karina são casados e estão indo para São Paulo no mês de setembro.\"},\n",
    "    ],\n",
    "    response_format=CalendarEvent,\n",
    ")\n",
    "\n",
    "\n",
    "event = completion.choices[0].message.parsed\n",
    "event\n"
   ]
  },
  {
   "cell_type": "code",
   "execution_count": 3,
   "metadata": {},
   "outputs": [
    {
     "data": {
      "text/plain": [
       "['Eddy', 'Karina']"
      ]
     },
     "execution_count": 3,
     "metadata": {},
     "output_type": "execute_result"
    }
   ],
   "source": [
    "event.participants"
   ]
  }
 ],
 "metadata": {
  "kernelspec": {
   "display_name": "venv_All",
   "language": "python",
   "name": "python3"
  },
  "language_info": {
   "codemirror_mode": {
    "name": "ipython",
    "version": 3
   },
   "file_extension": ".py",
   "mimetype": "text/x-python",
   "name": "python",
   "nbconvert_exporter": "python",
   "pygments_lexer": "ipython3",
   "version": "3.10.12"
  }
 },
 "nbformat": 4,
 "nbformat_minor": 2
}
