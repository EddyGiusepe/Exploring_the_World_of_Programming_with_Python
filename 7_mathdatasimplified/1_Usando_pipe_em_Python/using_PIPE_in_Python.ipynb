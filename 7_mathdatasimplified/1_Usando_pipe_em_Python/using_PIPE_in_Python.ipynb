{
 "cells": [
  {
   "cell_type": "markdown",
   "metadata": {},
   "source": [
    "<h1 align=\"center\"><font color=\"pink\">Pipe em Python</font></h1>"
   ]
  },
  {
   "cell_type": "markdown",
   "metadata": {},
   "source": [
    "<font color=\"yellow\">Data Scientist.: Dr. Eddy Giusepe Chirinos Isidro</font>"
   ]
  },
  {
   "cell_type": "markdown",
   "metadata": {},
   "source": [
    "<font color=\"orange\">`Pipe` é uma biblioteca `Python` que permite usar pipes em Python. Um pipe ( `|` ) passa os resultados de um método para outro método.\n",
    "\n",
    "Gosto do `Pipe` porque faz meu código parecer mais limpo ao aplicar vários métodos a um iterável Python. Como o `Pipe` fornece apenas alguns métodos, também é muito fácil aprender o Pipe. Neste Notebook, mostrarei alguns métodos que considero mais úteis.</font>\n",
    "\n",
    "```\n",
    "!pip install pipe \n",
    "```"
   ]
  },
  {
   "cell_type": "markdown",
   "metadata": {},
   "source": [
    "Link de estudo:\n",
    "\n",
    "* [Data-Science](https://github.com/khuyentran1401/Data-science/tree/master)"
   ]
  },
  {
   "cell_type": "markdown",
   "metadata": {},
   "source": [
    "# <font color=\"red\">Filtrar elementos em um iterável</font>"
   ]
  },
  {
   "cell_type": "code",
   "execution_count": 1,
   "metadata": {},
   "outputs": [
    {
     "data": {
      "text/plain": [
       "[2, 4]"
      ]
     },
     "execution_count": 1,
     "metadata": {},
     "output_type": "execute_result"
    }
   ],
   "source": [
    "from pipe import where\n",
    "\n",
    "\n",
    "arr = [1, 2, 3, 4, 5]\n",
    "\n",
    "# Filtrar usando compreensão de lista:\n",
    "[x for x in arr if x % 2 == 0]"
   ]
  },
  {
   "cell_type": "code",
   "execution_count": 2,
   "metadata": {},
   "outputs": [
    {
     "data": {
      "text/plain": [
       "[2, 4]"
      ]
     },
     "execution_count": 2,
     "metadata": {},
     "output_type": "execute_result"
    }
   ],
   "source": [
    "# Filtra usando pipe:\n",
    "\n",
    "pipe_list = list(arr | where(lambda x: x % 2 == 0))\n",
    "\n",
    "pipe_list"
   ]
  },
  {
   "cell_type": "markdown",
   "metadata": {},
   "source": [
    "# <font color=\"red\">Aplicar uma função a um iterável</font>"
   ]
  },
  {
   "cell_type": "code",
   "execution_count": 1,
   "metadata": {},
   "outputs": [
    {
     "data": {
      "text/plain": [
       "[2, 4, 6, 8, 10]"
      ]
     },
     "execution_count": 1,
     "metadata": {},
     "output_type": "execute_result"
    }
   ],
   "source": [
    "from pipe import select\n",
    "\n",
    "arr = [1, 2, 3, 4, 5]\n",
    "\n",
    "list(arr | select(lambda x: x * 2))"
   ]
  },
  {
   "cell_type": "code",
   "execution_count": 2,
   "metadata": {},
   "outputs": [
    {
     "data": {
      "text/plain": [
       "[4, 8]"
      ]
     },
     "execution_count": 2,
     "metadata": {},
     "output_type": "execute_result"
    }
   ],
   "source": [
    "# Em vez disso:\n",
    "\n",
    "list(map(lambda x: x * 2, filter(lambda x: x % 2 == 0, arr)))"
   ]
  },
  {
   "cell_type": "code",
   "execution_count": 4,
   "metadata": {},
   "outputs": [
    {
     "data": {
      "text/plain": [
       "[4, 8]"
      ]
     },
     "execution_count": 4,
     "metadata": {},
     "output_type": "execute_result"
    }
   ],
   "source": [
    "# Use pipe:\n",
    "from pipe import where\n",
    "\n",
    "list(arr | where(lambda x: x % 2 == 0) | select(lambda x: x * 2))"
   ]
  },
  {
   "cell_type": "code",
   "execution_count": 5,
   "metadata": {},
   "outputs": [
    {
     "data": {
      "text/plain": [
       "[2, 4, 6, 8, 10]"
      ]
     },
     "execution_count": 5,
     "metadata": {},
     "output_type": "execute_result"
    }
   ],
   "source": [
    "# A ordem importa:\n",
    "\n",
    "list(arr | select(lambda x: x * 2) | where(lambda x: x % 2 == 0))"
   ]
  },
  {
   "cell_type": "markdown",
   "metadata": {},
   "source": [
    "# <font color=\"red\">Desdobrar Iteráveis</font>"
   ]
  },
  {
   "cell_type": "markdown",
   "metadata": {},
   "source": [
    "<font color=\"orange\">Chain</font>"
   ]
  },
  {
   "cell_type": "code",
   "execution_count": 6,
   "metadata": {},
   "outputs": [
    {
     "data": {
      "text/plain": [
       "[1, 2, [3], 4, 5]"
      ]
     },
     "execution_count": 6,
     "metadata": {},
     "output_type": "execute_result"
    }
   ],
   "source": [
    "from pipe import chain\n",
    "\n",
    "nested = [[1, 2, [3]], [4, 5]]\n",
    "\n",
    "list(nested | chain)"
   ]
  },
  {
   "cell_type": "markdown",
   "metadata": {},
   "source": [
    "<font color=\"orange\">Traverse</font>"
   ]
  },
  {
   "cell_type": "code",
   "execution_count": 7,
   "metadata": {},
   "outputs": [
    {
     "data": {
      "text/plain": [
       "[1, 2, 3, 4, 5]"
      ]
     },
     "execution_count": 7,
     "metadata": {},
     "output_type": "execute_result"
    }
   ],
   "source": [
    "from pipe import traverse\n",
    "\n",
    "list(nested | traverse)"
   ]
  },
  {
   "cell_type": "code",
   "execution_count": 8,
   "metadata": {},
   "outputs": [
    {
     "data": {
      "text/plain": [
       "[2, 5, 4, 5]"
      ]
     },
     "execution_count": 8,
     "metadata": {},
     "output_type": "execute_result"
    }
   ],
   "source": [
    "fruits = [\n",
    "    {\"name\": \"apple\", \"price\": [2, 5]},\n",
    "    {\"name\": \"orange\", \"price\": 4},\n",
    "    {\"name\": \"grape\", \"price\": 5},\n",
    "]\n",
    "\n",
    "\n",
    "list(fruits | select(lambda fruit: fruit[\"price\"]) | traverse)"
   ]
  },
  {
   "cell_type": "markdown",
   "metadata": {},
   "source": [
    "# <font color=\"red\">Elementos de grupo</font>"
   ]
  },
  {
   "cell_type": "code",
   "execution_count": 9,
   "metadata": {},
   "outputs": [
    {
     "data": {
      "text/plain": [
       "[{'Even': [2, 4, 6, 8]}, {'Odd': [1, 3, 5, 7, 9]}]"
      ]
     },
     "execution_count": 9,
     "metadata": {},
     "output_type": "execute_result"
    }
   ],
   "source": [
    "from pipe import groupby\n",
    "\n",
    "list(\n",
    "    (1, 2, 3, 4, 5, 6, 7, 8, 9)\n",
    "    | groupby(lambda x: \"Even\" if x % 2 == 0 else \"Odd\")\n",
    "    | select(lambda x: {x[0]: list(x[1])})\n",
    ")"
   ]
  },
  {
   "cell_type": "code",
   "execution_count": 10,
   "metadata": {},
   "outputs": [
    {
     "data": {
      "text/plain": [
       "[{'Even': [4, 6, 8]}, {'Odd': [3, 5, 7, 9]}]"
      ]
     },
     "execution_count": 10,
     "metadata": {},
     "output_type": "execute_result"
    }
   ],
   "source": [
    "list(\n",
    "    (1, 2, 3, 4, 5, 6, 7, 8, 9)\n",
    "    | groupby(lambda x: \"Even\" if x % 2==0 else \"Odd\")\n",
    "    | select(lambda x: {x[0]: list(x[1] | where(lambda x: x > 2))})\n",
    ")"
   ]
  },
  {
   "cell_type": "markdown",
   "metadata": {},
   "source": [
    "# <font color=\"red\">Desduplicar</font>"
   ]
  },
  {
   "cell_type": "code",
   "execution_count": 11,
   "metadata": {},
   "outputs": [],
   "source": [
    "from pipe import dedup\n",
    "\n",
    "arr = [1, 2, 2, 3, 4, 5, 6, 6, 7, 9, 3, 3, 1]"
   ]
  },
  {
   "cell_type": "code",
   "execution_count": 12,
   "metadata": {},
   "outputs": [
    {
     "data": {
      "text/plain": [
       "[1, 5]"
      ]
     },
     "execution_count": 12,
     "metadata": {},
     "output_type": "execute_result"
    }
   ],
   "source": [
    "# Obtenha um elemento menor que 5 e um elemento maior ou igual a 5:\n",
    " \n",
    "list(arr | dedup(lambda key: key < 5))"
   ]
  },
  {
   "cell_type": "code",
   "execution_count": 13,
   "metadata": {},
   "outputs": [],
   "source": [
    "data = [\n",
    "    {\"name\": \"apple\", \"count\": 2},\n",
    "    {\"name\": \"orange\", \"count\": 4},\n",
    "    {\"name\": \"grape\", \"count\": None},\n",
    "    {\"name\": \"orange\", \"count\": 7},\n",
    "]"
   ]
  },
  {
   "cell_type": "code",
   "execution_count": 14,
   "metadata": {},
   "outputs": [
    {
     "data": {
      "text/plain": [
       "[2, 4]"
      ]
     },
     "execution_count": 14,
     "metadata": {},
     "output_type": "execute_result"
    }
   ],
   "source": [
    "list(\n",
    "    data\n",
    "    | dedup(key=lambda fruit: fruit[\"name\"])\n",
    "    | select(lambda fruit: fruit[\"count\"])\n",
    "    | where(lambda count: isinstance(count, int))\n",
    ")"
   ]
  },
  {
   "cell_type": "code",
   "execution_count": null,
   "metadata": {},
   "outputs": [],
   "source": []
  }
 ],
 "metadata": {
  "kernelspec": {
   "display_name": "venv_All",
   "language": "python",
   "name": "python3"
  },
  "language_info": {
   "codemirror_mode": {
    "name": "ipython",
    "version": 3
   },
   "file_extension": ".py",
   "mimetype": "text/x-python",
   "name": "python",
   "nbconvert_exporter": "python",
   "pygments_lexer": "ipython3",
   "version": "3.10.12"
  }
 },
 "nbformat": 4,
 "nbformat_minor": 2
}
