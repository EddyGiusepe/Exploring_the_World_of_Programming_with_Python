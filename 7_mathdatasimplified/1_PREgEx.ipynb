{
 "cells": [
  {
   "cell_type": "markdown",
   "metadata": {},
   "source": [
    "<h1 align=\"center\"><font color=\"pink\">PREgEx</font></h1>"
   ]
  },
  {
   "cell_type": "markdown",
   "metadata": {},
   "source": [
    "<font color=\"yellow\">Data Scientist.: Dr. Eddy Giusepe Chirinos Isidro</font>"
   ]
  },
  {
   "cell_type": "markdown",
   "metadata": {},
   "source": [
    "Links de estudo:\n",
    "\n",
    "* [pip install pregex](https://pypi.org/project/pregex/)\n",
    "\n",
    "* [mathdatasimplified](https://mathdatasimplified.com/)"
   ]
  },
  {
   "cell_type": "markdown",
   "metadata": {},
   "source": [
    "<font color=\"orange\">`PRegEx` é um pacote Python que permite construir padrões RegEx de uma forma mais amigável. Para instalar o `PREgEx`, digite:</font>\n",
    "\n",
    "```\n",
    "pip install pregex\n",
    "```"
   ]
  },
  {
   "cell_type": "markdown",
   "metadata": {},
   "source": [
    "# <font color=\"red\">Capturar URLs</font>"
   ]
  },
  {
   "cell_type": "code",
   "execution_count": 2,
   "metadata": {},
   "outputs": [],
   "source": [
    "from pregex.core.classes import AnyButWhitespace # Para corresponder a qualquer caractere, exceto caracteres de espaço em branco\n",
    "from pregex.core.quantifiers import OneOrMore # Para corresponder ao padrão fornecido uma ou mais vezes\n",
    "from pregex.core.operators import Either # Para corresponder a qualquer um dos padrões fornecidos\n",
    "\n",
    "text = \"Você pode me encontrar através GitHub https://github.com/khuyentran1401\"\n",
    "\n",
    "pre = (\n",
    "    \"https://\"\n",
    "    + OneOrMore(AnyButWhitespace()) # Corresponde a um ou mais caracteres que não são caracteres de espaço em branco\n",
    "    + Either(\".com\", \".org\")\n",
    "    + OneOrMore(AnyButWhitespace())\n",
    ")\n"
   ]
  },
  {
   "cell_type": "code",
   "execution_count": 5,
   "metadata": {},
   "outputs": [
    {
     "data": {
      "text/plain": [
       "['https://github.com/khuyentran1401']"
      ]
     },
     "execution_count": 5,
     "metadata": {},
     "output_type": "execute_result"
    }
   ],
   "source": [
    "pre.get_matches(text)"
   ]
  },
  {
   "cell_type": "markdown",
   "metadata": {},
   "source": [
    "# <font color=\"red\">HTTP ou HTTPS</font>"
   ]
  },
  {
   "cell_type": "code",
   "execution_count": 8,
   "metadata": {},
   "outputs": [
    {
     "data": {
      "text/plain": [
       "['https://github.com/khuyentran1401']"
      ]
     },
     "execution_count": 8,
     "metadata": {},
     "output_type": "execute_result"
    }
   ],
   "source": [
    "\n",
    "from pregex.core.quantifiers import Optional\n",
    "\n",
    "text = \"Você pode me encontrar através GitHub https://github.com/khuyentran1401\"\n",
    "\n",
    "pre = (\n",
    "    \"http\"\n",
    "    + Optional(\"s\")\n",
    "    + \"://\"\n",
    "    + OneOrMore(AnyButWhitespace())\n",
    "    + Either(\".com\", \".org\")\n",
    "    + OneOrMore(AnyButWhitespace())\n",
    ")\n",
    "pre.get_matches(text)"
   ]
  },
  {
   "cell_type": "markdown",
   "metadata": {},
   "source": [
    "# <font color=\"red\">Corresponder URL sem esquema</font>"
   ]
  },
  {
   "cell_type": "code",
   "execution_count": 9,
   "metadata": {},
   "outputs": [
    {
     "data": {
      "text/plain": [
       "['mathdatasimplified.com/', 'https://github.com/khuyentran1401']"
      ]
     },
     "execution_count": 9,
     "metadata": {},
     "output_type": "execute_result"
    }
   ],
   "source": [
    "text = \"Você pode me encontrar através do meu site mathdatasimplified.com/ or GitHub https://github.com/khuyentran1401\"\n",
    "\n",
    "at_least_one_character_except_white_space = OneOrMore(AnyButWhitespace())\n",
    "optional_scheme = Optional(\"http\" + Optional(\"s\") + \"://\")\n",
    "domain_choice = Either(\".com\", \".org\")\n",
    "\n",
    "pre = (\n",
    "    optional_scheme\n",
    "    + at_least_one_character_except_white_space\n",
    "    + domain_choice\n",
    "    + at_least_one_character_except_white_space\n",
    ")\n",
    "\n",
    "pre.get_matches(text)"
   ]
  },
  {
   "cell_type": "markdown",
   "metadata": {},
   "source": [
    "# <font color=\"red\">Capturar um endereço de e-mail</font>"
   ]
  },
  {
   "cell_type": "code",
   "execution_count": 11,
   "metadata": {},
   "outputs": [
    {
     "data": {
      "text/plain": [
       "['abcd@gmail.com', 'eddy_peru@hotmail.io']"
      ]
     },
     "execution_count": 11,
     "metadata": {},
     "output_type": "execute_result"
    }
   ],
   "source": [
    "text = \"Meu e-amil é abcd@gmail.com e o outro é eddy_peru@hotmail.io\"\n",
    "\n",
    "pre = (\n",
    "    OneOrMore(AnyButWhitespace())\n",
    "    + \"@\"\n",
    "    + OneOrMore(AnyButWhitespace())\n",
    "    + Either(\".com\", \".org\", \".io\", \".net\")\n",
    ")\n",
    "\n",
    "pre.get_matches(text)"
   ]
  },
  {
   "cell_type": "markdown",
   "metadata": {},
   "source": [
    "# <font color=\"gree\">Exemplo completo</font>"
   ]
  },
  {
   "cell_type": "code",
   "execution_count": 12,
   "metadata": {},
   "outputs": [],
   "source": [
    "from pregex.core.classes import AnyLetter, AnyDigit, AnyFrom\n",
    "from pregex.core.quantifiers import Optional, AtLeastAtMost\n",
    "from pregex.core.operators import Either\n",
    "from pregex.core.groups import Capture\n",
    "from pregex.core.pre import Pregex\n",
    "\n",
    "# Defina subpadrões principais:\n",
    "http_protocol = Optional('http' + Optional('s') + '://')\n",
    "\n",
    "www = Optional('www.')\n",
    "\n",
    "alphanum = AnyLetter() | AnyDigit()\n",
    "\n",
    "domain_name = \\\n",
    "    alphanum + \\\n",
    "    AtLeastAtMost(alphanum | AnyFrom('-', '.'), n=1, m=61) + \\\n",
    "    alphanum\n",
    "\n",
    "tld = '.' + Either('com', 'org')\n",
    "\n",
    "ip_octet = AnyDigit().at_least_at_most(n=1, m=3)\n",
    "\n",
    "port_number = (AnyDigit() - '0') + 3 * AnyDigit()\n",
    "\n",
    "\n",
    "# Combine subpadrões:\n",
    "pre: Pregex = \\\n",
    "    http_protocol + \\\n",
    "    Either(\n",
    "        www + Capture(domain_name) + tld,\n",
    "        3 * (ip_octet + '.') + ip_octet + ':' + port_number\n",
    "    )\n"
   ]
  },
  {
   "cell_type": "markdown",
   "metadata": {},
   "source": [
    "<font color=\"orange\">Podemos então buscar facilmente o padrão RegEx subjacente da instância Pregex resultante.</font>"
   ]
  },
  {
   "cell_type": "code",
   "execution_count": 16,
   "metadata": {},
   "outputs": [],
   "source": [
    "YELLOW = \"\\033[0;33m\"\n",
    "GREEN = \"\\033[0;32m\"\n",
    "WHITE = \"\\033[0;37m\"\n",
    "RED = \"\\033[0;31m\"\n",
    "RESET= \"\\033[m\""
   ]
  },
  {
   "cell_type": "code",
   "execution_count": 17,
   "metadata": {},
   "outputs": [
    {
     "name": "stdout",
     "output_type": "stream",
     "text": [
      "\u001b[0;33m(?:https?:\\/\\/)?(?:(?:www\\.)?([\\da-zA-Z][a-z\\-\\dA-Z.]{1,61}[\\da-zA-Z])\\.(?:com|org)|(?:\\d{1,3}\\.){3}\\d{1,3}:[1-9]\\d{3})\u001b[m\n"
     ]
    }
   ],
   "source": [
    "regex = pre.get_pattern()\n",
    "\n",
    "print(f\"{YELLOW}{regex}{RESET}\") # Este é o padrão que acabamos de construir. Caramba!"
   ]
  },
  {
   "cell_type": "markdown",
   "metadata": {},
   "source": [
    "<font color=\"orange\">Além de ter acesso ao seu padrão subjacente, podemos usar uma instância Pregex para encontrar correspondências dentro de um trecho de texto. Vejamos o seguinte exemplo:</font>"
   ]
  },
  {
   "cell_type": "code",
   "execution_count": 18,
   "metadata": {},
   "outputs": [],
   "source": [
    "text = \"text--192.168.1.1:8000--text--http://www.wikipedia.org--text--https://youtube.com--text\""
   ]
  },
  {
   "cell_type": "code",
   "execution_count": 19,
   "metadata": {},
   "outputs": [
    {
     "data": {
      "text/plain": [
       "['192.168.1.1:8000', 'http://www.wikipedia.org', 'https://youtube.com']"
      ]
     },
     "execution_count": 19,
     "metadata": {},
     "output_type": "execute_result"
    }
   ],
   "source": [
    "matches = pre.get_matches(text)\n",
    "\n",
    "matches"
   ]
  },
  {
   "cell_type": "markdown",
   "metadata": {},
   "source": [
    "<font color=\"orange\">Da mesma forma, podemos invocar o método `“get_captures”` da instância para obter quaisquer grupos capturados.</font>"
   ]
  },
  {
   "cell_type": "code",
   "execution_count": 21,
   "metadata": {},
   "outputs": [
    {
     "data": {
      "text/plain": [
       "[(None,), ('wikipedia',), ('youtube',)]"
      ]
     },
     "execution_count": 21,
     "metadata": {},
     "output_type": "execute_result"
    }
   ],
   "source": [
    "groups = pre.get_captures(text)\n",
    "\n",
    "groups"
   ]
  },
  {
   "cell_type": "code",
   "execution_count": null,
   "metadata": {},
   "outputs": [],
   "source": []
  }
 ],
 "metadata": {
  "kernelspec": {
   "display_name": "venv_All",
   "language": "python",
   "name": "python3"
  },
  "language_info": {
   "codemirror_mode": {
    "name": "ipython",
    "version": 3
   },
   "file_extension": ".py",
   "mimetype": "text/x-python",
   "name": "python",
   "nbconvert_exporter": "python",
   "pygments_lexer": "ipython3",
   "version": "3.10.12"
  }
 },
 "nbformat": 4,
 "nbformat_minor": 2
}
