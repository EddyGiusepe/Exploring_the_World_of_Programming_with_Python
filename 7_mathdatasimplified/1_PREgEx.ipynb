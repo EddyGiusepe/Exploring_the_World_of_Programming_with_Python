{
 "cells": [
  {
   "cell_type": "markdown",
   "metadata": {},
   "source": [
    "<h1 align=\"center\"><font color=\"pink\">PREgEx</font></h1>"
   ]
  },
  {
   "cell_type": "markdown",
   "metadata": {},
   "source": [
    "<font color=\"yellow\">Data Scientist.: Dr. Eddy Giusepe Chirinos Isidro</font>"
   ]
  },
  {
   "cell_type": "markdown",
   "metadata": {},
   "source": [
    "Links de estudo:\n",
    "\n",
    "* [pip install pregex](https://pypi.org/project/pregex/)"
   ]
  },
  {
   "cell_type": "markdown",
   "metadata": {},
   "source": [
    "<font color=\"orange\">`PRegEx` é um pacote Python que permite construir padrões RegEx de uma forma mais amigável. Para instalar o `PREgEx`, digite:</font>\n",
    "\n",
    "```\n",
    "pip install pregex\n",
    "```"
   ]
  },
  {
   "cell_type": "markdown",
   "metadata": {},
   "source": [
    "# <font color=\"red\">Capturar URLs</font>"
   ]
  },
  {
   "cell_type": "code",
   "execution_count": 2,
   "metadata": {},
   "outputs": [],
   "source": [
    "from pregex.core.classes import AnyButWhitespace # Para corresponder a qualquer caractere, exceto caracteres de espaço em branco\n",
    "from pregex.core.quantifiers import OneOrMore # Para corresponder ao padrão fornecido uma ou mais vezes\n",
    "from pregex.core.operators import Either # Para corresponder a qualquer um dos padrões fornecidos\n",
    "\n",
    "text = \"Você pode me encontrar através GitHub https://github.com/khuyentran1401\"\n",
    "\n",
    "pre = (\n",
    "    \"https://\"\n",
    "    + OneOrMore(AnyButWhitespace()) # Corresponde a um ou mais caracteres que não são caracteres de espaço em branco\n",
    "    + Either(\".com\", \".org\")\n",
    "    + OneOrMore(AnyButWhitespace())\n",
    ")\n"
   ]
  },
  {
   "cell_type": "code",
   "execution_count": 5,
   "metadata": {},
   "outputs": [
    {
     "data": {
      "text/plain": [
       "['https://github.com/khuyentran1401']"
      ]
     },
     "execution_count": 5,
     "metadata": {},
     "output_type": "execute_result"
    }
   ],
   "source": [
    "pre.get_matches(text)"
   ]
  },
  {
   "cell_type": "markdown",
   "metadata": {},
   "source": [
    "# <font color=\"red\">HTTP ou HTTPS</font>"
   ]
  },
  {
   "cell_type": "code",
   "execution_count": null,
   "metadata": {},
   "outputs": [],
   "source": []
  }
 ],
 "metadata": {
  "kernelspec": {
   "display_name": "venv_All",
   "language": "python",
   "name": "python3"
  },
  "language_info": {
   "codemirror_mode": {
    "name": "ipython",
    "version": 3
   },
   "file_extension": ".py",
   "mimetype": "text/x-python",
   "name": "python",
   "nbconvert_exporter": "python",
   "pygments_lexer": "ipython3",
   "version": "3.10.12"
  }
 },
 "nbformat": 4,
 "nbformat_minor": 2
}
