{
 "cells": [
  {
   "cell_type": "markdown",
   "metadata": {},
   "source": [
    "# <h1 align=\"center\"><font color=\"red\">How to Build a Simple Reasoning and Acting Agent from Scratch</font></h1>"
   ]
  },
  {
   "cell_type": "markdown",
   "metadata": {},
   "source": [
    "<font color=\"yellow\">Senior Data Scientist.: Dr. Eddy Giusepe Chirinos Isidro</font>"
   ]
  },
  {
   "cell_type": "markdown",
   "metadata": {},
   "source": [
    "Este Notebook está baseado no Tutorial de [kirouane Ayoub]()."
   ]
  },
  {
   "cell_type": "markdown",
   "metadata": {},
   "source": [
    "Links de estudo:\n",
    "\n",
    "* [Part 1](https://blog.gopenai.com/introduction-to-llm-agents-how-to-build-a-simple-reasoning-and-acting-agent-from-scratch-part-1-843e14686be7)\n",
    "\n",
    "* [Part 2](https://blog.gopenai.com/building-llm-agents-from-scratch-part-2-a-conversational-search-agent-with-ollama-a4544b2291cf)"
   ]
  },
  {
   "cell_type": "markdown",
   "metadata": {},
   "source": [
    "# <font color=\"gree\">Contextualizando</font>"
   ]
  },
  {
   "cell_type": "markdown",
   "metadata": {},
   "source": [
    "Esta Notebook inicia uma série sobre a construção de `agentes de IA´, começando com uma implementação básica usando `Ollama´ para executar `LLMs´ localmente. O objetivo é criar um sistema que compreenda consultas do usuário e utilize pesquisa na web para fornecer respostas informativas, demonstrando os conceitos fundamentais do design de agentes de IA.\n",
    "\n",
    "Esta implementação serve como um ponto de partida para entender o desenvolvimento de `agentes de IA`, mas é uma versão simplificada. Em cenários reais, os agentes teriam comportamentos mais complexos, exigindo técnicas de análise sintática robustas para lidar com saídas inesperadas. Além disso, seriam necessárias estratégias abrangentes de tratamento de erros para garantir uma operação suave e confiável do sistema."
   ]
  },
  {
   "cell_type": "markdown",
   "metadata": {},
   "source": [
    "# <font color=\"gree\">Funcionamento do Agent</font>"
   ]
  },
  {
   "cell_type": "markdown",
   "metadata": {},
   "source": [
    "<img src=\"https://miro.medium.com/v2/resize:fit:828/format:webp/1*-c8XfC8zGlrmF8DMwWkJaA.png\" alt=\"Minha Imagem\" width=\"700\" height=\"400\"/>\n"
   ]
  },
  {
   "cell_type": "markdown",
   "metadata": {},
   "source": [
    "* `Agent:` Representa o sistema geral que abrange o LLM e suas interações com o ambiente.\n",
    "\n",
    "* `Task:` Este é o objetivo ou meta que o agente está tentando atingir. É o ponto de partida do processo.\n",
    "\n",
    "* `LLM:` Este é o núcleo do agente, um LLM que processa informações e toma decisões.\n",
    "\n",
    "* `Reasoning:` O LLM utiliza o raciocínio para determinar o melhor curso de ação com base na tarefa e nas informações disponíveis.\n",
    "\n",
    "* `Tools:` O agente pode utilizar várias ferramentas (`como pesquisa na web`, `calculadoras` ou `bancos de dados`) para coletar informações adicionais ou executar ações.\n",
    "\n",
    "* `Action:` Com base em seu raciocínio, o LLM decide uma ação a ser tomada em seu ambiente.\n",
    "\n",
    "* `Environment:` Representa o mundo externo ou contexto no qual o agente opera. `Pode ser um site`, `um espaço físico` ou `um ambiente simulado`.\n",
    "\n",
    "* `Result:` A ação tomada pelo agente produz um resultado no ambiente, que então realimenta a compreensão e as ações futuras do agente.\n"
   ]
  },
  {
   "cell_type": "markdown",
   "metadata": {},
   "source": [
    "# <font color=\"gree\">Exemplo de código</font>"
   ]
  },
  {
   "cell_type": "markdown",
   "metadata": {},
   "source": [
    "## <font color=\"yellow\">Configurando Ollama e Dependências</font>"
   ]
  },
  {
   "cell_type": "markdown",
   "metadata": {},
   "source": [
    "```\n",
    "curl -fsSL https://ollama.com/install.sh | sh\n",
    "\n",
    "ollama serve\n",
    "ollama pull llama3.1\n",
    "```"
   ]
  },
  {
   "cell_type": "markdown",
   "metadata": {},
   "source": [
    "Também:\n",
    "\n",
    "```\n",
    "pip install openai duckduckgo-search\n",
    "```"
   ]
  },
  {
   "cell_type": "markdown",
   "metadata": {},
   "source": [
    "## <font color=\"yellow\">Criando um cliente OpenAI para interação LLM local</font>"
   ]
  },
  {
   "cell_type": "code",
   "execution_count": 1,
   "metadata": {},
   "outputs": [],
   "source": [
    "import openai\n",
    "import os\n",
    "from dotenv import load_dotenv, find_dotenv\n",
    "_ = load_dotenv(find_dotenv()) # read local .env file\n",
    "#openai.api_key  = os.environ['OPENAI_API_KEY']\n",
    "Eddy_key_openai  = os.environ['OPENAI_API_KEY']\n",
    "\n",
    "from openai import OpenAI\n",
    "# Inicializa o cliente OpenAI com a URL base do Ollama:\n",
    "client = OpenAI(api_key=Eddy_key_openai,\n",
    "                base_url=\"http://127.0.0.1:11434/v1\"\n",
    "                )"
   ]
  },
  {
   "cell_type": "markdown",
   "metadata": {},
   "source": [
    "## <font color=\"yellow\">Implementando a funcionalidade de pesquisa</font>"
   ]
  },
  {
   "cell_type": "markdown",
   "metadata": {},
   "source": [
    "Nosso agente precisa da capacidade de pesquisar informações na `web`. Definimos uma função `search` que utiliza a biblioteca `duckduckgo-search` para consultar `DuckDuckGo` e recuperar resultados de pesquisa relevantes.\n",
    "\n",
    "\n",
    "\n",
    "`Esses resultados serão usados ​​para aumentar o conhecimento do LLM quando necessário.`"
   ]
  },
  {
   "cell_type": "code",
   "execution_count": 2,
   "metadata": {},
   "outputs": [],
   "source": [
    "from duckduckgo_search import DDGS\n",
    "\n",
    "def search(query, num_results=2):\n",
    "    with DDGS() as ddgs:\n",
    "        results = list(ddgs.text(query, max_results=num_results))\n",
    "    \n",
    "    formatted_results = []\n",
    "    for result in results:\n",
    "        formatted_results.append(f\"Título: {result['title']}\\nConteúdo: {result['body']}\\nURL: {result['href']}\\n\")\n",
    "    \n",
    "    return \"\\n\".join(formatted_results) if formatted_results else \"Nenhum resultado encontrado.\""
   ]
  },
  {
   "cell_type": "code",
   "execution_count": null,
   "metadata": {},
   "outputs": [],
   "source": [
    "# Testando o Duck:\n",
    "from duckduckgo_search import DDGS\n",
    "\n",
    "# Inicializa a pesquisa:\n",
    "with DDGS() as ddgs:\n",
    "    # Define a consulta de pesquisa:\n",
    "    query = \"Who won the 2024 Nobel Prize in Physics?\"\n",
    "    \n",
    "    # Realiza a pesquisa e limita os resultados a 2:\n",
    "    results = [r for r in ddgs.text(query, max_results=2)]\n",
    "    \n",
    "    # Exibe os resultados\n",
    "    for result in results:\n",
    "        print(result)"
   ]
  },
  {
   "cell_type": "code",
   "execution_count": null,
   "metadata": {},
   "outputs": [],
   "source": [
    "def test_search():\n",
    "    query = \"Prêmio Nobel de Física 2024\"\n",
    "    results = search(query)\n",
    "    print(f\"Resultados da pesquisa para '{query}':\")\n",
    "    print(results)\n",
    "\n",
    "# Execute esta função antes de rodar o agente:\n",
    "test_search()"
   ]
  },
  {
   "cell_type": "markdown",
   "metadata": {},
   "source": [
    "## <font color=\"yellow\">Elaborando o Prompt do Sistema</font>"
   ]
  },
  {
   "cell_type": "markdown",
   "metadata": {},
   "source": [
    "O prompt do sistema (`system prompt`) fornece instruções ao `LLM` sobre como se comportar. Ele descreve as ferramentas disponíveis (`neste caso, pesquisa na web`) e o processo de tomada de decisão para escolher entre respostas diretas e utilizar a ferramenta de pesquisa.\n",
    "\n",
    "\n",
    "`Este prompt garante que o agente siga um fluxo de trabalho lógico.`"
   ]
  },
  {
   "cell_type": "code",
   "execution_count": 8,
   "metadata": {},
   "outputs": [],
   "source": [
    "system_prompt = \"\"\"\n",
    "Você é um assistente AI avançado com acesso a pesquisa na internet em tempo real e um vasto conhecimento base. Siga estas instruções rigorosamente:\n",
    "\n",
    "1. Para qualquer pergunta, use seu conhecimento base e os resultados de pesquisas anteriores. Se precisar de mais informações, inicie com \"PESQUISA:\" seguido por uma consulta clara e concisa.\n",
    "\n",
    "2. NUNCA se recuse a fornecer informações ou se desculpe por não poder responder. Em vez disso, sempre forneça uma resposta útil e informativa.\n",
    "\n",
    "3. Se a pergunta for sobre um evento futuro ou informação não disponível:\n",
    "   a) Explique por que a informação específica não está disponível (por exemplo, \"é um evento futuro\").\n",
    "   b) Forneça o contexto mais relevante e atualizado possível sobre o tópico.\n",
    "   c) Mencione informações relacionadas, como datas esperadas de anúncio ou informações do ano anterior.\n",
    "   d) Se apropriado, sugira onde o usuário pode encontrar atualizações no futuro.\n",
    "\n",
    "4. Combine seu conhecimento base com as informações mais recentes encontradas nas pesquisas para dar a resposta mais completa possível.\n",
    "\n",
    "5. Cite suas fontes, incluindo URLs, quando usar informações da pesquisa.\n",
    "\n",
    "6. Mantenha suas respostas concisas, informativas e factuais.\n",
    "\n",
    "Lembre-se: seu objetivo é sempre fornecer uma resposta útil e informativa, mesmo quando a informação específica solicitada não está disponível ou é sobre o futuro.\n",
    "\"\"\"\n"
   ]
  },
  {
   "cell_type": "markdown",
   "metadata": {},
   "source": [
    "## <font color=\"yellow\">Construindo o Loop de Execução do Agente</font>"
   ]
  },
  {
   "cell_type": "markdown",
   "metadata": {},
   "source": [
    "O núcleo (`core`) do nosso agente está na função `run_agent`. Esta função gerencia o loop de interação entre o `usuário`, o `LLM` e a `ferramenta de busca`.\n",
    "\n",
    "\n",
    "`Ele processa os prompts do usuário, os envia ao LLM, interpreta a resposta do LLM, realiza pesquisas quando necessário e, por fim, fornece uma resposta final ao usuário.`"
   ]
  },
  {
   "cell_type": "code",
   "execution_count": 14,
   "metadata": {},
   "outputs": [],
   "source": [
    "def run_agent(prompt, system_prompt):\n",
    "    messages = [\n",
    "        {\"role\": \"system\", \"content\": system_prompt},\n",
    "        {\"role\": \"user\", \"content\": prompt}\n",
    "    ]\n",
    "    max_iterations = 2\n",
    "    previous_searches = set()\n",
    "\n",
    "    for i in range(max_iterations):\n",
    "        response = client.chat.completions.create(\n",
    "            model=\"llama3.1:8b\",\n",
    "            messages=messages,\n",
    "            temperature=0.3,\n",
    "        )\n",
    "        \n",
    "        assistant_message = response.choices[0].message.content\n",
    "        \n",
    "        if assistant_message.startswith(\"PESQUISA:\"):\n",
    "            search_query = assistant_message.split(\"PESQUISA:\")[1].strip().split('\\n')[0]\n",
    "            if search_query not in previous_searches:\n",
    "                previous_searches.add(search_query)\n",
    "                search_results = search(search_query)\n",
    "                messages.append({\"role\": \"assistant\", \"content\": f\"Realizando pesquisa: {search_query}\"})\n",
    "                messages.append({\"role\": \"user\", \"content\": f\"Resultados da pesquisa:\\n{search_results}\\nCom base nesses resultados e no seu conhecimento base, responda à pergunta original de forma concisa e direta. Se a informação específica não estiver disponível, forneça o contexto mais relevante e atualizado que puder.\"})\n",
    "            else:\n",
    "                messages.append({\"role\": \"assistant\", \"content\": \"Já realizei esta pesquisa. Vou responder com as informações disponíveis.\"})\n",
    "        else:\n",
    "            if \"não está disponível\" in assistant_message.lower() or \"não foram encontradas\" in assistant_message.lower():\n",
    "                messages.append({\"role\": \"user\", \"content\": \"Mesmo que a informação específica não esteja disponível, por favor, forneça o contexto mais relevante e atualizado que você puder sobre o tópico, combinando seu conhecimento base com os resultados da pesquisa.\"})\n",
    "            else:\n",
    "                return assistant_message\n",
    "\n",
    "    # Resposta final\n",
    "    final_response = client.chat.completions.create(\n",
    "        model=\"llama3.1:8b\",\n",
    "        messages=messages,\n",
    "        temperature=0.3,\n",
    "    )\n",
    "    return final_response.choices[0].message.content\n",
    "\n"
   ]
  },
  {
   "cell_type": "markdown",
   "metadata": {},
   "source": [
    "## <font color=\"yellow\">Exemplos ilustrativos</font>"
   ]
  },
  {
   "cell_type": "markdown",
   "metadata": {},
   "source": [
    "Por fim, demonstramos as capacidades do `agente` com dois exemplos.\n",
    "\n",
    "O primeiro mostra uma interação de conversação simples em que o agente responde diretamente a uma saudação."
   ]
  },
  {
   "cell_type": "code",
   "execution_count": null,
   "metadata": {},
   "outputs": [],
   "source": [
    "response = run_agent(prompt=\"Quem foi Albert Einstein?\", system_prompt=system_prompt)\n",
    "\n",
    "print(response)"
   ]
  },
  {
   "cell_type": "code",
   "execution_count": null,
   "metadata": {},
   "outputs": [],
   "source": [
    "response = run_agent(prompt=\"Quem foram os ganhadores do Prêmio Nobel de Física de 2024 e quais foram as suas contribuções?\", system_prompt=system_prompt)\n",
    "\n",
    "print(response)"
   ]
  },
  {
   "cell_type": "code",
   "execution_count": null,
   "metadata": {},
   "outputs": [],
   "source": []
  },
  {
   "cell_type": "code",
   "execution_count": null,
   "metadata": {},
   "outputs": [],
   "source": []
  },
  {
   "cell_type": "code",
   "execution_count": null,
   "metadata": {},
   "outputs": [],
   "source": []
  },
  {
   "cell_type": "code",
   "execution_count": null,
   "metadata": {},
   "outputs": [],
   "source": []
  },
  {
   "cell_type": "code",
   "execution_count": null,
   "metadata": {},
   "outputs": [],
   "source": []
  },
  {
   "cell_type": "code",
   "execution_count": null,
   "metadata": {},
   "outputs": [],
   "source": []
  },
  {
   "cell_type": "code",
   "execution_count": null,
   "metadata": {},
   "outputs": [],
   "source": []
  },
  {
   "cell_type": "code",
   "execution_count": null,
   "metadata": {},
   "outputs": [],
   "source": []
  },
  {
   "cell_type": "code",
   "execution_count": null,
   "metadata": {},
   "outputs": [],
   "source": []
  },
  {
   "cell_type": "code",
   "execution_count": 53,
   "metadata": {},
   "outputs": [],
   "source": [
    "import openai\n",
    "import os\n",
    "from dotenv import load_dotenv, find_dotenv\n",
    "_ = load_dotenv(find_dotenv()) # read local .env file\n",
    "#openai.api_key  = os.environ['OPENAI_API_KEY']\n",
    "Eddy_key_openai  = os.environ['OPENAI_API_KEY']\n",
    "\n",
    "from openai import OpenAI\n",
    "# Inicializa o cliente OpenAI com a URL base do Ollama:\n",
    "client = OpenAI(api_key=Eddy_key_openai,\n",
    "                base_url=\"http://127.0.0.1:11434/v1\"\n",
    "                )"
   ]
  },
  {
   "cell_type": "code",
   "execution_count": 54,
   "metadata": {},
   "outputs": [],
   "source": [
    "from duckduckgo_search import DDGS\n",
    "import requests\n",
    "from bs4 import BeautifulSoup\n",
    "\n",
    "def search(query, max_results=1):\n",
    "    # Realiza a pesquisa usando DuckDuckGo\n",
    "    results = DDGS().text(query, max_results=max_results)\n",
    "    \n",
    "    # Verifica se há resultados\n",
    "    if results:\n",
    "        # Obtém a URL do primeiro resultado\n",
    "        url = results[0].get('href')\n",
    "        \n",
    "        # Faz uma requisição para obter o HTML da página\n",
    "        try:\n",
    "            response = requests.get(url)\n",
    "            response.raise_for_status()  # Verifica se a requisição foi bem-sucedida\n",
    "            \n",
    "            # Usa BeautifulSoup para extrair texto relevante\n",
    "            soup = BeautifulSoup(response.text, 'html.parser')\n",
    "            text_content = soup.get_text(separator=' ', strip=True)  # Extrai todo o texto\n",
    "            \n",
    "            return text_content  # Retorna o texto completo extraído\n",
    "        except requests.RequestException as e:\n",
    "            return f\"Erro ao buscar a página: {e}\"\n",
    "    \n",
    "    return \"Nenhum resultado encontrado.\""
   ]
  },
  {
   "cell_type": "code",
   "execution_count": 65,
   "metadata": {},
   "outputs": [
    {
     "name": "stdout",
     "output_type": "stream",
     "text": [
      "Nobel de Física 2024 premia descoberta que impulsiona a inteligência artificial Notícias Notícias Política Fortaleza Economia Loteria Brasil Enem Ceará Mundo Saúde Tecnologia Ciência Curiosidades Veículos Checagem Publicações Legais Ao Vivo Previsão do Tempo Cariri Esportes Esportes Ceará SC Fortaleza EC Cearenses Futebol Jogos de Hoje Brasileirão Série A Brasileirão Série B Mais esportes Futebol Internacional Apostas Olimpíadas 2024 Paralimpíadas Mais times: Atlético-MG Botafogo Corinthians Cruzeiro Flamengo Fluminense Grêmio Internacional Palmeiras Santos São Paulo Vasco Divirta-se Divirta-se Signos A Fazenda Quiz BBB Masterchef Fica a Dica Vida & Arte Vida & Arte Agenda Cinema Guia Vida&Arte Turismo Shows & Espetáculos Exposições & Cursos Assine Os cookies nos ajudam a administrar este site. Ao usar nosso site, você concorda com nosso uso de cookies. Leia Mais or Aceitar . Nobel de Física 2024 premia descoberta que impulsiona a inteligência artificial Início Notícias Ciência Nobel de Física 2024 premia descoberta que impulsiona a inteligência artificial Nobel de Física 2024 premia descoberta que impulsiona a inteligência artificial Os pesquisadores John Hopfield e Geoffrey Hinton foram contemplados com o Prêmio Nobel de Física nesta terça, 8. Saiba quem são os premiados e por que ganharam 07:00 | 08/10/2024 Autor Mariana Fernandes Mariana Fernandes Autor Ver perfil do autor Tipo Notícia Nobel 2024: John J. Hopfield e Geoffrey E. Hinton são os ganhadores do prêmio de física Crédito: Niklas Elmehed © Nobel Prize Outreach O prêmio Nobel de Física 2024 foi concedido ao pesquisador americano John Hopfield e ao pesquisador britânico Geoffrey Hinton . Estão sendo reconhecidos \"pelas descobertas e invenções fundamentais que permitem o aprendizado de máquina com redes neurais Método de inteligência artificial que ensina computadores a processar dados de uma forma inspirada pelo cérebro humano. artificiais\". Entenda o que é a pesquisa e os cientistas envolvidos. \"Eles treinaram redes neurais artificiais usando física\", segundo nota divulgada pela instituição do prêmio. O prêmio de aproximadamente 1 milhão de dólares (cerca de R$5,8 milhões) será dividido igualmente entre os cientistas. É + que streaming. É arte, cultura e história. + filmes, séries e documentários + reportagens interativas + colunistas exclusivos Assine agora Nobel 2024: Conheça os ganhadores do prêmio de Física John J. Hopfield nasceu em 1933 em Chicago, Illinois, Estados Unidos. Recebeu seu pós-doutorado em 1958 pela Cornell University, Ithaca, Nova York. Atualmente, é professor da Universidade de Princeton, Nova Jersey, nos Estados Unidos. Geoffrey E. Hinton nasceu em 1947 em Londres, Reino Unido. Recebeu seu pós-doutorado em 1978 pela Universidade de Edimburgo, Reino Unido. E professor na Universidade de Toronto, Canadá. Nobel 2024: Entenda as pesquisas dos ganhadores do prêmio de Física Os dois ganhadores do Nobel de Física este ano desenvolveram pesquisas que serviram como base para o \"aprendizado de máquina\", usado para treinar os programas de Inteligência Artificial . John Hopfield inventou uma rede que usa um método para salvar e recriar padrões. A rede Hopfield utiliza física para descrever as características de um material, utilizando principalmente imagens. Assim, quando a rede é alimentada com uma imagem distorcida ou imperfeita, ela trabalhará para encontrar  imagem salva que é mais parecida com esta. Geoffrey Hinton usou a rede Hopfield como base para uma nova rede que usa um método diferente: a máquina de Boltzmann , que pode aprender a reconhecer elementos característicos de qualquer tipo de dado. Seu trabalho foi responsável por iniciar o atual desenvolvimento explosivo do aprendizado de máquina . Nobel de Física: Confira os ganhadores dos últimos anos Nos últimos cinco anos, o Nobel de Física foi seguidamente entregue a trios de cientistas. Relembre os premiados: Nobel de Física 2023: Pierre Agostini, Ferenc Krausz e Anne L’Huillier , por seus experimentos \"para métodos experimentais que geram pulsos de attossegundos de luz\". Nobel de Física 2022: Alain Aspect, John Clauser e Anton Zeilinger por suas descobertas no campo da mecânica quântica. Nobel de Física 2021: Syukuro Manabe, Klaus Hasselmann e Giorgio Parisi por seus trabalhos para compreender sistemas físicos complexos como a mudança climática da Terra. Nobel de Física 2020: Roger Penrose, Reinhard Genzel e Andrea Ghez por demonstrar a relação entre a teoria da relatividade geral e os buracos negros. Nobel de Física 2019: James Peebles, Michel Mayor e Didier Queloz pelo desenvolvimento teórico da cosmologia física e primeira descoberta de um planeta fora do Sistema Solar. Nobel 2024: veja os vencedores das outras categorias Os anúncios dos vencedores do Prêmio Nobel 2024 ocorrem de 7 a 14 de outubro. A premiação tem seis categorias: Medicina ou Fisiologia, Física, Química, Literatura, Nobel da Paz e Economia. Veja o vencedor do Prêmio Nobel de Medicina 2024 A honraria pode ser dividida por até três pessoas. No caso do Nobel da Paz, uma organização também pode ser contemplada. Todos os anúncios dos prêmios serão transmitidos ao vivo no site oficial (nobelprize.org) e nos canais digitais oficiais do Prêmio Nobel. LEIA MAIS | Veja datas dos anúncios dos vencedores do Prêmio Nobel 2024 Nobel 2024: saiba mais sobre o prêmio O Prêmio Nobel tem origem no testamento do inventor e empreendedor sueco Alfred Nobel. Em 27 de novembro de 1895, ele doou uma parte de sua fortuna para uma série de prêmios de física, química, fisiologia ou medicina, literatura e paz. Essas eram as áreas em que ele mais se envolveu durante sua vida. Depois de sua morte, em 1896, iniciou-se o processo de criação do prêmio, sendo os primeiros concedidos em 1901. Em 1969, foi estabelecido o prêmio em Ciências Econômicas em Memória de Alfred Nobel, criando uma nova categoria. Desde 1901, os Prêmios Nobel não foram concedidos 49 vezes , sendo a maioria delas nos períodos da Primeira Guerra Mundial (1914-1918) e a Segunda Guerra Mundial (1939-1945). De acordo com os estatutos da Fundação Nobel, “se nenhuma das obras em consideração for considerada da importância indicada no primeiro parágrafo, o dinheiro do prêmio será reservado até o ano seguinte. Se, mesmo assim, o prêmio não puder ser concedido, o valor será adicionado aos fundos restritos da Fundação\". Leia mais Nobel da Paz iraniana Narges Mohammadi pede fim do silêncio diante da opressão das mulheres Restos de Miguel Ángel Asturias, Nobel de Literatura, serão repatriados da França para Guatemala Morre Alice Munro, vencedora do Nobel de Literatura, aos 92 anos Sobre o assunto Nobel da Paz iraniana Narges Mohammadi pede fim do silêncio diante da opressão das mulheres Restos de Miguel Ángel Asturias, Nobel de Literatura, serão repatriados da França para Guatemala Morre Alice Munro, vencedora do Nobel de Literatura, aos 92 anos Dúvidas, Críticas e Sugestões? Fale com a gente Os cookies nos ajudam a administrar este site.\n",
      "        Ao usar nosso site, você concorda com nosso uso de cookies. Leia Mais ou Aceitar . Os cookies nos ajudam a administrar este site.\n",
      "        Ao usar nosso site, você concorda com nosso uso de cookies. Política de privacidade Aceitar Noticias Política Fortaleza Economia Brasil Ceará Mundo Saúde Tecnologia Curiosidades Veículos Checagem Previsão do Tempo Esportes Ceará Fortaleza Cearenses Futebol Tabelas Mais esportes Futebol Internacional Apostas Copa Feminina Brasileirão Série A Brasileirão Série B Atlético-MG Botafogo Corinthians Cruzeiro Flamengo Fluminense Grêmio Internacional Palmeiras Santos São Paulo Vasco Entretenimento Vida&Arte Guia Vida&Arte Cinema Divirta-se The Voice A Fazenda BBB Masterchef Power Couple Brasil Especiais Blogs O POVO Mais O POVO CBN Nova Brasil FM Canal FDR Populares Anuário do Ceará Termo de Uso Política de Privacidade Política de Cookies Conheça O POVO Trabalhe Conosco Fale com a gente Assine Ombudsman Participamos do Copyright © 2024. Todos os direitos reservados. EMPRESA JORNALISTICA O POVO S/A | CNPJ: 07.222.565/0001-62 Participamos do Copyright © 2023. Todos os direitos reservados. EMPRESA JORNALISTICA O POVO S/A | CNPJ: 07.222.565/0001-62\n"
     ]
    }
   ],
   "source": [
    "query = \"Quem foram os ganhadores do Prêmio Nobel de Física de 2024?\"\n",
    "html_content = search(query)\n",
    "\n",
    "print(html_content)  # Verifique se o HTML está sendo retornado corretamente"
   ]
  },
  {
   "cell_type": "code",
   "execution_count": 67,
   "metadata": {},
   "outputs": [
    {
     "name": "stdout",
     "output_type": "stream",
     "text": [
      "Nobel de Física 2024 premia descoberta que impulsiona a inteligência artificial Notícias Notícias Política Fortaleza Economia Loteria Brasil Enem Ceará Mundo Saúde Tecnologia Ciência Curiosidades Veículos Checagem Publicações Legais Ao Vivo Previsão do Tempo Cariri Esportes Esportes Ceará SC Fortaleza EC Cearenses Futebol Jogos de Hoje Brasileirão Série A Brasileirão Série B Mais esportes Futebol Internacional Apostas Olimpíadas 2024 Paralimpíadas Mais times: Atlético-MG Botafogo Corinthians Cruzeiro Flamengo Fluminense Grêmio Internacional Palmeiras Santos São Paulo Vasco Divirta-se Divirta-se Signos A Fazenda Quiz BBB Masterchef Fica a Dica Vida & Arte Vida & Arte Agenda Cinema Guia Vida&Arte Turismo Shows & Espetáculos Exposições & Cursos Assine Os cookies nos ajudam a administrar este site. Ao usar nosso site, você concorda com nosso uso de cookies. Leia Mais or Aceitar . Nobel de Física 2024 premia descoberta que impulsiona a inteligência artificial Início Notícias Ciência Nobel de Física 2024 premia descoberta que impulsiona a inteligência artificial Nobel de Física 2024 premia descoberta que impulsiona a inteligência artificial Os pesquisadores John Hopfield e Geoffrey Hinton foram contemplados com o Prêmio Nobel de Física nesta terça, 8. Saiba quem são os premiados e por que ganharam 07:00 | 08/10/2024 Autor Mariana Fernandes Mariana Fernandes Autor Ver perfil do autor Tipo Notícia Nobel 2024: John J. Hopfield e Geoffrey E. Hinton são os ganhadores do prêmio de física Crédito: Niklas Elmehed © Nobel Prize Outreach O prêmio Nobel de Física 2024 foi concedido ao pesquisador americano John Hopfield e ao pesquisador britânico Geoffrey Hinton . Estão sendo reconhecidos \"pelas descobertas e invenções fundamentais que permitem o aprendizado de máquina com redes neurais Método de inteligência artificial que ensina computadores a processar dados de uma forma inspirada pelo cérebro humano. artificiais\". Entenda o que é a pesquisa e os cientistas envolvidos. \"Eles treinaram redes neurais artificiais usando física\", segundo nota divulgada pela instituição do prêmio. O prêmio de aproximadamente 1 milhão de dólares (cerca de R$5,8 milhões) será dividido igualmente entre os cientistas. É + que streaming. É arte, cultura e história. + filmes, séries e documentários + reportagens interativas + colunistas exclusivos Assine agora Nobel 2024: Conheça os ganhadores do prêmio de Física John J. Hopfield nasceu em 1933 em Chicago, Illinois, Estados Unidos. Recebeu seu pós-doutorado em 1958 pela Cornell University, Ithaca, Nova York. Atualmente, é professor da Universidade de Princeton, Nova Jersey, nos Estados Unidos. Geoffrey E. Hinton nasceu em 1947 em Londres, Reino Unido. Recebeu seu pós-doutorado em 1978 pela Universidade de Edimburgo, Reino Unido. E professor na Universidade de Toronto, Canadá. Nobel 2024: Entenda as pesquisas dos ganhadores do prêmio de Física Os dois ganhadores do Nobel de Física este ano desenvolveram pesquisas que serviram como base para o \"aprendizado de máquina\", usado para treinar os programas de Inteligência Artificial . John Hopfield inventou uma rede que usa um método para salvar e recriar padrões. A rede Hopfield utiliza física para descrever as características de um material, utilizando principalmente imagens. Assim, quando a rede é alimentada com uma imagem distorcida ou imperfeita, ela trabalhará para encontrar  imagem salva que é mais parecida com esta. Geoffrey Hinton usou a rede Hopfield como base para uma nova rede que usa um método diferente: a máquina de Boltzmann , que pode aprender a reconhecer elementos característicos de qualquer tipo de dado. Seu trabalho foi responsável por iniciar o atual desenvolvimento explosivo do aprendizado de máquina . Nobel de Física: Confira os ganhadores dos últimos anos Nos últimos cinco anos, o Nobel de Física foi seguidamente entregue a trios de cientistas. Relembre os premiados: Nobel de Física 2023: Pierre Agostini, Ferenc Krausz e Anne L’Huillier , por seus experimentos \"para métodos experimentais que geram pulsos de attossegundos de luz\". Nobel de Física 2022: Alain Aspect, John Clauser e Anton Zeilinger por suas descobertas no campo da mecânica quântica. Nobel de Física 2021: Syukuro Manabe, Klaus Hasselmann e Giorgio Parisi por seus trabalhos para compreender sistemas físicos complexos como a mudança climática da Terra. Nobel de Física 2020: Roger Penrose, Reinhard Genzel e Andrea Ghez por demonstrar a relação entre a teoria da relatividade geral e os buracos negros. Nobel de Física 2019: James Peebles, Michel Mayor e Didier Queloz pelo desenvolvimento teórico da cosmologia física e primeira descoberta de um planeta fora do Sistema Solar. Nobel 2024: veja os vencedores das outras categorias Os anúncios dos vencedores do Prêmio Nobel 2024 ocorrem de 7 a 14 de outubro. A premiação tem seis categorias: Medicina ou Fisiologia, Física, Química, Literatura, Nobel da Paz e Economia. Veja o vencedor do Prêmio Nobel de Medicina 2024 A honraria pode ser dividida por até três pessoas. No caso do Nobel da Paz, uma organização também pode ser contemplada. Todos os anúncios dos prêmios serão transmitidos ao vivo no site oficial (nobelprize.org) e nos canais digitais oficiais do Prêmio Nobel. LEIA MAIS | Veja datas dos anúncios dos vencedores do Prêmio Nobel 2024 Nobel 2024: saiba mais sobre o prêmio O Prêmio Nobel tem origem no testamento do inventor e empreendedor sueco Alfred Nobel. Em 27 de novembro de 1895, ele doou uma parte de sua fortuna para uma série de prêmios de física, química, fisiologia ou medicina, literatura e paz. Essas eram as áreas em que ele mais se envolveu durante sua vida. Depois de sua morte, em 1896, iniciou-se o processo de criação do prêmio, sendo os primeiros concedidos em 1901. Em 1969, foi estabelecido o prêmio em Ciências Econômicas em Memória de Alfred Nobel, criando uma nova categoria. Desde 1901, os Prêmios Nobel não foram concedidos 49 vezes , sendo a maioria delas nos períodos da Primeira Guerra Mundial (1914-1918) e a Segunda Guerra Mundial (1939-1945). De acordo com os estatutos da Fundação Nobel, “se nenhuma das obras em consideração for considerada da importância indicada no primeiro parágrafo, o dinheiro do prêmio será reservado até o ano seguinte. Se, mesmo assim, o prêmio não puder ser concedido, o valor será adicionado aos fundos restritos da Fundação\". Leia mais Nobel da Paz iraniana Narges Mohammadi pede fim do silêncio diante da opressão das mulheres Restos de Miguel Ángel Asturias, Nobel de Literatura, serão repatriados da França para Guatemala Morre Alice Munro, vencedora do Nobel de Literatura, aos 92 anos Sobre o assunto Nobel da Paz iraniana Narges Mohammadi pede fim do silêncio diante da opressão das mulheres Restos de Miguel Ángel Asturias, Nobel de Literatura, serão repatriados da França para Guatemala Morre Alice Munro, vencedora do Nobel de Literatura, aos 92 anos Dúvidas, Críticas e Sugestões? Fale com a gente Os cookies nos ajudam a administrar este site.\n",
      "        Ao usar nosso site, você concorda com nosso uso de cookies. Leia Mais ou Aceitar . Os cookies nos ajudam a administrar este site.\n",
      "        Ao usar nosso site, você concorda com nosso uso de cookies. Política de privacidade Aceitar Noticias Política Fortaleza Economia Brasil Ceará Mundo Saúde Tecnologia Curiosidades Veículos Checagem Previsão do Tempo Esportes Ceará Fortaleza Cearenses Futebol Tabelas Mais esportes Futebol Internacional Apostas Copa Feminina Brasileirão Série A Brasileirão Série B Atlético-MG Botafogo Corinthians Cruzeiro Flamengo Fluminense Grêmio Internacional Palmeiras Santos São Paulo Vasco Entretenimento Vida&Arte Guia Vida&Arte Cinema Divirta-se The Voice A Fazenda BBB Masterchef Power Couple Brasil Especiais Blogs O POVO Mais O POVO CBN Nova Brasil FM Canal FDR Populares Anuário do Ceará Termo de Uso Política de Privacidade Política de Cookies Conheça O POVO Trabalhe Conosco Fale com a gente Assine Ombudsman Participamos do Copyright © 2024. Todos os direitos reservados. EMPRESA JORNALISTICA O POVO S/A | CNPJ: 07.222.565/0001-62 Participamos do Copyright © 2023. Todos os direitos reservados. EMPRESA JORNALISTICA O POVO S/A | CNPJ: 07.222.565/0001-62\n"
     ]
    }
   ],
   "source": [
    "import ast\n",
    "\n",
    "def test_search():\n",
    "    query = \"Quem ganharam o Prêmio Nobel de Física 2024?\"\n",
    "    results = search(query)\n",
    "    #print(f\"Resultados da pesquisa para '{query}':\")\n",
    "    # results = ast.literal_eval(results)\n",
    "    # results = results[\"body\"]\n",
    "    print(results)\n",
    "\n",
    "# Execute esta função antes de rodar o agente:\n",
    "test_search()"
   ]
  },
  {
   "cell_type": "code",
   "execution_count": 56,
   "metadata": {},
   "outputs": [],
   "source": [
    "import requests\n",
    "from bs4 import BeautifulSoup\n",
    "\n",
    "import requests\n",
    "\n",
    "def fetch_and_pass_html(url):\n",
    "    try:\n",
    "        response = requests.get(url)\n",
    "        response.raise_for_status()  # Verifica se a requisição foi bem-sucedida\n",
    "        \n",
    "        # Retorna o conteúdo HTML completo\n",
    "        return response.text\n",
    "    \n",
    "    except Exception as e:\n",
    "        return f\"Erro ao buscar a página: {e}\""
   ]
  },
  {
   "cell_type": "code",
   "execution_count": 57,
   "metadata": {},
   "outputs": [],
   "source": [
    "system_prompt = \"\"\"\n",
    "Você é um assistente inteligente que responde perguntas do usuário.\n",
    "Se você não souber a resposta, responda com <não sei> sempre.\n",
    "Se você não souber a resposta (se responder com <não sei>) você deverá pesquisar na Web através da \n",
    "função implementada (<search>) e seguidamente responder ao usuário com apenas um PARÁGRAFO RESUMIDO. \n",
    "Sempre busque fornecer informações precisas e relevantes.\n",
    "Limite a sua resposta em 500 caracteres como máximo.\n",
    "\"\"\"\n"
   ]
  },
  {
   "cell_type": "code",
   "execution_count": 32,
   "metadata": {},
   "outputs": [],
   "source": [
    "def run_agent(prompt, system_prompt):\n",
    "    # Mensagens iniciais\n",
    "    messages = [\n",
    "        {\"role\": \"system\", \"content\": system_prompt},\n",
    "        {\"role\": \"user\", \"content\": prompt}\n",
    "    ]\n",
    "\n",
    "    previous_searches = set()  # Para evitar consultas repetidas\n",
    "\n",
    "    while True:\n",
    "        response = client.chat.completions.create(\n",
    "            model=\"llama3.1:8b\",\n",
    "            messages=messages,\n",
    "        )\n",
    "\n",
    "        answer = response.choices[0].message.content\n",
    "        \n",
    "        # Verifica se a resposta é satisfatória\n",
    "        if \"não sei\" in answer.lower() or \"pesquisar\" in answer.lower():\n",
    "            query = prompt  # Pode ser refinado conforme necessário\n",
    "            if query not in previous_searches:\n",
    "                previous_searches.add(query)\n",
    "                search_results = search(query)\n",
    "                \n",
    "                return search_results  # Retorna os resultados da pesquisa\n",
    "        else:\n",
    "            return answer  # Retorna a resposta do modelo\n"
   ]
  },
  {
   "cell_type": "code",
   "execution_count": 106,
   "metadata": {},
   "outputs": [],
   "source": [
    "def run_agent(prompt, system_prompt):\n",
    "    messages = [\n",
    "        {\"role\": \"system\", \"content\": system_prompt},\n",
    "        {\"role\": \"user\", \"content\": prompt}\n",
    "    ]\n",
    "\n",
    "    previous_searches = set()\n",
    "\n",
    "    while True:\n",
    "        response = client.chat.completions.create(\n",
    "            model=\"llama3.1:8b\",\n",
    "            messages=messages,\n",
    "        )\n",
    "\n",
    "        answer = response.choices[0].message.content\n",
    "        \n",
    "        if \"não sei\" in answer.lower() or \"pesquisar\" in answer.lower():\n",
    "            query = prompt\n",
    "            if query not in previous_searches:\n",
    "                previous_searches.add(query)\n",
    "                text_content = search(query)\n",
    "                print(text_content)\n",
    "                messages = [\n",
    "                            {\"role\": \"system\", \"content\": \"\"\"Você é um assistente que resume o seguinte texto em apenas 500 caracteres\"\"\"},\n",
    "                            {\"role\": \"user\", \"content\": text_content}\n",
    "                        ]\n",
    "\n",
    "                # Refaça a chamada ao modelo com o texto extraído:\n",
    "                response_with_text = client.chat.completions.create(\n",
    "                    model=\"llama3.1:8b\",\n",
    "                    messages=messages,\n",
    "                )\n",
    "                \n",
    "                return response_with_text.choices[0].message.content  # Retorna a resposta do modelo\n",
    "            \n",
    "            return \"Nenhum resultado encontrado.\"\n",
    "        else:\n",
    "            return answer\n"
   ]
  },
  {
   "cell_type": "code",
   "execution_count": 107,
   "metadata": {},
   "outputs": [
    {
     "name": "stdout",
     "output_type": "stream",
     "text": [
      "Albert Einstein (1879-1955) foi um físico teórico alemão-brasileiro considerado uma das maiores inteligências do século XX. Ele desenvolveu a Teoria da Relatividade, que revolucionou a compreensão do espaço e do tempo, e foi laureado com o Prêmio Nobel de Física em 1921.\n"
     ]
    }
   ],
   "source": [
    "# Exemplo 1: Pergunta conhecida\n",
    "response1 = run_agent(prompt=\"Quem foi Albert Einstein\", system_prompt=system_prompt)\n",
    "print(response1)"
   ]
  },
  {
   "cell_type": "code",
   "execution_count": 109,
   "metadata": {},
   "outputs": [
    {
     "name": "stdout",
     "output_type": "stream",
     "text": [
      "Nobel de Física 2024 premia descoberta que impulsiona a inteligência artificial Notícias Notícias Política Fortaleza Economia Loteria Brasil Enem Ceará Mundo Saúde Tecnologia Ciência Curiosidades Veículos Checagem Publicações Legais Ao Vivo Previsão do Tempo Cariri Esportes Esportes Ceará SC Fortaleza EC Cearenses Futebol Jogos de Hoje Brasileirão Série A Brasileirão Série B Mais esportes Futebol Internacional Apostas Olimpíadas 2024 Paralimpíadas Mais times: Atlético-MG Botafogo Corinthians Cruzeiro Flamengo Fluminense Grêmio Internacional Palmeiras Santos São Paulo Vasco Divirta-se Divirta-se Signos A Fazenda Quiz BBB Masterchef Fica a Dica Vida & Arte Vida & Arte Agenda Cinema Guia Vida&Arte Turismo Shows & Espetáculos Exposições & Cursos Assine Os cookies nos ajudam a administrar este site. Ao usar nosso site, você concorda com nosso uso de cookies. Leia Mais or Aceitar . Nobel de Física 2024 premia descoberta que impulsiona a inteligência artificial Início Notícias Ciência Nobel de Física 2024 premia descoberta que impulsiona a inteligência artificial Nobel de Física 2024 premia descoberta que impulsiona a inteligência artificial Os pesquisadores John Hopfield e Geoffrey Hinton foram contemplados com o Prêmio Nobel de Física nesta terça, 8. Saiba quem são os premiados e por que ganharam 07:00 | 08/10/2024 Autor Mariana Fernandes Mariana Fernandes Autor Ver perfil do autor Tipo Notícia Nobel 2024: John J. Hopfield e Geoffrey E. Hinton são os ganhadores do prêmio de física Crédito: Niklas Elmehed © Nobel Prize Outreach O prêmio Nobel de Física 2024 foi concedido ao pesquisador americano John Hopfield e ao pesquisador britânico Geoffrey Hinton . Estão sendo reconhecidos \"pelas descobertas e invenções fundamentais que permitem o aprendizado de máquina com redes neurais Método de inteligência artificial que ensina computadores a processar dados de uma forma inspirada pelo cérebro humano. artificiais\". Entenda o que é a pesquisa e os cientistas envolvidos. \"Eles treinaram redes neurais artificiais usando física\", segundo nota divulgada pela instituição do prêmio. O prêmio de aproximadamente 1 milhão de dólares (cerca de R$5,8 milhões) será dividido igualmente entre os cientistas. É + que streaming. É arte, cultura e história. + filmes, séries e documentários + reportagens interativas + colunistas exclusivos Assine agora Nobel 2024: Conheça os ganhadores do prêmio de Física John J. Hopfield nasceu em 1933 em Chicago, Illinois, Estados Unidos. Recebeu seu pós-doutorado em 1958 pela Cornell University, Ithaca, Nova York. Atualmente, é professor da Universidade de Princeton, Nova Jersey, nos Estados Unidos. Geoffrey E. Hinton nasceu em 1947 em Londres, Reino Unido. Recebeu seu pós-doutorado em 1978 pela Universidade de Edimburgo, Reino Unido. E professor na Universidade de Toronto, Canadá. Nobel 2024: Entenda as pesquisas dos ganhadores do prêmio de Física Os dois ganhadores do Nobel de Física este ano desenvolveram pesquisas que serviram como base para o \"aprendizado de máquina\", usado para treinar os programas de Inteligência Artificial . John Hopfield inventou uma rede que usa um método para salvar e recriar padrões. A rede Hopfield utiliza física para descrever as características de um material, utilizando principalmente imagens. Assim, quando a rede é alimentada com uma imagem distorcida ou imperfeita, ela trabalhará para encontrar  imagem salva que é mais parecida com esta. Geoffrey Hinton usou a rede Hopfield como base para uma nova rede que usa um método diferente: a máquina de Boltzmann , que pode aprender a reconhecer elementos característicos de qualquer tipo de dado. Seu trabalho foi responsável por iniciar o atual desenvolvimento explosivo do aprendizado de máquina . Nobel de Física: Confira os ganhadores dos últimos anos Nos últimos cinco anos, o Nobel de Física foi seguidamente entregue a trios de cientistas. Relembre os premiados: Nobel de Física 2023: Pierre Agostini, Ferenc Krausz e Anne L’Huillier , por seus experimentos \"para métodos experimentais que geram pulsos de attossegundos de luz\". Nobel de Física 2022: Alain Aspect, John Clauser e Anton Zeilinger por suas descobertas no campo da mecânica quântica. Nobel de Física 2021: Syukuro Manabe, Klaus Hasselmann e Giorgio Parisi por seus trabalhos para compreender sistemas físicos complexos como a mudança climática da Terra. Nobel de Física 2020: Roger Penrose, Reinhard Genzel e Andrea Ghez por demonstrar a relação entre a teoria da relatividade geral e os buracos negros. Nobel de Física 2019: James Peebles, Michel Mayor e Didier Queloz pelo desenvolvimento teórico da cosmologia física e primeira descoberta de um planeta fora do Sistema Solar. Nobel 2024: veja os vencedores das outras categorias Os anúncios dos vencedores do Prêmio Nobel 2024 ocorrem de 7 a 14 de outubro. A premiação tem seis categorias: Medicina ou Fisiologia, Física, Química, Literatura, Nobel da Paz e Economia. Veja o vencedor do Prêmio Nobel de Medicina 2024 A honraria pode ser dividida por até três pessoas. No caso do Nobel da Paz, uma organização também pode ser contemplada. Todos os anúncios dos prêmios serão transmitidos ao vivo no site oficial (nobelprize.org) e nos canais digitais oficiais do Prêmio Nobel. LEIA MAIS | Veja datas dos anúncios dos vencedores do Prêmio Nobel 2024 Nobel 2024: saiba mais sobre o prêmio O Prêmio Nobel tem origem no testamento do inventor e empreendedor sueco Alfred Nobel. Em 27 de novembro de 1895, ele doou uma parte de sua fortuna para uma série de prêmios de física, química, fisiologia ou medicina, literatura e paz. Essas eram as áreas em que ele mais se envolveu durante sua vida. Depois de sua morte, em 1896, iniciou-se o processo de criação do prêmio, sendo os primeiros concedidos em 1901. Em 1969, foi estabelecido o prêmio em Ciências Econômicas em Memória de Alfred Nobel, criando uma nova categoria. Desde 1901, os Prêmios Nobel não foram concedidos 49 vezes , sendo a maioria delas nos períodos da Primeira Guerra Mundial (1914-1918) e a Segunda Guerra Mundial (1939-1945). De acordo com os estatutos da Fundação Nobel, “se nenhuma das obras em consideração for considerada da importância indicada no primeiro parágrafo, o dinheiro do prêmio será reservado até o ano seguinte. Se, mesmo assim, o prêmio não puder ser concedido, o valor será adicionado aos fundos restritos da Fundação\". Leia mais Nobel da Paz iraniana Narges Mohammadi pede fim do silêncio diante da opressão das mulheres Restos de Miguel Ángel Asturias, Nobel de Literatura, serão repatriados da França para Guatemala Morre Alice Munro, vencedora do Nobel de Literatura, aos 92 anos Sobre o assunto Nobel da Paz iraniana Narges Mohammadi pede fim do silêncio diante da opressão das mulheres Restos de Miguel Ángel Asturias, Nobel de Literatura, serão repatriados da França para Guatemala Morre Alice Munro, vencedora do Nobel de Literatura, aos 92 anos Dúvidas, Críticas e Sugestões? Fale com a gente Os cookies nos ajudam a administrar este site.\n",
      "        Ao usar nosso site, você concorda com nosso uso de cookies. Leia Mais ou Aceitar . Os cookies nos ajudam a administrar este site.\n",
      "        Ao usar nosso site, você concorda com nosso uso de cookies. Política de privacidade Aceitar Noticias Política Fortaleza Economia Brasil Ceará Mundo Saúde Tecnologia Curiosidades Veículos Checagem Previsão do Tempo Esportes Ceará Fortaleza Cearenses Futebol Tabelas Mais esportes Futebol Internacional Apostas Copa Feminina Brasileirão Série A Brasileirão Série B Atlético-MG Botafogo Corinthians Cruzeiro Flamengo Fluminense Grêmio Internacional Palmeiras Santos São Paulo Vasco Entretenimento Vida&Arte Guia Vida&Arte Cinema Divirta-se The Voice A Fazenda BBB Masterchef Power Couple Brasil Especiais Blogs O POVO Mais O POVO CBN Nova Brasil FM Canal FDR Populares Anuário do Ceará Termo de Uso Política de Privacidade Política de Cookies Conheça O POVO Trabalhe Conosco Fale com a gente Assine Ombudsman Participamos do Copyright © 2024. Todos os direitos reservados. EMPRESA JORNALISTICA O POVO S/A | CNPJ: 07.222.565/0001-62 Participamos do Copyright © 2023. Todos os direitos reservados. EMPRESA JORNALISTICA O POVO S/A | CNPJ: 07.222.565/0001-62\n",
      "O texto não menciona o vencedor do Prêmio Nobel de Medicina em 2024. Ele só faz menção às datas dos anúncios dos vencedores daquele ano e lista as categorias do prêmio (Medicina ou Fisiologia, Física, Química, Literatura, Nobel da Paz e Economia).\n"
     ]
    }
   ],
   "source": [
    "# Exemplo 2: Pergunta específica que requer pesquisa\n",
    "response2 = run_agent(prompt=\"Quem foram os ganhadores do Prêmio Nobel de Física de 2024?\", system_prompt=system_prompt)\n",
    "\n",
    "print(response2)"
   ]
  },
  {
   "cell_type": "code",
   "execution_count": null,
   "metadata": {},
   "outputs": [],
   "source": []
  }
 ],
 "metadata": {
  "kernelspec": {
   "display_name": "venv_All",
   "language": "python",
   "name": "python3"
  },
  "language_info": {
   "codemirror_mode": {
    "name": "ipython",
    "version": 3
   },
   "file_extension": ".py",
   "mimetype": "text/x-python",
   "name": "python",
   "nbconvert_exporter": "python",
   "pygments_lexer": "ipython3",
   "version": "3.10.12"
  }
 },
 "nbformat": 4,
 "nbformat_minor": 2
}
