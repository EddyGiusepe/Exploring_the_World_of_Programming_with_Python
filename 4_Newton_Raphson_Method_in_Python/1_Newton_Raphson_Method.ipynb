{
 "cells": [
  {
   "cell_type": "markdown",
   "metadata": {},
   "source": [
    "<h1 align=\"center\"><font color=\"red\">Newton Raphson Method</font></h1>"
   ]
  },
  {
   "cell_type": "markdown",
   "metadata": {},
   "source": [
    "<font color=\"yellow\">Data Scientist.: Dr. Eddy Giusepe Chirinos Isidro</font>"
   ]
  },
  {
   "cell_type": "markdown",
   "metadata": {},
   "source": [
    "O método Newton-Raphson é uma técnica numérica iterativa usada para encontrar as raízes (ou zeros) de uma função suave e contínua. Dê uma estimativa inicial, ela refina a estimativa usando a derivada da função. O método converge rapidamente para a raiz se a estimativa inicial for suficientemente próxima. Na otimização, em vez de encontrar a raiz de uma função, buscamos o mínimo ou o máximo da função. Ao considerar a derivada (ou gradiente) da função, o método atualiza iterativamente as variáveis para se aproximar da solução ótima.\n",
    "\n",
    "Encontre o mínimo ou máximo de uma função escalar (otimização de variável única) ou de uma função com valor vetorial (otimização multivariável)"
   ]
  },
  {
   "cell_type": "code",
   "execution_count": 1,
   "metadata": {},
   "outputs": [],
   "source": [
    "import numpy as np\n",
    "from tqdm import tqdm\n",
    "\n",
    "# Exemplo básico para a seguinte função:\n",
    "def f(x):\n",
    "    return x**2 + 2\n",
    "\n",
    "# Definimos a sua derivada:\n",
    "def f_prime(x):\n",
    "    return 2*x\n"
   ]
  },
  {
   "cell_type": "markdown",
   "metadata": {},
   "source": [
    "<font color=\"orange\">Implementamos o `Método de Newton-Raphson`</font>"
   ]
  },
  {
   "cell_type": "code",
   "execution_count": 2,
   "metadata": {},
   "outputs": [],
   "source": [
    "def my_newton(f, df, x0, tol):\n",
    "    \"\"\"\n",
    "    Encontra a raiz de uma função usando o método Newton-Raphson.\n",
    "\n",
    "    Args:\n",
    "        f: Objeto de função representando f(x)\n",
    "        df: Objeto de função representando f'(x)\n",
    "        x0: Suposição inicial\n",
    "        tol: Tolerância a erros\n",
    "\n",
    "    Returns:\n",
    "            Raiz estimada\n",
    "    \"\"\"\n",
    "    # Verifique se a estimativa inicial já está próxima da raiz:\n",
    "    if abs(f(x0)) < tol:\n",
    "        return x0\n",
    "    else:\n",
    "        with tqdm() as pbar:\n",
    "            # Atualize a estimativa iterativamente até a convergência:\n",
    "            while True:\n",
    "                x1 = x0 - f(x0) / df(x0) # x_new = x_old - function(x_old) / function_derivative(x_old)\n",
    "                if abs(x1-x0) < tol:\n",
    "                    pbar.close()\n",
    "                    return x1\n",
    "                x0 = x1\n",
    "                pbar.update()\n",
    "\n"
   ]
  },
  {
   "cell_type": "markdown",
   "metadata": {},
   "source": [
    "<font color=\"orange\">Exemplo de uso:</font>"
   ]
  },
  {
   "cell_type": "code",
   "execution_count": 5,
   "metadata": {},
   "outputs": [],
   "source": [
    "initial_guess = 1.4\n",
    "\n",
    "tolerance = 1e-6 # Defina a tolerância desejada"
   ]
  },
  {
   "cell_type": "code",
   "execution_count": null,
   "metadata": {},
   "outputs": [],
   "source": [
    "estimated_root = my_newton(f, f_prime, initial_guess, tolerance)\n",
    "\n",
    "print(f\"Raiz estimada usando o método Newton-Raphson, é: {estimated_root}\")"
   ]
  },
  {
   "cell_type": "code",
   "execution_count": null,
   "metadata": {},
   "outputs": [],
   "source": [
    "print(\"Atual valor de √2: \", np.sqrt(2))"
   ]
  }
 ],
 "metadata": {
  "kernelspec": {
   "display_name": "venv_All",
   "language": "python",
   "name": "python3"
  },
  "language_info": {
   "codemirror_mode": {
    "name": "ipython",
    "version": 3
   },
   "file_extension": ".py",
   "mimetype": "text/x-python",
   "name": "python",
   "nbconvert_exporter": "python",
   "pygments_lexer": "ipython3",
   "version": "3.10.12"
  }
 },
 "nbformat": 4,
 "nbformat_minor": 2
}
