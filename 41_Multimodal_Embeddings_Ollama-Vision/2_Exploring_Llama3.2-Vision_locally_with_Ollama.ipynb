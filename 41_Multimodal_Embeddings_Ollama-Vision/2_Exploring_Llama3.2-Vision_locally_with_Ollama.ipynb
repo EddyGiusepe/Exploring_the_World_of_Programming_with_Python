{
 "cells": [
  {
   "cell_type": "markdown",
   "metadata": {},
   "source": [
    "# <h1 align=\"center\"><font color=\"red\">Exploring Llama 3.2-Vision (locally) with Ollama\n",
    "</font></h1>"
   ]
  },
  {
   "cell_type": "markdown",
   "metadata": {},
   "source": [
    "<font color=\"pink\">Senior Data Scientist.: Dr. Eddy Giusepe Chirinos Isidro</font>"
   ]
  },
  {
   "cell_type": "markdown",
   "metadata": {},
   "source": [
    "Links de estudo:\n",
    "\n",
    "* [Shaw Talebi](https://towardsdatascience.com/multimodal-embeddings-an-introduction-5dc36975966f)\n",
    "\n",
    "* [GitHub: Shaw Talebi](https://github.com/ShawhinT/YouTube-Blog/tree/main)"
   ]
  },
  {
   "cell_type": "markdown",
   "metadata": {},
   "source": [
    "# <font color=\"pink\">Baixando as imagens</font>"
   ]
  },
  {
   "cell_type": "code",
   "execution_count": null,
   "metadata": {},
   "outputs": [],
   "source": [
    "# %cd /home/eddygiusepe/2_EddyGiusepe_Estudo/Exploring_the_World_of_Programming_with_Python/41_Multimodal_Embeddings_images-audio-video/data \n",
    "\n",
    "\n",
    "# !wget https://raw.githubusercontent.com/ShawhinT/YouTube-Blog/refs/heads/main/multimodal-ai/1-mm-llms/images/5-ai-projects.jpeg\n",
    "\n",
    "# !wget https://raw.githubusercontent.com/ShawhinT/YouTube-Blog/refs/heads/main/multimodal-ai/1-mm-llms/images/ai-meme.jpeg\n",
    "\n",
    "# NOTA: Para baixar as imagens, tem que usar o link raw da imagem (faz click na imagem e abre no navegador e copia o link da imagem)\n"
   ]
  },
  {
   "cell_type": "markdown",
   "metadata": {},
   "source": [
    "# <font color=\"red\">Basic Usage</font>"
   ]
  },
  {
   "cell_type": "code",
   "execution_count": 3,
   "metadata": {},
   "outputs": [
    {
     "name": "stdout",
     "output_type": "stream",
     "text": [
      "Número de threads disponíveis: 20\n"
     ]
    }
   ],
   "source": [
    "import multiprocessing\n",
    "print(f\"Número de threads disponíveis: {multiprocessing.cpu_count()}\")"
   ]
  },
  {
   "cell_type": "code",
   "execution_count": null,
   "metadata": {},
   "outputs": [],
   "source": [
    "import ollama\n",
    "\n",
    "# Informações do modelo (MAS FÁCIL É NA LINHA DE COMANDO)\n",
    "model_info = ollama.show('llama3.2-vision:11b')\n",
    "model_info"
   ]
  },
  {
   "cell_type": "code",
   "execution_count": 8,
   "metadata": {},
   "outputs": [],
   "source": [
    "import ollama\n",
    "\n",
    "# pull model:\n",
    "#ollama.pull('llama3.2-vision:11b')\n",
    "\n",
    "response = ollama.chat(\n",
    "    model='llama3.2-vision:11b',\n",
    "    messages=[\n",
    "    {\n",
    "        'role': 'system',\n",
    "        'content': \"\"\"Você é um experto em Análise de Vibração, Manutenção preditiva\n",
    "                        e monitoramento de ativos industriais.\"\"\"\n",
    "    },\n",
    "    {\n",
    "        'role': 'user',\n",
    "        'content': \"\"\"Extraia, APENAS, o tipo de motor.\n",
    "                   \"\"\",\n",
    "        'images': [\"./images/placa_motor_monofasico.JPG\"]     # [\"./images/SIEMENS.jpeg\"]  # ['data/ai-meme.jpeg']\n",
    "    }\n",
    "    ],\n",
    "    options={\n",
    "        'num_gpu': 1,  # Número de GPUs a serem utilizadas\n",
    "        'num_thread': 12,  # Número de threads para processamento\n",
    "        'mmap': True,  # Habilita memory mapping para melhor performance\n",
    "        'gpu_layers': 25, # controla quantas camadas do modelo rodam na GPU\n",
    "        'temperature': 0.0 # controla a aleatoriedade da resposta\n",
    "    }\n",
    ")\n"
   ]
  },
  {
   "cell_type": "code",
   "execution_count": 9,
   "metadata": {},
   "outputs": [
    {
     "name": "stdout",
     "output_type": "stream",
     "text": [
      "ALY711-2\n"
     ]
    }
   ],
   "source": [
    "print(response['message']['content'])\n"
   ]
  },
  {
   "cell_type": "markdown",
   "metadata": {},
   "source": [
    "# <font color=\"red\">Image captioning - streaming</font>"
   ]
  },
  {
   "cell_type": "code",
   "execution_count": null,
   "metadata": {},
   "outputs": [],
   "source": [
    "stream = ollama.chat(\n",
    "    model='llama3.2-vision:11b',\n",
    "    messages=[{\n",
    "        'role': 'user',\n",
    "        'content': 'Responde em pt-BR a seguinte pergunta: Você pode escrever uma legenda para esta imagem?',\n",
    "        'images': [\"./images/SIEMENS.jpeg\"]  # ['data/ai-meme.jpeg']\n",
    "    }],\n",
    "    stream=True,\n",
    ")\n",
    "\n",
    "for chunk in stream:\n",
    "    print(chunk['message']['content'], end='', flush=True)"
   ]
  },
  {
   "cell_type": "markdown",
   "metadata": {},
   "source": [
    "# <font color=\"red\">Explaining</font>"
   ]
  },
  {
   "cell_type": "code",
   "execution_count": null,
   "metadata": {},
   "outputs": [],
   "source": [
    "stream = ollama.chat(\n",
    "    model='llama3.2-vision:11b',\n",
    "    messages=[{\n",
    "        'role': 'user',\n",
    "        'content': 'Responda sempre em pt-BR. Explique a imagem de forma detalhada e com muito cuidado.',\n",
    "        'images': [\"./images/SIEMENS.jpeg\"]  # ['data/ai-meme.jpeg']\n",
    "    }],\n",
    "    stream=True,\n",
    ")\n",
    "\n",
    "for chunk in stream:\n",
    "    print(chunk['message']['content'], end='', flush=True)"
   ]
  },
  {
   "cell_type": "markdown",
   "metadata": {},
   "source": [
    "# <font color=\"red\">OCR</font>"
   ]
  },
  {
   "cell_type": "code",
   "execution_count": null,
   "metadata": {},
   "outputs": [],
   "source": [
    "stream = ollama.chat(\n",
    "    model='llama3.2-vision:11b',\n",
    "    messages=[{\n",
    "        'role': 'user',\n",
    "        'content': 'Responde em pt-BR a seguinte pergunta: Você pode transcrever o texto desta captura de tela em um formato markdown?',\n",
    "        'images': [\"./images/SIEMENS.jpeg\"] # ['data/5-ai-projects.jpeg']\n",
    "    }],\n",
    "    stream=True,\n",
    ")\n",
    "\n",
    "for chunk in stream:\n",
    "    print(chunk['message']['content'], end='', flush=True)"
   ]
  },
  {
   "cell_type": "code",
   "execution_count": null,
   "metadata": {},
   "outputs": [],
   "source": []
  }
 ],
 "metadata": {
  "kernelspec": {
   "display_name": "venv_All",
   "language": "python",
   "name": "python3"
  },
  "language_info": {
   "codemirror_mode": {
    "name": "ipython",
    "version": 3
   },
   "file_extension": ".py",
   "mimetype": "text/x-python",
   "name": "python",
   "nbconvert_exporter": "python",
   "pygments_lexer": "ipython3",
   "version": "3.10.12"
  }
 },
 "nbformat": 4,
 "nbformat_minor": 2
}
