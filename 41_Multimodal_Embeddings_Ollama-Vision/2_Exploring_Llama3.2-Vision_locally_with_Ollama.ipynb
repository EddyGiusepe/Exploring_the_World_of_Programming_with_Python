{
 "cells": [
  {
   "cell_type": "markdown",
   "metadata": {},
   "source": [
    "# <h1 align=\"center\"><font color=\"red\">Exploring Llama 3.2-Vision (locally) with Ollama\n",
    "</font></h1>"
   ]
  },
  {
   "cell_type": "markdown",
   "metadata": {},
   "source": [
    "<font color=\"pink\">Senior Data Scientist.: Dr. Eddy Giusepe Chirinos Isidro</font>"
   ]
  },
  {
   "cell_type": "markdown",
   "metadata": {},
   "source": [
    "Links de estudo:\n",
    "\n",
    "* [Shaw Talebi](https://towardsdatascience.com/multimodal-embeddings-an-introduction-5dc36975966f)\n",
    "\n",
    "* [GitHub: Shaw Talebi](https://github.com/ShawhinT/YouTube-Blog/tree/main)"
   ]
  },
  {
   "cell_type": "markdown",
   "metadata": {},
   "source": [
    "# <font color=\"pink\">Baixando as imagens</font>"
   ]
  },
  {
   "cell_type": "code",
   "execution_count": 3,
   "metadata": {},
   "outputs": [],
   "source": [
    "# %cd /home/eddygiusepe/2_EddyGiusepe_Estudo/Exploring_the_World_of_Programming_with_Python/41_Multimodal_Embeddings_images-audio-video/data \n",
    "\n",
    "\n",
    "# !wget https://raw.githubusercontent.com/ShawhinT/YouTube-Blog/refs/heads/main/multimodal-ai/1-mm-llms/images/5-ai-projects.jpeg\n",
    "\n",
    "# !wget https://raw.githubusercontent.com/ShawhinT/YouTube-Blog/refs/heads/main/multimodal-ai/1-mm-llms/images/ai-meme.jpeg\n",
    "\n",
    "# NOTA: Para baixar as imagens, tem que usar o link raw da imagem (faz click na imagem e abre no navegador e copia o link da imagem)\n"
   ]
  },
  {
   "cell_type": "markdown",
   "metadata": {},
   "source": [
    "# <font color=\"red\">Basic Usage</font>"
   ]
  },
  {
   "cell_type": "code",
   "execution_count": 7,
   "metadata": {},
   "outputs": [
    {
     "name": "stdout",
     "output_type": "stream",
     "text": [
      "Número de threads disponíveis: 20\n"
     ]
    }
   ],
   "source": [
    "import multiprocessing\n",
    "\n",
    "print(f\"Número de threads disponíveis: {multiprocessing.cpu_count()}\")"
   ]
  },
  {
   "cell_type": "code",
   "execution_count": 8,
   "metadata": {},
   "outputs": [
    {
     "data": {
      "text/plain": [
       "{'license': 'LLAMA 3.2 COMMUNITY LICENSE AGREEMENT\\nLlama 3.2 Version Release Date: September 25, 2024\\n\\n“Agreement” means the terms and conditions for use, reproduction, distribution \\nand modification of the Llama Materials set forth herein.\\n\\n“Documentation” means the specifications, manuals and documentation accompanying Llama 3.2\\ndistributed by Meta at https://llama.meta.com/doc/overview.\\n\\n“Licensee” or “you” means you, or your employer or any other person or entity (if you are \\nentering into this Agreement on such person or entity’s behalf), of the age required under\\napplicable laws, rules or regulations to provide legal consent and that has legal authority\\nto bind your employer or such other person or entity if you are entering in this Agreement\\non their behalf.\\n\\n“Llama 3.2” means the foundational large language models and software and algorithms, including\\nmachine-learning model code, trained model weights, inference-enabling code, training-enabling code,\\nfine-tuning enabling code and other elements of the foregoing distributed by Meta at \\nhttps://www.llama.com/llama-downloads.\\n\\n“Llama Materials” means, collectively, Meta’s proprietary Llama 3.2 and Documentation (and \\nany portion thereof) made available under this Agreement.\\n\\n“Meta” or “we” means Meta Platforms Ireland Limited (if you are located in or, \\nif you are an entity, your principal place of business is in the EEA or Switzerland) \\nand Meta Platforms, Inc. (if you are located outside of the EEA or Switzerland). \\n\\n\\nBy clicking “I Accept” below or by using or distributing any portion or element of the Llama Materials,\\nyou agree to be bound by this Agreement.\\n\\n\\n1. License Rights and Redistribution.\\n\\n    a. Grant of Rights. You are granted a non-exclusive, worldwide, \\nnon-transferable and royalty-free limited license under Meta’s intellectual property or other rights \\nowned by Meta embodied in the Llama Materials to use, reproduce, distribute, copy, create derivative works \\nof, and make modifications to the Llama Materials.  \\n\\n    b. Redistribution and Use.  \\n\\n        i. If you distribute or make available the Llama Materials (or any derivative works thereof), \\nor a product or service (including another AI model) that contains any of them, you shall (A) provide\\na copy of this Agreement with any such Llama Materials; and (B) prominently display “Built with Llama”\\non a related website, user interface, blogpost, about page, or product documentation. If you use the\\nLlama Materials or any outputs or results of the Llama Materials to create, train, fine tune, or\\notherwise improve an AI model, which is distributed or made available, you shall also include “Llama”\\nat the beginning of any such AI model name.\\n\\n        ii. If you receive Llama Materials, or any derivative works thereof, from a Licensee as part\\nof an integrated end user product, then Section 2 of this Agreement will not apply to you. \\n\\n        iii. You must retain in all copies of the Llama Materials that you distribute the \\nfollowing attribution notice within a “Notice” text file distributed as a part of such copies: \\n“Llama 3.2 is licensed under the Llama 3.2 Community License, Copyright © Meta Platforms,\\nInc. All Rights Reserved.”\\n\\n        iv. Your use of the Llama Materials must comply with applicable laws and regulations\\n(including trade compliance laws and regulations) and adhere to the Acceptable Use Policy for\\nthe Llama Materials (available at https://www.llama.com/llama3_2/use-policy), which is hereby \\nincorporated by reference into this Agreement.\\n  \\n2. Additional Commercial Terms. If, on the Llama 3.2 version release date, the monthly active users\\nof the products or services made available by or for Licensee, or Licensee’s affiliates, \\nis greater than 700 million monthly active users in the preceding calendar month, you must request \\na license from Meta, which Meta may grant to you in its sole discretion, and you are not authorized to\\nexercise any of the rights under this Agreement unless or until Meta otherwise expressly grants you such rights.\\n\\n3. Disclaimer of Warranty. UNLESS REQUIRED BY APPLICABLE LAW, THE LLAMA MATERIALS AND ANY OUTPUT AND \\nRESULTS THEREFROM ARE PROVIDED ON AN “AS IS” BASIS, WITHOUT WARRANTIES OF ANY KIND, AND META DISCLAIMS\\nALL WARRANTIES OF ANY KIND, BOTH EXPRESS AND IMPLIED, INCLUDING, WITHOUT LIMITATION, ANY WARRANTIES\\nOF TITLE, NON-INFRINGEMENT, MERCHANTABILITY, OR FITNESS FOR A PARTICULAR PURPOSE. YOU ARE SOLELY RESPONSIBLE\\nFOR DETERMINING THE APPROPRIATENESS OF USING OR REDISTRIBUTING THE LLAMA MATERIALS AND ASSUME ANY RISKS ASSOCIATED\\nWITH YOUR USE OF THE LLAMA MATERIALS AND ANY OUTPUT AND RESULTS.\\n\\n4. Limitation of Liability. IN NO EVENT WILL META OR ITS AFFILIATES BE LIABLE UNDER ANY THEORY OF LIABILITY, \\nWHETHER IN CONTRACT, TORT, NEGLIGENCE, PRODUCTS LIABILITY, OR OTHERWISE, ARISING OUT OF THIS AGREEMENT, \\nFOR ANY LOST PROFITS OR ANY INDIRECT, SPECIAL, CONSEQUENTIAL, INCIDENTAL, EXEMPLARY OR PUNITIVE DAMAGES, EVEN \\nIF META OR ITS AFFILIATES HAVE BEEN ADVISED OF THE POSSIBILITY OF ANY OF THE FOREGOING.\\n\\n5. Intellectual Property.\\n\\n    a. No trademark licenses are granted under this Agreement, and in connection with the Llama Materials, \\nneither Meta nor Licensee may use any name or mark owned by or associated with the other or any of its affiliates, \\nexcept as required for reasonable and customary use in describing and redistributing the Llama Materials or as \\nset forth in this Section 5(a). Meta hereby grants you a license to use “Llama” (the “Mark”) solely as required \\nto comply with the last sentence of Section 1.b.i. You will comply with Meta’s brand guidelines (currently accessible \\nat https://about.meta.com/brand/resources/meta/company-brand/). All goodwill arising out of your use of the Mark \\nwill inure to the benefit of Meta.\\n\\n    b. Subject to Meta’s ownership of Llama Materials and derivatives made by or for Meta, with respect to any\\n    derivative works and modifications of the Llama Materials that are made by you, as between you and Meta,\\n    you are and will be the owner of such derivative works and modifications.\\n\\n    c. If you institute litigation or other proceedings against Meta or any entity (including a cross-claim or\\n    counterclaim in a lawsuit) alleging that the Llama Materials or Llama 3.2 outputs or results, or any portion\\n    of any of the foregoing, constitutes infringement of intellectual property or other rights owned or licensable\\n    by you, then any licenses granted to you under this Agreement shall terminate as of the date such litigation or\\n    claim is filed or instituted. You will indemnify and hold harmless Meta from and against any claim by any third\\n    party arising out of or related to your use or distribution of the Llama Materials.\\n\\n6. Term and Termination. The term of this Agreement will commence upon your acceptance of this Agreement or access\\nto the Llama Materials and will continue in full force and effect until terminated in accordance with the terms\\nand conditions herein. Meta may terminate this Agreement if you are in breach of any term or condition of this\\nAgreement. Upon termination of this Agreement, you shall delete and cease use of the Llama Materials. Sections 3,\\n4 and 7 shall survive the termination of this Agreement. \\n\\n7. Governing Law and Jurisdiction. This Agreement will be governed and construed under the laws of the State of \\nCalifornia without regard to choice of law principles, and the UN Convention on Contracts for the International\\nSale of Goods does not apply to this Agreement. The courts of California shall have exclusive jurisdiction of\\nany dispute arising out of this Agreement. ',\n",
       " 'modelfile': '# Modelfile generated by \"ollama show\"\\n# To build a new Modelfile based on this, replace FROM with:\\n# FROM llama3.2-vision:11b\\n\\nFROM /home/eddygiusepe/.ollama/models/blobs/sha256-11f274007f093fefeec994a5dbbb33d0733a4feb87f7ab66dcd7c1069fef0068\\nFROM /home/eddygiusepe/.ollama/models/blobs/sha256-ece5e659647a20a5c28ab9eea1c12a1ad430bc0f2a27021d00ad103b3bf5206f\\nTEMPLATE \"\"\"{{- range $index, $_ := .Messages }}<|start_header_id|>{{ .Role }}<|end_header_id|>\\n\\n{{ .Content }}\\n{{- if gt (len (slice $.Messages $index)) 1 }}<|eot_id|>\\n{{- else if ne .Role \"assistant\" }}<|eot_id|><|start_header_id|>assistant<|end_header_id|>\\n\\n{{ end }}\\n{{- end }}\"\"\"\\nPARAMETER top_p 0.9\\nPARAMETER temperature 0.6\\nLICENSE \"LLAMA 3.2 COMMUNITY LICENSE AGREEMENT\\nLlama 3.2 Version Release Date: September 25, 2024\\n\\n“Agreement” means the terms and conditions for use, reproduction, distribution \\nand modification of the Llama Materials set forth herein.\\n\\n“Documentation” means the specifications, manuals and documentation accompanying Llama 3.2\\ndistributed by Meta at https://llama.meta.com/doc/overview.\\n\\n“Licensee” or “you” means you, or your employer or any other person or entity (if you are \\nentering into this Agreement on such person or entity’s behalf), of the age required under\\napplicable laws, rules or regulations to provide legal consent and that has legal authority\\nto bind your employer or such other person or entity if you are entering in this Agreement\\non their behalf.\\n\\n“Llama 3.2” means the foundational large language models and software and algorithms, including\\nmachine-learning model code, trained model weights, inference-enabling code, training-enabling code,\\nfine-tuning enabling code and other elements of the foregoing distributed by Meta at \\nhttps://www.llama.com/llama-downloads.\\n\\n“Llama Materials” means, collectively, Meta’s proprietary Llama 3.2 and Documentation (and \\nany portion thereof) made available under this Agreement.\\n\\n“Meta” or “we” means Meta Platforms Ireland Limited (if you are located in or, \\nif you are an entity, your principal place of business is in the EEA or Switzerland) \\nand Meta Platforms, Inc. (if you are located outside of the EEA or Switzerland). \\n\\n\\nBy clicking “I Accept” below or by using or distributing any portion or element of the Llama Materials,\\nyou agree to be bound by this Agreement.\\n\\n\\n1. License Rights and Redistribution.\\n\\n    a. Grant of Rights. You are granted a non-exclusive, worldwide, \\nnon-transferable and royalty-free limited license under Meta’s intellectual property or other rights \\nowned by Meta embodied in the Llama Materials to use, reproduce, distribute, copy, create derivative works \\nof, and make modifications to the Llama Materials.  \\n\\n    b. Redistribution and Use.  \\n\\n        i. If you distribute or make available the Llama Materials (or any derivative works thereof), \\nor a product or service (including another AI model) that contains any of them, you shall (A) provide\\na copy of this Agreement with any such Llama Materials; and (B) prominently display “Built with Llama”\\non a related website, user interface, blogpost, about page, or product documentation. If you use the\\nLlama Materials or any outputs or results of the Llama Materials to create, train, fine tune, or\\notherwise improve an AI model, which is distributed or made available, you shall also include “Llama”\\nat the beginning of any such AI model name.\\n\\n        ii. If you receive Llama Materials, or any derivative works thereof, from a Licensee as part\\nof an integrated end user product, then Section 2 of this Agreement will not apply to you. \\n\\n        iii. You must retain in all copies of the Llama Materials that you distribute the \\nfollowing attribution notice within a “Notice” text file distributed as a part of such copies: \\n“Llama 3.2 is licensed under the Llama 3.2 Community License, Copyright © Meta Platforms,\\nInc. All Rights Reserved.”\\n\\n        iv. Your use of the Llama Materials must comply with applicable laws and regulations\\n(including trade compliance laws and regulations) and adhere to the Acceptable Use Policy for\\nthe Llama Materials (available at https://www.llama.com/llama3_2/use-policy), which is hereby \\nincorporated by reference into this Agreement.\\n  \\n2. Additional Commercial Terms. If, on the Llama 3.2 version release date, the monthly active users\\nof the products or services made available by or for Licensee, or Licensee’s affiliates, \\nis greater than 700 million monthly active users in the preceding calendar month, you must request \\na license from Meta, which Meta may grant to you in its sole discretion, and you are not authorized to\\nexercise any of the rights under this Agreement unless or until Meta otherwise expressly grants you such rights.\\n\\n3. Disclaimer of Warranty. UNLESS REQUIRED BY APPLICABLE LAW, THE LLAMA MATERIALS AND ANY OUTPUT AND \\nRESULTS THEREFROM ARE PROVIDED ON AN “AS IS” BASIS, WITHOUT WARRANTIES OF ANY KIND, AND META DISCLAIMS\\nALL WARRANTIES OF ANY KIND, BOTH EXPRESS AND IMPLIED, INCLUDING, WITHOUT LIMITATION, ANY WARRANTIES\\nOF TITLE, NON-INFRINGEMENT, MERCHANTABILITY, OR FITNESS FOR A PARTICULAR PURPOSE. YOU ARE SOLELY RESPONSIBLE\\nFOR DETERMINING THE APPROPRIATENESS OF USING OR REDISTRIBUTING THE LLAMA MATERIALS AND ASSUME ANY RISKS ASSOCIATED\\nWITH YOUR USE OF THE LLAMA MATERIALS AND ANY OUTPUT AND RESULTS.\\n\\n4. Limitation of Liability. IN NO EVENT WILL META OR ITS AFFILIATES BE LIABLE UNDER ANY THEORY OF LIABILITY, \\nWHETHER IN CONTRACT, TORT, NEGLIGENCE, PRODUCTS LIABILITY, OR OTHERWISE, ARISING OUT OF THIS AGREEMENT, \\nFOR ANY LOST PROFITS OR ANY INDIRECT, SPECIAL, CONSEQUENTIAL, INCIDENTAL, EXEMPLARY OR PUNITIVE DAMAGES, EVEN \\nIF META OR ITS AFFILIATES HAVE BEEN ADVISED OF THE POSSIBILITY OF ANY OF THE FOREGOING.\\n\\n5. Intellectual Property.\\n\\n    a. No trademark licenses are granted under this Agreement, and in connection with the Llama Materials, \\nneither Meta nor Licensee may use any name or mark owned by or associated with the other or any of its affiliates, \\nexcept as required for reasonable and customary use in describing and redistributing the Llama Materials or as \\nset forth in this Section 5(a). Meta hereby grants you a license to use “Llama” (the “Mark”) solely as required \\nto comply with the last sentence of Section 1.b.i. You will comply with Meta’s brand guidelines (currently accessible \\nat https://about.meta.com/brand/resources/meta/company-brand/). All goodwill arising out of your use of the Mark \\nwill inure to the benefit of Meta.\\n\\n    b. Subject to Meta’s ownership of Llama Materials and derivatives made by or for Meta, with respect to any\\n    derivative works and modifications of the Llama Materials that are made by you, as between you and Meta,\\n    you are and will be the owner of such derivative works and modifications.\\n\\n    c. If you institute litigation or other proceedings against Meta or any entity (including a cross-claim or\\n    counterclaim in a lawsuit) alleging that the Llama Materials or Llama 3.2 outputs or results, or any portion\\n    of any of the foregoing, constitutes infringement of intellectual property or other rights owned or licensable\\n    by you, then any licenses granted to you under this Agreement shall terminate as of the date such litigation or\\n    claim is filed or instituted. You will indemnify and hold harmless Meta from and against any claim by any third\\n    party arising out of or related to your use or distribution of the Llama Materials.\\n\\n6. Term and Termination. The term of this Agreement will commence upon your acceptance of this Agreement or access\\nto the Llama Materials and will continue in full force and effect until terminated in accordance with the terms\\nand conditions herein. Meta may terminate this Agreement if you are in breach of any term or condition of this\\nAgreement. Upon termination of this Agreement, you shall delete and cease use of the Llama Materials. Sections 3,\\n4 and 7 shall survive the termination of this Agreement. \\n\\n7. Governing Law and Jurisdiction. This Agreement will be governed and construed under the laws of the State of \\nCalifornia without regard to choice of law principles, and the UN Convention on Contracts for the International\\nSale of Goods does not apply to this Agreement. The courts of California shall have exclusive jurisdiction of\\nany dispute arising out of this Agreement. \"\\n',\n",
       " 'parameters': 'temperature                    0.6\\ntop_p                          0.9',\n",
       " 'template': '{{- range $index, $_ := .Messages }}<|start_header_id|>{{ .Role }}<|end_header_id|>\\n\\n{{ .Content }}\\n{{- if gt (len (slice $.Messages $index)) 1 }}<|eot_id|>\\n{{- else if ne .Role \"assistant\" }}<|eot_id|><|start_header_id|>assistant<|end_header_id|>\\n\\n{{ end }}\\n{{- end }}',\n",
       " 'details': {'parent_model': '',\n",
       "  'format': 'gguf',\n",
       "  'family': 'mllama',\n",
       "  'families': ['mllama', 'mllama'],\n",
       "  'parameter_size': '9.8B',\n",
       "  'quantization_level': 'Q4_K_M'},\n",
       " 'model_info': {'general.architecture': 'mllama',\n",
       "  'general.file_type': 15,\n",
       "  'general.parameter_count': 9775192144,\n",
       "  'general.quantization_version': 2,\n",
       "  'general.size_label': '10B',\n",
       "  'general.type': 'model',\n",
       "  'mllama.attention.cross_attention_layers': [3, 8, 13, 18, 23, 28, 33, 38],\n",
       "  'mllama.attention.head_count': 32,\n",
       "  'mllama.attention.head_count_kv': 8,\n",
       "  'mllama.attention.layer_norm_rms_epsilon': 1e-05,\n",
       "  'mllama.block_count': 40,\n",
       "  'mllama.context_length': 131072,\n",
       "  'mllama.embedding_length': 4096,\n",
       "  'mllama.feed_forward_length': 14336,\n",
       "  'mllama.rope.dimension_count': 128,\n",
       "  'mllama.rope.freq_base': 500000,\n",
       "  'mllama.vocab_size': 128256,\n",
       "  'tokenizer.ggml.add_bos_token': True,\n",
       "  'tokenizer.ggml.bos_token_id': 128000,\n",
       "  'tokenizer.ggml.eos_token_id': 128009,\n",
       "  'tokenizer.ggml.merges': None,\n",
       "  'tokenizer.ggml.model': 'gpt2',\n",
       "  'tokenizer.ggml.padding_token_id': 128004,\n",
       "  'tokenizer.ggml.pre': 'llama-bpe',\n",
       "  'tokenizer.ggml.token_type': None,\n",
       "  'tokenizer.ggml.tokens': None},\n",
       " 'projector_info': {'general.architecture': 'mllama',\n",
       "  'general.description': 'vision encoder for Mllama',\n",
       "  'general.file_type': 1,\n",
       "  'general.name': 'Llama-3.2-11B-Vision-Instruct',\n",
       "  'general.parameter_count': 895028756,\n",
       "  'general.type': 'projector',\n",
       "  'mllama.vision.attention.head_count': 16,\n",
       "  'mllama.vision.attention.layer_norm_epsilon': 1e-05,\n",
       "  'mllama.vision.block_count': 32,\n",
       "  'mllama.vision.embedding_length': 1280,\n",
       "  'mllama.vision.feed_forward_length': 5120,\n",
       "  'mllama.vision.global.block_count': 8,\n",
       "  'mllama.vision.image_size': 560,\n",
       "  'mllama.vision.intermediate_layers_indices': [3, 7, 15, 23, 30],\n",
       "  'mllama.vision.max_num_tiles': 4,\n",
       "  'mllama.vision.num_channels': 3,\n",
       "  'mllama.vision.patch_size': 14,\n",
       "  'mllama.vision.projection_dim': 4096},\n",
       " 'modified_at': '2024-12-08T01:17:18.658463368-03:00'}"
      ]
     },
     "execution_count": 8,
     "metadata": {},
     "output_type": "execute_result"
    }
   ],
   "source": [
    "import ollama\n",
    "\n",
    "# Informações do modelo (MAS FÁCIL É NA LINHA DE COMANDO) ---> ollama show llama3.2-vision:11b\n",
    "model_info = ollama.show('llama3.2-vision:11b') # Não esqueça de executar 'ollama serve' antes\n",
    "model_info"
   ]
  },
  {
   "cell_type": "code",
   "execution_count": 15,
   "metadata": {},
   "outputs": [],
   "source": [
    "import ollama\n",
    "\n",
    "# pull model:\n",
    "#ollama.pull('llama3.2-vision:11b')\n",
    "\n",
    "response = ollama.chat(\n",
    "    model='llama3.2-vision:11b',\n",
    "    messages=[\n",
    "    {\n",
    "        'role': 'system',\n",
    "        'content': \"\"\"Você é um experto em Análise de Vibração, Manutenção preditiva\n",
    "                      e monitoramento de ativos industriais. Você analisa imagens de motores\n",
    "                      elétricos e extrai o texto legível.\n",
    "                   \"\"\"\n",
    "    },\n",
    "    {\n",
    "        'role': 'user',\n",
    "        'content': \"\"\"Qual é o peso do motor?.\n",
    "                   \"\"\",\n",
    "        'images': [\"./images/placa_Motor_ROTADA.jpg\"]     # [\"./images/SIEMENS.jpeg\"]  # ['data/ai-meme.jpeg']\n",
    "    }\n",
    "    ],\n",
    "    options={\n",
    "        'num_gpu': 1,  # Número de GPUs a serem utilizadas\n",
    "        'num_thread': 12,  # Número de threads para processamento\n",
    "        'mmap': True,  # Habilita memory mapping para melhor performance\n",
    "        'gpu_layers': 25, # controla quantas camadas do modelo rodam na GPU\n",
    "        'temperature': 0.0 # controla a aleatoriedade da resposta\n",
    "    }\n",
    ")\n"
   ]
  },
  {
   "cell_type": "code",
   "execution_count": 16,
   "metadata": {},
   "outputs": [
    {
     "name": "stdout",
     "output_type": "stream",
     "text": [
      "O peso do motor é 24 kg.\n"
     ]
    }
   ],
   "source": [
    "print(response['message']['content'])\n"
   ]
  },
  {
   "cell_type": "markdown",
   "metadata": {},
   "source": [
    "# <font color=\"red\">Image captioning - streaming</font>"
   ]
  },
  {
   "cell_type": "code",
   "execution_count": null,
   "metadata": {},
   "outputs": [],
   "source": [
    "stream = ollama.chat(\n",
    "    model='llama3.2-vision:11b',\n",
    "    messages=[{\n",
    "        'role': 'user',\n",
    "        'content': 'Responde em pt-BR a seguinte pergunta: Você pode escrever uma legenda para esta imagem?',\n",
    "        'images': [\"./images/SIEMENS.jpeg\"]  # ['data/ai-meme.jpeg']\n",
    "    }],\n",
    "    stream=True,\n",
    ")\n",
    "\n",
    "for chunk in stream:\n",
    "    print(chunk['message']['content'], end='', flush=True)"
   ]
  },
  {
   "cell_type": "markdown",
   "metadata": {},
   "source": [
    "# <font color=\"red\">Explaining</font>"
   ]
  },
  {
   "cell_type": "code",
   "execution_count": null,
   "metadata": {},
   "outputs": [],
   "source": [
    "stream = ollama.chat(\n",
    "    model='llama3.2-vision:11b',\n",
    "    messages=[{\n",
    "        'role': 'user',\n",
    "        'content': 'Responda sempre em pt-BR. Explique a imagem de forma detalhada e com muito cuidado.',\n",
    "        'images': [\"./images/SIEMENS.jpeg\"]  # ['data/ai-meme.jpeg']\n",
    "    }],\n",
    "    stream=True,\n",
    ")\n",
    "\n",
    "for chunk in stream:\n",
    "    print(chunk['message']['content'], end='', flush=True)"
   ]
  },
  {
   "cell_type": "markdown",
   "metadata": {},
   "source": [
    "# <font color=\"red\">OCR</font>"
   ]
  },
  {
   "cell_type": "code",
   "execution_count": null,
   "metadata": {},
   "outputs": [],
   "source": [
    "stream = ollama.chat(\n",
    "    model='llama3.2-vision:11b',\n",
    "    messages=[{\n",
    "        'role': 'user',\n",
    "        'content': 'Responde em pt-BR a seguinte pergunta: Você pode transcrever o texto desta captura de tela em um formato markdown?',\n",
    "        'images': [\"./images/SIEMENS.jpeg\"] # ['data/5-ai-projects.jpeg']\n",
    "    }],\n",
    "    stream=True,\n",
    ")\n",
    "\n",
    "for chunk in stream:\n",
    "    print(chunk['message']['content'], end='', flush=True)"
   ]
  },
  {
   "cell_type": "code",
   "execution_count": null,
   "metadata": {},
   "outputs": [],
   "source": []
  }
 ],
 "metadata": {
  "kernelspec": {
   "display_name": "venv_All",
   "language": "python",
   "name": "python3"
  },
  "language_info": {
   "codemirror_mode": {
    "name": "ipython",
    "version": 3
   },
   "file_extension": ".py",
   "mimetype": "text/x-python",
   "name": "python",
   "nbconvert_exporter": "python",
   "pygments_lexer": "ipython3",
   "version": "3.10.12"
  }
 },
 "nbformat": 4,
 "nbformat_minor": 2
}
