{
 "cells": [
  {
   "cell_type": "markdown",
   "metadata": {},
   "source": [
    "# <h1 align=\"center\"><font color=\"red\">ChatBot usando qdrant</font></h1>"
   ]
  },
  {
   "cell_type": "markdown",
   "metadata": {},
   "source": [
    "<font color=\"yellow\">Senior Data Scientist.: Dr. Eddy Giusepe Chirinos Isidro</font>"
   ]
  },
  {
   "cell_type": "markdown",
   "metadata": {},
   "source": [
    "Links de estudo:\n",
    "\n",
    "* [qdrant: OpenAI](https://qdrant.tech/documentation/embeddings/openai/)\n",
    "\n",
    "* [Tutorial de Prince Krampah](https://ai.gopubby.com/building-a-smart-chatbot-using-qdrant-cloud-and-langchain-for-customer-support-tickets-504a3e17ac83)\n",
    "\n",
    "* [chatbot com qdrant](https://github.com/Princekrampah/qdrant_csv_chatbot_tutorial/blob/master/chatbot.ipynb)"
   ]
  },
  {
   "cell_type": "markdown",
   "metadata": {},
   "source": [
    "# <font color=\"gree\">Instalação e configuração</font>"
   ]
  },
  {
   "cell_type": "code",
   "execution_count": 1,
   "metadata": {},
   "outputs": [],
   "source": [
    "# !pip install pandas langchain-openai qdrant-client langchain langchain-community langchain-qdrant\n",
    "import openai\n",
    "import os\n",
    "from dotenv import load_dotenv, find_dotenv\n",
    "_ = load_dotenv(find_dotenv()) # read local .env file\n",
    "#openai.api_key  = os.environ['OPENAI_API_KEY']\n",
    "#Eddy_key_openai  = os.environ['OPENAI_API_KEY']\n",
    "\n",
    "#from openai import OpenAI\n",
    "#client = OpenAI(api_key=Eddy_key_openai)"
   ]
  },
  {
   "cell_type": "code",
   "execution_count": 3,
   "metadata": {},
   "outputs": [
    {
     "data": {
      "text/html": [
       "<div>\n",
       "<style scoped>\n",
       "    .dataframe tbody tr th:only-of-type {\n",
       "        vertical-align: middle;\n",
       "    }\n",
       "\n",
       "    .dataframe tbody tr th {\n",
       "        vertical-align: top;\n",
       "    }\n",
       "\n",
       "    .dataframe thead th {\n",
       "        text-align: right;\n",
       "    }\n",
       "</style>\n",
       "<table border=\"1\" class=\"dataframe\">\n",
       "  <thead>\n",
       "    <tr style=\"text-align: right;\">\n",
       "      <th></th>\n",
       "      <th>ID</th>\n",
       "      <th>product_purchased</th>\n",
       "      <th>ticket_description</th>\n",
       "    </tr>\n",
       "  </thead>\n",
       "  <tbody>\n",
       "    <tr>\n",
       "      <th>0</th>\n",
       "      <td>0</td>\n",
       "      <td>GoPro Hero</td>\n",
       "      <td>I'm having an issue with the GoPro Hero. Pleas...</td>\n",
       "    </tr>\n",
       "    <tr>\n",
       "      <th>1</th>\n",
       "      <td>1</td>\n",
       "      <td>LG Smart TV</td>\n",
       "      <td>I'm having an issue with the LG Smart TV. Plea...</td>\n",
       "    </tr>\n",
       "    <tr>\n",
       "      <th>2</th>\n",
       "      <td>2</td>\n",
       "      <td>Dell XPS</td>\n",
       "      <td>I'm facing a problem with my Dell XPS. The Del...</td>\n",
       "    </tr>\n",
       "    <tr>\n",
       "      <th>3</th>\n",
       "      <td>3</td>\n",
       "      <td>Microsoft Office</td>\n",
       "      <td>I'm having an issue with the Microsoft Office....</td>\n",
       "    </tr>\n",
       "    <tr>\n",
       "      <th>4</th>\n",
       "      <td>4</td>\n",
       "      <td>Autodesk AutoCAD</td>\n",
       "      <td>I'm having an issue with the Autodesk AutoCAD....</td>\n",
       "    </tr>\n",
       "  </tbody>\n",
       "</table>\n",
       "</div>"
      ],
      "text/plain": [
       "   ID product_purchased                                 ticket_description\n",
       "0   0        GoPro Hero  I'm having an issue with the GoPro Hero. Pleas...\n",
       "1   1       LG Smart TV  I'm having an issue with the LG Smart TV. Plea...\n",
       "2   2          Dell XPS  I'm facing a problem with my Dell XPS. The Del...\n",
       "3   3  Microsoft Office  I'm having an issue with the Microsoft Office....\n",
       "4   4  Autodesk AutoCAD  I'm having an issue with the Autodesk AutoCAD...."
      ]
     },
     "execution_count": 3,
     "metadata": {},
     "output_type": "execute_result"
    }
   ],
   "source": [
    "from decouple import config\n",
    "import pandas as pd\n",
    "import ast\n",
    "\n",
    "df = pd.read_csv(\"./data/product_ticket_description.csv\")\n",
    "df.head()"
   ]
  },
  {
   "cell_type": "markdown",
   "metadata": {},
   "source": [
    "# <font color=\"gree\">Criando Docs LangChain do arquivo CSV</font>"
   ]
  },
  {
   "cell_type": "code",
   "execution_count": 4,
   "metadata": {},
   "outputs": [],
   "source": [
    "from langchain_core.documents import Document\n",
    "\n",
    "documents = []\n",
    "\n",
    "for index, row in df[:250].iterrows():\n",
    "    document = Document(\n",
    "        page_content=row[\"ticket_description\"],\n",
    "        metadata={\"product_name\": row[\"product_purchased\"]}\n",
    "    )\n",
    "    documents.append(document)"
   ]
  },
  {
   "cell_type": "code",
   "execution_count": 10,
   "metadata": {},
   "outputs": [
    {
     "data": {
      "text/plain": [
       "[Document(metadata={'product_name': 'GoPro Hero'}, page_content=\"I'm having an issue with the GoPro Hero. Please assist.Your billing zip code is: 71701.We appreciate that you have requested a website address.Please double check your email address. I've tried troubleshooting steps mentioned in the user manual, but the issue persists.\"),\n",
       " Document(metadata={'product_name': 'LG Smart TV'}, page_content=\"I'm having an issue with the LG Smart TV. Please assist.If you need to change an existing product.I'm having an issue with the LG Smart TV. Please assist.If The issue I'm facing is intermittent. Sometimes it works fine, but other times it acts up unexpectedly.\"),\n",
       " Document(metadata={'product_name': 'Dell XPS'}, page_content=\"I'm facing a problem with my Dell XPS. The Dell XPS is not turning on. It was working fine until yesterday, but now it doesn't respond.1.8.3 I really I'm using the original charger that came with my Dell XPS, but it's not charging properly.\"),\n",
       " Document(metadata={'product_name': 'Microsoft Office'}, page_content=\"I'm having an issue with the Microsoft Office. Please assist.If you have a problem you're interested in and I'd love to see this happen, please check out the Feedback. I've already contacted customer support multiple times, but the issue remains unresolved.\"),\n",
       " Document(metadata={'product_name': 'Autodesk AutoCAD'}, page_content=\"I'm having an issue with the Autodesk AutoCAD. Please assist.Note: The seller is not responsible for any damages arising out of the delivery of the battleground game. Please have the game in good condition and shipped to you I've noticed a sudden decrease in battery life on my Autodesk AutoCAD. It used to last much longer.\")]"
      ]
     },
     "execution_count": 10,
     "metadata": {},
     "output_type": "execute_result"
    }
   ],
   "source": [
    "# Mostramos apenas 5 linhas:\n",
    "documents[:5]"
   ]
  },
  {
   "cell_type": "code",
   "execution_count": 11,
   "metadata": {},
   "outputs": [
    {
     "name": "stdout",
     "output_type": "stream",
     "text": [
      "I'm having an issue with the GoPro Hero. Please assist.Your billing zip code is: 71701.We appreciate that you have requested a website address.Please double check your email address. I've tried troubleshooting steps mentioned in the user manual, but the issue persists.\n"
     ]
    }
   ],
   "source": [
    "print(documents[0].page_content)"
   ]
  },
  {
   "cell_type": "code",
   "execution_count": 12,
   "metadata": {},
   "outputs": [
    {
     "name": "stdout",
     "output_type": "stream",
     "text": [
      "{'product_name': 'GoPro Hero'}\n"
     ]
    }
   ],
   "source": [
    "print(documents[0].metadata)"
   ]
  },
  {
   "cell_type": "code",
   "execution_count": 13,
   "metadata": {},
   "outputs": [
    {
     "data": {
      "text/plain": [
       "250"
      ]
     },
     "execution_count": 13,
     "metadata": {},
     "output_type": "execute_result"
    }
   ],
   "source": [
    "len(documents)"
   ]
  },
  {
   "cell_type": "markdown",
   "metadata": {},
   "source": [
    "# <font color=\"gree\">Document UUID</font>"
   ]
  },
  {
   "cell_type": "markdown",
   "metadata": {},
   "source": [
    "<font color=\"orange\">Cada documento da lista de documentos que criamos acima terá uma `identificação única`. Vamos em frente e criá-los:</font>"
   ]
  },
  {
   "cell_type": "code",
   "execution_count": 14,
   "metadata": {},
   "outputs": [],
   "source": [
    "from uuid import uuid4\n",
    "uuids = [str(uuid4()) for _ in range(len(documents))]"
   ]
  },
  {
   "cell_type": "markdown",
   "metadata": {},
   "source": [
    "# <font color=\"gree\">Conecte-se ao Qdrant Cloud</font>"
   ]
  },
  {
   "cell_type": "markdown",
   "metadata": {},
   "source": [
    "<font color=\"orange\">Agora que temos os documentos preparados, precisamos ser capazes de incorporá-los e armazená-los em nosso `banco de dados de vetores`, neste caso `Qdrant Cloud`. Para isso, primeiro precisamos nos conectar à instância `Qdrant Cloud` que acabamos de criar.\n",
    "\n",
    "Para isso, precisaremos dos seguintes blocos de código</font>"
   ]
  },
  {
   "cell_type": "code",
   "execution_count": 19,
   "metadata": {},
   "outputs": [],
   "source": [
    "from qdrant_client import QdrantClient\n",
    "\n",
    "import os\n",
    "from dotenv import load_dotenv, find_dotenv\n",
    "_ = load_dotenv(find_dotenv()) # read local .env file\n",
    "qdrant_api_key  = os.environ['QDRANT_API_KEY']\n",
    "qdrant_url  = os.environ['QDRANT_URL']\n",
    "\n",
    "\n",
    "qdrant_client = QdrantClient(\n",
    "    api_key=qdrant_api_key,\n",
    "    url=qdrant_url\n",
    ")\n"
   ]
  },
  {
   "cell_type": "code",
   "execution_count": 22,
   "metadata": {},
   "outputs": [
    {
     "data": {
      "text/plain": [
       "CollectionsResponse(collections=[])"
      ]
     },
     "execution_count": 22,
     "metadata": {},
     "output_type": "execute_result"
    }
   ],
   "source": [
    "qdrant_client.get_collections()"
   ]
  },
  {
   "cell_type": "markdown",
   "metadata": {},
   "source": [
    "# <font color=\"gree\">Criando `collection`</font>"
   ]
  },
  {
   "cell_type": "code",
   "execution_count": 21,
   "metadata": {},
   "outputs": [],
   "source": [
    "from qdrant_client.http.models import Distance, VectorParams\n",
    "\n",
    "COLLECTION_NAME =\"customer_support_tickets\""
   ]
  },
  {
   "cell_type": "code",
   "execution_count": 23,
   "metadata": {},
   "outputs": [
    {
     "data": {
      "text/plain": [
       "True"
      ]
     },
     "execution_count": 23,
     "metadata": {},
     "output_type": "execute_result"
    }
   ],
   "source": [
    "qdrant_client.create_collection(collection_name=COLLECTION_NAME,\n",
    "                                vectors_config=VectorParams(size=os.getenv(\"QDRANT_VECTOR_DIMENSION\", 1536), \n",
    "                                                            distance=Distance.COSINE\n",
    "                                                           ),\n",
    "                               )"
   ]
  },
  {
   "cell_type": "markdown",
   "metadata": {},
   "source": [
    "# <font color=\"gree\">Conexão com o DBVector</font>"
   ]
  },
  {
   "cell_type": "code",
   "execution_count": 26,
   "metadata": {},
   "outputs": [],
   "source": [
    "from langchain_qdrant import QdrantVectorStore\n",
    "from langchain_openai import OpenAIEmbeddings\n",
    "\n",
    "embedding_model = OpenAIEmbeddings(model=os.getenv(\"EMBEDDING_MODEL\"), \n",
    "                                   default=\"text-embedding-3-small\"\n",
    "                                  )\n",
    "    \n"
   ]
  },
  {
   "cell_type": "markdown",
   "metadata": {},
   "source": [
    "`QdrantVectorStore` suporta 3 modos para buscas de `similaridade`. Eles podem ser configurados usando o parâmetro `retrieval_mode` ao configurar a classe.\n",
    "\n",
    "* Dense Vector Search(Default)\n",
    "* Sparse Vector Search\n",
    "* Hybrid Search"
   ]
  },
  {
   "cell_type": "code",
   "execution_count": null,
   "metadata": {},
   "outputs": [],
   "source": [
    "from langchain_qdrant import RetrievalMode\n",
    "\n",
    "vector_store = QdrantVectorStore(\n",
    "    client=qdrant_client,\n",
    "    collection_name=COLLECTION_NAME,\n",
    "    embedding=embedding_model,\n",
    "    # retrieval_mode=RetrievalMode.DENSE\n",
    ")"
   ]
  },
  {
   "cell_type": "code",
   "execution_count": null,
   "metadata": {},
   "outputs": [],
   "source": []
  },
  {
   "cell_type": "code",
   "execution_count": null,
   "metadata": {},
   "outputs": [],
   "source": []
  },
  {
   "cell_type": "code",
   "execution_count": null,
   "metadata": {},
   "outputs": [],
   "source": []
  },
  {
   "cell_type": "code",
   "execution_count": null,
   "metadata": {},
   "outputs": [],
   "source": []
  }
 ],
 "metadata": {
  "kernelspec": {
   "display_name": "venv_All",
   "language": "python",
   "name": "python3"
  },
  "language_info": {
   "codemirror_mode": {
    "name": "ipython",
    "version": 3
   },
   "file_extension": ".py",
   "mimetype": "text/x-python",
   "name": "python",
   "nbconvert_exporter": "python",
   "pygments_lexer": "ipython3",
   "version": "3.10.12"
  }
 },
 "nbformat": 4,
 "nbformat_minor": 2
}
